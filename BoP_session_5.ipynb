{
  "nbformat": 4,
  "nbformat_minor": 0,
  "metadata": {
    "colab": {
      "provenance": []
    },
    "kernelspec": {
      "name": "python3",
      "display_name": "Python 3"
    },
    "language_info": {
      "name": "python"
    }
  },
  "cells": [
    {
      "cell_type": "markdown",
      "source": [
        "# BASICS OF PYTHON | SESSION 5\n",
        "\n",
        "---\n",
        "Sina Shafiezadeh | October 2024\n",
        "---\n"
      ],
      "metadata": {
        "id": "pS4-jYwD_U5v"
      }
    },
    {
      "cell_type": "markdown",
      "source": [
        "Please follow the next steps over the next 3 hours in order to complete your exam successfully:\n",
        "\n",
        "\n",
        "1. Download **Spotify Song Attributes** dataset from [HERE](https://www.kaggle.com/datasets/geomack/spotifyclassification).\n",
        "2. Import dataset in **Google Colab**.\n",
        "3. Overview dataset and define **one reasonable question**. An important point is to select a question that you will be able to implement statistical tests and plotting.\n",
        "4. **Preprocess** the dataset to start your analysis.\n",
        "5. Implement the **statistical models**.\n",
        "6. **Plot** your results.\n",
        "7. Set up your **GitHub** account. You can get help from this [LINK](https://docs.aws.amazon.com/codedeploy/latest/userguide/tutorials-github-create-github-account.html).\n",
        "8. Upload your code and results in a **repository**.\n",
        "9. Modify the repository title and description then **publish it**.\n",
        "10. **Share your public repository** [HERE](https://docs.google.com/spreadsheets/d/1bveNOi9efLNgxqxh5uH5xhNG57bQ7DPCnG_sLAX4wmY/edit?usp=sharing).\n"
      ],
      "metadata": {
        "id": "7b9YrJx24Wjo"
      }
    },
    {
      "cell_type": "markdown",
      "source": [],
      "metadata": {
        "id": "_eC5CtXQt8OB"
      }
    },
    {
      "cell_type": "markdown",
      "source": [
        "# 1.&nbsp;Data Importing"
      ],
      "metadata": {
        "id": "anY9j--Fj79Z"
      }
    },
    {
      "cell_type": "code",
      "source": [],
      "metadata": {
        "id": "9bYWUoe03v8p"
      },
      "execution_count": null,
      "outputs": []
    },
    {
      "cell_type": "markdown",
      "source": [
        "# 2.&nbsp;Data Cleaning (overview)"
      ],
      "metadata": {
        "id": "BbH5OJkwF1aW"
      }
    },
    {
      "cell_type": "code",
      "source": [],
      "metadata": {
        "id": "AtiQL5ze3wVb"
      },
      "execution_count": null,
      "outputs": []
    },
    {
      "cell_type": "markdown",
      "source": [
        "# 3.&nbsp;Data Cleaning (interpretability)"
      ],
      "metadata": {
        "id": "5l-pYjWiy0TX"
      }
    },
    {
      "cell_type": "code",
      "source": [],
      "metadata": {
        "id": "t9m96Nxd3w38"
      },
      "execution_count": null,
      "outputs": []
    },
    {
      "cell_type": "markdown",
      "source": [
        "# 4.&nbsp;Data Cleaning (reduction)"
      ],
      "metadata": {
        "id": "LDCm_efBzFJL"
      }
    },
    {
      "cell_type": "code",
      "source": [],
      "metadata": {
        "id": "qBxw9fzM3xYd"
      },
      "execution_count": null,
      "outputs": []
    },
    {
      "cell_type": "markdown",
      "source": [
        "# 5.&nbsp;Data Cleaning (noisy data)"
      ],
      "metadata": {
        "id": "Stxl8ESOzYRP"
      }
    },
    {
      "cell_type": "code",
      "source": [],
      "metadata": {
        "id": "WjlpDiO83x-c"
      },
      "execution_count": null,
      "outputs": []
    },
    {
      "cell_type": "markdown",
      "source": [
        "# 6.&nbsp;Data Cleaning (completeness)"
      ],
      "metadata": {
        "id": "iwrKQarlxh2r"
      }
    },
    {
      "cell_type": "code",
      "source": [],
      "metadata": {
        "id": "frO1h4yZ3yeG"
      },
      "execution_count": null,
      "outputs": []
    },
    {
      "cell_type": "markdown",
      "source": [
        "# 7.&nbsp;Data Exploring\n"
      ],
      "metadata": {
        "id": "fD30B1eeF8QF"
      }
    },
    {
      "cell_type": "code",
      "source": [],
      "metadata": {
        "id": "SFugLB7H3zAz"
      },
      "execution_count": null,
      "outputs": []
    },
    {
      "cell_type": "markdown",
      "source": [
        "# 8.&nbsp;Data Analysis"
      ],
      "metadata": {
        "id": "L5CGhoqnGJxO"
      }
    },
    {
      "cell_type": "code",
      "source": [],
      "metadata": {
        "id": "Qcoz2MvN3zdI"
      },
      "execution_count": null,
      "outputs": []
    },
    {
      "cell_type": "markdown",
      "source": [
        "# 9.&nbsp;Data Visualization"
      ],
      "metadata": {
        "id": "KbsOltGkGhEr"
      }
    },
    {
      "cell_type": "code",
      "source": [],
      "metadata": {
        "id": "G8unODVm3z7f"
      },
      "execution_count": null,
      "outputs": []
    },
    {
      "cell_type": "markdown",
      "source": [
        "# 10.&nbsp;Data Exporting"
      ],
      "metadata": {
        "id": "TnNFwTuHGmRS"
      }
    },
    {
      "cell_type": "code",
      "source": [],
      "metadata": {
        "id": "xVmXya-I30r9"
      },
      "execution_count": null,
      "outputs": []
    }
  ]
}