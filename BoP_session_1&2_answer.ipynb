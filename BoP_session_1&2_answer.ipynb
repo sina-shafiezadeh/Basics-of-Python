{
  "nbformat": 4,
  "nbformat_minor": 0,
  "metadata": {
    "colab": {
      "provenance": [],
      "toc_visible": true
    },
    "kernelspec": {
      "name": "python3",
      "display_name": "Python 3"
    },
    "language_info": {
      "name": "python"
    }
  },
  "cells": [
    {
      "cell_type": "markdown",
      "source": [
        "## Exercise 1 part 1\n",
        "\n",
        "---\n",
        "\n",
        "\n"
      ],
      "metadata": {
        "id": "CkkLy6Kdm1wm"
      }
    },
    {
      "cell_type": "code",
      "source": [
        "# BMI formula: weight (kg) / height**2 (m)\n",
        "\n",
        "\n"
      ],
      "metadata": {
        "id": "MpYcVRKxmLGa",
        "colab": {
          "base_uri": "https://localhost:8080/"
        },
        "outputId": "5617888e-962f-4cad-b5fe-d59c460c4bb6"
      },
      "execution_count": null,
      "outputs": [
        {
          "output_type": "stream",
          "name": "stdout",
          "text": [
            "my name is sina and ....\n"
          ]
        }
      ]
    },
    {
      "cell_type": "markdown",
      "source": [
        "## Exercise 1 part 2\n",
        "\n",
        "---\n",
        "\n",
        "\n",
        "\n",
        "\n"
      ],
      "metadata": {
        "id": "lchEI32RSqQz"
      }
    },
    {
      "cell_type": "code",
      "source": [
        "# normal range is from 18.5 to 24.9\n",
        "\n",
        "\n",
        "\n",
        "\n"
      ],
      "metadata": {
        "id": "ZMKdo7QlTVw8"
      },
      "execution_count": null,
      "outputs": []
    },
    {
      "cell_type": "markdown",
      "source": [
        "## Exercise 2\n",
        "\n",
        "---\n",
        "\n",
        "\n"
      ],
      "metadata": {
        "id": "FlklUlgdtRQ0"
      }
    },
    {
      "cell_type": "code",
      "source": [
        "# try with different values\n",
        "bmi_score = 28.4\n",
        "sport_duration = 9\n",
        "\n",
        "if sport_duration == 3:\n",
        "  print(f\"BMI score will be {bmi_score- (0.38 * 3)}  after {sport_duration} months of sports.\")\n",
        "elif sport_duration == 6:\n",
        "  print(f\"BMI score will be {bmi_score- (0.38 * 6)}  after {sport_duration} months of sports.\")\n",
        "elif sport_duration == 9:\n",
        "  print(f\"BMI score will be {bmi_score- (0.38 * 9)}  after {sport_duration} months of sports.\")\n",
        "elif sport_duration == 9:\n",
        "  print(f\"BMI score will be {bmi_score- (0.38 * 12)}  after {sport_duration} months of sports.\")\n",
        "else:\n",
        "  print(\" sport duration is not valid for us!\")\n",
        "\n",
        "\n"
      ],
      "metadata": {
        "id": "Zd46OwTHtRak",
        "colab": {
          "base_uri": "https://localhost:8080/"
        },
        "outputId": "f97b4b17-2fad-49ee-b377-db9077283698"
      },
      "execution_count": null,
      "outputs": [
        {
          "output_type": "stream",
          "name": "stdout",
          "text": [
            "BMI score will be 24.979999999999997  after 9 months of sports.\n"
          ]
        }
      ]
    },
    {
      "cell_type": "markdown",
      "source": [
        "## Exercise 3\n",
        "\n",
        "---\n",
        "\n"
      ],
      "metadata": {
        "id": "croIpQSIF-yi"
      }
    },
    {
      "cell_type": "code",
      "source": [
        "# try different BMI score\n",
        "bmi_score = 28.6\n",
        "sport_duration = 0\n",
        "\n",
        "while bmi_score > 24.9:\n",
        "  bmi_score = bmi_score - 0.38\n",
        "  sport_duration = sport_duration + 1\n",
        "\n",
        "print(f\"you need {sport_duration} months of sport\")\n"
      ],
      "metadata": {
        "id": "HZcwnZmxF-9q",
        "colab": {
          "base_uri": "https://localhost:8080/"
        },
        "outputId": "3a95eb9b-dc64-4ea1-b9b1-0bd05a3cdbf1"
      },
      "execution_count": null,
      "outputs": [
        {
          "output_type": "stream",
          "name": "stdout",
          "text": [
            "you need 10 months of sport\n"
          ]
        }
      ]
    },
    {
      "cell_type": "markdown",
      "source": [
        "## Exercise 4\n",
        "\n",
        "---\n",
        " \n",
        "\n",
        "\n"
      ],
      "metadata": {
        "id": "nyDQEZECH59O"
      }
    },
    {
      "cell_type": "code",
      "source": [
        "# try different BMI score\n",
        "bmi_score = 28.6\n",
        "sport_duration = 7\n",
        "\n",
        "for i in range(sport_duration):\n",
        "  bmi_score -= 0.38\n",
        "\n",
        "print(f\"your BMI score will be {bmi_score} after {sport_duration} of sport\")"
      ],
      "metadata": {
        "id": "-MvbS6nkH6Gz",
        "colab": {
          "base_uri": "https://localhost:8080/"
        },
        "outputId": "8da766c6-b3c2-42b3-ff35-2a8add202dc3"
      },
      "execution_count": null,
      "outputs": [
        {
          "output_type": "stream",
          "name": "stdout",
          "text": [
            "your BMI score will be 25.94000000000001 after 7 of sport\n"
          ]
        }
      ]
    },
    {
      "cell_type": "markdown",
      "source": [
        "## Exercise 5\n",
        "\n",
        "---\n",
        "\n",
        "\n",
        "\n"
      ],
      "metadata": {
        "id": "QtLDOzvR4iPW"
      }
    },
    {
      "cell_type": "code",
      "source": [
        "patient_name = [\"Georgia\", \"Oscar\", \"Juliet\", \"Lily\", \"William\"]\n",
        "patient_weight = [54.7, 79.6, 81.2, 51.9, 102.5] # kg\n",
        "patient_height = [152, 168, 179, 161, 193] # cm\n",
        "patient_bmi = []\n",
        "\n",
        "# start from here...\n",
        "\n",
        "for i in range(len(patient_name)):\n",
        "  bmi = patient_weight[i] / ((patient_height[i]/100) ** 2)\n",
        "  if bmi > 24.9 or bmi < 18.8:\n",
        "    patient_bmi.append(bmi)\n",
        "  else:\n",
        "    continue\n",
        "\n",
        "patient_bmi.sort(reverse = True)\n",
        "print(patient_bmi)"
      ],
      "metadata": {
        "id": "nzLyoi5C4iWE",
        "colab": {
          "base_uri": "https://localhost:8080/"
        },
        "outputId": "57e7fbd0-e403-4cea-a7ce-e4f700e902c5"
      },
      "execution_count": null,
      "outputs": [
        {
          "output_type": "stream",
          "name": "stdout",
          "text": [
            "[28.202947845804992, 27.517517248785204, 25.342529883586657]\n"
          ]
        }
      ]
    },
    {
      "cell_type": "markdown",
      "source": [
        "## Exercise 6\n",
        "\n",
        "---\n"
      ],
      "metadata": {
        "id": "ltw_RalJGqZU"
      }
    },
    {
      "cell_type": "code",
      "source": [
        "patient_name = [\"Georgia\", \"Oscar\", \"Juliet\", \"Lily\", \"William\"]\n",
        "patient_weight = [54.7, 79.6, 81.2, 51.9, 102.5] # kg\n",
        "patient_height = [152, 168, 179, 161, 193] # cm\n",
        "patients_info = {\"name\":[]\n",
        "                 ,\"bmi\":[]}\n",
        "\n",
        "# start from here...\n",
        "\n",
        "for i in range(len(patient_name)):\n",
        "  bmi = patient_weight[i] / ((patient_height[i] / 100 ) ** 2)\n",
        "  if bmi > 24.9 or bmi < 18.8:\n",
        "    patients_info[\"name\"].append(patient_name[i])\n",
        "    patients_info[\"bmi\"].append(int(bmi))\n",
        "  else:\n",
        "    continue\n",
        "\n",
        "print(patients_info)"
      ],
      "metadata": {
        "id": "n7BRNodMGqgj",
        "colab": {
          "base_uri": "https://localhost:8080/"
        },
        "outputId": "dd17ccbf-b7bf-4bad-a3f3-f0097837816f"
      },
      "execution_count": null,
      "outputs": [
        {
          "output_type": "stream",
          "name": "stdout",
          "text": [
            "{'name': ['Oscar', 'Juliet', 'William'], 'bmi': [28, 25, 27]}\n"
          ]
        }
      ]
    },
    {
      "cell_type": "markdown",
      "source": [
        "## Exercise 7\n",
        "\n",
        "---\n"
      ],
      "metadata": {
        "id": "-iZqX06FFyH4"
      }
    },
    {
      "cell_type": "code",
      "source": [
        "# select a reasonable weight and height range as you want\n",
        "np.random.seed(42)\n",
        "\n",
        "# start from here...\n",
        "height_array = np.random.randint(145,190,size=(5))\n",
        "weight_array = np.random.randint(45,120,size=(5))\n",
        "calculated_bmi = []\n",
        "evaluated_bmi = []\n",
        "\n",
        "\n",
        "for i in range(len(height_array)):\n",
        "  bmi = weight_array[i] / ((height_array[i] / 100 ) ** 2)\n",
        "  calculated_bmi.append(bmi)\n",
        "\n",
        "  if bmi > 24.9 or bmi < 18.8:\n",
        "    evaluated_bmi.append(False)\n",
        "  else:\n",
        "    evaluated_bmi.append(True)\n",
        "\n",
        "print(\"calculated_bmi: \", calculated_bmi)\n",
        "print(\"evaluated_bmi: \", evaluated_bmi)"
      ],
      "metadata": {
        "id": "k3RYNwSJFyRD",
        "colab": {
          "base_uri": "https://localhost:8080/"
        },
        "outputId": "06a8d9d5-80d4-4e2d-9931-0d2672895972"
      },
      "execution_count": null,
      "outputs": [
        {
          "output_type": "stream",
          "name": "stdout",
          "text": [
            "calculated_bmi:  [31.353578787064404, 21.71806608974573, 47.0709228274198, 34.03014098201263, 29.43213296398892]\n",
            "evaluated_bmi:  [False, True, False, False, False]\n"
          ]
        }
      ]
    },
    {
      "cell_type": "markdown",
      "source": [
        "## Exercise 8\n",
        "\n",
        "---\n"
      ],
      "metadata": {
        "id": "GeLjDt-uF19D"
      }
    },
    {
      "cell_type": "code",
      "source": [
        "# patient = [weight(kg), height(cm)]\n",
        "patient1 = [54.7, 152]\n",
        "patient2 = [79.6, 168]\n",
        "patient3 = [81.2, 179]\n",
        "patient4 = [51.9, 161]\n",
        "bmi_score = []\n",
        "\n",
        "# start from here...\n",
        "\n",
        "all_patients = [patient1, patient2, patient3, patient4]\n",
        "\n",
        "def get_bmi(w,h):\n",
        "  return w / ((h/100)**2)\n",
        "\n",
        "for i in all_patients:\n",
        "  bmi_score.append(round(get_bmi(i[0],i[1]), 2))\n",
        "\n",
        "print(bmi_score)"
      ],
      "metadata": {
        "id": "W_z2sgs11Cio",
        "colab": {
          "base_uri": "https://localhost:8080/"
        },
        "outputId": "33dd42d7-d7f4-4127-fb9a-d39ff111c6a9"
      },
      "execution_count": null,
      "outputs": [
        {
          "output_type": "stream",
          "name": "stdout",
          "text": [
            "[23.68, 28.2, 25.34, 20.02]\n"
          ]
        }
      ]
    },
    {
      "cell_type": "markdown",
      "source": [
        "## Exercise 9\n",
        "\n",
        "---\n"
      ],
      "metadata": {
        "id": "0jKazIRgF6kJ"
      }
    },
    {
      "cell_type": "code",
      "source": [
        "# 1 pound ≈ 0.45 kg\n",
        "# 1 inch ≈ 2.54 cm\n",
        "# patient = [weight(pond), height(inch)]\n",
        "patient1 = [120.59, 59.84]\n",
        "patient2 = [175.49, 66.14]\n",
        "patient3 = [179.02, 70.47]\n",
        "patient4 = [114.42, 63.39]\n",
        "bmi_score = []\n",
        "\n",
        "# start from here...\n",
        "\n",
        "class BMI:\n",
        "  def __init__(self, w, h):\n",
        "    self.w = w\n",
        "    self.h = h\n",
        "\n",
        "  def weight_convertor(self):\n",
        "    return self.w * 0.45\n",
        "\n",
        "  def height_convertor(self):\n",
        "    return self.h * 2.54\n",
        "\n",
        "all_patients = [patient1, patient2, patient3, patient4]\n",
        "for i in all_patients:\n",
        "  bmi = BMI(i[0], i[1])\n",
        "  new_w = bmi.weight_convertor()\n",
        "  new_h = bmi.height_convertor()\n",
        "  bmi_score.append(round(new_w / ((new_h/100)**2), 2))\n",
        "\n",
        "print(bmi_score)"
      ],
      "metadata": {
        "id": "sPdwfkMYF6rJ",
        "colab": {
          "base_uri": "https://localhost:8080/"
        },
        "outputId": "ee5225be-eef6-4bec-df57-af41f31fe865"
      },
      "execution_count": null,
      "outputs": [
        {
          "output_type": "stream",
          "name": "stdout",
          "text": [
            "[23.49, 27.98, 25.14, 19.86]\n"
          ]
        }
      ]
    },
    {
      "cell_type": "markdown",
      "source": [
        "## Exercise 10\n",
        "\n",
        "---\n",
        "\n"
      ],
      "metadata": {
        "id": "83n86RAyF8z4"
      }
    },
    {
      "cell_type": "code",
      "source": [
        "# 1 pound ≈ 0.45 kg\n",
        "# 1 inch ≈ 2.54 cm\n",
        "# patient = [weight(pond), height(inch)]\n",
        "patient1 = [120.59, 59.84]\n",
        "patient2 = [175.49, 66.14]\n",
        "patient3 = [179.02, 70.47]\n",
        "patient4 = [114.42, 63.39]\n",
        "bmi_score = []\n",
        "\n",
        "# past your code here...\n",
        "\n",
        "class BMI:\n",
        "  def __init__(self, w, h):\n",
        "    self.w = w\n",
        "    self.h = h\n",
        "\n",
        "  def weight_convertor(self):\n",
        "    return self.w * 0.45\n",
        "\n",
        "  def height_convertor(self):\n",
        "    return self.h * 2.54\n",
        "\n",
        "all_patients = [patient1, patient2, patient3, patient4]\n",
        "for i in all_patients:\n",
        "\n",
        "  if type(i[1]) != float:\n",
        "    raise Exception(\"At least one item in your height list is not float!\")\n",
        "\n",
        "  bmi = BMI(i[0], i[1])\n",
        "  new_w = bmi.weight_convertor()\n",
        "  new_h = bmi.height_convertor()\n",
        "\n",
        "\n",
        "  if new_w / ((new_h/100)**2) < 0:\n",
        "    raise ValueError(\"BMI score is negative!!!\")\n",
        "\n",
        "  bmi_score.append(round(new_w / ((new_h/100)**2), 2))\n",
        "\n",
        "print(bmi_score)"
      ],
      "metadata": {
        "id": "F9w8wfvoF89w",
        "colab": {
          "base_uri": "https://localhost:8080/"
        },
        "outputId": "6edfec7f-83b6-4d77-b499-ca0b8c74395a"
      },
      "execution_count": null,
      "outputs": [
        {
          "output_type": "stream",
          "name": "stdout",
          "text": [
            "[23.49, 27.98, 25.14, 19.86]\n"
          ]
        }
      ]
    }
  ]
}