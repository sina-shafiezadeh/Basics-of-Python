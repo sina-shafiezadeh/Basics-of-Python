{
  "cells": [
    {
      "cell_type": "markdown",
      "metadata": {
        "id": "pS4-jYwD_U5v"
      },
      "source": [
        "# BASICS OF PYTHON | SESSION 3&4\n",
        "\n",
        "---\n",
        "Sina Shafiezadeh | October 2024\n",
        "---\n"
      ]
    },
    {
      "cell_type": "markdown",
      "metadata": {
        "id": "4UuPCYl634-F"
      },
      "source": [
        "In these two sessions, we are going to work with a fake dataset about BMI scores in **10 steps** and **20 exercises**."
      ]
    },
    {
      "cell_type": "markdown",
      "metadata": {
        "id": "anY9j--Fj79Z"
      },
      "source": [
        "# 1.&nbsp;Data Importing"
      ]
    },
    {
      "cell_type": "code",
      "execution_count": 1,
      "metadata": {
        "id": "IxYmFXq3y786"
      },
      "outputs": [],
      "source": [
        "# import packages\n",
        "import pandas as pd\n",
        "import numpy as np"
      ]
    },
    {
      "cell_type": "code",
      "execution_count": null,
      "metadata": {
        "id": "o3oD2Jipc1tP"
      },
      "outputs": [],
      "source": [
        "# import dataset (method 1): upload from the local machine\n",
        "from google.colab import files\n",
        "\n",
        "uploaded = files.upload()\n",
        "filename = next(iter(uploaded)) # get the uploaded file name\n",
        "\n",
        "data = pd.read_csv(filename)"
      ]
    },
    {
      "cell_type": "code",
      "execution_count": null,
      "metadata": {
        "id": "HqVw9DI2j6Nl"
      },
      "outputs": [],
      "source": [
        "# import dataset (method 2): upload from the google drive\n",
        "from google.colab import drive\n",
        "drive.mount('/content/drive')\n",
        "data = pd.read_csv('drive/MyDrive/BoP/bmi.csv')"
      ]
    },
    {
      "cell_type": "code",
      "execution_count": null,
      "metadata": {
        "id": "KlTYaulbD8Lt"
      },
      "outputs": [],
      "source": [
        "# import dataset (method 3): download from a URL directly\n",
        "import requests\n",
        "url = \"https://raw.githubusercontent.com/sina-shafiezadeh/Basics-of-Python-course/main/bmi.csv\" # click on the \"Raw\" button to get the direct link to the raw file\n",
        "response = requests.get(url)\n",
        "open('bmi.csv', 'wb').write(response.content)\n",
        "data = pd.read_csv('bmi.csv')"
      ]
    },
    {
      "cell_type": "markdown",
      "metadata": {
        "id": "BbH5OJkwF1aW"
      },
      "source": [
        "# 2.&nbsp;Data Cleaning (overview)"
      ]
    },
    {
      "cell_type": "code",
      "execution_count": null,
      "metadata": {
        "id": "2P_lIomEmBMb"
      },
      "outputs": [],
      "source": [
        "print(data)"
      ]
    },
    {
      "cell_type": "code",
      "execution_count": null,
      "metadata": {
        "id": "V8F5Fz_HmSha"
      },
      "outputs": [],
      "source": [
        "print(data.shape)"
      ]
    },
    {
      "cell_type": "code",
      "execution_count": null,
      "metadata": {
        "id": "Gc297v2Xmdu0"
      },
      "outputs": [],
      "source": [
        "print(data.size) # rows*columns"
      ]
    },
    {
      "cell_type": "code",
      "execution_count": null,
      "metadata": {
        "id": "c-YRGWJtmuYT"
      },
      "outputs": [],
      "source": [
        "print(data.head(5)) # first 5 rows"
      ]
    },
    {
      "cell_type": "code",
      "execution_count": null,
      "metadata": {
        "id": "LaWQa8Ppmua-"
      },
      "outputs": [],
      "source": [
        "print(data.tail(5)) # last 5 rows"
      ]
    },
    {
      "cell_type": "code",
      "execution_count": null,
      "metadata": {
        "id": "41IOXxdpnDuq"
      },
      "outputs": [],
      "source": [
        "print(data.info()) # shape, names, count, data type and memory info"
      ]
    },
    {
      "cell_type": "code",
      "execution_count": null,
      "metadata": {
        "id": "at48qUnknDxL"
      },
      "outputs": [],
      "source": [
        "print(data.describe()) # description for numerical columns"
      ]
    },
    {
      "cell_type": "code",
      "execution_count": null,
      "metadata": {
        "id": "eeYUMr7RuLBh"
      },
      "outputs": [],
      "source": [
        "# description for categorical columns\n",
        "print(data['sex'].value_counts())\n",
        "print(\"============================\")\n",
        "print(data['city'].value_counts())"
      ]
    },
    {
      "cell_type": "markdown",
      "metadata": {
        "id": "5l-pYjWiy0TX"
      },
      "source": [
        "# 3.&nbsp;Data Cleaning (interpretability)"
      ]
    },
    {
      "cell_type": "markdown",
      "metadata": {
        "id": "WOql8VmW9GHS"
      },
      "source": [
        "As much as possible, we should reduce **complexity** and increase **consistency**."
      ]
    },
    {
      "cell_type": "markdown",
      "metadata": {
        "id": "hzjYLzVMwTw3"
      },
      "source": [
        "## Exercise 1\n",
        "\n",
        "---\n",
        "\n",
        "\n",
        "Change the values of \"sport\" time from seconds to minutes.\n",
        "\n",
        "\n",
        "*   Example: 2676 (second) = 44.6 (minute)\n"
      ]
    },
    {
      "cell_type": "code",
      "execution_count": null,
      "metadata": {
        "id": "Ec3r6L_-zCBY"
      },
      "outputs": [],
      "source": [
        "# replace the new value in the column\n",
        "\n",
        "\n",
        "\n",
        "\n"
      ]
    },
    {
      "cell_type": "markdown",
      "metadata": {
        "id": "SqKo0OG9B2vd"
      },
      "source": [
        "## Exercise 2\n",
        "\n",
        "---\n",
        "\n",
        "\n",
        "Change the values in \"city\" from string to integer.\n",
        "\n",
        "\n",
        "*   Example: city2 = 2\n"
      ]
    },
    {
      "cell_type": "code",
      "execution_count": null,
      "metadata": {
        "id": "qW2oTZEoB26S"
      },
      "outputs": [],
      "source": [
        "# replace the new value in the column\n",
        "\n",
        "\n",
        "\n",
        "\n"
      ]
    },
    {
      "cell_type": "markdown",
      "metadata": {
        "id": "d4kdA4B1DlgV"
      },
      "source": [
        "## Exercise 3\n",
        "\n",
        "---\n",
        "\n",
        "\n",
        "We don't need too less or too much accuracy. Remove one decimal place in the \"age\" value by rounding  them.\n",
        "\n",
        "\n",
        "*   Example: 19.9 = 20\n"
      ]
    },
    {
      "cell_type": "code",
      "execution_count": null,
      "metadata": {
        "id": "kDFSc5VlDlt8"
      },
      "outputs": [],
      "source": [
        "# replace the new value in the column\n",
        "\n",
        "\n",
        "\n",
        "\n",
        "\n"
      ]
    },
    {
      "cell_type": "markdown",
      "metadata": {
        "id": "LDCm_efBzFJL"
      },
      "source": [
        "# 4.&nbsp;Data Cleaning (reduction)"
      ]
    },
    {
      "cell_type": "markdown",
      "metadata": {
        "id": "e03SWdRUKCuK"
      },
      "source": [
        "Remove duplicate or unnecessary columns."
      ]
    },
    {
      "cell_type": "markdown",
      "metadata": {
        "id": "DTJ7_FbJG-D3"
      },
      "source": [
        "## Exercise 4\n",
        "\n",
        "---\n",
        "\n",
        "\n",
        "Remove the same value with a different column name (bmi_score) and the unrelated column for our analyzing goal (pet)."
      ]
    },
    {
      "cell_type": "code",
      "execution_count": null,
      "metadata": {
        "id": "-nMFsIUPIrP-"
      },
      "outputs": [],
      "source": [
        "# we should have 6 columns after removing\n",
        "\n",
        "\n",
        "\n",
        "\n"
      ]
    },
    {
      "cell_type": "markdown",
      "metadata": {
        "id": "Stxl8ESOzYRP"
      },
      "source": [
        "# 5.&nbsp;Data Cleaning (noisy data)"
      ]
    },
    {
      "cell_type": "markdown",
      "metadata": {
        "id": "TURODKjMyphp"
      },
      "source": [
        "Noisy data is all the data we don't want. It does not matter whether it is corrupted or meaningless for our analysis."
      ]
    },
    {
      "cell_type": "markdown",
      "metadata": {
        "id": "VfnPtvj7JzAD"
      },
      "source": [
        "## Exercise 5\n",
        "\n",
        "---\n",
        "\n",
        "\n",
        "we don't need data that is not **timeliness**. Remove the older data."
      ]
    },
    {
      "cell_type": "code",
      "execution_count": null,
      "metadata": {
        "id": "9vPlZR8CJzJx"
      },
      "outputs": [],
      "source": [
        "# Hint: check the \"time\" column\n",
        "\n",
        "\n",
        "\n",
        "\n",
        "\n"
      ]
    },
    {
      "cell_type": "markdown",
      "metadata": {
        "id": "DjtFMOFJJzSS"
      },
      "source": [
        "## Exercise 6\n",
        "\n",
        "---\n",
        "\n",
        "\n",
        "It is essential that the data be **believable**. Check suspicious values and decide about them."
      ]
    },
    {
      "cell_type": "code",
      "execution_count": null,
      "metadata": {
        "id": "JFo2q5iuJzZ5"
      },
      "outputs": [],
      "source": [
        "# Hint: check the \"sport\" column\n",
        "\n",
        "\n",
        "\n",
        "\n",
        "\n",
        "\n"
      ]
    },
    {
      "cell_type": "markdown",
      "metadata": {
        "id": "vI5TVaNsJzit"
      },
      "source": [
        "## Exercise 7\n",
        "\n",
        "---\n",
        "\n",
        "\n",
        "We don't need people under the age of 18 in this analysis. Be careful, it is possible that noisy data may not be noisy in another analysis."
      ]
    },
    {
      "cell_type": "code",
      "execution_count": null,
      "metadata": {
        "id": "bpcusjkIJzqi"
      },
      "outputs": [],
      "source": [
        "# remove the unnecessary rows\n",
        "\n",
        "\n",
        "\n",
        "\n",
        "\n"
      ]
    },
    {
      "cell_type": "markdown",
      "metadata": {
        "id": "iwrKQarlxh2r"
      },
      "source": [
        "# 6.&nbsp;Data Cleaning (completeness)\n",
        "\n"
      ]
    },
    {
      "cell_type": "markdown",
      "metadata": {
        "id": "M5MWIPWy3pIp"
      },
      "source": [
        "We can **replace** values with nan values or **remove** them if we have enough data. In addition, based on our need for handling noisy data, we can select from several techniques to deal with it."
      ]
    },
    {
      "cell_type": "markdown",
      "metadata": {
        "id": "jXsoOKKZONm2"
      },
      "source": [
        "## Exercise 8\n",
        "\n",
        "---\n",
        "\n",
        "\n",
        "Replace the mean value with nan values in the \"bmi\" column. Be careful, manual replacement could need a lot of time and cause human mistakes."
      ]
    },
    {
      "cell_type": "code",
      "execution_count": null,
      "metadata": {
        "id": "346ht0HCONuY"
      },
      "outputs": [],
      "source": [
        "# calculate the bmi mean over all nan values first.\n",
        "\n",
        "\n",
        "\n",
        "\n",
        "\n"
      ]
    },
    {
      "cell_type": "markdown",
      "metadata": {
        "id": "bYm4Xw0DPD41"
      },
      "source": [
        "## Exercise 9\n",
        "\n",
        "---\n",
        "\n",
        "\n",
        "Remove nan values in the \"sex\" column."
      ]
    },
    {
      "cell_type": "code",
      "execution_count": null,
      "metadata": {
        "id": "GqQPOaPLxiDj"
      },
      "outputs": [],
      "source": [
        "# we should have 4 nan values in the sex column\n",
        "\n",
        "\n",
        "\n",
        "\n",
        "\n"
      ]
    },
    {
      "cell_type": "markdown",
      "metadata": {
        "id": "fD30B1eeF8QF"
      },
      "source": [
        "# 7.&nbsp;Data Exploring\n",
        "\n"
      ]
    },
    {
      "cell_type": "markdown",
      "metadata": {
        "id": "N04T33HB3tdy"
      },
      "source": [
        "We can define different scenarios as we need."
      ]
    },
    {
      "cell_type": "markdown",
      "metadata": {
        "id": "2aS4qfbjjh7h"
      },
      "source": [
        "## Exercise 10\n",
        "\n",
        "---\n",
        "\n",
        "\n",
        "Select rows where **city = 1**, **bmi > 25**, and **sport <= 60**."
      ]
    },
    {
      "cell_type": "code",
      "execution_count": null,
      "metadata": {
        "id": "3qsFuxhwmEaV"
      },
      "outputs": [],
      "source": [
        "# store results in the new data frame with the name \"selected_data\"\n",
        "\n",
        "\n",
        "\n",
        "\n",
        "\n",
        "\n"
      ]
    },
    {
      "cell_type": "markdown",
      "metadata": {
        "id": "Y5edsi7NjcTI"
      },
      "source": [
        "## Exercise 11\n",
        "\n",
        "---\n",
        "\n",
        "\n",
        "Sort **females in age 18 to 30** by **sport** in descending order."
      ]
    },
    {
      "cell_type": "code",
      "execution_count": null,
      "metadata": {
        "id": "zDoEd5VfF8ay"
      },
      "outputs": [],
      "source": [
        "# Hint: check the \"sort_values\" function\n",
        "\n",
        "\n",
        "\n",
        "\n",
        "\n"
      ]
    },
    {
      "cell_type": "markdown",
      "metadata": {
        "id": "TTCrPSrBjhoC"
      },
      "source": [
        "## Exercise 12\n",
        "\n",
        "---\n",
        "\n",
        "\n",
        "Which city has the **highest** and which city has the **lowest** average BMI score?"
      ]
    },
    {
      "cell_type": "code",
      "execution_count": null,
      "metadata": {
        "id": "5rugLXdBjhys"
      },
      "outputs": [],
      "source": [
        "# Hint: returns the mean of the values in \"bmi\", grouped by the values in \"city\"\n",
        "\n",
        "\n",
        "\n",
        "\n",
        "\n",
        "\n"
      ]
    },
    {
      "cell_type": "markdown",
      "metadata": {
        "id": "L5CGhoqnGJxO"
      },
      "source": [
        "# 8.&nbsp;Data Analysis"
      ]
    },
    {
      "cell_type": "markdown",
      "metadata": {
        "id": "w3WBk1H0nVMg"
      },
      "source": [
        "## Exercise 13\n",
        "\n",
        "---\n",
        "\n",
        "\n",
        "Which attributes are **correlated**?"
      ]
    },
    {
      "cell_type": "code",
      "execution_count": null,
      "metadata": {
        "id": "RerXQ-fSGJ8M"
      },
      "outputs": [],
      "source": [
        "# Hint: check \"corr()\" function\n",
        "\n",
        "\n",
        "\n",
        "\n",
        "\n"
      ]
    },
    {
      "cell_type": "markdown",
      "metadata": {
        "id": "uB3CJRWhn4S1"
      },
      "source": [
        "## Exercise 14\n",
        "\n",
        "---\n",
        "\n",
        "\n",
        "Is the difference in BMI scores between **men and women** statistically **significant**?\n",
        "\n",
        "Firstly, define a function to calculate the statistic test and then use it to answer the question.\n",
        "\n",
        "Note: you can access the API for suitable statistical tests [HERE](https://docs.scipy.org/doc/scipy/reference/generated/scipy.stats.t.html)."
      ]
    },
    {
      "cell_type": "code",
      "execution_count": null,
      "metadata": {
        "id": "g4p1Yehcn4cJ"
      },
      "outputs": [],
      "source": [
        "# Hint 1: import \"scipy\" library and implement student's t-test by \"scipy.stats.t\"\n",
        "# Hint 2: if the variance ratio is less than 4:1, so the variance is equal.\n",
        "\n",
        "\n",
        "\n",
        "\n",
        "\n"
      ]
    },
    {
      "cell_type": "markdown",
      "metadata": {
        "id": "QPE_5qQVn4mZ"
      },
      "source": [
        "## Exercise 15\n",
        "\n",
        "---\n",
        "\n",
        "\n",
        "Is the difference in BMI scores of ages between **18 to 25** and age between **45 to 55** statistically **significant**?\n",
        "\n",
        "*   Expected output:\n",
        "\n",
        "        pvalue = 5.900678573659376e-26"
      ]
    },
    {
      "cell_type": "code",
      "execution_count": null,
      "metadata": {
        "id": "7PlKXP_Yn4wJ"
      },
      "outputs": [],
      "source": [
        "# use the previous function\n",
        "\n",
        "\n",
        "\n",
        "\n",
        "\n"
      ]
    },
    {
      "cell_type": "markdown",
      "metadata": {
        "id": "H8pwNGTRn-Fh"
      },
      "source": [
        "## Exercise 16\n",
        "\n",
        "---\n",
        "\n",
        "Is the difference in BMI scores between cities statistically **significant**?\n",
        "\n",
        "Firstly, define a **new function** to calculate the statistic test and then use it to answer the question.\n",
        "\n",
        "Note: you can access the API for suitable statistical tests [HERE](https://docs.scipy.org/doc/scipy/reference/generated/scipy.stats.f_oneway.html).\n",
        "\n",
        "*   Expected output:\n",
        "\n",
        "        pvalue = 0.1543449952170188"
      ]
    },
    {
      "cell_type": "code",
      "execution_count": null,
      "metadata": {
        "id": "j8LgiZjAn-bn"
      },
      "outputs": [],
      "source": [
        "# Hint: implement the one-way ANOVA test by \"scipy.stats.f_oneway\"\n",
        "\n",
        "\n",
        "\n",
        "\n",
        "\n",
        "\n",
        "\n"
      ]
    },
    {
      "cell_type": "markdown",
      "metadata": {
        "id": "KbsOltGkGhEr"
      },
      "source": [
        "# 9.&nbsp;Data Visualization"
      ]
    },
    {
      "cell_type": "markdown",
      "metadata": {
        "id": "GTdKyH3puC82"
      },
      "source": [
        "## Exercise 17\n",
        "\n",
        "---\n",
        "\n",
        "\n",
        "Plot a **scatter plot** for \"age\" and \"bmi\" using **matplotlib** [API](https://matplotlib.org/stable/api/_as_gen/matplotlib.pyplot.scatter.html). You can see some practical examples [HERE](https://www.geeksforgeeks.org/matplotlib-pyplot-scatter-in-python/)."
      ]
    },
    {
      "cell_type": "code",
      "execution_count": null,
      "metadata": {
        "id": "3_Urqd-QGhOR"
      },
      "outputs": [],
      "source": [
        "# first import matplotlib\n",
        "\n",
        "\n",
        "\n",
        "\n",
        "\n",
        "\n",
        "\n",
        "\n"
      ]
    },
    {
      "cell_type": "markdown",
      "metadata": {
        "id": "LaD8XruLu_DL"
      },
      "source": [
        "## Exercise 18\n",
        "\n",
        "---\n",
        "\n",
        "\n",
        "Plot a **bar chart** for average \"sport\" per \"city\" using matplotlib [API](https://matplotlib.org/stable/api/_as_gen/matplotlib.pyplot.bar.html). You can see some practical examples [HERE](https://www.geeksforgeeks.org/bar-plot-in-matplotlib/)."
      ]
    },
    {
      "cell_type": "code",
      "execution_count": null,
      "metadata": {
        "id": "D2OQ4wyVu_MS"
      },
      "outputs": [],
      "source": [
        "# try to follow the standards of a scientific figure (title, scale,...)\n",
        "\n",
        "\n",
        "\n",
        "\n",
        "\n",
        "\n",
        "\n"
      ]
    },
    {
      "cell_type": "markdown",
      "metadata": {
        "id": "vz7kcpDtu_61"
      },
      "source": [
        "## Exercise 19\n",
        "\n",
        "---\n",
        "\n",
        "\n",
        "Plot a **box plot** for \"bmi\" per \"city\" to compare results (3 box plots in the one image) using matplotlib [API](https://matplotlib.org/stable/api/_as_gen/matplotlib.pyplot.boxplot.html). You can see some practical examples [HERE](https://www.geeksforgeeks.org/box-plot-in-python-using-matplotlib/)."
      ]
    },
    {
      "cell_type": "code",
      "execution_count": null,
      "metadata": {
        "id": "eLh3BtJIvAG_"
      },
      "outputs": [],
      "source": [
        "# try to make the colors and fonts legible\n",
        "\n",
        "\n",
        "\n",
        "\n",
        "\n",
        "\n"
      ]
    },
    {
      "cell_type": "markdown",
      "metadata": {
        "id": "TnNFwTuHGmRS"
      },
      "source": [
        "# 10.&nbsp;Data Exporting"
      ]
    },
    {
      "cell_type": "markdown",
      "metadata": {
        "id": "4QeI_BzwzE8Z"
      },
      "source": [
        "## Exercise 20\n",
        "\n",
        "---\n",
        "\n",
        "\n",
        "Save **box plot** image in **SVG** format using matplotlib [API](https://matplotlib.org/stable/api/_as_gen/matplotlib.pyplot.savefig.html). You can see practical example [HERE](https://www.geeksforgeeks.org/how-to-save-a-plot-to-a-file-using-matplotlib/). Next, write data after cleaning in **CSV** format  using pandas [API](https://pandas.pydata.org/docs/reference/api/pandas.DataFrame.to_csv.html). You can see some practical examples [HERE](https://www.geeksforgeeks.org/saving-a-pandas-dataframe-as-a-csv/)."
      ]
    },
    {
      "cell_type": "code",
      "execution_count": null,
      "metadata": {
        "id": "LoFzIMlCGmdW"
      },
      "outputs": [],
      "source": [
        "# choose a meaningful name for the file names.\n",
        "\n",
        "\n",
        "\n",
        "\n",
        "\n",
        "\n",
        "\n"
      ]
    },
    {
      "cell_type": "markdown",
      "metadata": {
        "id": "RDTpEt4e1S87"
      },
      "source": [
        "Congratulations! You've finished this course successfully."
      ]
    },
    {
      "cell_type": "markdown",
      "metadata": {
        "id": "NTBpMKTA1n9X"
      },
      "source": [
        "# References and Resources:\n",
        "\n",
        "1. You can continue your learning through more complex projects in [Kaggle](https://www.kaggle.com/).\n",
        "\n",
        "2. You can also have access to neuroscience datasets in [CRCNS](https://crcns.org/data-sets)."
      ]
    }
  ],
  "metadata": {
    "colab": {
      "provenance": [],
      "toc_visible": true
    },
    "kernelspec": {
      "display_name": "Python 3",
      "name": "python3"
    },
    "language_info": {
      "name": "python"
    }
  },
  "nbformat": 4,
  "nbformat_minor": 0
}