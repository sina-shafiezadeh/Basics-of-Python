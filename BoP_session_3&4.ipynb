{
  "nbformat": 4,
  "nbformat_minor": 0,
  "metadata": {
    "colab": {
      "provenance": [],
      "toc_visible": true
    },
    "kernelspec": {
      "name": "python3",
      "display_name": "Python 3"
    },
    "language_info": {
      "name": "python"
    }
  },
  "cells": [
    {
      "cell_type": "markdown",
      "source": [
        "# BASICS OF PYTHON | SESSION 3&4\n",
        "\n",
        "---\n",
        "Sina Shafiezadeh | April 2023\n",
        "---\n"
      ],
      "metadata": {
        "id": "pS4-jYwD_U5v"
      }
    },
    {
      "cell_type": "markdown",
      "source": [
        "In these two sessions, we are going to work with a fake dataset about BMI scores in **10 steps** and **20 exercises**."
      ],
      "metadata": {
        "id": "4UuPCYl634-F"
      }
    },
    {
      "cell_type": "markdown",
      "source": [
        "# 1.&nbsp;Data Importing"
      ],
      "metadata": {
        "id": "anY9j--Fj79Z"
      }
    },
    {
      "cell_type": "code",
      "source": [
        "# import packages\n",
        "import pandas as pd\n",
        "import numpy as np"
      ],
      "metadata": {
        "id": "IxYmFXq3y786"
      },
      "execution_count": null,
      "outputs": []
    },
    {
      "cell_type": "code",
      "source": [
        "# import dataset (method 1): upload the dataset in the colab first\n",
        "data = pd.read_csv('bmi.csv')"
      ],
      "metadata": {
        "id": "o3oD2Jipc1tP"
      },
      "execution_count": null,
      "outputs": []
    },
    {
      "cell_type": "code",
      "source": [
        "# import dataset (method 2): upload the dataset in the google drive first\n",
        "from google.colab import drive\n",
        "drive.mount('/content/drive')\n",
        "data = pd.read_csv('drive/MyDrive/bmi.csv')"
      ],
      "metadata": {
        "id": "HqVw9DI2j6Nl"
      },
      "execution_count": null,
      "outputs": []
    },
    {
      "cell_type": "markdown",
      "source": [
        "# 2.&nbsp;Data Cleaning (overview)"
      ],
      "metadata": {
        "id": "BbH5OJkwF1aW"
      }
    },
    {
      "cell_type": "code",
      "source": [
        "print(data)"
      ],
      "metadata": {
        "id": "2P_lIomEmBMb"
      },
      "execution_count": null,
      "outputs": []
    },
    {
      "cell_type": "code",
      "source": [
        "print(data.shape)"
      ],
      "metadata": {
        "id": "V8F5Fz_HmSha"
      },
      "execution_count": null,
      "outputs": []
    },
    {
      "cell_type": "code",
      "source": [
        "print(data.size) # rows*columns"
      ],
      "metadata": {
        "id": "Gc297v2Xmdu0"
      },
      "execution_count": null,
      "outputs": []
    },
    {
      "cell_type": "code",
      "source": [
        "print(data.head(5)) # first 5 rows"
      ],
      "metadata": {
        "id": "c-YRGWJtmuYT"
      },
      "execution_count": null,
      "outputs": []
    },
    {
      "cell_type": "code",
      "source": [
        "print(data.tail(5)) # last 5 rows"
      ],
      "metadata": {
        "id": "LaWQa8Ppmua-"
      },
      "execution_count": null,
      "outputs": []
    },
    {
      "cell_type": "code",
      "source": [
        "print(data.info()) # shape, names, count, data type and memory info"
      ],
      "metadata": {
        "id": "41IOXxdpnDuq"
      },
      "execution_count": null,
      "outputs": []
    },
    {
      "cell_type": "code",
      "source": [
        "print(data.describe()) # description for numerical columns"
      ],
      "metadata": {
        "id": "at48qUnknDxL"
      },
      "execution_count": null,
      "outputs": []
    },
    {
      "cell_type": "code",
      "source": [
        "# description for categorical columns\n",
        "print(data['sex'].value_counts())\n",
        "print(\"============================\")\n",
        "print(data['city'].value_counts())"
      ],
      "metadata": {
        "id": "eeYUMr7RuLBh"
      },
      "execution_count": null,
      "outputs": []
    },
    {
      "cell_type": "markdown",
      "source": [
        "# 3.&nbsp;Data Cleaning (interpretability)"
      ],
      "metadata": {
        "id": "5l-pYjWiy0TX"
      }
    },
    {
      "cell_type": "markdown",
      "source": [
        "As much as possible, we should reduce **complexity** and increase **consistency**."
      ],
      "metadata": {
        "id": "WOql8VmW9GHS"
      }
    },
    {
      "cell_type": "markdown",
      "source": [
        "## Exercise 1\n",
        "\n",
        "---\n",
        "\n",
        "\n",
        "Change the values of \"sport\" time from seconds to minutes.\n",
        "\n",
        "\n",
        "*   Example: 2676 (second) = 44.6 (minute)\n"
      ],
      "metadata": {
        "id": "hzjYLzVMwTw3"
      }
    },
    {
      "cell_type": "code",
      "source": [
        "# replace the new value in the column\n",
        "\n",
        "\n",
        "\n",
        "\n"
      ],
      "metadata": {
        "id": "Ec3r6L_-zCBY"
      },
      "execution_count": null,
      "outputs": []
    },
    {
      "cell_type": "markdown",
      "source": [
        "## Exercise 2\n",
        "\n",
        "---\n",
        "\n",
        "\n",
        "Change the values in \"city\" from string to integer.\n",
        "\n",
        "\n",
        "*   Example: city2 = 2\n"
      ],
      "metadata": {
        "id": "SqKo0OG9B2vd"
      }
    },
    {
      "cell_type": "code",
      "source": [
        "# replace the new value in the column\n",
        "\n",
        "\n",
        "\n",
        "\n"
      ],
      "metadata": {
        "id": "qW2oTZEoB26S"
      },
      "execution_count": null,
      "outputs": []
    },
    {
      "cell_type": "markdown",
      "source": [
        "## Exercise 3\n",
        "\n",
        "---\n",
        "\n",
        "\n",
        "We don't need too less or too much accuracy. Remove one decimal place in the \"age\" value by rounding  them.\n",
        "\n",
        "\n",
        "*   Example: 19.9 = 20\n"
      ],
      "metadata": {
        "id": "d4kdA4B1DlgV"
      }
    },
    {
      "cell_type": "code",
      "source": [
        "# replace the new value in the column\n",
        "\n",
        "\n",
        "\n",
        "\n"
      ],
      "metadata": {
        "id": "kDFSc5VlDlt8"
      },
      "execution_count": null,
      "outputs": []
    },
    {
      "cell_type": "markdown",
      "source": [
        "# 4.&nbsp;Data Cleaning (reduction)"
      ],
      "metadata": {
        "id": "LDCm_efBzFJL"
      }
    },
    {
      "cell_type": "markdown",
      "source": [
        "Remove duplicate or unnecessary columns."
      ],
      "metadata": {
        "id": "e03SWdRUKCuK"
      }
    },
    {
      "cell_type": "markdown",
      "source": [
        "## Exercise 4\n",
        "\n",
        "---\n",
        "\n",
        "\n",
        "Remove the same value with a different column name (bmi_score) and the unrelated column for our analyzing goal (pet)."
      ],
      "metadata": {
        "id": "DTJ7_FbJG-D3"
      }
    },
    {
      "cell_type": "code",
      "source": [
        "# we should have 6 columns after removing\n",
        "\n",
        "\n",
        "\n"
      ],
      "metadata": {
        "id": "-nMFsIUPIrP-"
      },
      "execution_count": null,
      "outputs": []
    },
    {
      "cell_type": "markdown",
      "source": [
        "# 5.&nbsp;Data Cleaning (noisy data)"
      ],
      "metadata": {
        "id": "Stxl8ESOzYRP"
      }
    },
    {
      "cell_type": "markdown",
      "source": [
        "Noisy data is all the data we don't want. It does not matter whether it is corrupted or meaningless for our analysis."
      ],
      "metadata": {
        "id": "TURODKjMyphp"
      }
    },
    {
      "cell_type": "markdown",
      "source": [
        "## Exercise 5\n",
        "\n",
        "---\n",
        "\n",
        "\n",
        "we don't need data that is not **timeliness**. Remove the older data."
      ],
      "metadata": {
        "id": "VfnPtvj7JzAD"
      }
    },
    {
      "cell_type": "code",
      "source": [
        "# Hint: check the \"time\" column\n",
        "\n",
        "\n",
        "\n",
        "\n"
      ],
      "metadata": {
        "id": "9vPlZR8CJzJx"
      },
      "execution_count": null,
      "outputs": []
    },
    {
      "cell_type": "markdown",
      "source": [
        "## Exercise 6\n",
        "\n",
        "---\n",
        "\n",
        "\n",
        "It is essential that the data be **believable**. Check suspicious values and decide about them."
      ],
      "metadata": {
        "id": "DjtFMOFJJzSS"
      }
    },
    {
      "cell_type": "code",
      "source": [
        "# Hint: check the \"sport\" column\n",
        "\n",
        "\n",
        "\n",
        "\n",
        "\n",
        "\n"
      ],
      "metadata": {
        "id": "JFo2q5iuJzZ5"
      },
      "execution_count": null,
      "outputs": []
    },
    {
      "cell_type": "markdown",
      "source": [
        "## Exercise 7\n",
        "\n",
        "---\n",
        "\n",
        "\n",
        "We don't need people under the age of 18 in this analysis. Be careful, it is possible that noisy data may not be noisy in another analysis."
      ],
      "metadata": {
        "id": "vI5TVaNsJzit"
      }
    },
    {
      "cell_type": "code",
      "source": [
        "# remove the unnecessary rows\n",
        "\n",
        "\n",
        "\n",
        "\n",
        "\n",
        "\n"
      ],
      "metadata": {
        "id": "bpcusjkIJzqi"
      },
      "execution_count": null,
      "outputs": []
    },
    {
      "cell_type": "markdown",
      "source": [
        "# 6.&nbsp;Data Cleaning (completeness)\n",
        "\n"
      ],
      "metadata": {
        "id": "iwrKQarlxh2r"
      }
    },
    {
      "cell_type": "markdown",
      "source": [
        "We can **replace** values with nan values or **remove** them if we have enough data. In addition, based on our need for handling noisy data, we can select from several techniques to deal with it."
      ],
      "metadata": {
        "id": "M5MWIPWy3pIp"
      }
    },
    {
      "cell_type": "markdown",
      "source": [
        "## Exercise 8\n",
        "\n",
        "---\n",
        "\n",
        "\n",
        "Replace the mean value with nan values in the \"bmi\" column. Be careful, manual replacement could need a lot of time and cause human mistakes."
      ],
      "metadata": {
        "id": "jXsoOKKZONm2"
      }
    },
    {
      "cell_type": "code",
      "source": [
        "# calculate the bmi mean over all nan values first.\n",
        "\n",
        "\n",
        "\n",
        "\n",
        "\n"
      ],
      "metadata": {
        "id": "346ht0HCONuY"
      },
      "execution_count": null,
      "outputs": []
    },
    {
      "cell_type": "markdown",
      "source": [
        "## Exercise 9\n",
        "\n",
        "---\n",
        "\n",
        "\n",
        "Remove nan values in the \"sex\" column."
      ],
      "metadata": {
        "id": "bYm4Xw0DPD41"
      }
    },
    {
      "cell_type": "code",
      "source": [
        "# we should have 3 nan values in the sex column\n",
        "\n",
        "\n",
        "\n",
        "\n"
      ],
      "metadata": {
        "id": "GqQPOaPLxiDj"
      },
      "execution_count": null,
      "outputs": []
    },
    {
      "cell_type": "markdown",
      "source": [
        "# 7.&nbsp;Data Exploring\n",
        "\n"
      ],
      "metadata": {
        "id": "fD30B1eeF8QF"
      }
    },
    {
      "cell_type": "markdown",
      "source": [
        "We can define different scenarios as we need."
      ],
      "metadata": {
        "id": "N04T33HB3tdy"
      }
    },
    {
      "cell_type": "markdown",
      "source": [
        "## Exercise 10\n",
        "\n",
        "---\n",
        "\n",
        "\n",
        "Select rows where **city = 1**, **bmi > 25**, and **sport <= 60**."
      ],
      "metadata": {
        "id": "2aS4qfbjjh7h"
      }
    },
    {
      "cell_type": "code",
      "source": [
        "# store results in the new data frame with the name \"selected_data\"\n",
        "\n",
        "\n",
        "\n",
        "\n"
      ],
      "metadata": {
        "id": "3qsFuxhwmEaV"
      },
      "execution_count": null,
      "outputs": []
    },
    {
      "cell_type": "markdown",
      "source": [
        "## Exercise 11\n",
        "\n",
        "---\n",
        "\n",
        "\n",
        "Sort **females in age 18 to 30** by **sport** in descending order."
      ],
      "metadata": {
        "id": "Y5edsi7NjcTI"
      }
    },
    {
      "cell_type": "code",
      "source": [
        "# Hint: check the \"sort_values\" function\n",
        "\n",
        "\n",
        "\n",
        "\n"
      ],
      "metadata": {
        "id": "zDoEd5VfF8ay"
      },
      "execution_count": null,
      "outputs": []
    },
    {
      "cell_type": "markdown",
      "source": [
        "## Exercise 12\n",
        "\n",
        "---\n",
        "\n",
        "\n",
        "Which city has the **highest** and which city has the **lowest** average BMI score?"
      ],
      "metadata": {
        "id": "TTCrPSrBjhoC"
      }
    },
    {
      "cell_type": "code",
      "source": [
        "# Hint: returns the mean of the values in \"bmi\", grouped by the values in \"city\"\n",
        "\n",
        "\n",
        "\n",
        "\n",
        "\n"
      ],
      "metadata": {
        "id": "5rugLXdBjhys"
      },
      "execution_count": null,
      "outputs": []
    },
    {
      "cell_type": "markdown",
      "source": [
        "# 8.&nbsp;Data Analysis"
      ],
      "metadata": {
        "id": "L5CGhoqnGJxO"
      }
    },
    {
      "cell_type": "markdown",
      "source": [
        "## Exercise 13\n",
        "\n",
        "---\n",
        "\n",
        "\n",
        "Which attributes are **correlated**?"
      ],
      "metadata": {
        "id": "w3WBk1H0nVMg"
      }
    },
    {
      "cell_type": "code",
      "source": [
        "# Hint: check \"corr()\" function \n",
        "\n",
        "\n",
        "\n"
      ],
      "metadata": {
        "id": "RerXQ-fSGJ8M"
      },
      "execution_count": null,
      "outputs": []
    },
    {
      "cell_type": "markdown",
      "source": [
        "## Exercise 14\n",
        "\n",
        "---\n",
        "\n",
        "\n",
        "Is the difference in BMI scores between **men and women** statistically **significant**?\n",
        "\n",
        "Firstly, define a function to calculate the statistic test and then use it to answer the question.\n",
        "\n",
        "Note: you can access the API for suitable statistical tests [HERE](https://docs.scipy.org/doc/scipy/reference/generated/scipy.stats.t.html)."
      ],
      "metadata": {
        "id": "uB3CJRWhn4S1"
      }
    },
    {
      "cell_type": "code",
      "source": [
        "# Hint 1: import \"SciPy\" library and implement student's t-test by \"scipy.stats.t\"\n",
        "# Hint 2: if the variance ratio is less than 4:1, so the variance is equal.\n",
        "\n",
        "\n",
        "\n",
        "\n"
      ],
      "metadata": {
        "id": "g4p1Yehcn4cJ"
      },
      "execution_count": null,
      "outputs": []
    },
    {
      "cell_type": "markdown",
      "source": [
        "## Exercise 15\n",
        "\n",
        "---\n",
        "\n",
        "\n",
        "Is the difference in BMI scores of ages between **18 to 25** and age between **45 to 55** statistically **significant**?\n",
        "\n",
        "*   Expected output:\n",
        "\n",
        "        pvalue = 5.900678573659376e-26"
      ],
      "metadata": {
        "id": "QPE_5qQVn4mZ"
      }
    },
    {
      "cell_type": "code",
      "source": [
        "# use the previous function\n",
        "\n",
        "\n",
        "\n",
        "\n",
        "\n",
        "\n"
      ],
      "metadata": {
        "id": "7PlKXP_Yn4wJ"
      },
      "execution_count": null,
      "outputs": []
    },
    {
      "cell_type": "markdown",
      "source": [
        "## Exercise 16\n",
        "\n",
        "---\n",
        "\n",
        "Is the difference in BMI scores between cities statistically **significant**?\n",
        "\n",
        "Firstly, define a **new function** to calculate the statistic test and then use it to answer the question.\n",
        "\n",
        "Note: you can access the API for suitable statistical tests [HERE](https://docs.scipy.org/doc/scipy/reference/generated/scipy.stats.f_oneway.html).\n",
        "\n",
        "*   Expected output:\n",
        "\n",
        "        pvalue = 0.1543449952170188"
      ],
      "metadata": {
        "id": "H8pwNGTRn-Fh"
      }
    },
    {
      "cell_type": "code",
      "source": [
        "# Hint: implement the one-way ANOVA test by \"scipy.stats.f_oneway\"\n",
        "\n",
        "\n",
        "\n",
        "\n",
        "\n",
        "\n"
      ],
      "metadata": {
        "id": "j8LgiZjAn-bn"
      },
      "execution_count": null,
      "outputs": []
    },
    {
      "cell_type": "markdown",
      "source": [
        "# 9.&nbsp;Data Visualization"
      ],
      "metadata": {
        "id": "KbsOltGkGhEr"
      }
    },
    {
      "cell_type": "markdown",
      "source": [
        "## Exercise 17\n",
        "\n",
        "---\n",
        "\n",
        "\n",
        "Plot a **scatter plot** for \"age\" and \"bmi\" using **matplotlib** [API](https://matplotlib.org/stable/api/_as_gen/matplotlib.pyplot.scatter.html). You can see some practical examples [HERE](https://www.geeksforgeeks.org/matplotlib-pyplot-scatter-in-python/)."
      ],
      "metadata": {
        "id": "GTdKyH3puC82"
      }
    },
    {
      "cell_type": "code",
      "source": [
        "# first import matplotlib\n",
        "\n",
        "\n",
        "\n",
        "\n",
        "\n"
      ],
      "metadata": {
        "id": "3_Urqd-QGhOR"
      },
      "execution_count": null,
      "outputs": []
    },
    {
      "cell_type": "markdown",
      "source": [
        "## Exercise 18\n",
        "\n",
        "---\n",
        "\n",
        "\n",
        "Plot a **bar chart** for average \"sport\" per \"city\" using matplotlib [API](https://matplotlib.org/stable/api/_as_gen/matplotlib.pyplot.bar.html). You can see some practical examples [HERE](https://www.geeksforgeeks.org/bar-plot-in-matplotlib/)."
      ],
      "metadata": {
        "id": "LaD8XruLu_DL"
      }
    },
    {
      "cell_type": "code",
      "source": [
        "# try to follow the standards of a scientific figure (title, scale,...)\n",
        "\n",
        "\n",
        "\n",
        "\n"
      ],
      "metadata": {
        "id": "D2OQ4wyVu_MS"
      },
      "execution_count": null,
      "outputs": []
    },
    {
      "cell_type": "markdown",
      "source": [
        "## Exercise 19\n",
        "\n",
        "---\n",
        "\n",
        "\n",
        "Plot a **box plot** for \"bmi\" per \"city\" to compare results (3 box plots in the one image) using matplotlib [API](https://matplotlib.org/3.1.1/api/_as_gen/matplotlib.pyplot.boxplot.html). You can see some practical examples [HERE](https://www.geeksforgeeks.org/box-plot-in-python-using-matplotlib/)."
      ],
      "metadata": {
        "id": "vz7kcpDtu_61"
      }
    },
    {
      "cell_type": "code",
      "source": [
        "# try to make the colors and fonts legible\n",
        "\n",
        "\n",
        "\n",
        "\n",
        "\n"
      ],
      "metadata": {
        "id": "eLh3BtJIvAG_"
      },
      "execution_count": null,
      "outputs": []
    },
    {
      "cell_type": "markdown",
      "source": [
        "# 10.&nbsp;Data Exporting"
      ],
      "metadata": {
        "id": "TnNFwTuHGmRS"
      }
    },
    {
      "cell_type": "markdown",
      "source": [
        "## Exercise 20\n",
        "\n",
        "---\n",
        "\n",
        "\n",
        "Save **box plot** image in **SVG** format using matplotlib [API](https://matplotlib.org/stable/api/_as_gen/matplotlib.pyplot.savefig.html). You can see practical example [HERE](https://www.geeksforgeeks.org/how-to-save-a-plot-to-a-file-using-matplotlib/). Next, write data after cleaning in **CSV** format  using pandas [API](https://pandas.pydata.org/docs/reference/api/pandas.DataFrame.to_csv.html). You can see some practical examples [HERE](https://www.geeksforgeeks.org/saving-a-pandas-dataframe-as-a-csv/)."
      ],
      "metadata": {
        "id": "4QeI_BzwzE8Z"
      }
    },
    {
      "cell_type": "code",
      "source": [
        "# choose a meaningful name for the file names.\n",
        "\n",
        "\n",
        "\n",
        "\n"
      ],
      "metadata": {
        "id": "LoFzIMlCGmdW"
      },
      "execution_count": null,
      "outputs": []
    },
    {
      "cell_type": "markdown",
      "source": [
        "Congratulations! You finished this course successfully."
      ],
      "metadata": {
        "id": "RDTpEt4e1S87"
      }
    },
    {
      "cell_type": "markdown",
      "source": [
        "# References and Resources:\n",
        "\n",
        "1. You can continue your learning through more complex projects in [Kaggle](https://www.kaggle.com/). \n",
        "\n",
        "2. You can also have access to neuroscience datasets in [CRCNS](https://crcns.org/data-sets)."
      ],
      "metadata": {
        "id": "NTBpMKTA1n9X"
      }
    }
  ]
}