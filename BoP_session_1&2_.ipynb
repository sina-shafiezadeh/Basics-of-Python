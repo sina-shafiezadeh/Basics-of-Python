{
  "nbformat": 4,
  "nbformat_minor": 0,
  "metadata": {
    "colab": {
      "provenance": [],
      "toc_visible": true
    },
    "kernelspec": {
      "name": "python3",
      "display_name": "Python 3"
    },
    "language_info": {
      "name": "python"
    }
  },
  "cells": [
    {
      "cell_type": "markdown",
      "source": [
        "# BASICS OF PYTHON | SESSION 1&2\n",
        "\n",
        "---\n",
        "Sina Shafiezadeh | October 2024\n",
        "---\n"
      ],
      "metadata": {
        "id": "GaXJaExkbA12"
      }
    },
    {
      "cell_type": "markdown",
      "source": [
        "# FAQ\n",
        "\n",
        "1.   what is programming?\n",
        "\n",
        "  Programming refers to the process of designing and writing instructions that a computer can understand and execute. It involves creating code using a specific programming language to create software programs, applications, and scripts that can perform various tasks.\n",
        "\n",
        "2.   what is object-oriented programming?\n",
        "\n",
        "  Object-oriented programming (OOP) is a programming paradigm that is based on the concept of objects, which can contain data and methods that act on that data. In OOP, objects are instances of classes, which define the structure and behavior of the objects.\n",
        "\n",
        "3. what is Python?\n",
        "\n",
        "  Python is a high-level, interpreted programming language that is widely used for web development, scientific computing, data analysis, artificial intelligence, and many other applications. It was created by Guido van Rossum and first released in 1991.\n",
        "\n",
        "4. why should I learn Python?\n",
        "\n",
        "*   Versatility: Python can be used for a wide range of applications, including web development, scientific computing, data analysis, artificial intelligence, machine learning, and many more.\n",
        "*   Simplicity: Python has a simple syntax and is easy to read and write, making it a good choice for beginners.\n",
        "*   Large community: Python has a large and active community of developers who create third-party libraries and tools, making it easy to find solutions to common problems.\n",
        "*   Open-source: Python is free and open-source, which means that you can use it for any purpose without having to pay for it.\n",
        "*   Simplicity\n",
        "\n",
        "5. how can I coding Python?\n",
        "\n",
        "*   Go to the official [Python](https://www.python.org/downloads/) website and the [Anaconda](https://www.anaconda.com/) website.\n",
        "*   Or using the [Google Colab](https://colab.research.google.com/).\n",
        "*   Or any other tools that you want.\n",
        "\n",
        "6. what is Google Colab?\n",
        "\n",
        "  Google Colab (short for Collaboratory) is a free online platform provided by Google that allows users to run Python code and execute Jupyter notebooks directly in the cloud. It is a popular tool for data scientists, machine learning engineers, and researchers who want to develop and experiment with machine learning models without the need for specialized hardware.\n",
        "\n",
        "7. Do you have more questions?\n",
        "\n",
        "  Ask from [ChatGPT](https://chat.openai.com/chat) or [Gemini](https://gemini.google.com/app) or any other generative tools you like as I asked to provide previous answers, connect with others in [stackoverflow](https://stackoverflow.com/), search your concerns in Google, and watch a lot of useful videos on Youtube for free!"
      ],
      "metadata": {
        "id": "RMr2OpHBbFQE"
      }
    },
    {
      "cell_type": "markdown",
      "source": [
        "# Content\n",
        "\n",
        "\n",
        "*   Day 1:\n",
        "\n",
        "  *   Create Variables\n",
        "  *   Conditional Statements\n",
        "  *   Loops\n",
        "\n",
        "*   Day 2:\n",
        "\n",
        "  *   Data Structure\n",
        "  *   Algorithm\n",
        "\n",
        "*   Day 3:\n",
        "\n",
        "  *   Data Importing\n",
        "  *   Data Cleaning\n",
        "  *   Data Exploring\n",
        "\n",
        "*   Day 4:\n",
        "\n",
        "  *   Data Analysis\n",
        "  *   Data Visualization\n",
        "  *   Data Exporting\n",
        "\n",
        "*   Day 5:\n",
        "\n",
        "  *   Exam\n",
        "\n"
      ],
      "metadata": {
        "id": "XDfuoGY_ge2W"
      }
    },
    {
      "cell_type": "markdown",
      "source": [
        "LET'S START!"
      ],
      "metadata": {
        "id": "XrBnNWjR_9YY"
      }
    },
    {
      "cell_type": "markdown",
      "source": [
        "# 1.&nbsp;Create Variables"
      ],
      "metadata": {
        "id": "VZDw0kaqOIYp"
      }
    },
    {
      "cell_type": "markdown",
      "source": [
        "Create a variable with the name `course` and assign the value `\"Basic of Python\"` after using the `=` sign to the computer to remember information."
      ],
      "metadata": {
        "id": "lUPizUN2BZMT"
      }
    },
    {
      "cell_type": "code",
      "source": [
        "course = \"Basic of Python\""
      ],
      "metadata": {
        "id": "Zdahzv17-e7M"
      },
      "execution_count": null,
      "outputs": []
    },
    {
      "cell_type": "markdown",
      "source": [
        "we can expand variable names with **Snake Case** format for naming that each word is separated by an underscore character."
      ],
      "metadata": {
        "id": "yW3Ni9t9Br3G"
      }
    },
    {
      "cell_type": "code",
      "source": [
        "my_course = \"Basic of Python\""
      ],
      "metadata": {
        "id": "qBP4JjAe9atx"
      },
      "execution_count": null,
      "outputs": []
    },
    {
      "cell_type": "markdown",
      "source": [
        "or using **Camel Case** format for naming that each word, except the first, starts with a capital letter."
      ],
      "metadata": {
        "id": "KW2i2bdVGQh9"
      }
    },
    {
      "cell_type": "code",
      "source": [
        "myCourse = \"Basic of Python\""
      ],
      "metadata": {
        "id": "c0QTDmpJGu_M"
      },
      "execution_count": null,
      "outputs": []
    },
    {
      "cell_type": "markdown",
      "source": [
        "or using **Pascal Case** format that each word starts with a capital letter."
      ],
      "metadata": {
        "id": "6ze99JwjzV8j"
      }
    },
    {
      "cell_type": "code",
      "source": [
        "MyCourse = \"Basic of Python\""
      ],
      "metadata": {
        "id": "WsYDV87_zWDy"
      },
      "execution_count": null,
      "outputs": []
    },
    {
      "cell_type": "markdown",
      "source": [
        "Be careful! Python is a **case-sensitive** programming language, so `MyCourse` and `mycourse` are two different variables."
      ],
      "metadata": {
        "id": "hMyxFL3EHR_W"
      }
    },
    {
      "cell_type": "code",
      "source": [
        "mycourse"
      ],
      "metadata": {
        "id": "80ju0mKIHSGS",
        "colab": {
          "base_uri": "https://localhost:8080/",
          "height": 141
        },
        "outputId": "cd626609-098d-4ff9-f4bf-5429302f1554"
      },
      "execution_count": null,
      "outputs": [
        {
          "output_type": "error",
          "ename": "NameError",
          "evalue": "name 'mycourse' is not defined",
          "traceback": [
            "\u001b[0;31m---------------------------------------------------------------------------\u001b[0m",
            "\u001b[0;31mNameError\u001b[0m                                 Traceback (most recent call last)",
            "\u001b[0;32m<ipython-input-5-4b086a1c19b2>\u001b[0m in \u001b[0;36m<cell line: 1>\u001b[0;34m()\u001b[0m\n\u001b[0;32m----> 1\u001b[0;31m \u001b[0mmycourse\u001b[0m\u001b[0;34m\u001b[0m\u001b[0;34m\u001b[0m\u001b[0m\n\u001b[0m",
            "\u001b[0;31mNameError\u001b[0m: name 'mycourse' is not defined"
          ]
        }
      ]
    },
    {
      "cell_type": "markdown",
      "source": [
        "Besides, we can't use **space** for the variable's name."
      ],
      "metadata": {
        "id": "QPJT5F8kGy0y"
      }
    },
    {
      "cell_type": "code",
      "source": [
        "My Course = \"Basic of Python\""
      ],
      "metadata": {
        "id": "YjDP5MWdGy_K",
        "colab": {
          "base_uri": "https://localhost:8080/",
          "height": 106
        },
        "outputId": "20bce2b5-5642-4471-ad68-812c1016977e"
      },
      "execution_count": null,
      "outputs": [
        {
          "output_type": "error",
          "ename": "SyntaxError",
          "evalue": "invalid syntax (<ipython-input-6-2dedfb1ae473>, line 1)",
          "traceback": [
            "\u001b[0;36m  File \u001b[0;32m\"<ipython-input-6-2dedfb1ae473>\"\u001b[0;36m, line \u001b[0;32m1\u001b[0m\n\u001b[0;31m    My Course = \"Basic of Python\"\u001b[0m\n\u001b[0m       ^\u001b[0m\n\u001b[0;31mSyntaxError\u001b[0m\u001b[0;31m:\u001b[0m invalid syntax\n"
          ]
        }
      ]
    },
    {
      "cell_type": "markdown",
      "source": [
        "It's better to choose a variable's name to help us understand what's inside a variable. In our case, it's easier to change the variable's name to `course_name`."
      ],
      "metadata": {
        "id": "EKJLFxlXGzIc"
      }
    },
    {
      "cell_type": "code",
      "source": [
        "course_name = \"Basic of Python\""
      ],
      "metadata": {
        "id": "Zn-fOxZaGzQW"
      },
      "execution_count": null,
      "outputs": []
    },
    {
      "cell_type": "markdown",
      "source": [
        "Finally, we can also define a variable name using **numbers**. It sometimes could be very useful."
      ],
      "metadata": {
        "id": "ruegGLsgGzX5"
      }
    },
    {
      "cell_type": "code",
      "source": [
        "course_1_name = \"Basic of Python\"\n",
        "course_2_name = \"Cognitive Neuroscience\""
      ],
      "metadata": {
        "id": "sgr7ndwCGze0"
      },
      "execution_count": null,
      "outputs": []
    },
    {
      "cell_type": "markdown",
      "source": [
        "Or mix with variable type, in this case, means string (str)"
      ],
      "metadata": {
        "id": "sKHkHaWIjQI-"
      }
    },
    {
      "cell_type": "code",
      "source": [
        "course_name_str = \"Basic of Python\""
      ],
      "metadata": {
        "id": "HEXNUvk4jQ5T"
      },
      "execution_count": null,
      "outputs": []
    },
    {
      "cell_type": "markdown",
      "source": [
        "Great! Let's look at the value on the right side. We store words in double quotes `\"   \"`, therefore it is a **string**. Strings can contain all sorts of letters and symbols."
      ],
      "metadata": {
        "id": "ZbpOW8bNGzmP"
      }
    },
    {
      "cell_type": "code",
      "source": [
        "course_name = \"Basic of Python\""
      ],
      "metadata": {
        "id": "95-DVGRmGzsk"
      },
      "execution_count": null,
      "outputs": []
    },
    {
      "cell_type": "markdown",
      "source": [
        "We ask Python to display a value by `print()` in the console, also known as the shell."
      ],
      "metadata": {
        "id": "Pk9TcoCEZ-Yz"
      }
    },
    {
      "cell_type": "code",
      "source": [
        "print(course_name)"
      ],
      "metadata": {
        "id": "cfD0XTkIZ-oU",
        "colab": {
          "base_uri": "https://localhost:8080/"
        },
        "outputId": "a52c1fec-23ea-4ac5-82c0-dda82f5fee7b"
      },
      "execution_count": null,
      "outputs": [
        {
          "output_type": "stream",
          "name": "stdout",
          "text": [
            "Basic of Python\n"
          ]
        }
      ]
    },
    {
      "cell_type": "markdown",
      "source": [
        "We can repeat `print()` as often as we want and display every value on a line."
      ],
      "metadata": {
        "id": "Jj_GXy5pG0A2"
      }
    },
    {
      "cell_type": "code",
      "source": [
        "print(\"=================================\")\n",
        "print(\"The course's name is:\")\n",
        "print(course_name)\n",
        "print(\"=================================\")"
      ],
      "metadata": {
        "id": "6eoudkifG0H_",
        "colab": {
          "base_uri": "https://localhost:8080/"
        },
        "outputId": "5877fe09-cfe9-4105-a30c-9e1fe5315a4d"
      },
      "execution_count": null,
      "outputs": [
        {
          "output_type": "stream",
          "name": "stdout",
          "text": [
            "=================================\n",
            "The course's name is:\n",
            "Basic of Python\n",
            "=================================\n"
          ]
        }
      ]
    },
    {
      "cell_type": "markdown",
      "source": [
        "Before continuing this part, let's look at an important point. Python is an **interpreted language** and It means code is run there line by line. Please correct the following code."
      ],
      "metadata": {
        "id": "m7FF9zHJGzzO"
      }
    },
    {
      "cell_type": "code",
      "source": [
        "print(universiy_name)\n",
        "universiy_name = \"University of Padova\""
      ],
      "metadata": {
        "id": "4n7NMGFkGz5Y",
        "colab": {
          "base_uri": "https://localhost:8080/",
          "height": 158
        },
        "outputId": "12334ee2-100c-43d2-b335-f6269ed68e85"
      },
      "execution_count": null,
      "outputs": [
        {
          "output_type": "error",
          "ename": "NameError",
          "evalue": "name 'universiy_name' is not defined",
          "traceback": [
            "\u001b[0;31m---------------------------------------------------------------------------\u001b[0m",
            "\u001b[0;31mNameError\u001b[0m                                 Traceback (most recent call last)",
            "\u001b[0;32m<ipython-input-13-51d3eeb75435>\u001b[0m in \u001b[0;36m<cell line: 1>\u001b[0;34m()\u001b[0m\n\u001b[0;32m----> 1\u001b[0;31m \u001b[0mprint\u001b[0m\u001b[0;34m(\u001b[0m\u001b[0muniversiy_name\u001b[0m\u001b[0;34m)\u001b[0m\u001b[0;34m\u001b[0m\u001b[0;34m\u001b[0m\u001b[0m\n\u001b[0m\u001b[1;32m      2\u001b[0m \u001b[0muniversiy_name\u001b[0m \u001b[0;34m=\u001b[0m \u001b[0;34m\"University of Padova\"\u001b[0m\u001b[0;34m\u001b[0m\u001b[0;34m\u001b[0m\u001b[0m\n",
            "\u001b[0;31mNameError\u001b[0m: name 'universiy_name' is not defined"
          ]
        }
      ]
    },
    {
      "cell_type": "markdown",
      "source": [
        "We can use this point to update variables. Please guess what will display in the console before running the code.\n"
      ],
      "metadata": {
        "id": "K8-h5SRaG0Os"
      }
    },
    {
      "cell_type": "code",
      "source": [
        "course_name = \"Cognitive Neuroscience\"\n",
        "print(course_name)\n",
        "course_name = \"Basic of Python\"\n",
        "print(course_name)"
      ],
      "metadata": {
        "id": "0EiIHKLRG0VX",
        "colab": {
          "base_uri": "https://localhost:8080/"
        },
        "outputId": "b065eca5-582e-462e-f700-1e8a2e967852"
      },
      "execution_count": null,
      "outputs": [
        {
          "output_type": "stream",
          "name": "stdout",
          "text": [
            "Cognitive Neuroscience\n",
            "Basic of Python\n"
          ]
        }
      ]
    },
    {
      "cell_type": "markdown",
      "source": [
        "We can add string values together with the `+` sign."
      ],
      "metadata": {
        "id": "5cxHHeh-d6Qa"
      }
    },
    {
      "cell_type": "code",
      "source": [
        "print(\"Course name: \" + \"Basic of Python\")\n",
        "print(\"Course name: \" + course_name)"
      ],
      "metadata": {
        "id": "8iahNpRjd6XP",
        "colab": {
          "base_uri": "https://localhost:8080/"
        },
        "outputId": "d0a031db-91ea-429e-e22c-0b94610ff935"
      },
      "execution_count": null,
      "outputs": [
        {
          "output_type": "stream",
          "name": "stdout",
          "text": [
            "Course name: Basic of Python\n",
            "Course name: Basic of Python\n"
          ]
        }
      ]
    },
    {
      "cell_type": "markdown",
      "source": [
        "Let's cross strings. We can store a **number** in a variable without using `\"   \"`."
      ],
      "metadata": {
        "id": "c3BvfGYrfVRi"
      }
    },
    {
      "cell_type": "code",
      "source": [
        "course_score = 80"
      ],
      "metadata": {
        "id": "PkOhFw34fVd7"
      },
      "execution_count": null,
      "outputs": []
    },
    {
      "cell_type": "markdown",
      "source": [
        "Add numbers together by `+`."
      ],
      "metadata": {
        "id": "fCJk_GovgHVc"
      }
    },
    {
      "cell_type": "code",
      "source": [
        "course_score = 80 + 10\n",
        "print(course_score)"
      ],
      "metadata": {
        "id": "X3Jz_kO6gHdS",
        "colab": {
          "base_uri": "https://localhost:8080/"
        },
        "outputId": "1b5291e7-fa16-4128-ff64-2bb4e6339bc2"
      },
      "execution_count": null,
      "outputs": [
        {
          "output_type": "stream",
          "name": "stdout",
          "text": [
            "90\n"
          ]
        }
      ]
    },
    {
      "cell_type": "markdown",
      "source": [
        "Subtract the numbers by `-`."
      ],
      "metadata": {
        "id": "_q9vI3Zkg2Ac"
      }
    },
    {
      "cell_type": "code",
      "source": [
        "course_score = 80 - 10\n",
        "print(course_score)"
      ],
      "metadata": {
        "id": "hCA3irdAg2IE",
        "colab": {
          "base_uri": "https://localhost:8080/"
        },
        "outputId": "a4b49785-2114-499f-cf0d-07c2e49fc52f"
      },
      "execution_count": null,
      "outputs": [
        {
          "output_type": "stream",
          "name": "stdout",
          "text": [
            "70\n"
          ]
        }
      ]
    },
    {
      "cell_type": "markdown",
      "source": [
        "Multiply numbers by `*`."
      ],
      "metadata": {
        "id": "ubNJLM4RhYnf"
      }
    },
    {
      "cell_type": "code",
      "source": [
        "course_score = 80 * 1.5\n",
        "print(course_score)"
      ],
      "metadata": {
        "id": "AjCD9lp1hYwe",
        "colab": {
          "base_uri": "https://localhost:8080/"
        },
        "outputId": "cb474175-a143-4ea7-fd4c-b07a0fa68df4"
      },
      "execution_count": null,
      "outputs": [
        {
          "output_type": "stream",
          "name": "stdout",
          "text": [
            "120.0\n"
          ]
        }
      ]
    },
    {
      "cell_type": "markdown",
      "source": [
        "Or divided by `/`."
      ],
      "metadata": {
        "id": "qVmTsvRFhrU6"
      }
    },
    {
      "cell_type": "code",
      "source": [
        "course_score = 80 / 8\n",
        "print(course_score)"
      ],
      "metadata": {
        "id": "RVpdSzm4hrm5",
        "colab": {
          "base_uri": "https://localhost:8080/"
        },
        "outputId": "1d905a02-8b68-45b7-d93b-0cae9064762b"
      },
      "execution_count": null,
      "outputs": [
        {
          "output_type": "stream",
          "name": "stdout",
          "text": [
            "10.0\n"
          ]
        }
      ]
    },
    {
      "cell_type": "markdown",
      "source": [
        "Modulus by `%`."
      ],
      "metadata": {
        "id": "gzRNDwkC1hTy"
      }
    },
    {
      "cell_type": "code",
      "source": [
        "course_score = 8 % 5\n",
        "print(course_score)"
      ],
      "metadata": {
        "id": "q8tzuQ9w1ha6",
        "colab": {
          "base_uri": "https://localhost:8080/"
        },
        "outputId": "293f6a99-d89e-4fe3-8e56-28d6cfdc64c7"
      },
      "execution_count": null,
      "outputs": [
        {
          "output_type": "stream",
          "name": "stdout",
          "text": [
            "3\n"
          ]
        }
      ]
    },
    {
      "cell_type": "markdown",
      "source": [
        "Exponentiation by `**`."
      ],
      "metadata": {
        "id": "J_3H9Z_hlnxr"
      }
    },
    {
      "cell_type": "code",
      "source": [
        "course_score = 8 ** 2\n",
        "print(course_score)"
      ],
      "metadata": {
        "id": "5v1AAJIvln6Z",
        "colab": {
          "base_uri": "https://localhost:8080/"
        },
        "outputId": "c0435c8c-1e6b-454e-a145-63d8d03b3a8d"
      },
      "execution_count": null,
      "outputs": [
        {
          "output_type": "stream",
          "name": "stdout",
          "text": [
            "64\n"
          ]
        }
      ]
    },
    {
      "cell_type": "markdown",
      "source": [
        "And floor division is calculated by `//`."
      ],
      "metadata": {
        "id": "-DOghdMhloCf"
      }
    },
    {
      "cell_type": "code",
      "source": [
        "course_score = 8 // 5\n",
        "print(course_score)"
      ],
      "metadata": {
        "id": "6vXPaZdHloKt",
        "colab": {
          "base_uri": "https://localhost:8080/"
        },
        "outputId": "65886711-d754-413c-c8d4-08bba9240bbb"
      },
      "execution_count": null,
      "outputs": [
        {
          "output_type": "stream",
          "name": "stdout",
          "text": [
            "1\n"
          ]
        }
      ]
    },
    {
      "cell_type": "markdown",
      "source": [
        "Keep the variable's value and change only the console by manipulating the `print()`."
      ],
      "metadata": {
        "id": "BmGJw6_uiLFx"
      }
    },
    {
      "cell_type": "code",
      "source": [
        "course_score = 80\n",
        "print(course_score / 8)\n",
        "print(course_score)"
      ],
      "metadata": {
        "id": "VvfIjYXHiLPK",
        "colab": {
          "base_uri": "https://localhost:8080/"
        },
        "outputId": "e433f7bb-b00f-4856-9db5-38d4f7008a9e"
      },
      "execution_count": null,
      "outputs": [
        {
          "output_type": "stream",
          "name": "stdout",
          "text": [
            "10.0\n",
            "80\n"
          ]
        }
      ]
    },
    {
      "cell_type": "markdown",
      "source": [
        "Calculate results and store them in variables. Notice when we want to print a string and a number together in the `print()`, we must use `,` instead of `+` or using f-strings like `f\" {} \"` to add a variable in a string."
      ],
      "metadata": {
        "id": "RrVsOjz0jBU8"
      }
    },
    {
      "cell_type": "code",
      "source": [
        "homework_1_score = 40\n",
        "homework_2_score = 45\n",
        "course_score = homework_1_score + homework_2_score\n",
        "print(\"course score: \" , course_score)\n",
        "print(f\"course score:  {course_score}\")"
      ],
      "metadata": {
        "id": "W9wNCTd5jBcw",
        "colab": {
          "base_uri": "https://localhost:8080/"
        },
        "outputId": "de698443-b025-4933-a064-fa958aaf05ee"
      },
      "execution_count": null,
      "outputs": [
        {
          "output_type": "stream",
          "name": "stdout",
          "text": [
            "course score:  85\n",
            "course score:  85\n"
          ]
        }
      ]
    },
    {
      "cell_type": "markdown",
      "source": [
        "Here is a question. How can we understand the type of our variable? the answer is using `type()`."
      ],
      "metadata": {
        "id": "-TLMIhR-W1CI"
      }
    },
    {
      "cell_type": "code",
      "source": [
        "course_score = 80\n",
        "print(type(course_score))"
      ],
      "metadata": {
        "id": "OMHZfi7-W1K_",
        "colab": {
          "base_uri": "https://localhost:8080/"
        },
        "outputId": "6da873c2-e6d9-4610-bf45-22d9da9963f9"
      },
      "execution_count": null,
      "outputs": [
        {
          "output_type": "stream",
          "name": "stdout",
          "text": [
            "<class 'int'>\n"
          ]
        }
      ]
    },
    {
      "cell_type": "code",
      "source": [
        "course_score = 80.0\n",
        "print(type(course_score))"
      ],
      "metadata": {
        "id": "Il7pLU1xXeCq",
        "colab": {
          "base_uri": "https://localhost:8080/"
        },
        "outputId": "936dad86-1107-46fa-88a7-f4a0051db59a"
      },
      "execution_count": null,
      "outputs": [
        {
          "output_type": "stream",
          "name": "stdout",
          "text": [
            "<class 'float'>\n"
          ]
        }
      ]
    },
    {
      "cell_type": "code",
      "source": [
        "course_score = \"80\"\n",
        "print(type(course_score))"
      ],
      "metadata": {
        "id": "NVs8hvdkXeFI",
        "colab": {
          "base_uri": "https://localhost:8080/"
        },
        "outputId": "e79d5280-3f7e-4dd5-8404-b6a3c6bc96cc"
      },
      "execution_count": null,
      "outputs": [
        {
          "output_type": "stream",
          "name": "stdout",
          "text": [
            "<class 'str'>\n"
          ]
        }
      ]
    },
    {
      "cell_type": "markdown",
      "source": [
        "Another question: How can we specify a variable type? The answer is casting by `int()`, `float()`, and `str()`."
      ],
      "metadata": {
        "id": "MBZ8wzMNXpYX"
      }
    },
    {
      "cell_type": "code",
      "source": [
        "course_1_score = int(80)   # will be 80\n",
        "course_2_score = int(80.7) # will be 80 (not 81)\n",
        "course_3_score = int(\"80\") # will be 80\n",
        "\n",
        "course_4_score = float(80)   # will be 80.0\n",
        "course_5_score = float(80.7) # will be 80.7\n",
        "course_6_score = float(\"80\") # will be 80.0\n",
        "course_7_score = float(\"80.2\") # will be 80.2\n",
        "\n",
        "course_8_score = str(80)   # will be '80'\n",
        "course_9_score = str(80.7) # will be '80.7'\n",
        "\n",
        "print(\"course_1_score:\", course_1_score, \"\\t\", type(course_1_score)) # \"\\t\" add space between outputs\n",
        "print(\"course_2_score:\", course_2_score, \"\\t\", type(course_2_score))\n",
        "print(\"course_3_score:\", course_3_score, \"\\t\", type(course_3_score))\n",
        "print(\"course_4_score:\", course_4_score, \"\\t\", type(course_4_score))\n",
        "print(\"course_5_score:\", course_5_score, \"\\t\", type(course_5_score))\n",
        "print(\"course_6_score:\", course_6_score, \"\\t\", type(course_6_score))\n",
        "print(\"course_7_score:\", course_7_score, \"\\t\", type(course_7_score))\n",
        "print(\"course_8_score:\", course_8_score, \"\\t\", type(course_8_score))\n",
        "print(\"course_9_score:\", course_9_score, \"\\t\", type(course_9_score))"
      ],
      "metadata": {
        "id": "4PJ7js7AYJQD",
        "colab": {
          "base_uri": "https://localhost:8080/"
        },
        "outputId": "898ad08e-e7cd-429a-d14b-f3d2c6c58e6b"
      },
      "execution_count": null,
      "outputs": [
        {
          "output_type": "stream",
          "name": "stdout",
          "text": [
            "course_1_score: 80 \t <class 'int'>\n",
            "course_2_score: 80 \t <class 'int'>\n",
            "course_3_score: 80 \t <class 'int'>\n",
            "course_4_score: 80.0 \t <class 'float'>\n",
            "course_5_score: 80.7 \t <class 'float'>\n",
            "course_6_score: 80.0 \t <class 'float'>\n",
            "course_7_score: 80.2 \t <class 'float'>\n",
            "course_8_score: 80 \t <class 'str'>\n",
            "course_9_score: 80.7 \t <class 'str'>\n"
          ]
        }
      ]
    },
    {
      "cell_type": "markdown",
      "source": [
        "Before finishing this part, let's review two important general points. First, Python uses **indentation** to indicate a block of code. Indentation refers to the spaces at the beginning of a code line. Please correct the following code."
      ],
      "metadata": {
        "id": "4WJHE2RZs5E0"
      }
    },
    {
      "cell_type": "code",
      "source": [
        "course_score = 80\n",
        "print(course_score)"
      ],
      "metadata": {
        "id": "VkQ9TGAptMD6",
        "colab": {
          "base_uri": "https://localhost:8080/"
        },
        "outputId": "8de73103-f3e4-47cc-8548-2509bf0ba55b"
      },
      "execution_count": null,
      "outputs": [
        {
          "output_type": "stream",
          "name": "stdout",
          "text": [
            "80\n"
          ]
        }
      ]
    },
    {
      "cell_type": "markdown",
      "source": [
        "Secondly, we can use `#` to add **comments** to our code. This helps with the readability and documentation of our code."
      ],
      "metadata": {
        "id": "prZyn72XtlRl"
      }
    },
    {
      "cell_type": "code",
      "source": [
        "# the range of course scores is between 0 and 100\n",
        "course_score = 80\n",
        "print(course_score)"
      ],
      "metadata": {
        "id": "GGhZPQ7vtlaE",
        "colab": {
          "base_uri": "https://localhost:8080/"
        },
        "outputId": "beb1d138-81ee-4f83-ffc6-f0c8343be289"
      },
      "execution_count": null,
      "outputs": [
        {
          "output_type": "stream",
          "name": "stdout",
          "text": [
            "80\n"
          ]
        }
      ]
    },
    {
      "cell_type": "markdown",
      "source": [
        "That's it! Let's try all the previous points to develop your first exercise."
      ],
      "metadata": {
        "id": "433F9oOemKtk"
      }
    },
    {
      "cell_type": "markdown",
      "source": [
        "## Exercise 1 part 1\n",
        "\n",
        "---\n",
        "\n",
        "\n",
        "Calculate your BMI score and show your name and score in the console.\n",
        "\n",
        "*   Expected output 1: My name is Sara and my BMI score is 28.\n",
        "*   Expected output 2: My name is John and my BMI score is 22.\n",
        "\n",
        "\n",
        "\n"
      ],
      "metadata": {
        "id": "CkkLy6Kdm1wm"
      }
    },
    {
      "cell_type": "code",
      "source": [
        "# BMI formula: weight (kg) / height**2 (m)\n",
        "\n",
        "\n"
      ],
      "metadata": {
        "id": "MpYcVRKxmLGa"
      },
      "execution_count": null,
      "outputs": []
    },
    {
      "cell_type": "markdown",
      "source": [
        "Good job!\n",
        "\n",
        "Sometimes we need to show if a feature is switched on or off by useing `True` and `False` values."
      ],
      "metadata": {
        "id": "1vNlnV3Q0SZJ"
      }
    },
    {
      "cell_type": "code",
      "source": [
        "calculated_bmi = True\n",
        "print(calculated_bmi)"
      ],
      "metadata": {
        "id": "FOgesK8VM92w",
        "colab": {
          "base_uri": "https://localhost:8080/"
        },
        "outputId": "37bfb81f-6ff7-4788-cf85-bf0100d35a62"
      },
      "execution_count": null,
      "outputs": [
        {
          "output_type": "stream",
          "name": "stdout",
          "text": [
            "True\n"
          ]
        }
      ]
    },
    {
      "cell_type": "code",
      "source": [
        "calculated_bmi = False\n",
        "print(calculated_bmi)"
      ],
      "metadata": {
        "id": "WmRf95szNpv6",
        "colab": {
          "base_uri": "https://localhost:8080/"
        },
        "outputId": "03cdbd31-7053-4469-ec30-dd8a000cf080"
      },
      "execution_count": null,
      "outputs": [
        {
          "output_type": "stream",
          "name": "stdout",
          "text": [
            "False\n"
          ]
        }
      ]
    },
    {
      "cell_type": "markdown",
      "source": [
        "Besides, we need to compare two values."
      ],
      "metadata": {
        "id": "2-MX1aD8NxbY"
      }
    },
    {
      "cell_type": "code",
      "source": [
        "bmi_score = 28\n",
        "print(bmi_score == 28) # equal\n",
        "print(bmi_score != 28) # not equal\n",
        "print(bmi_score > 28)  # greater than\n",
        "print(bmi_score < 28)  # less than\n",
        "print(bmi_score >= 28) # greater than or equal to\n",
        "print(bmi_score <= 28) # less than or equal to"
      ],
      "metadata": {
        "id": "QzCXfZOkN6Xn",
        "colab": {
          "base_uri": "https://localhost:8080/"
        },
        "outputId": "868e4787-013e-4846-d5c7-6a5b79d09d3e"
      },
      "execution_count": null,
      "outputs": [
        {
          "output_type": "stream",
          "name": "stdout",
          "text": [
            "True\n",
            "False\n",
            "False\n",
            "False\n",
            "True\n",
            "True\n"
          ]
        }
      ]
    },
    {
      "cell_type": "markdown",
      "source": [
        "Maybe logical operators to combine conditional statements."
      ],
      "metadata": {
        "id": "7wi_0TEKQcr8"
      }
    },
    {
      "cell_type": "code",
      "source": [
        "bmi_score = 28\n",
        "print(bmi_score > 20 and bmi_score > 30) # returns True if both statements are true\n",
        "print(bmi_score > 20 or bmi_score > 30) # returns True if one of the statements is true\n",
        "print(not(bmi_score > 20 and bmi_score > 30)) # reverse the result, returns False if the result is true"
      ],
      "metadata": {
        "id": "fFGu9gTSQm2W",
        "colab": {
          "base_uri": "https://localhost:8080/"
        },
        "outputId": "e0d22470-8279-4d1b-a13c-19b02c9c320d"
      },
      "execution_count": null,
      "outputs": [
        {
          "output_type": "stream",
          "name": "stdout",
          "text": [
            "False\n",
            "True\n",
            "True\n"
          ]
        }
      ]
    },
    {
      "cell_type": "markdown",
      "source": [
        "## Exercise 1 part 2\n",
        "\n",
        "---\n",
        "\n",
        "\n",
        "Check whether your BMI score is normal or not.\n",
        "\n",
        "*   Expected output 1: True\n",
        "*   Expected output 2: False\n",
        "\n",
        "\n",
        "\n"
      ],
      "metadata": {
        "id": "lchEI32RSqQz"
      }
    },
    {
      "cell_type": "code",
      "source": [
        "# normal range is from 18.5 to 24.9\n",
        "\n",
        "\n",
        "\n",
        "\n"
      ],
      "metadata": {
        "id": "ZMKdo7QlTVw8"
      },
      "execution_count": null,
      "outputs": []
    },
    {
      "cell_type": "markdown",
      "source": [
        "# 2.&nbsp;Conditional Statements"
      ],
      "metadata": {
        "id": "ykryJn0SbSHJ"
      }
    },
    {
      "cell_type": "markdown",
      "source": [
        "We use the **if statement** to adapt to different situations. Notice to use `:` after the statement and indentation before `print()`."
      ],
      "metadata": {
        "id": "tJb-tGH9bYQF"
      }
    },
    {
      "cell_type": "code",
      "source": [
        "bmi_score = 28\n",
        "\n",
        "if bmi_score < 18.8:\n",
        "  print(\"BMI score is under weight.\")\n",
        "else:\n",
        "  print(\"BMI score is not under weight.\")"
      ],
      "metadata": {
        "id": "Blh1gDnGbYY9",
        "colab": {
          "base_uri": "https://localhost:8080/"
        },
        "outputId": "d6efb4cc-6305-4e69-df9e-79ad29183e6c"
      },
      "execution_count": null,
      "outputs": [
        {
          "output_type": "stream",
          "name": "stdout",
          "text": [
            "BMI score is not under weight.\n"
          ]
        }
      ]
    },
    {
      "cell_type": "markdown",
      "source": [
        "Maybe we have more than one condition."
      ],
      "metadata": {
        "id": "nT8Y5Fq4qyaU"
      }
    },
    {
      "cell_type": "code",
      "source": [
        "bmi_score = 28\n",
        "\n",
        "if bmi_score > 18.5 and bmi_score < 24.9:\n",
        "  print(\"BMI score is normal.\")\n",
        "else:\n",
        "  print(\"BMI score is not normal.\")"
      ],
      "metadata": {
        "id": "ynswhLlNqyhR",
        "colab": {
          "base_uri": "https://localhost:8080/"
        },
        "outputId": "6614c50a-c785-4d50-dc1e-e8719ed6e550"
      },
      "execution_count": null,
      "outputs": [
        {
          "output_type": "stream",
          "name": "stdout",
          "text": [
            "BMI score is not normal.\n"
          ]
        }
      ]
    },
    {
      "cell_type": "code",
      "source": [
        "bmi_score = 28\n",
        "\n",
        "if bmi_score < 18.5 or bmi_score > 24.9:\n",
        "  print(\"BMI score is not normal.\")\n",
        "else:\n",
        "  print(\"BMI score is normal.\")"
      ],
      "metadata": {
        "id": "zF1a76g8rnPG",
        "colab": {
          "base_uri": "https://localhost:8080/"
        },
        "outputId": "da14ae28-4caa-418e-e295-97788d545d17"
      },
      "execution_count": null,
      "outputs": [
        {
          "output_type": "stream",
          "name": "stdout",
          "text": [
            "BMI score is not normal.\n"
          ]
        }
      ]
    },
    {
      "cell_type": "markdown",
      "source": [
        "Or we have more than two situations."
      ],
      "metadata": {
        "id": "zwRcrQeoqcgJ"
      }
    },
    {
      "cell_type": "code",
      "source": [
        "bmi_score = 28\n",
        "\n",
        "if bmi_score < 18.8:\n",
        "  print(\"BMI score is under weight.\")\n",
        "elif bmi_score > 18.5 and bmi_score < 24.9:\n",
        "  print(\"BMI score is under normal.\")\n",
        "elif bmi_score > 25 and bmi_score < 29.9:\n",
        "  print(\"BMI score is over weight.\")\n",
        "elif bmi_score > 30 and bmi_score < 39.9:\n",
        "  print(\"BMI score is obesity.\")\n",
        "else:\n",
        "  print(\"BMI score is extreme obesity.\")"
      ],
      "metadata": {
        "id": "MBa3tqYkqcr9",
        "colab": {
          "base_uri": "https://localhost:8080/"
        },
        "outputId": "7a78ecb8-8b69-441d-a765-cb0241153912"
      },
      "execution_count": null,
      "outputs": [
        {
          "output_type": "stream",
          "name": "stdout",
          "text": [
            "BMI score is over weight.\n"
          ]
        }
      ]
    },
    {
      "cell_type": "markdown",
      "source": [
        "## Exercise 2\n",
        "\n",
        "---\n",
        "\n",
        "\n",
        "We want to predict the BMI score after doing sport routing over one year. Assume the one-month sport reduces the 0.38 value from the BMI score. What will happen to BMI score if someone does sports for 3, 6, 9, and 12 months?\n",
        "\n",
        "*   Expected output 1: BMI score will be 27.76 after 3 months of sports.\n",
        "*   Expected output 2: BMI score will be 24.91 after 12 months of sports\n",
        "\n",
        "\n",
        "\n"
      ],
      "metadata": {
        "id": "FlklUlgdtRQ0"
      }
    },
    {
      "cell_type": "code",
      "source": [
        "# try with different values\n",
        "bmi_score = 28.4\n",
        "sport_duration = 9\n",
        "\n",
        "\n",
        "\n"
      ],
      "metadata": {
        "id": "Zd46OwTHtRak"
      },
      "execution_count": null,
      "outputs": []
    },
    {
      "cell_type": "markdown",
      "source": [
        "# 3.&nbsp;Loops (while)"
      ],
      "metadata": {
        "id": "pOvsmgaoyoRx"
      }
    },
    {
      "cell_type": "markdown",
      "source": [
        "Using the `while` loop, we can execute a set of statements if a condition is true."
      ],
      "metadata": {
        "id": "n_ljAPYpyvuV"
      }
    },
    {
      "cell_type": "code",
      "source": [
        "bmi_score = 21.4\n",
        "\n",
        "while bmi_score < 25:\n",
        "  print(f\"your BMI score is {bmi_score} (normal range).\")\n",
        "  bmi_score += 1 # bmi_score = bmi_score + 1"
      ],
      "metadata": {
        "id": "LibeRwvZ12pT",
        "colab": {
          "base_uri": "https://localhost:8080/"
        },
        "outputId": "7c185beb-07db-4d3a-e804-ec1dac506675"
      },
      "execution_count": null,
      "outputs": [
        {
          "output_type": "stream",
          "name": "stdout",
          "text": [
            "your BMI score is 21.4 (normal range).\n",
            "your BMI score is 22.4 (normal range).\n",
            "your BMI score is 23.4 (normal range).\n",
            "your BMI score is 24.4 (normal range).\n"
          ]
        }
      ]
    },
    {
      "cell_type": "markdown",
      "source": [
        "If the while condition is true, the `break` statement will prevent the loop from continuing indefinitely."
      ],
      "metadata": {
        "id": "4VTvdpoJ3dTh"
      }
    },
    {
      "cell_type": "code",
      "source": [
        "bmi_score = 21.4\n",
        "\n",
        "while bmi_score < 25:\n",
        "  print(f\"your BMI score is {bmi_score} (normal range).\")\n",
        "  bmi_score -= 1 # bmi_score = bmi_score - 1\n",
        "  if bmi_score < 18.8:\n",
        "    break"
      ],
      "metadata": {
        "id": "FX75x64c3dmT",
        "colab": {
          "base_uri": "https://localhost:8080/"
        },
        "outputId": "a7aa0f4e-84a1-4fa2-e562-d3d6fde54895"
      },
      "execution_count": null,
      "outputs": [
        {
          "output_type": "stream",
          "name": "stdout",
          "text": [
            "your BMI score is 21.4 (normal range).\n",
            "your BMI score is 20.4 (normal range).\n",
            "your BMI score is 19.4 (normal range).\n"
          ]
        }
      ]
    },
    {
      "cell_type": "markdown",
      "source": [
        "Or if the condition is no longer true, an `else` statement will run a block of code once."
      ],
      "metadata": {
        "id": "MFjMH9gi_K8a"
      }
    },
    {
      "cell_type": "code",
      "source": [
        "bmi_score = 21.4\n",
        "\n",
        "while bmi_score > 18.8:\n",
        "  print(f\"your BMI score is {bmi_score} (normal range).\")\n",
        "  bmi_score -= 1\n",
        "else:\n",
        "  print(f\"your BMI score is {bmi_score} (under weight).\")"
      ],
      "metadata": {
        "id": "n6T8dba3_LFa",
        "colab": {
          "base_uri": "https://localhost:8080/"
        },
        "outputId": "66fabf53-dce5-4a1f-e3ff-5f0869b52fd1"
      },
      "execution_count": null,
      "outputs": [
        {
          "output_type": "stream",
          "name": "stdout",
          "text": [
            "your BMI score is 21.4 (normal range).\n",
            "your BMI score is 20.4 (normal range).\n",
            "your BMI score is 19.4 (normal range).\n",
            "your BMI score is 18.4 (under weight).\n"
          ]
        }
      ]
    },
    {
      "cell_type": "markdown",
      "source": [
        "The `continue` statement lets us stop the current iteration and move on to the next."
      ],
      "metadata": {
        "id": "gS814Hb56dpR"
      }
    },
    {
      "cell_type": "code",
      "source": [
        "bmi_score = 19\n",
        "\n",
        "while bmi_score < 25:\n",
        "  bmi_score += 1\n",
        "  if bmi_score == 22:\n",
        "    continue\n",
        "  if bmi_score >= 25:\n",
        "    break\n",
        "  print(f\"your BMI score is {bmi_score} (normal range).\")\n"
      ],
      "metadata": {
        "id": "9NRktLo76dxt",
        "colab": {
          "base_uri": "https://localhost:8080/"
        },
        "outputId": "cf3dfd8b-79e4-481f-a970-66ef92e0eb66"
      },
      "execution_count": null,
      "outputs": [
        {
          "output_type": "stream",
          "name": "stdout",
          "text": [
            "your BMI score is 20 (normal range).\n",
            "your BMI score is 21 (normal range).\n",
            "your BMI score is 23 (normal range).\n",
            "your BMI score is 24 (normal range).\n"
          ]
        }
      ]
    },
    {
      "cell_type": "markdown",
      "source": [
        "## Exercise 3\n",
        "\n",
        "---\n",
        "\n",
        "We assumed the one-month sport reduce by 0.38 value from the BMI score. Now, write a `while` loop to calculate the maximum number of months to reach the normal range for BMI score.\n",
        "\n",
        "*   Expected output 1: you need 3 months of sport\n",
        "*   Expected output 2: you need 7 months of sport\n",
        "\n",
        "\n",
        "\n"
      ],
      "metadata": {
        "id": "croIpQSIF-yi"
      }
    },
    {
      "cell_type": "code",
      "source": [
        "# try different BMI score\n",
        "bmi_score = 28.6\n",
        "sport_duration = 0\n",
        "\n",
        "\n"
      ],
      "metadata": {
        "id": "HZcwnZmxF-9q"
      },
      "execution_count": null,
      "outputs": []
    },
    {
      "cell_type": "markdown",
      "source": [
        "# 4.&nbsp;Loops (for)"
      ],
      "metadata": {
        "id": "e-o4R0S5EUHV"
      }
    },
    {
      "cell_type": "markdown",
      "source": [
        "Excellent! Let's look at the `for` loop.\n",
        "\n",
        "Using the `for` loop means we know how many times we need to execute a statement, so we can use it when we know how many iterations there will be. In addition, `range()` returns a sequence of numbers starting from 0 and incrementing by 1 by default, and ending at a specified number. Although, we can change default values if we want."
      ],
      "metadata": {
        "id": "M1kZCWAB-lto"
      }
    },
    {
      "cell_type": "code",
      "source": [
        "bmi_score = 19\n",
        "\n",
        "for i in range(3):\n",
        "  print(f\"your BMI score is {bmi_score} (normal range).\")\n",
        "  bmi_score += 1"
      ],
      "metadata": {
        "id": "YBf_cwNe-l1w",
        "colab": {
          "base_uri": "https://localhost:8080/"
        },
        "outputId": "5aecb970-6be2-4033-87cf-228cd519ee9c"
      },
      "execution_count": null,
      "outputs": [
        {
          "output_type": "stream",
          "name": "stdout",
          "text": [
            "your BMI score is 19 (normal range).\n",
            "your BMI score is 20 (normal range).\n",
            "your BMI score is 21 (normal range).\n"
          ]
        }
      ]
    },
    {
      "cell_type": "markdown",
      "source": [
        "Besides, while loop's statements including the `break`, `continue`, and `else` could be used here as well."
      ],
      "metadata": {
        "id": "nHQMAvIbDIK_"
      }
    },
    {
      "cell_type": "code",
      "source": [
        "bmi_score = 19\n",
        "\n",
        "for i in range(5):\n",
        "  bmi_score += 1\n",
        "  if bmi_score == 22:\n",
        "    continue\n",
        "  print(f\"your BMI score is {bmi_score} (normal range).\")"
      ],
      "metadata": {
        "id": "XjnVmlJvDIuw",
        "colab": {
          "base_uri": "https://localhost:8080/"
        },
        "outputId": "fe427055-54cc-473c-f423-4dae1540ca24"
      },
      "execution_count": null,
      "outputs": [
        {
          "output_type": "stream",
          "name": "stdout",
          "text": [
            "your BMI score is 20 (normal range).\n",
            "your BMI score is 21 (normal range).\n",
            "your BMI score is 23 (normal range).\n",
            "your BMI score is 24 (normal range).\n"
          ]
        }
      ]
    },
    {
      "cell_type": "code",
      "source": [
        "bmi_score = 19\n",
        "\n",
        "for i in range(6):\n",
        "  print(f\"your BMI score is {bmi_score} (normal range).\")\n",
        "  bmi_score += 1\n",
        "  if bmi_score == 25:\n",
        "    break"
      ],
      "metadata": {
        "id": "eWuP3soPFClW",
        "colab": {
          "base_uri": "https://localhost:8080/"
        },
        "outputId": "00f76b03-0426-419e-c058-bd3b30054ea8"
      },
      "execution_count": null,
      "outputs": [
        {
          "output_type": "stream",
          "name": "stdout",
          "text": [
            "your BMI score is 19 (normal range).\n",
            "your BMI score is 20 (normal range).\n",
            "your BMI score is 21 (normal range).\n",
            "your BMI score is 22 (normal range).\n",
            "your BMI score is 23 (normal range).\n",
            "your BMI score is 24 (normal range).\n"
          ]
        }
      ]
    },
    {
      "cell_type": "code",
      "source": [
        "bmi_score = 19\n",
        "\n",
        "for i in range(6):\n",
        "  print(f\"your BMI score is {bmi_score} (normal range).\")\n",
        "  bmi_score += 1\n",
        "else:\n",
        "  print(f\"your BMI score is {bmi_score} (Over weight).\")"
      ],
      "metadata": {
        "id": "R5zMAR2SFAzL",
        "colab": {
          "base_uri": "https://localhost:8080/"
        },
        "outputId": "c2cd875c-d7e1-4a14-ec07-a9222de0014c"
      },
      "execution_count": null,
      "outputs": [
        {
          "output_type": "stream",
          "name": "stdout",
          "text": [
            "your BMI score is 19 (normal range).\n",
            "your BMI score is 20 (normal range).\n",
            "your BMI score is 21 (normal range).\n",
            "your BMI score is 22 (normal range).\n",
            "your BMI score is 23 (normal range).\n",
            "your BMI score is 24 (normal range).\n",
            "your BMI score is 25 (Over weight).\n"
          ]
        }
      ]
    },
    {
      "cell_type": "markdown",
      "source": [
        "## Exercise 4\n",
        "\n",
        "---\n",
        "\n",
        "\n",
        "Similar to the previous exercise we assumed the one-month sport reduce 0.38 value from the BMI score. Now, write a `for` loop to calculate finalized BMI score after 7 months of sports.\n",
        "\n",
        "*   Expected output 1: your BMI score will be 21.93 after 7 months of sport\n",
        "*   Expected output 2: your BMI score will be 26.77 after 7 months of sport\n",
        "\n"
      ],
      "metadata": {
        "id": "nyDQEZECH59O"
      }
    },
    {
      "cell_type": "code",
      "source": [
        "# try different BMI score\n",
        "bmi_score = 28.6\n",
        "sport_duration = 7\n",
        "\n",
        "\n",
        "\n",
        "\n",
        "\n"
      ],
      "metadata": {
        "id": "-MvbS6nkH6Gz"
      },
      "execution_count": null,
      "outputs": []
    },
    {
      "cell_type": "markdown",
      "source": [
        "# 5.&nbsp;Data Structure (string and list)"
      ],
      "metadata": {
        "id": "H06wWuHBlVpn"
      }
    },
    {
      "cell_type": "markdown",
      "source": [
        "For organization, management, and storage data we need to know different data types and how to work with them. We familiarize ourselves with **integers**, **floats**, and **booleans** before."
      ],
      "metadata": {
        "id": "rS702QK2lZW-"
      }
    },
    {
      "cell_type": "code",
      "source": [
        "x = 18 # int\n",
        "y = 24.9 # float\n",
        "z = True # boolean"
      ],
      "metadata": {
        "id": "30TqYSpllVwx"
      },
      "execution_count": null,
      "outputs": []
    },
    {
      "cell_type": "markdown",
      "source": [
        "We are also familiarized with **string** but let's deep in a little bit on that."
      ],
      "metadata": {
        "id": "IiSqiHvxzXAq"
      }
    },
    {
      "cell_type": "code",
      "source": [
        "w = \"this is a string\"\n",
        "print(type(w)) # get data type"
      ],
      "metadata": {
        "id": "fW9eArxWzrfk",
        "colab": {
          "base_uri": "https://localhost:8080/"
        },
        "outputId": "a7237c05-8613-44f6-90bf-089443b3ad50"
      },
      "execution_count": null,
      "outputs": [
        {
          "output_type": "stream",
          "name": "stdout",
          "text": [
            "<class 'str'>\n"
          ]
        }
      ]
    },
    {
      "cell_type": "code",
      "source": [
        "print(len(w)) # get length"
      ],
      "metadata": {
        "id": "JLj5R5EX1Hfg",
        "colab": {
          "base_uri": "https://localhost:8080/"
        },
        "outputId": "8f0e543e-34ad-43a9-ce76-ef7192ac6038"
      },
      "execution_count": null,
      "outputs": [
        {
          "output_type": "stream",
          "name": "stdout",
          "text": [
            "16\n"
          ]
        }
      ]
    },
    {
      "cell_type": "code",
      "source": [
        "# access item by position\n",
        "# note: position in Python starts at 0.\n",
        "w = \"this is a string\"\n",
        "\n",
        "print(\"position 0 : \", w[0])\n",
        "print(\"position 1 : \", w[1])\n",
        "print(\"position -2: \", w[-2])\n",
        "print(\"\\n\") # create a new line\n",
        "print(\"range of position 1: \", w[1:3])\n",
        "print(\"range of position 2: \", w[:3])\n",
        "print(\"range of position 3: \", w[3:])\n",
        "print(\"range of position 4: \", w[:])\n",
        "print(\"range of position 5: \", w[-3:-1])\n",
        "print(\"range of position 6: \", w[:-1])\n",
        "print(\"range of position 7: \", w[-3:])"
      ],
      "metadata": {
        "id": "JESI_iaB0GG1",
        "colab": {
          "base_uri": "https://localhost:8080/"
        },
        "outputId": "0b10ad16-d113-433e-af89-d2cabc0e300c"
      },
      "execution_count": null,
      "outputs": [
        {
          "output_type": "stream",
          "name": "stdout",
          "text": [
            "position 0 :  t\n",
            "position 1 :  h\n",
            "position -2:  n\n",
            "\n",
            "\n",
            "range of position 1:  hi\n",
            "range of position 2:  thi\n",
            "range of position 3:  s is a string\n",
            "range of position 4:  this is a string\n",
            "range of position 5:  in\n",
            "range of position 6:  this is a strin\n",
            "range of position 7:  ing\n"
          ]
        }
      ]
    },
    {
      "cell_type": "code",
      "source": [
        "# check if item exists\n",
        "if \"this\" in w:\n",
        "  print(\"Yes, this is in w string.\")"
      ],
      "metadata": {
        "id": "wfx5urSJ1ccJ",
        "colab": {
          "base_uri": "https://localhost:8080/"
        },
        "outputId": "e5cef0b9-2639-499a-8a46-af8faefa4645"
      },
      "execution_count": null,
      "outputs": [
        {
          "output_type": "stream",
          "name": "stdout",
          "text": [
            "Yes, this is in w string.\n"
          ]
        }
      ]
    },
    {
      "cell_type": "code",
      "source": [
        "print(w.upper()) # upper case"
      ],
      "metadata": {
        "id": "t0KtDN-q1c3Y",
        "colab": {
          "base_uri": "https://localhost:8080/"
        },
        "outputId": "5e18ee00-05f9-40c1-8a0e-07e612b1ced3"
      },
      "execution_count": null,
      "outputs": [
        {
          "output_type": "stream",
          "name": "stdout",
          "text": [
            "THIS IS A STRING\n"
          ]
        }
      ]
    },
    {
      "cell_type": "code",
      "source": [
        "print(w.lower()) # lower case"
      ],
      "metadata": {
        "id": "YNNhJQ8R1c6W",
        "colab": {
          "base_uri": "https://localhost:8080/"
        },
        "outputId": "92e1cf51-a1b8-4488-fc34-e63eeb006619"
      },
      "execution_count": null,
      "outputs": [
        {
          "output_type": "stream",
          "name": "stdout",
          "text": [
            "this is a string\n"
          ]
        }
      ]
    },
    {
      "cell_type": "code",
      "source": [
        "print(w.replace(\"this\", \"that\")) # replace"
      ],
      "metadata": {
        "id": "J_gQBpao3yJJ",
        "colab": {
          "base_uri": "https://localhost:8080/"
        },
        "outputId": "756caf6c-ef56-4606-b66e-75f40aba46ab"
      },
      "execution_count": null,
      "outputs": [
        {
          "output_type": "stream",
          "name": "stdout",
          "text": [
            "that is a string\n"
          ]
        }
      ]
    },
    {
      "cell_type": "code",
      "source": [
        "print(w.split(\" \")) # split by space"
      ],
      "metadata": {
        "id": "3q9YDMH20-9_",
        "colab": {
          "base_uri": "https://localhost:8080/"
        },
        "outputId": "73718225-6e1f-4e53-98f8-09510d419509"
      },
      "execution_count": null,
      "outputs": [
        {
          "output_type": "stream",
          "name": "stdout",
          "text": [
            "['this', 'is', 'a', 'string']\n"
          ]
        }
      ]
    },
    {
      "cell_type": "markdown",
      "source": [
        "Perfect!\n",
        "\n",
        "Let's continue with another data type. Using **lists**, we can store multiple items with any type of data in one variable by using `[]` and `,` between items."
      ],
      "metadata": {
        "id": "t59GgZtenUs4"
      }
    },
    {
      "cell_type": "code",
      "source": [
        "student = [\"name\", \"Weight\", \"Height\", 21.7, True]\n",
        "print(student)"
      ],
      "metadata": {
        "id": "xawXEDScnU0J",
        "colab": {
          "base_uri": "https://localhost:8080/"
        },
        "outputId": "e504b7da-41a5-4f2c-b5db-eb614d89a7f0"
      },
      "execution_count": null,
      "outputs": [
        {
          "output_type": "stream",
          "name": "stdout",
          "text": [
            "['name', 'Weight', 'Height', 21.7, True]\n"
          ]
        }
      ]
    },
    {
      "cell_type": "code",
      "source": [
        "print(type(student)) # get data type"
      ],
      "metadata": {
        "id": "L3X-kiOmp7yv",
        "colab": {
          "base_uri": "https://localhost:8080/"
        },
        "outputId": "0344849e-d417-4389-91a9-933e619e8d2e"
      },
      "execution_count": null,
      "outputs": [
        {
          "output_type": "stream",
          "name": "stdout",
          "text": [
            "<class 'list'>\n"
          ]
        }
      ]
    },
    {
      "cell_type": "code",
      "source": [
        "print(len(student)) # get length"
      ],
      "metadata": {
        "id": "73j6QdD2qRnd",
        "colab": {
          "base_uri": "https://localhost:8080/"
        },
        "outputId": "c30681a7-0f69-47f5-f0dc-ee2cffd5ed39"
      },
      "execution_count": null,
      "outputs": [
        {
          "output_type": "stream",
          "name": "stdout",
          "text": [
            "5\n"
          ]
        }
      ]
    },
    {
      "cell_type": "code",
      "source": [
        "# access item by index\n",
        "# note: indexing in Python starts at 0.\n",
        "print(\"index 0 : \", student[0])\n",
        "print(\"index 1 : \", student[1])\n",
        "print(\"index -2: \", student[-2])\n",
        "print(\"\\nrange of index 1: \", student[1:3]) # notice to \\n\n",
        "print(\"range of index 2: \", student[:3])\n",
        "print(\"range of index 3: \", student[1:])\n",
        "print(\"range of index 4: \", student[:])\n",
        "print(\"range of index 5: \", student[-3:-1])\n",
        "print(\"range of index 6: \", student[:-1])\n",
        "print(\"range of index 7: \", student[-3:])"
      ],
      "metadata": {
        "id": "92mOvaBuqoQv",
        "colab": {
          "base_uri": "https://localhost:8080/"
        },
        "outputId": "506edfc9-51c6-4342-8c82-c14c1133b39e"
      },
      "execution_count": null,
      "outputs": [
        {
          "output_type": "stream",
          "name": "stdout",
          "text": [
            "index 0 :  name\n",
            "index 1 :  Weight\n",
            "index -2:  21.7\n",
            "\n",
            "range of index 1:  ['Weight', 'Height']\n",
            "range of index 2:  ['name', 'Weight', 'Height']\n",
            "range of index 3:  ['Weight', 'Height', 21.7, True]\n",
            "range of index 4:  ['name', 'Weight', 'Height', 21.7, True]\n",
            "range of index 5:  ['Height', 21.7]\n",
            "range of index 6:  ['name', 'Weight', 'Height', 21.7]\n",
            "range of index 7:  ['Height', 21.7, True]\n"
          ]
        }
      ]
    },
    {
      "cell_type": "code",
      "source": [
        "# check if item exists\n",
        "if \"Height\" in student:\n",
        "  print(\"Yes, Height is in the student list.\")"
      ],
      "metadata": {
        "id": "8HbKofvLrBVT",
        "colab": {
          "base_uri": "https://localhost:8080/"
        },
        "outputId": "b376c051-9306-405a-f20d-97fc369a04fa"
      },
      "execution_count": null,
      "outputs": [
        {
          "output_type": "stream",
          "name": "stdout",
          "text": [
            "Yes, Height is in the student list.\n"
          ]
        }
      ]
    },
    {
      "cell_type": "code",
      "source": [
        "# change item value by index\n",
        "print(student)\n",
        "student[3] = 21.4\n",
        "student[1:3] = [\"weight\", \"height\"]\n",
        "print(student)"
      ],
      "metadata": {
        "id": "wQiwl2gWtRb-",
        "colab": {
          "base_uri": "https://localhost:8080/"
        },
        "outputId": "31931d79-2d97-4ede-a2c5-e3870a8936ff"
      },
      "execution_count": null,
      "outputs": [
        {
          "output_type": "stream",
          "name": "stdout",
          "text": [
            "['name', 'Weight', 'Height', 21.7, True]\n",
            "['name', 'weight', 'height', 21.4, True]\n"
          ]
        }
      ]
    },
    {
      "cell_type": "code",
      "source": [
        "# insert item value by index\n",
        "student.insert(1, \"surname\")\n",
        "print(student)"
      ],
      "metadata": {
        "id": "i7PuBfH4uZYo",
        "colab": {
          "base_uri": "https://localhost:8080/"
        },
        "outputId": "4cf8c136-cc12-466f-bfd7-a874d39c4b1e"
      },
      "execution_count": null,
      "outputs": [
        {
          "output_type": "stream",
          "name": "stdout",
          "text": [
            "['name', 'surname', 'weight', 'height', 21.4, True]\n"
          ]
        }
      ]
    },
    {
      "cell_type": "code",
      "source": [
        "# append item value to the end of the list\n",
        "student.append(\"age\")\n",
        "print(student)"
      ],
      "metadata": {
        "id": "BdapStn4uwRM",
        "colab": {
          "base_uri": "https://localhost:8080/"
        },
        "outputId": "26912f12-4aad-45cb-80ac-eb632c68c063"
      },
      "execution_count": null,
      "outputs": [
        {
          "output_type": "stream",
          "name": "stdout",
          "text": [
            "['name', 'surname', 'weight', 'height', 21.4, True, 'age']\n"
          ]
        }
      ]
    },
    {
      "cell_type": "code",
      "source": [
        "# append items from another list to current list\n",
        "education = [\"course\", \"score\"]\n",
        "student.extend(education)\n",
        "print(student)"
      ],
      "metadata": {
        "id": "3V7PnUVrvGwR",
        "colab": {
          "base_uri": "https://localhost:8080/"
        },
        "outputId": "d7a20d5f-0c55-48ef-ea8b-f40d2a374371"
      },
      "execution_count": null,
      "outputs": [
        {
          "output_type": "stream",
          "name": "stdout",
          "text": [
            "['name', 'surname', 'weight', 'height', 21.4, True, 'age', 'course', 'score']\n"
          ]
        }
      ]
    },
    {
      "cell_type": "code",
      "source": [
        "# append and extend difference\n",
        "list_one = [1, 3, 5, 7]\n",
        "list_two = [9, 11]\n",
        "list_one.append(list_two)\n",
        "print(\"appended list: \", list_one)\n",
        "\n",
        "list_one = [1, 3, 5, 7]\n",
        "list_two = [9, 11]\n",
        "list_one.extend(list_two)\n",
        "print(\"extended list: \", list_one)"
      ],
      "metadata": {
        "id": "PpfhWCX0vuYf",
        "colab": {
          "base_uri": "https://localhost:8080/"
        },
        "outputId": "df7570b4-4825-48a9-ca5b-00559bcb2232"
      },
      "execution_count": null,
      "outputs": [
        {
          "output_type": "stream",
          "name": "stdout",
          "text": [
            "appended list:  [1, 3, 5, 7, [9, 11]]\n",
            "extended list:  [1, 3, 5, 7, 9, 11]\n"
          ]
        }
      ]
    },
    {
      "cell_type": "code",
      "source": [
        "# remove by item value\n",
        "student.remove(\"course\")\n",
        "print(student)"
      ],
      "metadata": {
        "id": "RF0cTWryw1mK",
        "colab": {
          "base_uri": "https://localhost:8080/"
        },
        "outputId": "43e435f1-6c5e-4ffb-e844-db6a6170668b"
      },
      "execution_count": null,
      "outputs": [
        {
          "output_type": "stream",
          "name": "stdout",
          "text": [
            "['name', 'surname', 'weight', 'height', 21.4, True, 'age', 'score']\n"
          ]
        }
      ]
    },
    {
      "cell_type": "code",
      "source": [
        "# remove by index\n",
        "student.pop(-2)\n",
        "print(student)"
      ],
      "metadata": {
        "id": "66nQZqnnxMJk",
        "colab": {
          "base_uri": "https://localhost:8080/"
        },
        "outputId": "21b23dab-4079-470c-c919-53c1f62615a6"
      },
      "execution_count": null,
      "outputs": [
        {
          "output_type": "stream",
          "name": "stdout",
          "text": [
            "['name', 'surname', 'weight', 'height', 21.4, True, 'score']\n"
          ]
        }
      ]
    },
    {
      "cell_type": "code",
      "source": [
        "# the pop() method removes the last item if you don't specify the index\n",
        "student.pop()\n",
        "print(student)"
      ],
      "metadata": {
        "id": "pxm7pBKvxjbu",
        "colab": {
          "base_uri": "https://localhost:8080/"
        },
        "outputId": "a38420a0-7c86-4637-8f9b-46c00ca8bda5"
      },
      "execution_count": null,
      "outputs": [
        {
          "output_type": "stream",
          "name": "stdout",
          "text": [
            "['name', 'surname', 'weight', 'height', 21.4, True]\n"
          ]
        }
      ]
    },
    {
      "cell_type": "code",
      "source": [
        "# another way to remove by index\n",
        "del student[1]\n",
        "print(student)"
      ],
      "metadata": {
        "id": "r7Eipydrxe3I",
        "colab": {
          "base_uri": "https://localhost:8080/"
        },
        "outputId": "71945488-67a6-4365-9a1a-2c1704ba1201"
      },
      "execution_count": null,
      "outputs": [
        {
          "output_type": "stream",
          "name": "stdout",
          "text": [
            "['name', 'weight', 'height', 21.4, True]\n"
          ]
        }
      ]
    },
    {
      "cell_type": "code",
      "source": [
        "# loop through a list\n",
        "for i in student:\n",
        "  print(i)"
      ],
      "metadata": {
        "id": "YkLp0Vq_59wQ",
        "colab": {
          "base_uri": "https://localhost:8080/"
        },
        "outputId": "6a9202bb-22c6-4114-9d66-af5075b3e0aa"
      },
      "execution_count": null,
      "outputs": [
        {
          "output_type": "stream",
          "name": "stdout",
          "text": [
            "name\n",
            "weight\n",
            "height\n",
            "21.4\n",
            "True\n"
          ]
        }
      ]
    },
    {
      "cell_type": "code",
      "source": [
        "# loop through the index numbers\n",
        "for i in range(len(student)):\n",
        "  print(student[i])"
      ],
      "metadata": {
        "id": "3HmJ_D8r594z",
        "colab": {
          "base_uri": "https://localhost:8080/"
        },
        "outputId": "21e0835d-a3d0-49e3-a9b0-9ecacbd02180"
      },
      "execution_count": null,
      "outputs": [
        {
          "output_type": "stream",
          "name": "stdout",
          "text": [
            "name\n",
            "weight\n",
            "height\n",
            "21.4\n",
            "True\n"
          ]
        }
      ]
    },
    {
      "cell_type": "code",
      "source": [
        "# removes all the items from the list\n",
        "student.clear()\n",
        "print(student)"
      ],
      "metadata": {
        "id": "fTwi11Qp8mG1",
        "colab": {
          "base_uri": "https://localhost:8080/"
        },
        "outputId": "16b03e28-1a0d-4fe6-8aa1-4fb000ca9743"
      },
      "execution_count": null,
      "outputs": [
        {
          "output_type": "stream",
          "name": "stdout",
          "text": [
            "[]\n"
          ]
        }
      ]
    },
    {
      "cell_type": "code",
      "source": [
        "# looping using list comprehension (shortest syntax)\n",
        "bmi = [21.31, 26.9, 24.1, 29.4]\n",
        "student_bmi = [i+1 for i in bmi]\n",
        "print(student_bmi)"
      ],
      "metadata": {
        "id": "jN1k8BYX6ipn",
        "colab": {
          "base_uri": "https://localhost:8080/"
        },
        "outputId": "e4457d01-f308-476d-c206-20ef319bfb8d"
      },
      "execution_count": null,
      "outputs": [
        {
          "output_type": "stream",
          "name": "stdout",
          "text": [
            "[22.31, 27.9, 25.1, 30.4]\n"
          ]
        }
      ]
    },
    {
      "cell_type": "code",
      "source": [
        "# sort items\n",
        "student_bmi.sort() # ascending\n",
        "print(student_bmi)\n",
        "student_bmi.sort(reverse = True) # descending\n",
        "print(student_bmi)"
      ],
      "metadata": {
        "id": "yxTlvfkd9bKR",
        "colab": {
          "base_uri": "https://localhost:8080/"
        },
        "outputId": "14ad572a-e6c0-41ed-f91f-f960cf2c90ee"
      },
      "execution_count": null,
      "outputs": [
        {
          "output_type": "stream",
          "name": "stdout",
          "text": [
            "[22.31, 25.1, 27.9, 30.4]\n",
            "[30.4, 27.9, 25.1, 22.31]\n"
          ]
        }
      ]
    },
    {
      "cell_type": "markdown",
      "source": [
        "## Exercise 5\n",
        "\n",
        "---\n",
        "\n",
        "\n",
        "1. Calculate the BMI score for all patients and store it in a list. (Hint: for loop)\n",
        "2. Remove items in the normal range.  (Hint: if statement)\n",
        "3. Sort items by descending.\n",
        "\n",
        "*   Expected output:\n",
        "        [28.20, 27.52, 25.34]\n",
        "\n"
      ],
      "metadata": {
        "id": "QtLDOzvR4iPW"
      }
    },
    {
      "cell_type": "code",
      "source": [
        "patient_name = [\"Georgia\", \"Oscar\", \"Juliet\", \"Lily\", \"William\"]\n",
        "patient_weight = [54.7, 79.6, 81.2, 51.9, 102.5] # kg\n",
        "patient_height = [152, 168, 179, 161, 193] # cm\n",
        "patient_bmi = []\n",
        "\n",
        "# start from here...\n",
        "\n",
        "\n",
        "\n",
        "\n",
        "\n"
      ],
      "metadata": {
        "id": "nzLyoi5C4iWE"
      },
      "execution_count": null,
      "outputs": []
    },
    {
      "cell_type": "markdown",
      "source": [
        "# 6.&nbsp;Data Structure (tuple, set and dictionary)"
      ],
      "metadata": {
        "id": "eRw2dE42Emvl"
      }
    },
    {
      "cell_type": "markdown",
      "source": [
        "We can group together closely-related data unchangeable using **tuples**. We create them similarly to lists but using parentheses `()` instead of brackets."
      ],
      "metadata": {
        "id": "7gds1knpE5wY"
      }
    },
    {
      "cell_type": "code",
      "source": [
        "thistuple = (\"Georgia\", 54.7, 152, False)\n",
        "print(type(thistuple))"
      ],
      "metadata": {
        "id": "v2RZzhBBE55A",
        "colab": {
          "base_uri": "https://localhost:8080/"
        },
        "outputId": "b7ada248-d40f-44a8-9a95-6d8b4b131bbe"
      },
      "execution_count": null,
      "outputs": [
        {
          "output_type": "stream",
          "name": "stdout",
          "text": [
            "<class 'tuple'>\n"
          ]
        }
      ]
    },
    {
      "cell_type": "code",
      "source": [
        "print(len(thistuple))"
      ],
      "metadata": {
        "id": "2qvDBpO2dTA0",
        "colab": {
          "base_uri": "https://localhost:8080/"
        },
        "outputId": "85f2b83c-c712-4945-b6db-01bc8213f666"
      },
      "execution_count": null,
      "outputs": [
        {
          "output_type": "stream",
          "name": "stdout",
          "text": [
            "4\n"
          ]
        }
      ]
    },
    {
      "cell_type": "code",
      "source": [
        "tuple_one_item = (\"Georgia\",)\n",
        "print(type(tuple_one_item))\n",
        "\n",
        "# it is NOT a tuple\n",
        "tuple_one_item = (\"Georgia\")\n",
        "print(type(tuple_one_item))"
      ],
      "metadata": {
        "id": "UGUOBolOdTDb",
        "colab": {
          "base_uri": "https://localhost:8080/"
        },
        "outputId": "1ed1455b-482f-4694-c45c-120a02697084"
      },
      "execution_count": null,
      "outputs": [
        {
          "output_type": "stream",
          "name": "stdout",
          "text": [
            "<class 'tuple'>\n",
            "<class 'str'>\n"
          ]
        }
      ]
    },
    {
      "cell_type": "code",
      "source": [
        "# access item by index\n",
        "print(\"index 0 : \", thistuple[0])\n",
        "print(\"index 1 : \", thistuple[1])\n",
        "print(\"index -2: \", thistuple[-2])\n",
        "print(\"=================================\")\n",
        "print(\"range of index 1: \", thistuple[1:3])\n",
        "print(\"range of index 2: \", thistuple[:3])\n",
        "print(\"range of index 3: \", thistuple[1:])\n",
        "print(\"range of index 4: \", thistuple[:])\n",
        "print(\"range of index 5: \", thistuple[-3:-1])\n",
        "print(\"range of index 6: \", thistuple[:-1])\n",
        "print(\"range of index 7: \", thistuple[-3:])"
      ],
      "metadata": {
        "id": "qeTA8yFldTF7",
        "colab": {
          "base_uri": "https://localhost:8080/"
        },
        "outputId": "95cdd43b-2be6-4e05-8fdf-1412afb16eec"
      },
      "execution_count": null,
      "outputs": [
        {
          "output_type": "stream",
          "name": "stdout",
          "text": [
            "index 0 :  Georgia\n",
            "index 1 :  54.7\n",
            "index -2:  152\n",
            "=================================\n",
            "range of index 1:  (54.7, 152)\n",
            "range of index 2:  ('Georgia', 54.7, 152)\n",
            "range of index 3:  (54.7, 152, False)\n",
            "range of index 4:  ('Georgia', 54.7, 152, False)\n",
            "range of index 5:  (54.7, 152)\n",
            "range of index 6:  ('Georgia', 54.7, 152)\n",
            "range of index 7:  (54.7, 152, False)\n"
          ]
        }
      ]
    },
    {
      "cell_type": "code",
      "source": [
        "# check if item exists\n",
        "if \"Georgia\" in thistuple:\n",
        "  print(\"Yes, Georgia is in thistuple.\")"
      ],
      "metadata": {
        "id": "nHWHgnpidTIt",
        "colab": {
          "base_uri": "https://localhost:8080/"
        },
        "outputId": "52a48f3e-a6c6-4675-d5ea-63f130ab296e"
      },
      "execution_count": null,
      "outputs": [
        {
          "output_type": "stream",
          "name": "stdout",
          "text": [
            "Yes, Georgia is in thistuple.\n"
          ]
        }
      ]
    },
    {
      "cell_type": "markdown",
      "source": [
        "Tuples are **unchangeable**, therefore we should convert them to a list to change, add, or remove an item."
      ],
      "metadata": {
        "id": "T9v6ZuMcfITx"
      }
    },
    {
      "cell_type": "code",
      "source": [
        "thislist = list(thistuple) # convert to a list\n",
        "thislist[0] = \"Oscar\" # change an item\n",
        "thislist.append(\"Brown\") # add an item\n",
        "thislist.remove(152) # remove an item\n",
        "thistuple = tuple(thislist) # convert to a tuple\n",
        "print(thistuple)"
      ],
      "metadata": {
        "id": "uWaTgAtcdTLM",
        "colab": {
          "base_uri": "https://localhost:8080/"
        },
        "outputId": "32161465-ab66-400f-8159-d8b4538813cc"
      },
      "execution_count": null,
      "outputs": [
        {
          "output_type": "stream",
          "name": "stdout",
          "text": [
            "('Oscar', 54.7, False, 'Brown')\n"
          ]
        }
      ]
    },
    {
      "cell_type": "markdown",
      "source": [
        "The next data type is **set**. We use a set like a list but use `{}` to make sure values can't have any **duplicates**."
      ],
      "metadata": {
        "id": "YNEB9F21hs5u"
      }
    },
    {
      "cell_type": "code",
      "source": [
        "thisset = {\"Georgia\", 54.7, 152, False, False}\n",
        "print(type(thisset))"
      ],
      "metadata": {
        "id": "9-s7KZrxdTNg",
        "colab": {
          "base_uri": "https://localhost:8080/"
        },
        "outputId": "fd60a106-5fdc-4be6-c08c-55e97a2074c2"
      },
      "execution_count": null,
      "outputs": [
        {
          "output_type": "stream",
          "name": "stdout",
          "text": [
            "<class 'set'>\n"
          ]
        }
      ]
    },
    {
      "cell_type": "code",
      "source": [
        "print(len(thisset)) # remove duplicated False"
      ],
      "metadata": {
        "id": "P3OpJxp6dTQb",
        "colab": {
          "base_uri": "https://localhost:8080/"
        },
        "outputId": "31c41fee-774c-4fb2-96b3-98e655db0d30"
      },
      "execution_count": null,
      "outputs": [
        {
          "output_type": "stream",
          "name": "stdout",
          "text": [
            "4\n"
          ]
        }
      ]
    },
    {
      "cell_type": "markdown",
      "source": [
        "We can not refer to set items by index or key, because sets are **unordered** and they can appear in a different order each time you use them."
      ],
      "metadata": {
        "id": "cjNe4ttljkKY"
      }
    },
    {
      "cell_type": "code",
      "source": [
        "print(thisset)"
      ],
      "metadata": {
        "id": "udvCST7udTS-",
        "colab": {
          "base_uri": "https://localhost:8080/"
        },
        "outputId": "978c86ef-5d54-43ad-dd09-a045555df40a"
      },
      "execution_count": null,
      "outputs": [
        {
          "output_type": "stream",
          "name": "stdout",
          "text": [
            "{152, False, 54.7, 'Georgia'}\n"
          ]
        }
      ]
    },
    {
      "cell_type": "markdown",
      "source": [
        "Although we can't change values, we are able to **add** or **remove** new values."
      ],
      "metadata": {
        "id": "m883K1s0k3gs"
      }
    },
    {
      "cell_type": "code",
      "source": [
        "thisset.add(\"Brown\")\n",
        "thisset.remove(54.7)\n",
        "print(thisset)"
      ],
      "metadata": {
        "id": "jmsml1z6dTVZ",
        "colab": {
          "base_uri": "https://localhost:8080/"
        },
        "outputId": "d1f48da7-fa58-4a1f-dfd6-10029390feee"
      },
      "execution_count": null,
      "outputs": [
        {
          "output_type": "stream",
          "name": "stdout",
          "text": [
            "{False, 'Brown', 'Georgia', 152}\n"
          ]
        }
      ]
    },
    {
      "cell_type": "markdown",
      "source": [
        "Let's familiarize ourselves with another data type called **dictionary**. A dictionary consists of **keys** and **values** and is written in curly brackets `{}`."
      ],
      "metadata": {
        "id": "YcvPrTOyqpYB"
      }
    },
    {
      "cell_type": "code",
      "source": [
        "thisdict = {\"name\": [\"Georgia\"],\n",
        "            \"bmi\": 21.5,\n",
        "            \"normal\": True}\n",
        "print(type(thisdict))"
      ],
      "metadata": {
        "id": "jnFRuCAKqphf",
        "colab": {
          "base_uri": "https://localhost:8080/"
        },
        "outputId": "ce278b6f-c58d-4960-e699-5186cfd47e2b"
      },
      "execution_count": null,
      "outputs": [
        {
          "output_type": "stream",
          "name": "stdout",
          "text": [
            "<class 'dict'>\n"
          ]
        }
      ]
    },
    {
      "cell_type": "code",
      "source": [
        "print(len(thisdict))"
      ],
      "metadata": {
        "id": "_GJ3hu1psoJG",
        "colab": {
          "base_uri": "https://localhost:8080/"
        },
        "outputId": "b540b30d-afd4-4bb0-bbea-68ea429912d2"
      },
      "execution_count": null,
      "outputs": [
        {
          "output_type": "stream",
          "name": "stdout",
          "text": [
            "3\n"
          ]
        }
      ]
    },
    {
      "cell_type": "code",
      "source": [
        "# get all the keys\n",
        "print(thisdict.keys())"
      ],
      "metadata": {
        "id": "JTN5Wz8ntOHP",
        "colab": {
          "base_uri": "https://localhost:8080/"
        },
        "outputId": "429039ba-7e1c-4196-9b63-6f650897d8e5"
      },
      "execution_count": null,
      "outputs": [
        {
          "output_type": "stream",
          "name": "stdout",
          "text": [
            "dict_keys(['name', 'bmi', 'normal'])\n"
          ]
        }
      ]
    },
    {
      "cell_type": "code",
      "source": [
        "# get all the values\n",
        "print(thisdict.values())"
      ],
      "metadata": {
        "id": "U23d6mqYtb2o",
        "colab": {
          "base_uri": "https://localhost:8080/"
        },
        "outputId": "b4815405-1c55-474e-a4cf-03ae90ac6ce1"
      },
      "execution_count": null,
      "outputs": [
        {
          "output_type": "stream",
          "name": "stdout",
          "text": [
            "dict_values([['Georgia'], 21.5, True])\n"
          ]
        }
      ]
    },
    {
      "cell_type": "code",
      "source": [
        "# get all the items in tuples\n",
        "print(thisdict.items())"
      ],
      "metadata": {
        "id": "2uujPvCktn8C",
        "colab": {
          "base_uri": "https://localhost:8080/"
        },
        "outputId": "f09818b5-0a9f-43bf-b459-02706a929f38"
      },
      "execution_count": null,
      "outputs": [
        {
          "output_type": "stream",
          "name": "stdout",
          "text": [
            "dict_items([('name', ['Georgia']), ('bmi', 21.5), ('normal', True)])\n"
          ]
        }
      ]
    },
    {
      "cell_type": "code",
      "source": [
        "# access item by key name\n",
        "print(thisdict[\"bmi\"])"
      ],
      "metadata": {
        "id": "bwJDMVx1s4e8",
        "colab": {
          "base_uri": "https://localhost:8080/"
        },
        "outputId": "c5654faa-082b-473d-fcbe-f37ba26a1542"
      },
      "execution_count": null,
      "outputs": [
        {
          "output_type": "stream",
          "name": "stdout",
          "text": [
            "21.5\n"
          ]
        }
      ]
    },
    {
      "cell_type": "code",
      "source": [
        "# check if key exists\n",
        "if \"name\" in thisdict:\n",
        "  print(\"Yes, name is one of the keys in the thisdict\")"
      ],
      "metadata": {
        "id": "OaSO3o0vs4h1",
        "colab": {
          "base_uri": "https://localhost:8080/"
        },
        "outputId": "0b6df6be-4592-44d2-bbaf-f302f45983a4"
      },
      "execution_count": null,
      "outputs": [
        {
          "output_type": "stream",
          "name": "stdout",
          "text": [
            "Yes, name is one of the keys in the thisdict\n"
          ]
        }
      ]
    },
    {
      "cell_type": "code",
      "source": [
        "thisdict[\"name\"] = \"Oscar\" # change an item\n",
        "thisdict[\"surname\"] = \"Brown\" # add an item\n",
        "thisdict.pop(\"bmi\") # remove an item\n",
        "print(thisdict)"
      ],
      "metadata": {
        "id": "RkaPCVzYs4nW",
        "colab": {
          "base_uri": "https://localhost:8080/"
        },
        "outputId": "6dbcdd10-afc7-4d03-874b-1665ebee682b"
      },
      "execution_count": null,
      "outputs": [
        {
          "output_type": "stream",
          "name": "stdout",
          "text": [
            "{'name': 'Oscar', 'normal': True, 'surname': 'Brown'}\n"
          ]
        }
      ]
    },
    {
      "cell_type": "markdown",
      "source": [
        "## Exercise 6\n",
        "\n",
        "---\n",
        "\n",
        "\n",
        "1. Calculate the BMI score for all patients and store their **name** and **BMI score** in patients_info dictionary.\n",
        "2. Remove items in the normal range.\n",
        "\n",
        "*   Expected output:\n",
        "        patients_info = {\"name\": [\"Oscar\", \"Juliet\", \"William\"], \"bmi\": [28, 25, 27]}\n"
      ],
      "metadata": {
        "id": "ltw_RalJGqZU"
      }
    },
    {
      "cell_type": "code",
      "source": [
        "patient_name = [\"Georgia\", \"Oscar\", \"Juliet\", \"Lily\", \"William\"]\n",
        "patient_weight = [54.7, 79.6, 81.2, 51.9, 102.5] # kg\n",
        "patient_height = [152, 168, 179, 161, 193] # cm\n",
        "patients_info = {\"name\":[]\n",
        "                 ,\"bmi\":[]}\n",
        "\n",
        "# start from here...\n",
        "\n",
        "\n",
        "\n",
        "\n",
        "\n"
      ],
      "metadata": {
        "id": "n7BRNodMGqgj"
      },
      "execution_count": null,
      "outputs": []
    },
    {
      "cell_type": "markdown",
      "source": [
        "# 7.&nbsp;Data Structure (module and array)"
      ],
      "metadata": {
        "id": "UWihsStYE3WV"
      }
    },
    {
      "cell_type": "markdown",
      "source": [
        "The last data type we want to know is an **array**. However, we need to know about the **module** first to work with arrays in Python easier.\n",
        "\n",
        "Modules group related classes and methods to be accessible from one place.\n",
        "\n",
        "In the following, we import the [numpy](https://numpy.org//) package and modify its name into np to use easier later. Numpy is the fundamental package for scientific computing with Python."
      ],
      "metadata": {
        "id": "UhTzDarVFGz9"
      }
    },
    {
      "cell_type": "code",
      "source": [
        "import numpy as np"
      ],
      "metadata": {
        "id": "bXVRxYUjFG8M"
      },
      "execution_count": null,
      "outputs": []
    },
    {
      "cell_type": "markdown",
      "source": [
        "We can access an array's values by referring to its index number, and arrays can hold many values."
      ],
      "metadata": {
        "id": "kNI-hJ1c4F5t"
      }
    },
    {
      "cell_type": "code",
      "source": [
        "# set the seed for reproducibility\n",
        "np.random.seed(42)\n",
        "\n",
        "# generate 20 random float values between 18 and 32\n",
        "bmi_array = np.random.uniform(18, 32, size=20)\n",
        "bmi_array = np.round(bmi_array, 2)\n",
        "\n",
        "print(type(bmi_array))"
      ],
      "metadata": {
        "id": "aDNfhUDh4GD5",
        "colab": {
          "base_uri": "https://localhost:8080/"
        },
        "outputId": "88e61d05-297d-44c2-f912-a59ea1d622ea"
      },
      "execution_count": null,
      "outputs": [
        {
          "output_type": "stream",
          "name": "stdout",
          "text": [
            "<class 'numpy.ndarray'>\n"
          ]
        }
      ]
    },
    {
      "cell_type": "code",
      "source": [
        "print(bmi_array)"
      ],
      "metadata": {
        "id": "TzIsf6ti5HMR",
        "colab": {
          "base_uri": "https://localhost:8080/"
        },
        "outputId": "32410653-ddfb-4807-a84a-f12e52558e00"
      },
      "execution_count": null,
      "outputs": [
        {
          "output_type": "stream",
          "name": "stdout",
          "text": [
            "[23.24 31.31 28.25 26.38 20.18 20.18 18.81 30.13 26.42 27.91 18.29 31.58\n",
            " 29.65 20.97 20.55 20.57 22.26 25.35 24.05 22.08]\n"
          ]
        }
      ]
    },
    {
      "cell_type": "code",
      "source": [
        "print(len(bmi_array))"
      ],
      "metadata": {
        "id": "Kk0yKPSU5RX7",
        "colab": {
          "base_uri": "https://localhost:8080/"
        },
        "outputId": "3e8d5849-47fc-4733-87ba-85723ff5922c"
      },
      "execution_count": null,
      "outputs": [
        {
          "output_type": "stream",
          "name": "stdout",
          "text": [
            "20\n"
          ]
        }
      ]
    },
    {
      "cell_type": "code",
      "source": [
        "# access item by index\n",
        "print(\"index 0 : \", bmi_array[0])\n",
        "print(\"index 1 : \", bmi_array[1])\n",
        "print(\"index -2: \", bmi_array[-2])\n",
        "print(\"\\n\")\n",
        "print(\"=================================\")\n",
        "print(\"\\n\")\n",
        "print(\"range of index 1: \", bmi_array[1:3])\n",
        "print(\"\\nrange of index 2: \", bmi_array[:3])\n",
        "print(\"\\nrange of index 3: \", bmi_array[1:])\n",
        "print(\"\\nrange of index 4: \", bmi_array[:])\n",
        "print(\"\\nrange of index 5: \", bmi_array[-3:-1])\n",
        "print(\"\\nrange of index 6: \", bmi_array[:-1])\n",
        "print(\"\\nrange of index 7: \", bmi_array[-3:])"
      ],
      "metadata": {
        "id": "4eEgBJrN6bzP",
        "colab": {
          "base_uri": "https://localhost:8080/"
        },
        "outputId": "542e0a4f-1063-4743-8eb2-32de53bea235"
      },
      "execution_count": null,
      "outputs": [
        {
          "output_type": "stream",
          "name": "stdout",
          "text": [
            "index 0 :  23.24\n",
            "index 1 :  31.31\n",
            "index -2:  24.05\n",
            "\n",
            "\n",
            "=================================\n",
            "\n",
            "\n",
            "range of index 1:  [31.31 28.25]\n",
            "\n",
            "range of index 2:  [23.24 31.31 28.25]\n",
            "\n",
            "range of index 3:  [31.31 28.25 26.38 20.18 20.18 18.81 30.13 26.42 27.91 18.29 31.58 29.65\n",
            " 20.97 20.55 20.57 22.26 25.35 24.05 22.08]\n",
            "\n",
            "range of index 4:  [23.24 31.31 28.25 26.38 20.18 20.18 18.81 30.13 26.42 27.91 18.29 31.58\n",
            " 29.65 20.97 20.55 20.57 22.26 25.35 24.05 22.08]\n",
            "\n",
            "range of index 5:  [25.35 24.05]\n",
            "\n",
            "range of index 6:  [23.24 31.31 28.25 26.38 20.18 20.18 18.81 30.13 26.42 27.91 18.29 31.58\n",
            " 29.65 20.97 20.55 20.57 22.26 25.35 24.05]\n",
            "\n",
            "range of index 7:  [25.35 24.05 22.08]\n"
          ]
        }
      ]
    },
    {
      "cell_type": "code",
      "source": [
        "# 1D array with 5 elements between 18 to 30\n",
        "arr_1d = np.random.randint(18,30,size=(3))\n",
        "print(arr_1d.shape)\n",
        "print(arr_1d)\n",
        "\n",
        "# 2D array with 3 rows and 4 columns\n",
        "arr_2d = np.random.randint(18,30,size=(3, 2))\n",
        "print(\"\\n\")\n",
        "print(\"==================\")\n",
        "print(\"\\n\")\n",
        "print(arr_2d.shape)\n",
        "print(arr_2d)\n",
        "\n",
        "\n",
        "# 3D array with 2 planes, 3 rows, and 2 columns\n",
        "arr_3d = np.random.randint(18,30,size=(2, 3, 5))\n",
        "print(\"\\n\")\n",
        "print(\"==================\")\n",
        "print(\"\\n\")\n",
        "print(arr_3d.shape)\n",
        "print(arr_3d)\n"
      ],
      "metadata": {
        "id": "nMu0mDTH8_q7",
        "colab": {
          "base_uri": "https://localhost:8080/"
        },
        "outputId": "554f8f52-c5d4-4a5c-ab8d-9c35a741903d"
      },
      "execution_count": null,
      "outputs": [
        {
          "output_type": "stream",
          "name": "stdout",
          "text": [
            "(3,)\n",
            "[28 27 29]\n",
            "\n",
            "\n",
            "==================\n",
            "\n",
            "\n",
            "(3, 2)\n",
            "[[29 20]\n",
            " [29 24]\n",
            " [21 26]]\n",
            "\n",
            "\n",
            "==================\n",
            "\n",
            "\n",
            "(2, 3, 5)\n",
            "[[[20 22 20 24 22]\n",
            "  [26 24 19 21 26]\n",
            "  [29 19 27 26 27]]\n",
            "\n",
            " [[22 19 21 29 29]\n",
            "  [24 29 25 20 18]\n",
            "  [21 19 25 21 19]]]\n"
          ]
        }
      ]
    },
    {
      "cell_type": "markdown",
      "source": [
        "## Exercise 7\n",
        "\n",
        "---\n",
        "\n",
        "\n",
        "1. Create two arrays for height (145 to 190 cm) and weight (45 to 120 kg) with 5 float random values.\n",
        "2. Calculate the BMI score and store it in a list called **calculated_bmi**, at the same time, indicate whether a BMI value is normal or not and store it in a list called **evaluated_bmi**.\n",
        "\n",
        "\n",
        "*   Expected output:\n",
        "        calculated_bmi: [31.35, 21.72, 47.07, 34.03, 29.43]\n",
        "        evaluated_bmi: [False, True, False, False, False]"
      ],
      "metadata": {
        "id": "-iZqX06FFyH4"
      }
    },
    {
      "cell_type": "code",
      "source": [
        "# select a reasonable weight and height range as you want\n",
        "np.random.seed(42)\n",
        "\n",
        "# start from here...\n",
        "\n",
        "\n",
        "\n",
        "\n"
      ],
      "metadata": {
        "id": "k3RYNwSJFyRD"
      },
      "execution_count": null,
      "outputs": []
    },
    {
      "cell_type": "markdown",
      "source": [
        "# 8.&nbsp;Algorithm (function)"
      ],
      "metadata": {
        "id": "KN5e7iF2FZrZ"
      }
    },
    {
      "cell_type": "markdown",
      "source": [
        "**Algorithms** define a set of actions that must be performed in a specific step by step to produce the desired result.\n",
        "\n",
        "**Functions** help us to implement algorithms. Functions are blocks of code that only run when they are called in situations where we want to reuse existing code without rewriting it."
      ],
      "metadata": {
        "id": "0FokSWj-Fd2O"
      }
    },
    {
      "cell_type": "code",
      "source": [
        "# define a function\n",
        "def first_function():\n",
        "  print(\"this is my first function.\")\n",
        "\n",
        "# call a function\n",
        "first_function()"
      ],
      "metadata": {
        "id": "LcTtDhE2Fd-0",
        "colab": {
          "base_uri": "https://localhost:8080/"
        },
        "outputId": "e6a9b1b8-8a09-4290-c233-e3bcf251f6fd"
      },
      "execution_count": null,
      "outputs": [
        {
          "output_type": "stream",
          "name": "stdout",
          "text": [
            "this is my first function.\n"
          ]
        }
      ]
    },
    {
      "cell_type": "markdown",
      "source": [
        "We can write our algorithm inside a function and pass value to it."
      ],
      "metadata": {
        "id": "i7XYQz5YvCS2"
      }
    },
    {
      "cell_type": "code",
      "source": [
        "def first_function(x):\n",
        "  x = x + 3\n",
        "  return x\n",
        "\n",
        "first_function(x=4)"
      ],
      "metadata": {
        "id": "LD8ARDdhvCZ4",
        "colab": {
          "base_uri": "https://localhost:8080/"
        },
        "outputId": "5e7e585b-6639-499a-a284-7a64c606e83c"
      },
      "execution_count": null,
      "outputs": [
        {
          "output_type": "execute_result",
          "data": {
            "text/plain": [
              "7"
            ]
          },
          "metadata": {},
          "execution_count": 51
        }
      ]
    },
    {
      "cell_type": "markdown",
      "source": [
        "More than one argument we can use in functions."
      ],
      "metadata": {
        "id": "nrBwEqmYwwcT"
      }
    },
    {
      "cell_type": "code",
      "source": [
        "def first_function(x,y):\n",
        "  z = x + y\n",
        "  return z\n",
        "\n",
        "first_function(x=4,y=2)"
      ],
      "metadata": {
        "id": "zWVIK6MWwwme",
        "colab": {
          "base_uri": "https://localhost:8080/"
        },
        "outputId": "aced9014-d9b3-4382-dd82-eaa487d96990"
      },
      "execution_count": null,
      "outputs": [
        {
          "output_type": "execute_result",
          "data": {
            "text/plain": [
              "6"
            ]
          },
          "metadata": {},
          "execution_count": 52
        }
      ]
    },
    {
      "cell_type": "markdown",
      "source": [
        "It's better to start a function name with a **verb** that explains what will happen in a function."
      ],
      "metadata": {
        "id": "-tmKYD9txYCH"
      }
    },
    {
      "cell_type": "code",
      "source": [
        "def get_sum(x,y):\n",
        "  z = x + y\n",
        "  return z\n",
        "\n",
        "get_sum(x=4,y=2)"
      ],
      "metadata": {
        "id": "28V0zLoYxYPa",
        "colab": {
          "base_uri": "https://localhost:8080/"
        },
        "outputId": "15540235-e43d-4a28-b3ff-f3e9a4feae0a"
      },
      "execution_count": null,
      "outputs": [
        {
          "output_type": "execute_result",
          "data": {
            "text/plain": [
              "6"
            ]
          },
          "metadata": {},
          "execution_count": 54
        }
      ]
    },
    {
      "cell_type": "markdown",
      "source": [
        "We can set a default value for arguments."
      ],
      "metadata": {
        "id": "RCjLt2CWx0Sa"
      }
    },
    {
      "cell_type": "code",
      "source": [
        "def get_sum(x,y=3):\n",
        "  z = x + y\n",
        "  return z\n",
        "\n",
        "get_sum(x=4)"
      ],
      "metadata": {
        "id": "OBIaOs1xx0dl",
        "colab": {
          "base_uri": "https://localhost:8080/"
        },
        "outputId": "a8cea95b-9df5-4e27-fb7f-5f500afb0a7b"
      },
      "execution_count": null,
      "outputs": [
        {
          "output_type": "execute_result",
          "data": {
            "text/plain": [
              "7"
            ]
          },
          "metadata": {},
          "execution_count": 57
        }
      ]
    },
    {
      "cell_type": "code",
      "source": [
        "def get_sum(x,y=3):\n",
        "  z = x + y\n",
        "  return z\n",
        "\n",
        "get_sum(x=4,y=2)"
      ],
      "metadata": {
        "id": "7pliaa8myP3i",
        "colab": {
          "base_uri": "https://localhost:8080/"
        },
        "outputId": "89a634cc-0d84-4f27-cfd7-466e6b2f2e09"
      },
      "execution_count": null,
      "outputs": [
        {
          "output_type": "execute_result",
          "data": {
            "text/plain": [
              "6"
            ]
          },
          "metadata": {},
          "execution_count": 58
        }
      ]
    },
    {
      "cell_type": "markdown",
      "source": [
        "We can also pass a list to the arguments."
      ],
      "metadata": {
        "id": "6FZESGBFyXf1"
      }
    },
    {
      "cell_type": "code",
      "source": [
        "def get_sum(x,y):\n",
        "  z = x + y\n",
        "  return z\n",
        "\n",
        "x = [3,2,7]\n",
        "y = [1,4]\n",
        "get_sum(x,y)"
      ],
      "metadata": {
        "id": "ggakhiWeyXr_",
        "colab": {
          "base_uri": "https://localhost:8080/"
        },
        "outputId": "e064363e-b4c2-4532-ef07-236c9caad683"
      },
      "execution_count": null,
      "outputs": [
        {
          "output_type": "execute_result",
          "data": {
            "text/plain": [
              "[3, 2, 7, 1, 4]"
            ]
          },
          "metadata": {},
          "execution_count": 59
        }
      ]
    },
    {
      "cell_type": "markdown",
      "source": [
        "Or using loops and conditional statements inside functions."
      ],
      "metadata": {
        "id": "JsmqUPt6yuGr"
      }
    },
    {
      "cell_type": "code",
      "source": [
        "def get_square(x,y):\n",
        "  z = x + y\n",
        "  if len(z) == 0:\n",
        "    print(\"your list is empty!\")\n",
        "  else:\n",
        "    for i in z:\n",
        "      j = i**2\n",
        "      print(f\"i = {i} and j = {j}\")\n",
        "\n",
        "x = [3,2,7]\n",
        "y = [1,-4]\n",
        "get_square(x,y)"
      ],
      "metadata": {
        "id": "Vi8rULGIyuO7",
        "colab": {
          "base_uri": "https://localhost:8080/"
        },
        "outputId": "795e2114-472e-4951-a90f-6152a2f41814"
      },
      "execution_count": null,
      "outputs": [
        {
          "output_type": "stream",
          "name": "stdout",
          "text": [
            "i = 3 and j = 9\n",
            "i = 2 and j = 4\n",
            "i = 7 and j = 49\n",
            "i = 1 and j = 1\n",
            "i = -4 and j = 16\n"
          ]
        }
      ]
    },
    {
      "cell_type": "markdown",
      "source": [
        "## Exercise 8\n",
        "\n",
        "---\n",
        "\n",
        "\n",
        "1. Define a function to calculate BMI score.\n",
        "2. Store BMI scores into the bmi_score list.\n",
        "3. Sort items  by descending.\n",
        "\n",
        "*   Expected output:\n",
        "        bmi_score = [23.68, 28.20, 25.34, 20.02]"
      ],
      "metadata": {
        "id": "GeLjDt-uF19D"
      }
    },
    {
      "cell_type": "code",
      "source": [
        "# patient = [weight(kg), height(cm)]\n",
        "patient1 = [54.7, 152]\n",
        "patient2 = [79.6, 168]\n",
        "patient3 = [81.2, 179]\n",
        "patient4 = [51.9, 161]\n",
        "bmi_score = []\n",
        "\n",
        "# start from here...\n",
        "\n",
        "\n",
        "\n"
      ],
      "metadata": {
        "id": "W_z2sgs11Cio"
      },
      "execution_count": null,
      "outputs": []
    },
    {
      "cell_type": "markdown",
      "source": [
        "# 9.&nbsp;Algorithm (class)"
      ],
      "metadata": {
        "id": "LgMZeu2yFeGu"
      }
    },
    {
      "cell_type": "markdown",
      "source": [
        "There are many properties and methods in an **object** in Python, and almost everything is an object. **Classes** are like object constructors; we use them to group data and functionality. Functions belonging to objects are called **methods**."
      ],
      "metadata": {
        "id": "FAPRYKP-FgAM"
      }
    },
    {
      "cell_type": "code",
      "source": [
        "def get_square(x,y):\n",
        "  z = x + y\n",
        "  if len(z) == 0:\n",
        "    print(\"your list is empty!\")\n",
        "  else:\n",
        "    for i in z:\n",
        "      j = i**2\n",
        "      print(f\"i = {i} and j = {j}\")\n",
        "\n",
        "x = [3,2,7]\n",
        "y = [1,-4]\n",
        "get_square(x,y)"
      ],
      "metadata": {
        "id": "KReIXPhzFgIq",
        "colab": {
          "base_uri": "https://localhost:8080/"
        },
        "outputId": "308c1086-7f4e-4467-c164-5e32b6a733c2"
      },
      "execution_count": null,
      "outputs": [
        {
          "output_type": "stream",
          "name": "stdout",
          "text": [
            "i = 3 and j = 9\n",
            "i = 2 and j = 4\n",
            "i = 7 and j = 49\n",
            "i = 1 and j = 1\n",
            "i = -4 and j = 16\n"
          ]
        }
      ]
    },
    {
      "cell_type": "code",
      "source": [
        "class Price:\n",
        "  def __init__(self, value, discount):\n",
        "    self.value = value\n",
        "    self.discount = discount\n",
        "\n",
        "  def summer(self):\n",
        "    summer_price = round(self.value - (self.value * (self.discount/100)), 2)\n",
        "    print(summer_price)\n",
        "\n",
        "  def winter(self):\n",
        "    winter_price = round(self.value - (self.value * (self.discount * 2/100)), 2) #double discount\n",
        "    print(winter_price)\n",
        "\n",
        "#create variables from the class (Price is a \"definition\" and shoes_price is an \"instance\")\n",
        "shoes_price = Price(115, 18) # price 115 euro and 18% discount\n",
        "shoes_price.summer()\n",
        "shoes_price.winter()"
      ],
      "metadata": {
        "id": "6cJvyCBk57Xv",
        "colab": {
          "base_uri": "https://localhost:8080/"
        },
        "outputId": "d6107b5a-823c-4e49-ef2e-fdfe33d89a96"
      },
      "execution_count": null,
      "outputs": [
        {
          "output_type": "stream",
          "name": "stdout",
          "text": [
            "94.3\n",
            "73.6\n"
          ]
        }
      ]
    },
    {
      "cell_type": "markdown",
      "source": [
        "## Exercise 9\n",
        "\n",
        "---\n",
        "\n",
        "\n",
        "1. Define a class called BMI and three methods including converting pound to kg, inch to cm, and calculating BMI score.\n",
        "2. Calculate BMI score for 3 given patients and store them in the bmi_score list.\n",
        "\n",
        "*   Expected output:\n",
        "        bmi_score = [23.49, 27.98, 25.14, 19.86]"
      ],
      "metadata": {
        "id": "0jKazIRgF6kJ"
      }
    },
    {
      "cell_type": "code",
      "source": [
        "# 1 pound ≈ 0.45 kg\n",
        "# 1 inch ≈ 2.54 cm\n",
        "# patient = [weight(pond), height(inch)]\n",
        "patient1 = [120.59, 59.84]\n",
        "patient2 = [175.49, 66.14]\n",
        "patient3 = [179.02, 70.47]\n",
        "patient4 = [114.42, 63.39]\n",
        "bmi_score = []\n",
        "\n",
        "# start from here...\n",
        "\n",
        "\n",
        "\n",
        "\n"
      ],
      "metadata": {
        "id": "sPdwfkMYF6rJ"
      },
      "execution_count": null,
      "outputs": []
    },
    {
      "cell_type": "markdown",
      "source": [
        "# 10.&nbsp;Algorithm (error and exception)"
      ],
      "metadata": {
        "id": "Wi38m2kCFgQA"
      }
    },
    {
      "cell_type": "markdown",
      "source": [
        "If Python can't understand your code, we will get an **error**! However, we can find our error location by finding `^` in an error message."
      ],
      "metadata": {
        "id": "EZIFQwRcFtrN"
      }
    },
    {
      "cell_type": "code",
      "source": [
        "# syntax error (missed variable)\n",
        "x = 5\n",
        "if > 3:\n",
        "  print(\"Hello\")"
      ],
      "metadata": {
        "id": "Tys_1jHNFtzQ",
        "colab": {
          "base_uri": "https://localhost:8080/",
          "height": 106
        },
        "outputId": "449f2237-eb1b-4ddd-9bf7-bda516e10b67"
      },
      "execution_count": null,
      "outputs": [
        {
          "output_type": "error",
          "ename": "SyntaxError",
          "evalue": "invalid syntax (<ipython-input-70-f871c98c446c>, line 3)",
          "traceback": [
            "\u001b[0;36m  File \u001b[0;32m\"<ipython-input-70-f871c98c446c>\"\u001b[0;36m, line \u001b[0;32m3\u001b[0m\n\u001b[0;31m    if > 3:\u001b[0m\n\u001b[0m       ^\u001b[0m\n\u001b[0;31mSyntaxError\u001b[0m\u001b[0;31m:\u001b[0m invalid syntax\n"
          ]
        }
      ]
    },
    {
      "cell_type": "code",
      "source": [
        "# syntax error (misspelling)\n",
        "x = 5\n",
        "iif x > 3:\n",
        "  print(\"Hello\")"
      ],
      "metadata": {
        "id": "DnePzxlFG3BW",
        "colab": {
          "base_uri": "https://localhost:8080/",
          "height": 106
        },
        "outputId": "9a4e2bf8-716c-4dd4-f9a2-99c9ee4d3e12"
      },
      "execution_count": null,
      "outputs": [
        {
          "output_type": "error",
          "ename": "SyntaxError",
          "evalue": "invalid syntax (<ipython-input-71-a3fc82740201>, line 3)",
          "traceback": [
            "\u001b[0;36m  File \u001b[0;32m\"<ipython-input-71-a3fc82740201>\"\u001b[0;36m, line \u001b[0;32m3\u001b[0m\n\u001b[0;31m    iif x > 3:\u001b[0m\n\u001b[0m        ^\u001b[0m\n\u001b[0;31mSyntaxError\u001b[0m\u001b[0;31m:\u001b[0m invalid syntax\n"
          ]
        }
      ]
    },
    {
      "cell_type": "code",
      "source": [
        "# missing indentation error (missed indentation)\n",
        "x = 5\n",
        "if x > 3:\n",
        "print(\"Hello\")"
      ],
      "metadata": {
        "id": "5G13UAIKG-75",
        "colab": {
          "base_uri": "https://localhost:8080/",
          "height": 106
        },
        "outputId": "a084d187-b6b0-4e8a-8aa8-ab06ae66eb21"
      },
      "execution_count": null,
      "outputs": [
        {
          "output_type": "error",
          "ename": "IndentationError",
          "evalue": "expected an indented block after 'if' statement on line 3 (<ipython-input-73-4affb85865ee>, line 4)",
          "traceback": [
            "\u001b[0;36m  File \u001b[0;32m\"<ipython-input-73-4affb85865ee>\"\u001b[0;36m, line \u001b[0;32m4\u001b[0m\n\u001b[0;31m    print(\"Hello\")\u001b[0m\n\u001b[0m    ^\u001b[0m\n\u001b[0;31mIndentationError\u001b[0m\u001b[0;31m:\u001b[0m expected an indented block after 'if' statement on line 3\n"
          ]
        }
      ]
    },
    {
      "cell_type": "markdown",
      "source": [
        "On the other hand, sometimes Python understands our code, but can't execute it. Therefore, it raises an **exception**. The text in the console is called **traceback** and it helps us to **debug** our code."
      ],
      "metadata": {
        "id": "Izkq8WHzIIkq"
      }
    },
    {
      "cell_type": "code",
      "source": [
        "# name error\n",
        "height = cm / 100"
      ],
      "metadata": {
        "id": "mTa5piKVHUcS",
        "colab": {
          "base_uri": "https://localhost:8080/",
          "height": 159
        },
        "outputId": "af16af12-8b80-474d-f806-9eb7068f9b3b"
      },
      "execution_count": null,
      "outputs": [
        {
          "output_type": "error",
          "ename": "NameError",
          "evalue": "name 'cm' is not defined",
          "traceback": [
            "\u001b[0;31m---------------------------------------------------------------------------\u001b[0m",
            "\u001b[0;31mNameError\u001b[0m                                 Traceback (most recent call last)",
            "\u001b[0;32m<ipython-input-76-776d071cd876>\u001b[0m in \u001b[0;36m<cell line: 2>\u001b[0;34m()\u001b[0m\n\u001b[1;32m      1\u001b[0m \u001b[0;31m# name error\u001b[0m\u001b[0;34m\u001b[0m\u001b[0;34m\u001b[0m\u001b[0m\n\u001b[0;32m----> 2\u001b[0;31m \u001b[0mheight\u001b[0m \u001b[0;34m=\u001b[0m \u001b[0mcm\u001b[0m \u001b[0;34m/\u001b[0m \u001b[0;36m100\u001b[0m\u001b[0;34m\u001b[0m\u001b[0;34m\u001b[0m\u001b[0m\n\u001b[0m",
            "\u001b[0;31mNameError\u001b[0m: name 'cm' is not defined"
          ]
        }
      ]
    },
    {
      "cell_type": "code",
      "source": [
        "# type error\n",
        "height = 100 + \"56\""
      ],
      "metadata": {
        "id": "TkW5qZlNI19Z",
        "colab": {
          "base_uri": "https://localhost:8080/",
          "height": 159
        },
        "outputId": "8ca8136e-b1c2-45f8-e5f4-f4e9fd71d483"
      },
      "execution_count": null,
      "outputs": [
        {
          "output_type": "error",
          "ename": "TypeError",
          "evalue": "unsupported operand type(s) for +: 'int' and 'str'",
          "traceback": [
            "\u001b[0;31m---------------------------------------------------------------------------\u001b[0m",
            "\u001b[0;31mTypeError\u001b[0m                                 Traceback (most recent call last)",
            "\u001b[0;32m<ipython-input-77-055b1d97da20>\u001b[0m in \u001b[0;36m<cell line: 2>\u001b[0;34m()\u001b[0m\n\u001b[1;32m      1\u001b[0m \u001b[0;31m# type error\u001b[0m\u001b[0;34m\u001b[0m\u001b[0;34m\u001b[0m\u001b[0m\n\u001b[0;32m----> 2\u001b[0;31m \u001b[0mheight\u001b[0m \u001b[0;34m=\u001b[0m \u001b[0;36m100\u001b[0m \u001b[0;34m+\u001b[0m \u001b[0;34m\"56\"\u001b[0m\u001b[0;34m\u001b[0m\u001b[0;34m\u001b[0m\u001b[0m\n\u001b[0m",
            "\u001b[0;31mTypeError\u001b[0m: unsupported operand type(s) for +: 'int' and 'str'"
          ]
        }
      ]
    },
    {
      "cell_type": "code",
      "source": [
        "# zero division error\n",
        "height = 156 / 0"
      ],
      "metadata": {
        "id": "riE9MlmxKZIU",
        "colab": {
          "base_uri": "https://localhost:8080/",
          "height": 159
        },
        "outputId": "bf97b531-a379-4ed6-e608-9103d0e7254d"
      },
      "execution_count": null,
      "outputs": [
        {
          "output_type": "error",
          "ename": "ZeroDivisionError",
          "evalue": "division by zero",
          "traceback": [
            "\u001b[0;31m---------------------------------------------------------------------------\u001b[0m",
            "\u001b[0;31mZeroDivisionError\u001b[0m                         Traceback (most recent call last)",
            "\u001b[0;32m<ipython-input-78-5e4a0cb355ae>\u001b[0m in \u001b[0;36m<cell line: 2>\u001b[0;34m()\u001b[0m\n\u001b[1;32m      1\u001b[0m \u001b[0;31m# zero division error\u001b[0m\u001b[0;34m\u001b[0m\u001b[0;34m\u001b[0m\u001b[0m\n\u001b[0;32m----> 2\u001b[0;31m \u001b[0mheight\u001b[0m \u001b[0;34m=\u001b[0m \u001b[0;36m156\u001b[0m \u001b[0;34m/\u001b[0m \u001b[0;36m0\u001b[0m\u001b[0;34m\u001b[0m\u001b[0;34m\u001b[0m\u001b[0m\n\u001b[0m",
            "\u001b[0;31mZeroDivisionError\u001b[0m: division by zero"
          ]
        }
      ]
    },
    {
      "cell_type": "code",
      "source": [
        "# module not found error\n",
        "import numpyy"
      ],
      "metadata": {
        "id": "5zPZhS-hKpm-",
        "colab": {
          "base_uri": "https://localhost:8080/",
          "height": 332
        },
        "outputId": "dfa4f63d-4227-4a08-f470-b3cb428687ad"
      },
      "execution_count": null,
      "outputs": [
        {
          "output_type": "error",
          "ename": "ModuleNotFoundError",
          "evalue": "No module named 'numpyy'",
          "traceback": [
            "\u001b[0;31m---------------------------------------------------------------------------\u001b[0m",
            "\u001b[0;31mModuleNotFoundError\u001b[0m                       Traceback (most recent call last)",
            "\u001b[0;32m<ipython-input-79-fc2e47030534>\u001b[0m in \u001b[0;36m<cell line: 2>\u001b[0;34m()\u001b[0m\n\u001b[1;32m      1\u001b[0m \u001b[0;31m# module not found error\u001b[0m\u001b[0;34m\u001b[0m\u001b[0;34m\u001b[0m\u001b[0m\n\u001b[0;32m----> 2\u001b[0;31m \u001b[0;32mimport\u001b[0m \u001b[0mnumpyy\u001b[0m\u001b[0;34m\u001b[0m\u001b[0;34m\u001b[0m\u001b[0m\n\u001b[0m",
            "\u001b[0;31mModuleNotFoundError\u001b[0m: No module named 'numpyy'",
            "",
            "\u001b[0;31m---------------------------------------------------------------------------\u001b[0;32m\nNOTE: If your import is failing due to a missing package, you can\nmanually install dependencies using either !pip or !apt.\n\nTo view examples of installing some common dependencies, click the\n\"Open Examples\" button below.\n\u001b[0;31m---------------------------------------------------------------------------\u001b[0m\n"
          ],
          "errorDetails": {
            "actions": [
              {
                "action": "open_url",
                "actionText": "Open Examples",
                "url": "/notebooks/snippets/importing_libraries.ipynb"
              }
            ]
          }
        }
      ]
    },
    {
      "cell_type": "markdown",
      "source": [
        "Be careful! Sometimes a module exists but we need to install it."
      ],
      "metadata": {
        "id": "Q6f3aTWxKz3c"
      }
    },
    {
      "cell_type": "code",
      "source": [
        "!pip install mne\n",
        "import mne # package for human neurophysiological data analysis"
      ],
      "metadata": {
        "id": "ztrZXgs-K50Z",
        "colab": {
          "base_uri": "https://localhost:8080/"
        },
        "outputId": "f6246c26-716d-4534-cfa3-29a2a5f071f9"
      },
      "execution_count": null,
      "outputs": [
        {
          "output_type": "stream",
          "name": "stdout",
          "text": [
            "Collecting mne\n",
            "  Downloading mne-1.8.0-py3-none-any.whl.metadata (21 kB)\n",
            "Requirement already satisfied: decorator in /usr/local/lib/python3.10/dist-packages (from mne) (4.4.2)\n",
            "Requirement already satisfied: jinja2 in /usr/local/lib/python3.10/dist-packages (from mne) (3.1.4)\n",
            "Requirement already satisfied: lazy-loader>=0.3 in /usr/local/lib/python3.10/dist-packages (from mne) (0.4)\n",
            "Requirement already satisfied: matplotlib>=3.6 in /usr/local/lib/python3.10/dist-packages (from mne) (3.7.1)\n",
            "Requirement already satisfied: numpy<3,>=1.23 in /usr/local/lib/python3.10/dist-packages (from mne) (1.26.4)\n",
            "Requirement already satisfied: packaging in /usr/local/lib/python3.10/dist-packages (from mne) (24.1)\n",
            "Requirement already satisfied: pooch>=1.5 in /usr/local/lib/python3.10/dist-packages (from mne) (1.8.2)\n",
            "Requirement already satisfied: scipy>=1.9 in /usr/local/lib/python3.10/dist-packages (from mne) (1.13.1)\n",
            "Requirement already satisfied: tqdm in /usr/local/lib/python3.10/dist-packages (from mne) (4.66.5)\n",
            "Requirement already satisfied: contourpy>=1.0.1 in /usr/local/lib/python3.10/dist-packages (from matplotlib>=3.6->mne) (1.3.0)\n",
            "Requirement already satisfied: cycler>=0.10 in /usr/local/lib/python3.10/dist-packages (from matplotlib>=3.6->mne) (0.12.1)\n",
            "Requirement already satisfied: fonttools>=4.22.0 in /usr/local/lib/python3.10/dist-packages (from matplotlib>=3.6->mne) (4.54.1)\n",
            "Requirement already satisfied: kiwisolver>=1.0.1 in /usr/local/lib/python3.10/dist-packages (from matplotlib>=3.6->mne) (1.4.7)\n",
            "Requirement already satisfied: pillow>=6.2.0 in /usr/local/lib/python3.10/dist-packages (from matplotlib>=3.6->mne) (10.4.0)\n",
            "Requirement already satisfied: pyparsing>=2.3.1 in /usr/local/lib/python3.10/dist-packages (from matplotlib>=3.6->mne) (3.1.4)\n",
            "Requirement already satisfied: python-dateutil>=2.7 in /usr/local/lib/python3.10/dist-packages (from matplotlib>=3.6->mne) (2.8.2)\n",
            "Requirement already satisfied: platformdirs>=2.5.0 in /usr/local/lib/python3.10/dist-packages (from pooch>=1.5->mne) (4.3.6)\n",
            "Requirement already satisfied: requests>=2.19.0 in /usr/local/lib/python3.10/dist-packages (from pooch>=1.5->mne) (2.32.3)\n",
            "Requirement already satisfied: MarkupSafe>=2.0 in /usr/local/lib/python3.10/dist-packages (from jinja2->mne) (2.1.5)\n",
            "Requirement already satisfied: six>=1.5 in /usr/local/lib/python3.10/dist-packages (from python-dateutil>=2.7->matplotlib>=3.6->mne) (1.16.0)\n",
            "Requirement already satisfied: charset-normalizer<4,>=2 in /usr/local/lib/python3.10/dist-packages (from requests>=2.19.0->pooch>=1.5->mne) (3.3.2)\n",
            "Requirement already satisfied: idna<4,>=2.5 in /usr/local/lib/python3.10/dist-packages (from requests>=2.19.0->pooch>=1.5->mne) (3.10)\n",
            "Requirement already satisfied: urllib3<3,>=1.21.1 in /usr/local/lib/python3.10/dist-packages (from requests>=2.19.0->pooch>=1.5->mne) (2.2.3)\n",
            "Requirement already satisfied: certifi>=2017.4.17 in /usr/local/lib/python3.10/dist-packages (from requests>=2.19.0->pooch>=1.5->mne) (2024.8.30)\n",
            "Downloading mne-1.8.0-py3-none-any.whl (7.4 MB)\n",
            "\u001b[2K   \u001b[90m━━━━━━━━━━━━━━━━━━━━━━━━━━━━━━━━━━━━━━━━\u001b[0m \u001b[32m7.4/7.4 MB\u001b[0m \u001b[31m39.6 MB/s\u001b[0m eta \u001b[36m0:00:00\u001b[0m\n",
            "\u001b[?25hInstalling collected packages: mne\n",
            "Successfully installed mne-1.8.0\n"
          ]
        }
      ]
    },
    {
      "cell_type": "code",
      "source": [
        "# index error\n",
        "height = [149, 187, 168]\n",
        "height[3]"
      ],
      "metadata": {
        "id": "JSi8oBVXLnv1",
        "colab": {
          "base_uri": "https://localhost:8080/",
          "height": 176
        },
        "outputId": "bcf50bdd-2e56-4acc-e197-6df6bce7387e"
      },
      "execution_count": null,
      "outputs": [
        {
          "output_type": "error",
          "ename": "IndexError",
          "evalue": "list index out of range",
          "traceback": [
            "\u001b[0;31m---------------------------------------------------------------------------\u001b[0m",
            "\u001b[0;31mIndexError\u001b[0m                                Traceback (most recent call last)",
            "\u001b[0;32m<ipython-input-81-242bf8657a3b>\u001b[0m in \u001b[0;36m<cell line: 3>\u001b[0;34m()\u001b[0m\n\u001b[1;32m      1\u001b[0m \u001b[0;31m# index error\u001b[0m\u001b[0;34m\u001b[0m\u001b[0;34m\u001b[0m\u001b[0m\n\u001b[1;32m      2\u001b[0m \u001b[0mheight\u001b[0m \u001b[0;34m=\u001b[0m \u001b[0;34m[\u001b[0m\u001b[0;36m149\u001b[0m\u001b[0;34m,\u001b[0m \u001b[0;36m187\u001b[0m\u001b[0;34m,\u001b[0m \u001b[0;36m168\u001b[0m\u001b[0;34m]\u001b[0m\u001b[0;34m\u001b[0m\u001b[0;34m\u001b[0m\u001b[0m\n\u001b[0;32m----> 3\u001b[0;31m \u001b[0mheight\u001b[0m\u001b[0;34m[\u001b[0m\u001b[0;36m3\u001b[0m\u001b[0;34m]\u001b[0m\u001b[0;34m\u001b[0m\u001b[0;34m\u001b[0m\u001b[0m\n\u001b[0m",
            "\u001b[0;31mIndexError\u001b[0m: list index out of range"
          ]
        }
      ]
    },
    {
      "cell_type": "markdown",
      "source": [
        "We can use errors and exceptions to debug our code. Besides, we can use them to avoid **unwanted issues**."
      ],
      "metadata": {
        "id": "DeTk0eX9MSmg"
      }
    },
    {
      "cell_type": "code",
      "source": [
        "# test 1: run the code and see the results\n",
        "# test 2: add \"184\" to \"student_height\" and run the code\n",
        "# test 3: remove \"184\" from \"student_height\" and change \"179\" into \"0\" and run the code\n",
        "\n",
        "student_name = [\"Georgia\", \"Oscar\", \"Juliet\", \"Lily\", \"William\"]\n",
        "student_weight = [54.7, 79.6, 81.2, 51.9, 102.5]\n",
        "student_height = [152, 168, 179, 161, 193]\n",
        "student_bmi = []\n",
        "\n",
        "# make sure about data size\n",
        "if len(student_weight) != len(student_height):\n",
        "  raise Exception(\"There must be equal size for weights and hights\")\n",
        "\n",
        "for i in range(len(student_name)):\n",
        "  # make sure height is not zero\n",
        "  if student_height[i] == 0:\n",
        "    raise ValueError(\"height can not be zero\")\n",
        "\n",
        "  student_bmi.append(round(student_weight[i] / ((student_height[i]/100)**2), 1))\n",
        "\n",
        "print(student_bmi)"
      ],
      "metadata": {
        "id": "tMUsJRXRM1fA",
        "colab": {
          "base_uri": "https://localhost:8080/"
        },
        "outputId": "49389609-b4fa-4965-8a45-d5b220e00429"
      },
      "execution_count": null,
      "outputs": [
        {
          "output_type": "stream",
          "name": "stdout",
          "text": [
            "[23.7, 28.2, 25.3, 20.0, 27.5]\n"
          ]
        }
      ]
    },
    {
      "cell_type": "markdown",
      "source": [
        "Sometimes we don't want to raise an exception and we want to handle it. For example, we want a `for` loop to continue at the end of the code by ignoring negative values for weight, therefore we can use `try` and `except`."
      ],
      "metadata": {
        "id": "KTgfBnu8Pnot"
      }
    },
    {
      "cell_type": "code",
      "source": [
        "student_name = [\"Georgia\", \"Oscar\", \"Juliet\", \"Lily\", \"William\"]\n",
        "student_weight = [54.7, 79.6, 81.2, 51.9, 102.5]\n",
        "student_height = [-152, 168, 0, 161, 193]\n",
        "student_bmi = []\n",
        "\n",
        "\n",
        "for i in range(len(student_name)):\n",
        "\n",
        "  try:\n",
        "    student_bmi.append(round(student_weight[i] / ((student_height[i]/100)**2), 1))\n",
        "\n",
        "  except:\n",
        "    continue\n",
        "\n",
        "print(student_bmi)"
      ],
      "metadata": {
        "id": "oVktrCMePn97",
        "colab": {
          "base_uri": "https://localhost:8080/",
          "height": 106
        },
        "outputId": "54a29bb0-7c92-459e-dbe9-99907b0a6530"
      },
      "execution_count": null,
      "outputs": [
        {
          "output_type": "error",
          "ename": "SyntaxError",
          "evalue": "expected 'except' or 'finally' block (<ipython-input-88-08426f257b18>, line 13)",
          "traceback": [
            "\u001b[0;36m  File \u001b[0;32m\"<ipython-input-88-08426f257b18>\"\u001b[0;36m, line \u001b[0;32m13\u001b[0m\n\u001b[0;31m    print(student_bmi)\u001b[0m\n\u001b[0m                      ^\u001b[0m\n\u001b[0;31mSyntaxError\u001b[0m\u001b[0;31m:\u001b[0m expected 'except' or 'finally' block\n"
          ]
        }
      ]
    },
    {
      "cell_type": "markdown",
      "source": [
        "## Exercise 10\n",
        "\n",
        "---\n",
        "\n",
        "\n",
        "1. Copy your exercise 9 code.\n",
        "2. Set a **type error** to check the heights have float values.\n",
        "3. Set a value error to make sure the BMI score is not negative.\n"
      ],
      "metadata": {
        "id": "83n86RAyF8z4"
      }
    },
    {
      "cell_type": "code",
      "source": [
        "# 1 pound ≈ 0.45 kg\n",
        "# 1 inch ≈ 2.54 cm\n",
        "# patient = [weight(pond), height(inch)]\n",
        "patient1 = [120.59, 59.84]\n",
        "patient2 = [175.49, 66.14]\n",
        "patient3 = [179.02, 70.47]\n",
        "patient4 = [114.42, 63.39]\n",
        "bmi_score = []\n",
        "\n",
        "# past your code here...\n",
        "\n",
        "\n",
        "\n",
        "\n",
        "\n",
        "\n",
        "\n"
      ],
      "metadata": {
        "id": "F9w8wfvoF89w"
      },
      "execution_count": null,
      "outputs": []
    },
    {
      "cell_type": "markdown",
      "source": [
        "Congratulations! You did it.\n"
      ],
      "metadata": {
        "id": "m16jOg89XwSu"
      }
    },
    {
      "cell_type": "markdown",
      "source": [
        "# References and Resources:\n",
        "\n",
        "1. You can continue your learning by more complex data structure and algorithm tasks in [Leetcode](https://leetcode.com/).\n",
        "\n",
        "2. you can always have access to Python syntax and practical examples in [w3schools](https://www.w3schools.com/python/default.asp) and [geeksforgeeks](https://www.geeksforgeeks.org/python-programming-language/).\n",
        "\n",
        "3. You can find everything about Numpy to work with arrays [HERE](https://numpy.org/doc/stable/index.html#) and you can also utilize all APIs and documents about Pandas to work with data frames [HERE](https://pandas.pydata.org/docs/index.html#)."
      ],
      "metadata": {
        "id": "egFGW_Rf9UGt"
      }
    }
  ]
}