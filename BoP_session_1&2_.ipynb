{
  "nbformat": 4,
  "nbformat_minor": 0,
  "metadata": {
    "colab": {
      "provenance": [],
      "toc_visible": true
    },
    "kernelspec": {
      "name": "python3",
      "display_name": "Python 3"
    },
    "language_info": {
      "name": "python"
    }
  },
  "cells": [
    {
      "cell_type": "markdown",
      "source": [
        "# BASICS OF PYTHON | SESSION 1&2\n",
        "\n",
        "---\n",
        "Sina Shafiezadeh | April 2023\n",
        "---\n"
      ],
      "metadata": {
        "id": "GaXJaExkbA12"
      }
    },
    {
      "cell_type": "markdown",
      "source": [
        "# FAQ\n",
        "\n",
        "1.   what is programming?\n",
        "\n",
        "  Programming refers to the process of designing and writing instructions that a computer can understand and execute. It involves creating code using a specific programming language to create software programs, applications, and scripts that can perform various tasks.\n",
        "\n",
        "2.   what is object-oriented programming?\n",
        "\n",
        "  Object-oriented programming (OOP) is a programming paradigm that is based on the concept of objects, which can contain data and methods that act on that data. In OOP, objects are instances of classes, which define the structure and behavior of the objects.\n",
        "\n",
        "3. what is Python?\n",
        "\n",
        "  Python is a high-level, interpreted programming language that is widely used for web development, scientific computing, data analysis, artificial intelligence, and many other applications. It was created by Guido van Rossum and first released in 1991.\n",
        "\n",
        "4. why should I learn Python?\n",
        "\n",
        "*   Versatility: Python can be used for a wide range of applications, including web development, scientific computing, data analysis, artificial intelligence, machine learning, and many more.\n",
        "*   Simplicity: Python has a simple syntax and is easy to read and write, making it a good choice for beginners.\n",
        "*   Large community: Python has a large and active community of developers who create third-party libraries and tools, making it easy to find solutions to common problems.\n",
        "*   Open-source: Python is free and open-source, which means that you can use it for any purpose without having to pay for it.\n",
        "*   Simplicity\n",
        "\n",
        "5. how can I install Python?\n",
        "\n",
        "*   Go to the official [Python](https://www.python.org/downloads/) website and the [Anaconda](https://www.anaconda.com/) website.\n",
        "*   Or using the [Google Colab](https://colab.research.google.com/).\n",
        "*   Or any other tools that you want.\n",
        "\n",
        "6. what is Google Colab?\n",
        "\n",
        "  Google Colab (short for Collaboratory) is a free online platform provided by Google that allows users to run Python code and execute Jupyter notebooks directly in the cloud. It is a popular tool for data scientists, machine learning engineers, and researchers who want to develop and experiment with machine learning models without the need for specialized hardware.\n",
        "\n",
        "7. Do you have more questions?\n",
        "\n",
        "  Ask from [chatGPT](https://chat.openai.com/chat) as I asked to provide previous answers, connect with others in [stackoverflow](https://stackoverflow.com/), search your concerns in Google, and watch a lot of useful videos on Youtube for free!"
      ],
      "metadata": {
        "id": "RMr2OpHBbFQE"
      }
    },
    {
      "cell_type": "markdown",
      "source": [
        "# Content\n",
        "\n",
        "\n",
        "*   Day 1:\n",
        "\n",
        "  *   Create Variables\n",
        "  *   Conditional Statements\n",
        "  *   Loops\n",
        "\n",
        "*   Day 2:\n",
        "\n",
        "  *   Data Structure\n",
        "  *   Algorithm\n",
        "\n",
        "*   Day 3:\n",
        "\n",
        "  *   Data Importing\n",
        "  *   Data Cleaning\n",
        "  *   Data Exploring\n",
        "\n",
        "*   Day 4:\n",
        "\n",
        "  *   Data Analysis\n",
        "  *   Data Visualization\n",
        "  *   Data Exporting\n",
        "\n",
        "*   Day 5:\n",
        "\n",
        "  *   Exam\n",
        "\n"
      ],
      "metadata": {
        "id": "XDfuoGY_ge2W"
      }
    },
    {
      "cell_type": "markdown",
      "source": [
        "LET'S START!"
      ],
      "metadata": {
        "id": "XrBnNWjR_9YY"
      }
    },
    {
      "cell_type": "markdown",
      "source": [
        "# 1.&nbsp;Create Variables"
      ],
      "metadata": {
        "id": "VZDw0kaqOIYp"
      }
    },
    {
      "cell_type": "markdown",
      "source": [
        "Create a variable with the name `course` and assign the value `\"basic of python\"` after using the `=` sign to the computer to remember information."
      ],
      "metadata": {
        "id": "lUPizUN2BZMT"
      }
    },
    {
      "cell_type": "code",
      "source": [
        "course = \"basic of python\""
      ],
      "metadata": {
        "id": "Zdahzv17-e7M"
      },
      "execution_count": null,
      "outputs": []
    },
    {
      "cell_type": "markdown",
      "source": [
        "we can expand variable names with **Snake Case** format for naming that each word is separated by an underscore character."
      ],
      "metadata": {
        "id": "yW3Ni9t9Br3G"
      }
    },
    {
      "cell_type": "code",
      "source": [
        "my_course = \"basic of python\""
      ],
      "metadata": {
        "id": "qBP4JjAe9atx"
      },
      "execution_count": null,
      "outputs": []
    },
    {
      "cell_type": "markdown",
      "source": [
        "or using **Camel Case** format for naming that each word, except the first, starts with a capital letter."
      ],
      "metadata": {
        "id": "KW2i2bdVGQh9"
      }
    },
    {
      "cell_type": "code",
      "source": [
        "myCourse = \"basic of python\""
      ],
      "metadata": {
        "id": "c0QTDmpJGu_M"
      },
      "execution_count": null,
      "outputs": []
    },
    {
      "cell_type": "markdown",
      "source": [
        "or using **Pascal Case** format that each word starts with a capital letter."
      ],
      "metadata": {
        "id": "6ze99JwjzV8j"
      }
    },
    {
      "cell_type": "code",
      "source": [
        "MyCourse = \"basic of python\""
      ],
      "metadata": {
        "id": "WsYDV87_zWDy"
      },
      "execution_count": null,
      "outputs": []
    },
    {
      "cell_type": "markdown",
      "source": [
        "Be careful! Python is a **case-sensitive** programming language, so `MyCourse` and `mycourse` are two different variables."
      ],
      "metadata": {
        "id": "hMyxFL3EHR_W"
      }
    },
    {
      "cell_type": "code",
      "source": [
        "mycourse"
      ],
      "metadata": {
        "id": "80ju0mKIHSGS"
      },
      "execution_count": null,
      "outputs": []
    },
    {
      "cell_type": "markdown",
      "source": [
        "Besides, we can't use **space** for the variable's name."
      ],
      "metadata": {
        "id": "QPJT5F8kGy0y"
      }
    },
    {
      "cell_type": "code",
      "source": [
        "My Course = \"basic of python\""
      ],
      "metadata": {
        "id": "YjDP5MWdGy_K"
      },
      "execution_count": null,
      "outputs": []
    },
    {
      "cell_type": "markdown",
      "source": [
        "However, it's better to choose a variable's name to help us understand what's inside a variable. In our case, it's easier to change the variable's name to `course_name`."
      ],
      "metadata": {
        "id": "EKJLFxlXGzIc"
      }
    },
    {
      "cell_type": "code",
      "source": [
        "course_name = \"basic of python\""
      ],
      "metadata": {
        "id": "Zn-fOxZaGzQW"
      },
      "execution_count": null,
      "outputs": []
    },
    {
      "cell_type": "markdown",
      "source": [
        "Finally, we can also define a variable name using **numbers**. It sometimes could be very useful."
      ],
      "metadata": {
        "id": "ruegGLsgGzX5"
      }
    },
    {
      "cell_type": "code",
      "source": [
        "course_1_name = \"basic of python\"\n",
        "course_2_name = \"cognitive neuroscience\""
      ],
      "metadata": {
        "id": "sgr7ndwCGze0"
      },
      "execution_count": null,
      "outputs": []
    },
    {
      "cell_type": "markdown",
      "source": [
        "Great! Let's look at the value on the right side. We store words in double quotes `\"   \"`, therefore it is a **string**. Strings can contain all sorts of letters and symbols."
      ],
      "metadata": {
        "id": "ZbpOW8bNGzmP"
      }
    },
    {
      "cell_type": "code",
      "source": [
        "course_name = \"Basic of python!\""
      ],
      "metadata": {
        "id": "95-DVGRmGzsk"
      },
      "execution_count": null,
      "outputs": []
    },
    {
      "cell_type": "markdown",
      "source": [
        "We tell the computer to display a value by `print()` in the console, also known as the shell."
      ],
      "metadata": {
        "id": "Pk9TcoCEZ-Yz"
      }
    },
    {
      "cell_type": "code",
      "source": [
        "print(course_name)"
      ],
      "metadata": {
        "id": "cfD0XTkIZ-oU"
      },
      "execution_count": null,
      "outputs": []
    },
    {
      "cell_type": "markdown",
      "source": [
        "we can repeat `print()` as often as we want and display every value on a line."
      ],
      "metadata": {
        "id": "Jj_GXy5pG0A2"
      }
    },
    {
      "cell_type": "code",
      "source": [
        "print(\"=================================\")\n",
        "print(\"The course's name is:\")\n",
        "print(course_name)\n",
        "print(\"=================================\")"
      ],
      "metadata": {
        "id": "6eoudkifG0H_"
      },
      "execution_count": null,
      "outputs": []
    },
    {
      "cell_type": "markdown",
      "source": [
        "Before continuing this part, let's look at an important point. Python is an **interpreted language** and It means code is run there line by line. Please correct the following code."
      ],
      "metadata": {
        "id": "m7FF9zHJGzzO"
      }
    },
    {
      "cell_type": "code",
      "source": [
        "print(universiy_name)\n",
        "universiy_name = \"university of padova\""
      ],
      "metadata": {
        "id": "4n7NMGFkGz5Y"
      },
      "execution_count": null,
      "outputs": []
    },
    {
      "cell_type": "markdown",
      "source": [
        "We can use this point to update variables. Please guess what will display in the console before running the code.\n"
      ],
      "metadata": {
        "id": "K8-h5SRaG0Os"
      }
    },
    {
      "cell_type": "code",
      "source": [
        "course_name = \"cognitive neuroscience\"\n",
        "print(course_name)\n",
        "course_name = \"basic of python\"\n",
        "print(course_name)"
      ],
      "metadata": {
        "id": "0EiIHKLRG0VX"
      },
      "execution_count": null,
      "outputs": []
    },
    {
      "cell_type": "markdown",
      "source": [
        "We can add string values together with the `+` sign."
      ],
      "metadata": {
        "id": "5cxHHeh-d6Qa"
      }
    },
    {
      "cell_type": "code",
      "source": [
        "print(\"course name: \" + \"basic of python\")\n",
        "print(\"course name: \" + course_name)"
      ],
      "metadata": {
        "id": "8iahNpRjd6XP"
      },
      "execution_count": null,
      "outputs": []
    },
    {
      "cell_type": "markdown",
      "source": [
        "Let's cross strings. We can store a **number** in a variable without using `\"   \"`."
      ],
      "metadata": {
        "id": "c3BvfGYrfVRi"
      }
    },
    {
      "cell_type": "code",
      "source": [
        "course_score = 80"
      ],
      "metadata": {
        "id": "PkOhFw34fVd7"
      },
      "execution_count": null,
      "outputs": []
    },
    {
      "cell_type": "markdown",
      "source": [
        "Add numbers together by `+`."
      ],
      "metadata": {
        "id": "fCJk_GovgHVc"
      }
    },
    {
      "cell_type": "code",
      "source": [
        "course_score = 80 + 10\n",
        "print(course_score)"
      ],
      "metadata": {
        "id": "X3Jz_kO6gHdS"
      },
      "execution_count": null,
      "outputs": []
    },
    {
      "cell_type": "markdown",
      "source": [
        "Subtract the numbers by `-`."
      ],
      "metadata": {
        "id": "_q9vI3Zkg2Ac"
      }
    },
    {
      "cell_type": "code",
      "source": [
        "course_score = 80 - 10\n",
        "print(course_score)"
      ],
      "metadata": {
        "id": "hCA3irdAg2IE"
      },
      "execution_count": null,
      "outputs": []
    },
    {
      "cell_type": "markdown",
      "source": [
        "Multiply numbers by `*`."
      ],
      "metadata": {
        "id": "ubNJLM4RhYnf"
      }
    },
    {
      "cell_type": "code",
      "source": [
        "course_score = 80 * 0.5\n",
        "print(course_score)"
      ],
      "metadata": {
        "id": "AjCD9lp1hYwe"
      },
      "execution_count": null,
      "outputs": []
    },
    {
      "cell_type": "markdown",
      "source": [
        "Or divided by `/`."
      ],
      "metadata": {
        "id": "qVmTsvRFhrU6"
      }
    },
    {
      "cell_type": "code",
      "source": [
        "course_score = 80 / 8\n",
        "print(course_score)"
      ],
      "metadata": {
        "id": "RVpdSzm4hrm5"
      },
      "execution_count": null,
      "outputs": []
    },
    {
      "cell_type": "markdown",
      "source": [
        "Modulus by `%`."
      ],
      "metadata": {
        "id": "gzRNDwkC1hTy"
      }
    },
    {
      "cell_type": "code",
      "source": [
        "course_score = 8 % 5\n",
        "print(course_score)"
      ],
      "metadata": {
        "id": "q8tzuQ9w1ha6"
      },
      "execution_count": null,
      "outputs": []
    },
    {
      "cell_type": "markdown",
      "source": [
        "Exponentiation by `**`."
      ],
      "metadata": {
        "id": "J_3H9Z_hlnxr"
      }
    },
    {
      "cell_type": "code",
      "source": [
        "course_score = 8 ** 2\n",
        "print(course_score)"
      ],
      "metadata": {
        "id": "5v1AAJIvln6Z"
      },
      "execution_count": null,
      "outputs": []
    },
    {
      "cell_type": "markdown",
      "source": [
        "And floor division is calculated by `//`."
      ],
      "metadata": {
        "id": "-DOghdMhloCf"
      }
    },
    {
      "cell_type": "code",
      "source": [
        "course_score = 8 // 5\n",
        "print(course_score)"
      ],
      "metadata": {
        "id": "6vXPaZdHloKt"
      },
      "execution_count": null,
      "outputs": []
    },
    {
      "cell_type": "markdown",
      "source": [
        "Keep the variable's value and change only the console by manipulating the `print()`."
      ],
      "metadata": {
        "id": "BmGJw6_uiLFx"
      }
    },
    {
      "cell_type": "code",
      "source": [
        "course_score = 80\n",
        "print(course_score / 8)\n",
        "print(course_score)"
      ],
      "metadata": {
        "id": "VvfIjYXHiLPK"
      },
      "execution_count": null,
      "outputs": []
    },
    {
      "cell_type": "markdown",
      "source": [
        "Calculate results and store them in variables. Notice when we want to print a string and a number together in the `print()`, we must use `,` instead of `+` or using f-strings like `f\" {} \"` to add a variable in a string."
      ],
      "metadata": {
        "id": "RrVsOjz0jBU8"
      }
    },
    {
      "cell_type": "code",
      "source": [
        "homework_1_score = 40\n",
        "homework_2_score = 45\n",
        "course_score = homework_1_score + homework_2_score\n",
        "print(\"course score: \" , course_score)\n",
        "print(f\"course score:  {course_score}\")"
      ],
      "metadata": {
        "id": "W9wNCTd5jBcw"
      },
      "execution_count": null,
      "outputs": []
    },
    {
      "cell_type": "markdown",
      "source": [
        "Here is a question. How can we understand the type of our variable? the answer is using `type()`."
      ],
      "metadata": {
        "id": "-TLMIhR-W1CI"
      }
    },
    {
      "cell_type": "code",
      "source": [
        "course_score = 80\n",
        "print(type(course_score))"
      ],
      "metadata": {
        "id": "OMHZfi7-W1K_"
      },
      "execution_count": null,
      "outputs": []
    },
    {
      "cell_type": "code",
      "source": [
        "course_score = 80.0\n",
        "print(type(course_score))"
      ],
      "metadata": {
        "id": "Il7pLU1xXeCq"
      },
      "execution_count": null,
      "outputs": []
    },
    {
      "cell_type": "code",
      "source": [
        "course_score = \"80\"\n",
        "print(type(course_score))"
      ],
      "metadata": {
        "id": "NVs8hvdkXeFI"
      },
      "execution_count": null,
      "outputs": []
    },
    {
      "cell_type": "markdown",
      "source": [
        "Another question: How can we specify a variable type? The answer is casting by `int()`, `float()`, and `str()`."
      ],
      "metadata": {
        "id": "MBZ8wzMNXpYX"
      }
    },
    {
      "cell_type": "code",
      "source": [
        "course_1_score = int(80)   # will be 80\n",
        "course_2_score = int(80.7) # will be 80 (not 81)\n",
        "course_3_score = int(\"80\") # will be 80\n",
        "\n",
        "course_4_score = float(80)   # will be 80.0\n",
        "course_5_score = float(80.7) # will be 80.7\n",
        "course_6_score = float(\"80\") # will be 80.0\n",
        "course_7_score = float(\"80.2\") # will be 80.2\n",
        "\n",
        "course_8_score = str(80)   # will be '80'\n",
        "course_9_score = str(80.7) # will be '80.7'\n",
        "\n",
        "print(\"course_1_score:\", course_1_score, \"\\t\", type(course_1_score)) # \"\\t\" add space between outputs\n",
        "print(\"course_2_score:\", course_2_score, \"\\t\", type(course_2_score))\n",
        "print(\"course_3_score:\", course_3_score, \"\\t\", type(course_3_score))\n",
        "print(\"course_4_score:\", course_4_score, \"\\t\", type(course_4_score))\n",
        "print(\"course_5_score:\", course_5_score, \"\\t\", type(course_5_score))\n",
        "print(\"course_6_score:\", course_6_score, \"\\t\", type(course_6_score))\n",
        "print(\"course_7_score:\", course_7_score, \"\\t\", type(course_7_score))\n",
        "print(\"course_8_score:\", course_8_score, \"\\t\", type(course_8_score))\n",
        "print(\"course_9_score:\", course_9_score, \"\\t\", type(course_9_score))"
      ],
      "metadata": {
        "id": "4PJ7js7AYJQD"
      },
      "execution_count": null,
      "outputs": []
    },
    {
      "cell_type": "markdown",
      "source": [
        "Before finishing this part, let's review two important general points. First, Python uses **indentation** to indicate a block of code. Indentation refers to the spaces at the beginning of a code line. Please correct the following code."
      ],
      "metadata": {
        "id": "4WJHE2RZs5E0"
      }
    },
    {
      "cell_type": "code",
      "source": [
        "course_score = 80\n",
        "  print(course_score)"
      ],
      "metadata": {
        "id": "VkQ9TGAptMD6"
      },
      "execution_count": null,
      "outputs": []
    },
    {
      "cell_type": "markdown",
      "source": [
        "Secondly, we can use `#` to add **comments** to our code. This helps with the readability and documentation of our code."
      ],
      "metadata": {
        "id": "prZyn72XtlRl"
      }
    },
    {
      "cell_type": "code",
      "source": [
        "# the range of course scores is between 0 and 100\n",
        "course_score = 80\n",
        "print(course_score)"
      ],
      "metadata": {
        "id": "GGhZPQ7vtlaE"
      },
      "execution_count": null,
      "outputs": []
    },
    {
      "cell_type": "markdown",
      "source": [
        "That's it! Let's try all the previous points to develop your first exercise."
      ],
      "metadata": {
        "id": "433F9oOemKtk"
      }
    },
    {
      "cell_type": "markdown",
      "source": [
        "## Exercise 1 part 1\n",
        "\n",
        "---\n",
        "\n",
        "\n",
        "Calculate your BMI score and show your name and score in the console.\n",
        "\n",
        "*   Expected output 1: My name is Sara and my BMI score is 28.\n",
        "*   Expected output 2: My name is John and my BMI score is 22.\n",
        "\n",
        "\n",
        "\n"
      ],
      "metadata": {
        "id": "CkkLy6Kdm1wm"
      }
    },
    {
      "cell_type": "code",
      "source": [
        "# BMI formula: weight (kg) / height**2 (m)\n",
        "\n",
        "\n"
      ],
      "metadata": {
        "id": "MpYcVRKxmLGa"
      },
      "execution_count": null,
      "outputs": []
    },
    {
      "cell_type": "markdown",
      "source": [
        "Good job!\n",
        "\n",
        "Sometimes we need to show if a feature is switched on or off by useing `True` and `False` values."
      ],
      "metadata": {
        "id": "1vNlnV3Q0SZJ"
      }
    },
    {
      "cell_type": "code",
      "source": [
        "calculated_bmi = True\n",
        "print(calculated_bmi)"
      ],
      "metadata": {
        "id": "FOgesK8VM92w"
      },
      "execution_count": null,
      "outputs": []
    },
    {
      "cell_type": "code",
      "source": [
        "calculated_bmi = False\n",
        "print(calculated_bmi)"
      ],
      "metadata": {
        "id": "WmRf95szNpv6"
      },
      "execution_count": null,
      "outputs": []
    },
    {
      "cell_type": "markdown",
      "source": [
        "Besides, we need to compare two values."
      ],
      "metadata": {
        "id": "2-MX1aD8NxbY"
      }
    },
    {
      "cell_type": "code",
      "source": [
        "bmi_score = 28\n",
        "print(bmi_score == 28) # equal\n",
        "print(bmi_score != 28) # not equal\n",
        "print(bmi_score > 28)  # greater than\n",
        "print(bmi_score < 28)  # less than\n",
        "print(bmi_score >= 28) # greater than or equal to\n",
        "print(bmi_score <= 28) # less than or equal to"
      ],
      "metadata": {
        "id": "QzCXfZOkN6Xn"
      },
      "execution_count": null,
      "outputs": []
    },
    {
      "cell_type": "markdown",
      "source": [
        "Maybe logical operators to combine conditional statements."
      ],
      "metadata": {
        "id": "7wi_0TEKQcr8"
      }
    },
    {
      "cell_type": "code",
      "source": [
        "bmi_score = 28\n",
        "print(bmi_score > 20 and bmi_score > 30) # returns True if both statements are true\n",
        "print(bmi_score > 20 or bmi_score > 30) # returns True if one of the statements is true\n",
        "print(not(bmi_score > 20 and bmi_score > 30)) # reverse the result, returns False if the result is true"
      ],
      "metadata": {
        "id": "fFGu9gTSQm2W"
      },
      "execution_count": null,
      "outputs": []
    },
    {
      "cell_type": "markdown",
      "source": [
        "## Exercise 1 part 2\n",
        "\n",
        "---\n",
        "\n",
        "\n",
        "Check whether your BMI score is normal or not. \n",
        "\n",
        "*   Expected output 1: True\n",
        "*   Expected output 2: False\n",
        "\n",
        "\n",
        "\n"
      ],
      "metadata": {
        "id": "lchEI32RSqQz"
      }
    },
    {
      "cell_type": "code",
      "source": [
        "# normal range is from 18.5 to 24.9\n",
        "\n",
        "\n",
        "\n",
        "\n"
      ],
      "metadata": {
        "id": "ZMKdo7QlTVw8"
      },
      "execution_count": null,
      "outputs": []
    },
    {
      "cell_type": "markdown",
      "source": [
        "# 2.&nbsp;Conditional Statements"
      ],
      "metadata": {
        "id": "ykryJn0SbSHJ"
      }
    },
    {
      "cell_type": "markdown",
      "source": [
        "We use the **if statement** to adapt to different situations. Notice to use `:` after the statement and indentation before `print()`."
      ],
      "metadata": {
        "id": "tJb-tGH9bYQF"
      }
    },
    {
      "cell_type": "code",
      "source": [
        "bmi_score = 28\n",
        "\n",
        "if bmi_score < 18.8:\n",
        "  print(\"BMI score is under weight.\")\n",
        "else:\n",
        "  print(\"BMI score is not under weight.\")"
      ],
      "metadata": {
        "id": "Blh1gDnGbYY9"
      },
      "execution_count": null,
      "outputs": []
    },
    {
      "cell_type": "markdown",
      "source": [
        "Maybe we have more than one condition."
      ],
      "metadata": {
        "id": "nT8Y5Fq4qyaU"
      }
    },
    {
      "cell_type": "code",
      "source": [
        "bmi_score = 28\n",
        "\n",
        "if bmi_score > 18.5 and bmi_score < 24.9:\n",
        "  print(\"BMI score is normal.\")\n",
        "else:\n",
        "  print(\"BMI score is not normal.\")"
      ],
      "metadata": {
        "id": "ynswhLlNqyhR"
      },
      "execution_count": null,
      "outputs": []
    },
    {
      "cell_type": "code",
      "source": [
        "bmi_score = 28\n",
        "\n",
        "if bmi_score < 18.5 or bmi_score > 24.9:\n",
        "  print(\"BMI score is not normal.\")\n",
        "else:\n",
        "  print(\"BMI score is normal.\")"
      ],
      "metadata": {
        "id": "zF1a76g8rnPG"
      },
      "execution_count": null,
      "outputs": []
    },
    {
      "cell_type": "markdown",
      "source": [
        "Or we have more than two situations."
      ],
      "metadata": {
        "id": "zwRcrQeoqcgJ"
      }
    },
    {
      "cell_type": "code",
      "source": [
        "bmi_score = 28\n",
        "\n",
        "if bmi_score < 18.8:\n",
        "  print(\"BMI score is under weight.\")\n",
        "elif bmi_score > 18.5 and bmi_score < 24.9:\n",
        "  print(\"BMI score is normal.\")\n",
        "elif bmi_score > 25 and bmi_score < 29.9:\n",
        "  print(\"BMI score is over weight.\")\n",
        "elif bmi_score > 30 and bmi_score < 39.9:\n",
        "  print(\"BMI score is obesity.\")\n",
        "else:\n",
        "  print(\"BMI score is extreme obesity.\")"
      ],
      "metadata": {
        "id": "MBa3tqYkqcr9"
      },
      "execution_count": null,
      "outputs": []
    },
    {
      "cell_type": "markdown",
      "source": [
        "## Exercise 2\n",
        "\n",
        "---\n",
        "\n",
        "\n",
        "We want to predict the BMI score after doing sport routing over one year. Assume the one-month sport reduces the 0.38 value from the BMI score. What will happen to BMI score if someone does sports for 3, 6, 9, and 12 months?\n",
        "\n",
        "*   Expected output 1: BMI score will be 27.76 after 3 months of sports.\n",
        "*   Expected output 2: BMI score will be 24.91 after 12 months of sports\n",
        "\n",
        "\n",
        "\n"
      ],
      "metadata": {
        "id": "FlklUlgdtRQ0"
      }
    },
    {
      "cell_type": "code",
      "source": [
        "# try with different values\n",
        "bmi_score = 28.4\n",
        "sport_duration = 9\n",
        "\n",
        "\n",
        "\n"
      ],
      "metadata": {
        "id": "Zd46OwTHtRak"
      },
      "execution_count": null,
      "outputs": []
    },
    {
      "cell_type": "markdown",
      "source": [
        "# 3.&nbsp;Loops (while)"
      ],
      "metadata": {
        "id": "pOvsmgaoyoRx"
      }
    },
    {
      "cell_type": "markdown",
      "source": [
        "Using the `while` loop, we can execute a set of statements if a condition is true."
      ],
      "metadata": {
        "id": "n_ljAPYpyvuV"
      }
    },
    {
      "cell_type": "code",
      "source": [
        "bmi_score = 21.4\n",
        "\n",
        "while bmi_score < 25:\n",
        "  print(f\"your BMI score is {bmi_score} (normal range).\")\n",
        "  bmi_score += 1 # bmi_score = bmi_score + 1"
      ],
      "metadata": {
        "id": "LibeRwvZ12pT"
      },
      "execution_count": null,
      "outputs": []
    },
    {
      "cell_type": "markdown",
      "source": [
        "If the while condition is true, the `break` statement will prevent the loop from continuing indefinitely."
      ],
      "metadata": {
        "id": "4VTvdpoJ3dTh"
      }
    },
    {
      "cell_type": "code",
      "source": [
        "bmi_score = 21.4\n",
        "\n",
        "while bmi_score < 25:\n",
        "  print(f\"your BMI score is {bmi_score} (normal range).\")\n",
        "  bmi_score -= 1 # bmi_score = bmi_score - 1\n",
        "  if bmi_score < 18.8:\n",
        "    break"
      ],
      "metadata": {
        "id": "FX75x64c3dmT"
      },
      "execution_count": null,
      "outputs": []
    },
    {
      "cell_type": "markdown",
      "source": [
        "Or if the condition is no longer true, an `else` statement will run a block of code once."
      ],
      "metadata": {
        "id": "MFjMH9gi_K8a"
      }
    },
    {
      "cell_type": "code",
      "source": [
        "bmi_score = 21.4\n",
        "\n",
        "while bmi_score > 18.8:\n",
        "  print(f\"your BMI score is {bmi_score} (normal range).\")\n",
        "  bmi_score -= 1\n",
        "else:\n",
        "  print(f\"your BMI score is {bmi_score} (under weight).\")"
      ],
      "metadata": {
        "id": "n6T8dba3_LFa"
      },
      "execution_count": null,
      "outputs": []
    },
    {
      "cell_type": "markdown",
      "source": [
        "The `continue` statement lets us stop the current iteration and move on to the next."
      ],
      "metadata": {
        "id": "gS814Hb56dpR"
      }
    },
    {
      "cell_type": "code",
      "source": [
        "bmi_score = 19\n",
        "\n",
        "while bmi_score < 25:\n",
        "  bmi_score += 1\n",
        "  if bmi_score == 22:\n",
        "    continue\n",
        "  if bmi_score >= 25:\n",
        "    break\n",
        "  print(f\"your BMI score is {bmi_score} (normal range).\")\n"
      ],
      "metadata": {
        "id": "9NRktLo76dxt"
      },
      "execution_count": null,
      "outputs": []
    },
    {
      "cell_type": "markdown",
      "source": [
        "## Exercise 3\n",
        "\n",
        "---\n",
        "\n",
        "We assumed the one-month sport reduce by 0.38 value from the BMI score. Now, write a `while` loop to calculate the maximum number of months to reach the normal range for BMI score.\n",
        "\n",
        "*   Expected output 1: you need 3 months of sport\n",
        "*   Expected output 2: you need 7 months of sport\n",
        "\n",
        "\n",
        "\n"
      ],
      "metadata": {
        "id": "croIpQSIF-yi"
      }
    },
    {
      "cell_type": "code",
      "source": [
        "# try different BMI score\n",
        "bmi_score = 28.6\n",
        "sport_duration = 0\n",
        "\n",
        "\n"
      ],
      "metadata": {
        "id": "HZcwnZmxF-9q"
      },
      "execution_count": null,
      "outputs": []
    },
    {
      "cell_type": "markdown",
      "source": [
        "# 4.&nbsp;Loops (for)"
      ],
      "metadata": {
        "id": "e-o4R0S5EUHV"
      }
    },
    {
      "cell_type": "markdown",
      "source": [
        "Excellent! Let's look at the `for` loop.\n",
        "\n",
        "Using the `for` loop means we know how many times we need to execute a statement, so we can use it when we know how many iterations there will be. In addition, `range()` returns a sequence of numbers starting from 0 and incrementing by 1 by default, and ending at a specified number. Although, we can change default values if we want."
      ],
      "metadata": {
        "id": "M1kZCWAB-lto"
      }
    },
    {
      "cell_type": "code",
      "source": [
        "bmi_score = 19\n",
        "\n",
        "for i in range(3):\n",
        "\n",
        "  print(f\"your BMI score is {bmi_score} (normal range).\")\n",
        "  bmi_score += 1"
      ],
      "metadata": {
        "id": "YBf_cwNe-l1w"
      },
      "execution_count": null,
      "outputs": []
    },
    {
      "cell_type": "markdown",
      "source": [
        "Besides, while loop's statements including the `break`, `continue`, and `else` could be used here as well."
      ],
      "metadata": {
        "id": "nHQMAvIbDIK_"
      }
    },
    {
      "cell_type": "code",
      "source": [
        "bmi_score = 19\n",
        "\n",
        "for i in range(5):\n",
        "  bmi_score += 1\n",
        "  if bmi_score == 22:\n",
        "    continue\n",
        "  print(f\"your BMI score is {bmi_score} (normal range).\")"
      ],
      "metadata": {
        "id": "XjnVmlJvDIuw"
      },
      "execution_count": null,
      "outputs": []
    },
    {
      "cell_type": "code",
      "source": [
        "bmi_score = 19\n",
        "\n",
        "for i in range(6):\n",
        "  print(f\"your BMI score is {bmi_score} (normal range).\")\n",
        "  bmi_score += 1\n",
        "  if bmi_score == 25:\n",
        "    break"
      ],
      "metadata": {
        "id": "eWuP3soPFClW"
      },
      "execution_count": null,
      "outputs": []
    },
    {
      "cell_type": "code",
      "source": [
        "bmi_score = 19\n",
        "\n",
        "for i in range(6):\n",
        "  print(f\"your BMI score is {bmi_score} (normal range).\")\n",
        "  bmi_score += 1\n",
        "else:\n",
        "  print(f\"your BMI score is {bmi_score} (under weight).\")"
      ],
      "metadata": {
        "id": "R5zMAR2SFAzL"
      },
      "execution_count": null,
      "outputs": []
    },
    {
      "cell_type": "markdown",
      "source": [
        "## Exercise 4\n",
        "\n",
        "---\n",
        " \n",
        "\n",
        "Similar to the previous exercise we assumed the one-month sport reduce 0.38 value from the BMI score. Now, write a `for` loop to calculate finalized BMI score after 7 months of sports.\n",
        "\n",
        "*   Expected output 1: your BMI score will be 21.93 after 7 months of sport\n",
        "*   Expected output 2: your BMI score will be 26.77 after 7 months of sport\n",
        "\n"
      ],
      "metadata": {
        "id": "nyDQEZECH59O"
      }
    },
    {
      "cell_type": "code",
      "source": [
        "# try different BMI score\n",
        "bmi_score = 28.6\n",
        "sport_duration = 7\n",
        "\n",
        "\n",
        "\n",
        "\n",
        "\n"
      ],
      "metadata": {
        "id": "-MvbS6nkH6Gz"
      },
      "execution_count": null,
      "outputs": []
    },
    {
      "cell_type": "markdown",
      "source": [
        "# 5.&nbsp;Data Structure (string and list)"
      ],
      "metadata": {
        "id": "H06wWuHBlVpn"
      }
    },
    {
      "cell_type": "markdown",
      "source": [
        "For organization, management, and storage data we need to know different data types and how to work with them. We familiarize ourselves with **integers**, **floats**, and **booleans** before."
      ],
      "metadata": {
        "id": "rS702QK2lZW-"
      }
    },
    {
      "cell_type": "code",
      "source": [
        "x = 18 # int\n",
        "y = 24.9 # float\n",
        "z = True # boolean"
      ],
      "metadata": {
        "id": "30TqYSpllVwx"
      },
      "execution_count": null,
      "outputs": []
    },
    {
      "cell_type": "markdown",
      "source": [
        "We are also familiarized with **string** but let's deep in a little bit on that."
      ],
      "metadata": {
        "id": "IiSqiHvxzXAq"
      }
    },
    {
      "cell_type": "code",
      "source": [
        "w = \"this is a string\"\n",
        "print(type(w)) # get data type"
      ],
      "metadata": {
        "id": "fW9eArxWzrfk"
      },
      "execution_count": null,
      "outputs": []
    },
    {
      "cell_type": "code",
      "source": [
        "print(len(w)) # get length"
      ],
      "metadata": {
        "id": "JLj5R5EX1Hfg"
      },
      "execution_count": null,
      "outputs": []
    },
    {
      "cell_type": "code",
      "source": [
        "# access item by position\n",
        "# note: position in Python starts at 0.\n",
        "print(\"position 0 : \", w[0])\n",
        "print(\"position 1 : \", w[1])\n",
        "print(\"position -2: \", w[-2])\n",
        "print(\"\\n\") # create a new line\n",
        "print(\"range of position 1: \", w[1:3])\n",
        "print(\"range of position 2: \", w[:3])\n",
        "print(\"range of position 3: \", w[3:])\n",
        "print(\"range of position 4: \", w[:])\n",
        "print(\"range of position 5: \", w[-3:-1])\n",
        "print(\"range of position 6: \", w[:-1])\n",
        "print(\"range of position 7: \", w[-3:])"
      ],
      "metadata": {
        "id": "JESI_iaB0GG1"
      },
      "execution_count": null,
      "outputs": []
    },
    {
      "cell_type": "code",
      "source": [
        "# check if item exists\n",
        "if \"this\" in w:\n",
        "  print(\"Yes, this is in w string.\")"
      ],
      "metadata": {
        "id": "wfx5urSJ1ccJ"
      },
      "execution_count": null,
      "outputs": []
    },
    {
      "cell_type": "code",
      "source": [
        "print(w.upper()) # upper case"
      ],
      "metadata": {
        "id": "t0KtDN-q1c3Y"
      },
      "execution_count": null,
      "outputs": []
    },
    {
      "cell_type": "code",
      "source": [
        "print(w.lower()) # lower case"
      ],
      "metadata": {
        "id": "YNNhJQ8R1c6W"
      },
      "execution_count": null,
      "outputs": []
    },
    {
      "cell_type": "code",
      "source": [
        "print(w.replace(\"this\", \"that\")) # replace "
      ],
      "metadata": {
        "id": "J_gQBpao3yJJ"
      },
      "execution_count": null,
      "outputs": []
    },
    {
      "cell_type": "code",
      "source": [
        "print(w.split(\" \")) # split by space"
      ],
      "metadata": {
        "id": "3q9YDMH20-9_"
      },
      "execution_count": null,
      "outputs": []
    },
    {
      "cell_type": "markdown",
      "source": [
        "Perfect!\n",
        "\n",
        "Let's continue with another data type. Using **lists**, we can store multiple items with any type of data in one variable by using `[]` and `,` between items."
      ],
      "metadata": {
        "id": "t59GgZtenUs4"
      }
    },
    {
      "cell_type": "code",
      "source": [
        "student = [\"name\", \"Weight\", \"Height\", 21.7, True]\n",
        "print(student)"
      ],
      "metadata": {
        "id": "xawXEDScnU0J"
      },
      "execution_count": null,
      "outputs": []
    },
    {
      "cell_type": "code",
      "source": [
        "print(type(student)) # get data type"
      ],
      "metadata": {
        "id": "L3X-kiOmp7yv"
      },
      "execution_count": null,
      "outputs": []
    },
    {
      "cell_type": "code",
      "source": [
        "print(len(student)) # get length"
      ],
      "metadata": {
        "id": "73j6QdD2qRnd"
      },
      "execution_count": null,
      "outputs": []
    },
    {
      "cell_type": "code",
      "source": [
        "# access item by index\n",
        "# note: indexing in Python starts at 0.\n",
        "print(\"index 0 : \", student[0])\n",
        "print(\"index 1 : \", student[1])\n",
        "print(\"index -2: \", student[-2])\n",
        "print(\"\\nrange of index 1: \", student[1:3]) # notice to \\n\n",
        "print(\"range of index 2: \", student[:3])\n",
        "print(\"range of index 3: \", student[1:])\n",
        "print(\"range of index 4: \", student[:])\n",
        "print(\"range of index 5: \", student[-3:-1])\n",
        "print(\"range of index 6: \", student[:-1])\n",
        "print(\"range of index 7: \", student[-3:])"
      ],
      "metadata": {
        "id": "92mOvaBuqoQv"
      },
      "execution_count": null,
      "outputs": []
    },
    {
      "cell_type": "code",
      "source": [
        "# check if item exists\n",
        "if \"Height\" in student:\n",
        "  print(\"Yes, Height is in the student list.\")"
      ],
      "metadata": {
        "id": "8HbKofvLrBVT"
      },
      "execution_count": null,
      "outputs": []
    },
    {
      "cell_type": "code",
      "source": [
        "# change item value by index\n",
        "print(student)\n",
        "student[3] = 21.4\n",
        "student[1:3] = [\"weight\", \"height\"]\n",
        "print(student)"
      ],
      "metadata": {
        "id": "wQiwl2gWtRb-"
      },
      "execution_count": null,
      "outputs": []
    },
    {
      "cell_type": "code",
      "source": [
        "# insert item value by index\n",
        "student.insert(1, \"surname\")\n",
        "print(student)"
      ],
      "metadata": {
        "id": "i7PuBfH4uZYo"
      },
      "execution_count": null,
      "outputs": []
    },
    {
      "cell_type": "code",
      "source": [
        "# append item value to the end of the list\n",
        "student.append(\"age\")\n",
        "print(student)"
      ],
      "metadata": {
        "id": "BdapStn4uwRM"
      },
      "execution_count": null,
      "outputs": []
    },
    {
      "cell_type": "code",
      "source": [
        "# append items from another list to current list\n",
        "education = [\"course\", \"score\"]\n",
        "student.extend(education)\n",
        "print(student)"
      ],
      "metadata": {
        "id": "3V7PnUVrvGwR"
      },
      "execution_count": null,
      "outputs": []
    },
    {
      "cell_type": "code",
      "source": [
        "# append and extend difference\n",
        "list_one = [1, 3, 5, 7]\n",
        "list_two = [9, 11]\n",
        "list_one.append(list_two)\n",
        "print(\"appended list: \", list_one)\n",
        "\n",
        "list_one = [1, 3, 5, 7]\n",
        "list_two = [9, 11]\n",
        "list_one.extend(list_two)\n",
        "print(\"extended list: \", list_one)"
      ],
      "metadata": {
        "id": "PpfhWCX0vuYf"
      },
      "execution_count": null,
      "outputs": []
    },
    {
      "cell_type": "code",
      "source": [
        "# remove by item value\n",
        "student.remove(\"course\")\n",
        "print(student)"
      ],
      "metadata": {
        "id": "RF0cTWryw1mK"
      },
      "execution_count": null,
      "outputs": []
    },
    {
      "cell_type": "code",
      "source": [
        "# remove by index\n",
        "student.pop(-2)\n",
        "print(student)"
      ],
      "metadata": {
        "id": "66nQZqnnxMJk"
      },
      "execution_count": null,
      "outputs": []
    },
    {
      "cell_type": "code",
      "source": [
        "# the pop() method removes the last item if you don't specify the index\n",
        "student.pop()\n",
        "print(student)"
      ],
      "metadata": {
        "id": "pxm7pBKvxjbu"
      },
      "execution_count": null,
      "outputs": []
    },
    {
      "cell_type": "code",
      "source": [
        "# another way to remove by index\n",
        "del student[1]\n",
        "print(student)"
      ],
      "metadata": {
        "id": "r7Eipydrxe3I"
      },
      "execution_count": null,
      "outputs": []
    },
    {
      "cell_type": "code",
      "source": [
        "# loop through a list\n",
        "for i in student:\n",
        "  print(i)"
      ],
      "metadata": {
        "id": "YkLp0Vq_59wQ"
      },
      "execution_count": null,
      "outputs": []
    },
    {
      "cell_type": "code",
      "source": [
        "# loop through the index numbers\n",
        "for i in range(len(student)):\n",
        "  print(student[i])"
      ],
      "metadata": {
        "id": "3HmJ_D8r594z"
      },
      "execution_count": null,
      "outputs": []
    },
    {
      "cell_type": "code",
      "source": [
        "# removes all the items from the list\n",
        "student.clear()\n",
        "print(student)"
      ],
      "metadata": {
        "id": "fTwi11Qp8mG1"
      },
      "execution_count": null,
      "outputs": []
    },
    {
      "cell_type": "code",
      "source": [
        "# looping using list comprehension (shortest syntax)\n",
        "bmi = [21.31, 26.9, 24.1, 29.4]\n",
        "student_bmi = [i+1 for i in bmi]\n",
        "print(student_bmi)"
      ],
      "metadata": {
        "id": "jN1k8BYX6ipn"
      },
      "execution_count": null,
      "outputs": []
    },
    {
      "cell_type": "code",
      "source": [
        "# sort items\n",
        "student_bmi.sort() # ascending\n",
        "print(student_bmi)\n",
        "student_bmi.sort(reverse = True) # descending\n",
        "print(student_bmi)"
      ],
      "metadata": {
        "id": "yxTlvfkd9bKR"
      },
      "execution_count": null,
      "outputs": []
    },
    {
      "cell_type": "markdown",
      "source": [
        "## Exercise 5\n",
        "\n",
        "---\n",
        "\n",
        "\n",
        "1. Calculate the BMI score for all patients and store it in a list. (Hint: for loop)\n",
        "2. Remove items in the normal range.  (Hint: if statement)\n",
        "3. Sort items by descending.\n",
        "\n",
        "*   Expected output:\n",
        "        [28.202947845804992,\n",
        "         27.517517248785204,\n",
        "         25.342529883586657]\n",
        "\n"
      ],
      "metadata": {
        "id": "QtLDOzvR4iPW"
      }
    },
    {
      "cell_type": "code",
      "source": [
        "patient_name = [\"Georgia\", \"Oscar\", \"Juliet\", \"Lily\", \"William\"]\n",
        "patient_weight = [54.7, 79.6, 81.2, 51.9, 102.5] # kg\n",
        "patient_height = [152, 168, 179, 161, 193] # cm\n",
        "patient_bmi = []\n",
        "\n",
        "# start from here...\n",
        "\n",
        "\n",
        "\n",
        "\n",
        "\n"
      ],
      "metadata": {
        "id": "nzLyoi5C4iWE"
      },
      "execution_count": null,
      "outputs": []
    },
    {
      "cell_type": "markdown",
      "source": [
        "# 6.&nbsp;Data Structure (tuple, set and dictionary)"
      ],
      "metadata": {
        "id": "eRw2dE42Emvl"
      }
    },
    {
      "cell_type": "markdown",
      "source": [
        "We can group together closely-related data unchangeable using **tuples**. We create them similarly to lists but using parentheses `()` instead of brackets."
      ],
      "metadata": {
        "id": "7gds1knpE5wY"
      }
    },
    {
      "cell_type": "code",
      "source": [
        "thistuple = (\"Georgia\", 54.7, 152, False)\n",
        "print(type(thistuple)) "
      ],
      "metadata": {
        "id": "v2RZzhBBE55A"
      },
      "execution_count": null,
      "outputs": []
    },
    {
      "cell_type": "code",
      "source": [
        "print(len(thistuple))"
      ],
      "metadata": {
        "id": "2qvDBpO2dTA0"
      },
      "execution_count": null,
      "outputs": []
    },
    {
      "cell_type": "code",
      "source": [
        "tuple_one_item = (\"Georgia\",)\n",
        "print(type(tuple_one_item))\n",
        "\n",
        "# it is NOT a tuple\n",
        "tuple_one_item = (\"Georgia\")\n",
        "print(type(tuple_one_item))"
      ],
      "metadata": {
        "id": "UGUOBolOdTDb"
      },
      "execution_count": null,
      "outputs": []
    },
    {
      "cell_type": "code",
      "source": [
        "# access item by index\n",
        "print(\"index 0 : \", thistuple[0])\n",
        "print(\"index 1 : \", thistuple[1])\n",
        "print(\"index -2: \", thistuple[-2])\n",
        "print(\"=================================\")\n",
        "print(\"range of index 1: \", thistuple[1:3])\n",
        "print(\"range of index 2: \", thistuple[:3])\n",
        "print(\"range of index 3: \", thistuple[1:])\n",
        "print(\"range of index 4: \", thistuple[:])\n",
        "print(\"range of index 5: \", thistuple[-3:-1])\n",
        "print(\"range of index 6: \", thistuple[:-1])\n",
        "print(\"range of index 7: \", thistuple[-3:])"
      ],
      "metadata": {
        "id": "qeTA8yFldTF7"
      },
      "execution_count": null,
      "outputs": []
    },
    {
      "cell_type": "code",
      "source": [
        "# check if item exists\n",
        "if \"Georgia\" in thistuple:\n",
        "  print(\"Yes, Georgia is in thistuple.\")"
      ],
      "metadata": {
        "id": "nHWHgnpidTIt"
      },
      "execution_count": null,
      "outputs": []
    },
    {
      "cell_type": "markdown",
      "source": [
        "Tuples are **unchangeable**, therefore we should convert them to a list to change, add, or remove an item."
      ],
      "metadata": {
        "id": "T9v6ZuMcfITx"
      }
    },
    {
      "cell_type": "code",
      "source": [
        "thislist = list(thistuple) # convert to a list\n",
        "thislist[0] = \"Oscar\" # change an item\n",
        "thislist.append(\"Brown\") # add an item\n",
        "thislist.remove(152) # remove an item\n",
        "thistuple = tuple(thislist) # convert to a tuple\n",
        "print(thistuple)"
      ],
      "metadata": {
        "id": "uWaTgAtcdTLM"
      },
      "execution_count": null,
      "outputs": []
    },
    {
      "cell_type": "markdown",
      "source": [
        "The next data type is **set**. We use a set like a list but use `{}` to make sure values can't have any **duplicates**."
      ],
      "metadata": {
        "id": "YNEB9F21hs5u"
      }
    },
    {
      "cell_type": "code",
      "source": [
        "thisset = {\"Georgia\", 54.7, 152, False, False}\n",
        "print(type(thisset))"
      ],
      "metadata": {
        "id": "9-s7KZrxdTNg"
      },
      "execution_count": null,
      "outputs": []
    },
    {
      "cell_type": "code",
      "source": [
        "print(len(thisset)) # remove duplicated False"
      ],
      "metadata": {
        "id": "P3OpJxp6dTQb"
      },
      "execution_count": null,
      "outputs": []
    },
    {
      "cell_type": "markdown",
      "source": [
        "We can not refer to set items by index or key, because sets are **unordered** and they can appear in a different order each time you use them."
      ],
      "metadata": {
        "id": "cjNe4ttljkKY"
      }
    },
    {
      "cell_type": "code",
      "source": [
        "print(thisset)"
      ],
      "metadata": {
        "id": "udvCST7udTS-"
      },
      "execution_count": null,
      "outputs": []
    },
    {
      "cell_type": "markdown",
      "source": [
        "Although we can't change values, we are able to **add** or **remove** new values."
      ],
      "metadata": {
        "id": "m883K1s0k3gs"
      }
    },
    {
      "cell_type": "code",
      "source": [
        "thisset.add(\"Brown\")\n",
        "thisset.remove(54.7)\n",
        "print(thisset)"
      ],
      "metadata": {
        "id": "jmsml1z6dTVZ"
      },
      "execution_count": null,
      "outputs": []
    },
    {
      "cell_type": "markdown",
      "source": [
        "Let's familiarize ourselves with another data type called **dictionary**. A dictionary consists of **keys** and **values** and is written in curly brackets `{}`."
      ],
      "metadata": {
        "id": "YcvPrTOyqpYB"
      }
    },
    {
      "cell_type": "code",
      "source": [
        "thisdict = {\"name\": [\"Georgia\"],\n",
        "            \"bmi\": 21.5,\n",
        "            \"normal\": True}\n",
        "print(type(thisdict)) "
      ],
      "metadata": {
        "id": "jnFRuCAKqphf"
      },
      "execution_count": null,
      "outputs": []
    },
    {
      "cell_type": "code",
      "source": [
        "print(len(thisdict))"
      ],
      "metadata": {
        "id": "_GJ3hu1psoJG"
      },
      "execution_count": null,
      "outputs": []
    },
    {
      "cell_type": "code",
      "source": [
        "# get all the keys\n",
        "print(thisdict.keys())"
      ],
      "metadata": {
        "id": "JTN5Wz8ntOHP"
      },
      "execution_count": null,
      "outputs": []
    },
    {
      "cell_type": "code",
      "source": [
        "# get all the values\n",
        "print(thisdict.values())"
      ],
      "metadata": {
        "id": "U23d6mqYtb2o"
      },
      "execution_count": null,
      "outputs": []
    },
    {
      "cell_type": "code",
      "source": [
        "# get all the items in tuples\n",
        "print(thisdict.items())"
      ],
      "metadata": {
        "id": "2uujPvCktn8C"
      },
      "execution_count": null,
      "outputs": []
    },
    {
      "cell_type": "code",
      "source": [
        "# access item by key name\n",
        "print(thisdict[\"bmi\"])"
      ],
      "metadata": {
        "id": "bwJDMVx1s4e8"
      },
      "execution_count": null,
      "outputs": []
    },
    {
      "cell_type": "code",
      "source": [
        "# check if key exists\n",
        "if \"name\" in thisdict:\n",
        "  print(\"Yes, name is one of the keys in the thisdict\")"
      ],
      "metadata": {
        "id": "OaSO3o0vs4h1"
      },
      "execution_count": null,
      "outputs": []
    },
    {
      "cell_type": "code",
      "source": [
        "thisdict[\"name\"] = \"Oscar\" # change an item\n",
        "thisdict[\"surname\"] = \"Brown\" # add an item\n",
        "thisdict.pop(\"bmi\") # remove an item\n",
        "print(thisdict)"
      ],
      "metadata": {
        "id": "RkaPCVzYs4nW"
      },
      "execution_count": null,
      "outputs": []
    },
    {
      "cell_type": "markdown",
      "source": [
        "## Exercise 6\n",
        "\n",
        "---\n",
        "\n",
        "\n",
        "1. Calculate the BMI score for all patients and store their **name** and **BMI score** in patients_info dictionary.\n",
        "2. Remove items in the normal range.\n",
        "\n",
        "*   Expected output:\n",
        "        patients_info = {\"name\": [\"Oscar\",\"Juliet\",\"William\"],\n",
        "                          \"bmi\": [28,25,27]}\n"
      ],
      "metadata": {
        "id": "ltw_RalJGqZU"
      }
    },
    {
      "cell_type": "code",
      "source": [
        "patient_name = [\"Georgia\", \"Oscar\", \"Juliet\", \"Lily\", \"William\"]\n",
        "patient_weight = [54.7, 79.6, 81.2, 51.9, 102.5] # kg\n",
        "patient_height = [152, 168, 179, 161, 193] # cm\n",
        "patients_info = {\"name\":[]\n",
        "                 ,\"bmi\":[]}\n",
        "\n",
        "# start from here...\n",
        "\n",
        "\n",
        "\n",
        "\n",
        "\n"
      ],
      "metadata": {
        "id": "n7BRNodMGqgj"
      },
      "execution_count": null,
      "outputs": []
    },
    {
      "cell_type": "markdown",
      "source": [
        "# 7.&nbsp;Data Structure (module and array)"
      ],
      "metadata": {
        "id": "UWihsStYE3WV"
      }
    },
    {
      "cell_type": "markdown",
      "source": [
        "The last data type we want to know is an **array**. However, we need to know about the **module** first to work with arrays in Python easier.\n",
        "\n",
        "Modules group related classes and methods to be accessible from one place.\n",
        "\n",
        "In the following, we import the [numpy](https://numpy.org//) package and modify its name into np to use easier later. Numpy is the fundamental package for scientific computing with Python."
      ],
      "metadata": {
        "id": "UhTzDarVFGz9"
      }
    },
    {
      "cell_type": "code",
      "source": [
        "import numpy as np "
      ],
      "metadata": {
        "id": "bXVRxYUjFG8M"
      },
      "execution_count": null,
      "outputs": []
    },
    {
      "cell_type": "markdown",
      "source": [
        "We can access an array's values by referring to its index number, and arrays can hold many values."
      ],
      "metadata": {
        "id": "kNI-hJ1c4F5t"
      }
    },
    {
      "cell_type": "code",
      "source": [
        "# set the seed for reproducibility\n",
        "np.random.seed(42)\n",
        "\n",
        "# generate 20 random float values between 18 and 32\n",
        "bmi_array = np.random.uniform(18, 32, size=20)\n",
        "\n",
        "print(type(bmi_array))"
      ],
      "metadata": {
        "id": "aDNfhUDh4GD5"
      },
      "execution_count": null,
      "outputs": []
    },
    {
      "cell_type": "code",
      "source": [
        "print(bmi_array)"
      ],
      "metadata": {
        "id": "TzIsf6ti5HMR"
      },
      "execution_count": null,
      "outputs": []
    },
    {
      "cell_type": "code",
      "source": [
        "print(len(bmi_array))"
      ],
      "metadata": {
        "id": "Kk0yKPSU5RX7"
      },
      "execution_count": null,
      "outputs": []
    },
    {
      "cell_type": "code",
      "source": [
        "# access item by index\n",
        "print(\"index 0 : \", bmi_array[0])\n",
        "print(\"index 1 : \", bmi_array[1])\n",
        "print(\"index -2: \", bmi_array[-2])\n",
        "print(\"=================================\")\n",
        "print(\"range of index 1: \", bmi_array[1:3])\n",
        "print(\"\\nrange of index 2: \", bmi_array[:3])\n",
        "print(\"\\nrange of index 3: \", bmi_array[1:])\n",
        "print(\"\\nrange of index 4: \", bmi_array[:])\n",
        "print(\"\\nrange of index 5: \", bmi_array[-3:-1])\n",
        "print(\"\\nrange of index 6: \", bmi_array[:-1])\n",
        "print(\"\\nrange of index 7: \", bmi_array[-3:])"
      ],
      "metadata": {
        "id": "4eEgBJrN6bzP"
      },
      "execution_count": null,
      "outputs": []
    },
    {
      "cell_type": "code",
      "source": [
        "# 1D array with 5 elements between 18 to 30\n",
        "arr_1d = np.random.randint(18,30,size=(3))\n",
        "print(arr_1d.shape)\n",
        "print(arr_1d)\n",
        "\n",
        "# 2D array with 3 rows and 4 columns\n",
        "arr_2d = np.random.randint(18,30,size=(3, 2))\n",
        "print(\"==================\")\n",
        "print(arr_2d.shape)\n",
        "print(arr_2d)\n",
        "\n",
        "\n",
        "# 3D array with 2 planes, 3 rows, and 2 columns\n",
        "arr_3d = np.random.randint(18,30,size=(2, 3, 5))\n",
        "print(\"==================\")\n",
        "print(arr_3d.shape)\n",
        "print(arr_3d)\n"
      ],
      "metadata": {
        "id": "nMu0mDTH8_q7"
      },
      "execution_count": null,
      "outputs": []
    },
    {
      "cell_type": "markdown",
      "source": [
        "## Exercise 7\n",
        "\n",
        "---\n",
        "\n",
        "\n",
        "1. Create two arrays for weight and height with 5 float random values.\n",
        "2. Calculate the BMI score and store it in a list called **calculated_bmi**, at the same time, indicate whether a BMI value is normal or not and store it in a list called **evaluated_bmi**.\n",
        "\n",
        "\n",
        "*   Expected output 1:\n",
        "        calculated_bmi:\n",
        "        [23,28,25,20,27]\n",
        "\n",
        "        evaluated_bmi:\n",
        "        [\"yes\",\"no\",\"no\",\"yes\",\"no\"]\n",
        "\n",
        "*   Expected output 2:\n",
        "        calculated_bmi:\n",
        "        [21,20,22,24,28]\n",
        "\n",
        "        evaluated_bmi:\n",
        "        [\"yes\",\"yes\",\"yes\",\"yes\",\"no\"]"
      ],
      "metadata": {
        "id": "-iZqX06FFyH4"
      }
    },
    {
      "cell_type": "code",
      "source": [
        "# select a reasonable weight and height range as you want\n",
        "np.random.seed(42)\n",
        "\n",
        "# start from here...\n",
        "\n",
        "\n",
        "\n",
        "\n"
      ],
      "metadata": {
        "id": "k3RYNwSJFyRD"
      },
      "execution_count": null,
      "outputs": []
    },
    {
      "cell_type": "markdown",
      "source": [
        "# 8.&nbsp;Algorithm (function)"
      ],
      "metadata": {
        "id": "KN5e7iF2FZrZ"
      }
    },
    {
      "cell_type": "markdown",
      "source": [
        "**Algorithms** define a set of actions that must be performed in a specific step by step to produce the desired result.\n",
        "\n",
        "**Functions** help us to implement algorithms. Functions are blocks of code that only run when they are called in situations where we want to reuse existing code without rewriting it."
      ],
      "metadata": {
        "id": "0FokSWj-Fd2O"
      }
    },
    {
      "cell_type": "code",
      "source": [
        "# define a function\n",
        "def first_function():\n",
        "  print(\"this is my first function.\")\n",
        "\n",
        "# call a function\n",
        "first_function()"
      ],
      "metadata": {
        "id": "LcTtDhE2Fd-0"
      },
      "execution_count": null,
      "outputs": []
    },
    {
      "cell_type": "markdown",
      "source": [
        "We can write our algorithm inside a function and pass value to it."
      ],
      "metadata": {
        "id": "i7XYQz5YvCS2"
      }
    },
    {
      "cell_type": "code",
      "source": [
        "def first_function(x):\n",
        "  x = x + 3\n",
        "  return x\n",
        "\n",
        "first_function(x=4)"
      ],
      "metadata": {
        "id": "LD8ARDdhvCZ4"
      },
      "execution_count": null,
      "outputs": []
    },
    {
      "cell_type": "markdown",
      "source": [
        "More than one argument we can use in functions."
      ],
      "metadata": {
        "id": "nrBwEqmYwwcT"
      }
    },
    {
      "cell_type": "code",
      "source": [
        "def first_function(x,y):\n",
        "  z = x + y\n",
        "  return z\n",
        "\n",
        "first_function(x=4,y=2)"
      ],
      "metadata": {
        "id": "zWVIK6MWwwme"
      },
      "execution_count": null,
      "outputs": []
    },
    {
      "cell_type": "markdown",
      "source": [
        "It's better to start a function name with a **verb** that explains what will happen in a function."
      ],
      "metadata": {
        "id": "-tmKYD9txYCH"
      }
    },
    {
      "cell_type": "code",
      "source": [
        "def get_sum(x,y):\n",
        "  z = x + y\n",
        "  return z\n",
        "\n",
        "get_sum(x=4first_function(x=4))"
      ],
      "metadata": {
        "id": "28V0zLoYxYPa"
      },
      "execution_count": null,
      "outputs": []
    },
    {
      "cell_type": "markdown",
      "source": [
        "We can set a default value for arguments."
      ],
      "metadata": {
        "id": "RCjLt2CWx0Sa"
      }
    },
    {
      "cell_type": "code",
      "source": [
        "def get_sum(x,y=3):\n",
        "  z = x + y\n",
        "  return z\n",
        "\n",
        "get_sum(x=4)"
      ],
      "metadata": {
        "id": "OBIaOs1xx0dl"
      },
      "execution_count": null,
      "outputs": []
    },
    {
      "cell_type": "code",
      "source": [
        "def get_sum(x,y=3):\n",
        "  z = x + y\n",
        "  return z\n",
        "\n",
        "get_sum(x=4,y=2)"
      ],
      "metadata": {
        "id": "7pliaa8myP3i"
      },
      "execution_count": null,
      "outputs": []
    },
    {
      "cell_type": "markdown",
      "source": [
        "We can also pass a list to the arguments."
      ],
      "metadata": {
        "id": "6FZESGBFyXf1"
      }
    },
    {
      "cell_type": "code",
      "source": [
        "def get_sum(x,y):\n",
        "  z = x + y\n",
        "  return z\n",
        "\n",
        "x = [3,2,7]\n",
        "y = [1,4]\n",
        "get_sum(x,y)"
      ],
      "metadata": {
        "id": "ggakhiWeyXr_"
      },
      "execution_count": null,
      "outputs": []
    },
    {
      "cell_type": "markdown",
      "source": [
        "Or using loops and conditional statements inside functions."
      ],
      "metadata": {
        "id": "JsmqUPt6yuGr"
      }
    },
    {
      "cell_type": "code",
      "source": [
        "def get_square(x,y):\n",
        "  z = x + y\n",
        "  if len(z) == 0:\n",
        "    print(\"your list is empty!\")\n",
        "  else:\n",
        "    for i in z:\n",
        "      j = i**2\n",
        "      print(f\"i = {i} and j = {j}\")\n",
        "\n",
        "x = [3,2,7]\n",
        "y = [1,-4]\n",
        "get_square(x,y)"
      ],
      "metadata": {
        "id": "Vi8rULGIyuO7"
      },
      "execution_count": null,
      "outputs": []
    },
    {
      "cell_type": "markdown",
      "source": [
        "## Exercise 8\n",
        "\n",
        "---\n",
        "\n",
        "\n",
        "1. Define a function to calculate BMI score.\n",
        "2. Store BMI scores into the bmi_score list.\n",
        "3. Sort items  by descending.\n",
        "\n",
        "*   Expected output:\n",
        "        bmi_score = [23.68, 28.20, 25.34, 20.02]"
      ],
      "metadata": {
        "id": "GeLjDt-uF19D"
      }
    },
    {
      "cell_type": "code",
      "source": [
        "# patient = [weight(kg), height(cm)]\n",
        "patient1 = [54.7, 152]\n",
        "patient2 = [79.6, 168]\n",
        "patient3 = [81.2, 179]\n",
        "patient4 = [51.9, 161]\n",
        "bmi_score = []\n",
        "\n",
        "# start from here...\n",
        "\n",
        "\n",
        "\n"
      ],
      "metadata": {
        "id": "W_z2sgs11Cio"
      },
      "execution_count": null,
      "outputs": []
    },
    {
      "cell_type": "markdown",
      "source": [
        "# 9.&nbsp;Algorithm (class)"
      ],
      "metadata": {
        "id": "LgMZeu2yFeGu"
      }
    },
    {
      "cell_type": "markdown",
      "source": [
        "There are many properties and methods in an **object** in Python, and almost everything is an object. **Classes** are like object constructors; we use them to group data and functionality. Functions belonging to objects are called **methods**."
      ],
      "metadata": {
        "id": "FAPRYKP-FgAM"
      }
    },
    {
      "cell_type": "code",
      "source": [
        "def get_square(x,y):\n",
        "  z = x + y\n",
        "  if len(z) == 0:\n",
        "    print(\"your list is empty!\")\n",
        "  else:\n",
        "    for i in z:\n",
        "      j = i**2\n",
        "      print(f\"i = {i} and j = {j}\")\n",
        "\n",
        "x = [3,2,7]\n",
        "y = [1,-4]\n",
        "get_square(x,y)"
      ],
      "metadata": {
        "id": "KReIXPhzFgIq"
      },
      "execution_count": null,
      "outputs": []
    },
    {
      "cell_type": "code",
      "source": [
        "class Price:\n",
        "  def __init__(self, value, discount):\n",
        "    self.value = value\n",
        "    self.discount = discount\n",
        "\n",
        "  def summer(self):\n",
        "    summer_price = round(self.value - (self.value * (self.discount/100)), 2)\n",
        "    print(summer_price)\n",
        "\n",
        "  def winter(self):\n",
        "    winter_price = round(self.value - (self.value * (self.discount * 2/100)), 2) #double discount\n",
        "    print(winter_price)\n",
        "\n",
        "#create variables from the class (Price is a \"definition\" and shoes_price is an \"instance\")\n",
        "shoes_price = Price(115, 18) # price 115 euro and 18% discount\n",
        "shoes_price.summer()\n",
        "shoes_price.winter()"
      ],
      "metadata": {
        "id": "6cJvyCBk57Xv"
      },
      "execution_count": null,
      "outputs": []
    },
    {
      "cell_type": "markdown",
      "source": [
        "## Exercise 9\n",
        "\n",
        "---\n",
        "\n",
        "\n",
        "1. Define a class called BMI and three methods including converting pound to kg, inch to cm, and calculating BMI score.\n",
        "2. Calculate BMI score for 3 given patients and store them in the bmi_score list.\n",
        "\n",
        "*   Expected output:\n",
        "        bmi_score = [23.49, 27.98, 25.14, 19.86]"
      ],
      "metadata": {
        "id": "0jKazIRgF6kJ"
      }
    },
    {
      "cell_type": "code",
      "source": [
        "# 1 pound ≈ 0.45 kg\n",
        "# 1 inch ≈ 2.54 cm\n",
        "# patient = [weight(pond), height(inch)]\n",
        "patient1 = [120.59, 59.84]\n",
        "patient2 = [175.49, 66.14]\n",
        "patient3 = [179.02, 70.47]\n",
        "patient4 = [114.42, 63.39]\n",
        "bmi_score = []\n",
        "\n",
        "# start from here...\n",
        "\n",
        "\n",
        "\n",
        "\n"
      ],
      "metadata": {
        "id": "sPdwfkMYF6rJ"
      },
      "execution_count": null,
      "outputs": []
    },
    {
      "cell_type": "markdown",
      "source": [
        "# 10.&nbsp;Algorithm (error and exception)"
      ],
      "metadata": {
        "id": "Wi38m2kCFgQA"
      }
    },
    {
      "cell_type": "markdown",
      "source": [
        "If Python can't understand your code, we will get an **error**! However, we can find our error location by finding `^` in an error message."
      ],
      "metadata": {
        "id": "EZIFQwRcFtrN"
      }
    },
    {
      "cell_type": "code",
      "source": [
        "# syntax error\n",
        "x = 5\n",
        "if > 3:\n",
        "  print(\"Hello\")"
      ],
      "metadata": {
        "id": "Tys_1jHNFtzQ"
      },
      "execution_count": null,
      "outputs": []
    },
    {
      "cell_type": "code",
      "source": [
        "# syntax error\n",
        "x = 5\n",
        "iif x > 3:\n",
        "  print(\"Hello\")"
      ],
      "metadata": {
        "id": "DnePzxlFG3BW"
      },
      "execution_count": null,
      "outputs": []
    },
    {
      "cell_type": "code",
      "source": [
        "# missing indentation error\n",
        "x = 5\n",
        "if x > 3:\n",
        "print(\"Hello\")"
      ],
      "metadata": {
        "id": "5G13UAIKG-75"
      },
      "execution_count": null,
      "outputs": []
    },
    {
      "cell_type": "markdown",
      "source": [
        "On the other hand, sometimes Python understands our code, but can't execute it. Therefore, it raises an **exception**. The text in the console is called **traceback** and it helps us to **debug** our code."
      ],
      "metadata": {
        "id": "Izkq8WHzIIkq"
      }
    },
    {
      "cell_type": "code",
      "source": [
        "# name error\n",
        "height = cm / 100"
      ],
      "metadata": {
        "id": "mTa5piKVHUcS"
      },
      "execution_count": null,
      "outputs": []
    },
    {
      "cell_type": "code",
      "source": [
        "# type error\n",
        "height = 100 + \"56\""
      ],
      "metadata": {
        "id": "TkW5qZlNI19Z"
      },
      "execution_count": null,
      "outputs": []
    },
    {
      "cell_type": "code",
      "source": [
        "# zero division error\n",
        "height = 156 / 0"
      ],
      "metadata": {
        "id": "riE9MlmxKZIU"
      },
      "execution_count": null,
      "outputs": []
    },
    {
      "cell_type": "code",
      "source": [
        "# module not found error\n",
        "import numpyy"
      ],
      "metadata": {
        "id": "5zPZhS-hKpm-"
      },
      "execution_count": null,
      "outputs": []
    },
    {
      "cell_type": "markdown",
      "source": [
        "Be careful! Sometimes a module exists but we need to install it."
      ],
      "metadata": {
        "id": "Q6f3aTWxKz3c"
      }
    },
    {
      "cell_type": "code",
      "source": [
        "!pip install mne\n",
        "import mne # package for human neurophysiological data analysis"
      ],
      "metadata": {
        "id": "ztrZXgs-K50Z"
      },
      "execution_count": null,
      "outputs": []
    },
    {
      "cell_type": "code",
      "source": [
        "# index error\n",
        "height = [149, 187, 168]\n",
        "height[3]"
      ],
      "metadata": {
        "id": "JSi8oBVXLnv1"
      },
      "execution_count": null,
      "outputs": []
    },
    {
      "cell_type": "markdown",
      "source": [
        "We can use errors and exceptions to debug our code. Besides, we can use them to avoid **unwanted issues**."
      ],
      "metadata": {
        "id": "DeTk0eX9MSmg"
      }
    },
    {
      "cell_type": "code",
      "source": [
        "# test 1: run the code and see the results\n",
        "# test 2: add \"184\" to \"student_height\" and run the code\n",
        "# test 3: remove \"184\" from \"student_height\" and change \"179\" into \"0\" and run the code\n",
        "\n",
        "student_name = [\"Georgia\", \"Oscar\", \"Juliet\", \"Lily\", \"William\"]\n",
        "student_weight = [54.7, 79.6, 81.2, 51.9, 102.5]\n",
        "student_height = [152, 168, 179, 161, 193]\n",
        "student_bmi = []\n",
        "\n",
        "# make sure about data size\n",
        "if len(student_weight) != len(student_height):\n",
        "  raise Exception(\"There must be equal size for weights and hights\")\n",
        "\n",
        "for i in range(len(student_name)):\n",
        "  # make sure height is not zero\n",
        "  if student_height[i] == 0:\n",
        "    raise ValueError(\"height can not be zero\")\n",
        "\n",
        "  student_bmi.append(round(student_weight[i] / ((student_height[i]/100)**2), 1))\n",
        "\n",
        "print(student_bmi)"
      ],
      "metadata": {
        "id": "tMUsJRXRM1fA"
      },
      "execution_count": null,
      "outputs": []
    },
    {
      "cell_type": "markdown",
      "source": [
        "Sometimes we don't want to raise an exception and we want to handle it. For example, we want a `for` loop to continue at the end of the code by ignoring negative values for weight, therefore we can use `try` and `except`."
      ],
      "metadata": {
        "id": "KTgfBnu8Pnot"
      }
    },
    {
      "cell_type": "code",
      "source": [
        "student_name = [\"Georgia\", \"Oscar\", \"Juliet\", \"Lily\", \"William\"]\n",
        "student_weight = [54.7, 79.6, 81.2, 51.9, 102.5]\n",
        "student_height = [-152, 168, 0, 161, 193]\n",
        "student_bmi = []\n",
        "\n",
        "\n",
        "for i in range(len(student_name)):\n",
        "  \n",
        "  try:\n",
        "    student_bmi.append(round(student_weight[i] / ((student_height[i]/100)**2), 1))\n",
        "  \n",
        "  except:\n",
        "    continue\n",
        "\n",
        "print(student_bmi)"
      ],
      "metadata": {
        "id": "oVktrCMePn97"
      },
      "execution_count": null,
      "outputs": []
    },
    {
      "cell_type": "markdown",
      "source": [
        "## Exercise 10\n",
        "\n",
        "---\n",
        "\n",
        "\n",
        "1. Copy your exercise 9 code.\n",
        "2. Set a **type error** to check the heights have float values.\n",
        "3. Set a value error to make sure the BMI score is not negative.\n"
      ],
      "metadata": {
        "id": "83n86RAyF8z4"
      }
    },
    {
      "cell_type": "code",
      "source": [
        "# 1 pound ≈ 0.45 kg\n",
        "# 1 inch ≈ 2.54 cm\n",
        "# patient = [weight(pond), height(inch)]\n",
        "patient1 = [120.59, 59.84]\n",
        "patient2 = [175.49, 66.14]\n",
        "patient3 = [179.02, 70.47]\n",
        "patient4 = [114.42, 63.39]\n",
        "bmi_score = []\n",
        "\n",
        "# past your code here...\n",
        "\n",
        "\n",
        "\n",
        "\n",
        "\n",
        "\n",
        "\n"
      ],
      "metadata": {
        "id": "F9w8wfvoF89w"
      },
      "execution_count": null,
      "outputs": []
    },
    {
      "cell_type": "markdown",
      "source": [
        "Congratulations! You did it.\n"
      ],
      "metadata": {
        "id": "m16jOg89XwSu"
      }
    },
    {
      "cell_type": "markdown",
      "source": [
        "# References and Resources:\n",
        "\n",
        "1. You can continue your learning by more complex data structure and algorithm tasks in [Leetcode](https://leetcode.com/). \n",
        "\n",
        "2. you can always have access to Python syntax and practical examples in [w3schools](https://www.w3schools.com/python/default.asp) and [geeksforgeeks](https://www.geeksforgeeks.org/python-programming-language/).\n",
        "\n",
        "3. You can find everything about Numpy to work with arrays [HERE](https://numpy.org/doc/stable/index.html#) and you can also utilize all APIs and documents about Pandas to work with data frames [HERE](https://pandas.pydata.org/docs/index.html#)."
      ],
      "metadata": {
        "id": "egFGW_Rf9UGt"
      }
    }
  ]
}
