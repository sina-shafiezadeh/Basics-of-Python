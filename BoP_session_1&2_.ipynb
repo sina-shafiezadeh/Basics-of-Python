{
  "nbformat": 4,
  "nbformat_minor": 0,
  "metadata": {
    "colab": {
      "provenance": [],
      "toc_visible": true
    },
    "kernelspec": {
      "name": "python3",
      "display_name": "Python 3"
    },
    "language_info": {
      "name": "python"
    }
  },
  "cells": [
    {
      "cell_type": "markdown",
      "source": [
        "# BASICS OF PYTHON | SESSION 1&2\n",
        "\n",
        "---\n",
        "Sina Shafiezadeh | October 2024\n",
        "---\n"
      ],
      "metadata": {
        "id": "GaXJaExkbA12"
      }
    },
    {
      "cell_type": "markdown",
      "source": [
        "# FAQ\n",
        "\n",
        "1.   what is programming?\n",
        "\n",
        "  Programming refers to the process of designing and writing instructions that a computer can understand and execute. It involves creating code using a specific programming language to create software programs, applications, and scripts that can perform various tasks.\n",
        "\n",
        "2.   what is object-oriented programming?\n",
        "\n",
        "  Object-oriented programming (OOP) is a programming paradigm that is based on the concept of objects, which can contain data and methods that act on that data. In OOP, objects are instances of classes, which define the structure and behavior of the objects.\n",
        "\n",
        "3. what is Python?\n",
        "\n",
        "  Python is a high-level, interpreted programming language that is widely used for web development, scientific computing, data analysis, artificial intelligence, and many other applications. It was created by Guido van Rossum and first released in 1991.\n",
        "\n",
        "4. why should I learn Python?\n",
        "\n",
        "*   Versatility: Python can be used for a wide range of applications, including web development, scientific computing, data analysis, artificial intelligence, machine learning, and many more.\n",
        "*   Simplicity: Python has a simple syntax and is easy to read and write, making it a good choice for beginners.\n",
        "*   Large community: Python has a large and active community of developers who create third-party libraries and tools, making it easy to find solutions to common problems.\n",
        "*   Open-source: Python is free and open-source, which means that you can use it for any purpose without having to pay for it.\n",
        "*   Simplicity\n",
        "\n",
        "5. how can I coding Python?\n",
        "\n",
        "*   Go to the official [Python](https://www.python.org/downloads/) website and the [Anaconda](https://www.anaconda.com/) website.\n",
        "*   Or using the [Google Colab](https://colab.research.google.com/).\n",
        "*   Or any other tools that you want.\n",
        "\n",
        "6. what is Google Colab?\n",
        "\n",
        "  Google Colab (short for Collaboratory) is a free online platform provided by Google that allows users to run Python code and execute Jupyter notebooks directly in the cloud. It is a popular tool for data scientists, machine learning engineers, and researchers who want to develop and experiment with machine learning models without the need for specialized hardware.\n",
        "\n",
        "7. Do you have more questions?\n",
        "\n",
        "  Ask from [ChatGPT](https://chat.openai.com/chat) or [Gemini](https://gemini.google.com/app) or any other generative tools you like as I asked to provide previous answers, connect with others in [stackoverflow](https://stackoverflow.com/), search your concerns in Google, and watch a lot of useful videos on Youtube for free!"
      ],
      "metadata": {
        "id": "RMr2OpHBbFQE"
      }
    },
    {
      "cell_type": "markdown",
      "source": [
        "# Content\n",
        "\n",
        "\n",
        "*   Day 1:\n",
        "\n",
        "  *   Create Variables\n",
        "  *   Conditional Statements\n",
        "  *   Loops\n",
        "\n",
        "*   Day 2:\n",
        "\n",
        "  *   Data Structure\n",
        "  *   Algorithm\n",
        "\n",
        "*   Day 3:\n",
        "\n",
        "  *   Data Importing\n",
        "  *   Data Cleaning\n",
        "  *   Data Exploring\n",
        "\n",
        "*   Day 4:\n",
        "\n",
        "  *   Data Analysis\n",
        "  *   Data Visualization\n",
        "  *   Data Exporting\n",
        "\n",
        "*   Day 5:\n",
        "\n",
        "  *   Exam\n",
        "\n"
      ],
      "metadata": {
        "id": "XDfuoGY_ge2W"
      }
    },
    {
      "cell_type": "markdown",
      "source": [
        "LET'S START!"
      ],
      "metadata": {
        "id": "XrBnNWjR_9YY"
      }
    },
    {
      "cell_type": "markdown",
      "source": [
        "# 1.&nbsp;Create Variables"
      ],
      "metadata": {
        "id": "VZDw0kaqOIYp"
      }
    },
    {
      "cell_type": "markdown",
      "source": [
        "Create a variable with the name `course` and assign the value `\"Basic of Python\"` after using the `=` sign to the computer to remember information."
      ],
      "metadata": {
        "id": "lUPizUN2BZMT"
      }
    },
    {
      "cell_type": "code",
      "source": [
        "course = \"Basic of Python\""
      ],
      "metadata": {
        "id": "Zdahzv17-e7M"
      },
      "execution_count": null,
      "outputs": []
    },
    {
      "cell_type": "markdown",
      "source": [
        "we can expand variable names with **Snake Case** format for naming that each word is separated by an underscore character."
      ],
      "metadata": {
        "id": "yW3Ni9t9Br3G"
      }
    },
    {
      "cell_type": "code",
      "source": [
        "my_course = \"Basic of Python\""
      ],
      "metadata": {
        "id": "qBP4JjAe9atx"
      },
      "execution_count": null,
      "outputs": []
    },
    {
      "cell_type": "markdown",
      "source": [
        "or using **Camel Case** format for naming that each word, except the first, starts with a capital letter."
      ],
      "metadata": {
        "id": "KW2i2bdVGQh9"
      }
    },
    {
      "cell_type": "code",
      "source": [
        "myCourse = \"Basic of Python\""
      ],
      "metadata": {
        "id": "c0QTDmpJGu_M"
      },
      "execution_count": null,
      "outputs": []
    },
    {
      "cell_type": "markdown",
      "source": [
        "or using **Pascal Case** format that each word starts with a capital letter."
      ],
      "metadata": {
        "id": "6ze99JwjzV8j"
      }
    },
    {
      "cell_type": "code",
      "source": [
        "MyCourse = \"Basic of Python\""
      ],
      "metadata": {
        "id": "WsYDV87_zWDy"
      },
      "execution_count": null,
      "outputs": []
    },
    {
      "cell_type": "markdown",
      "source": [
        "Be careful! Python is a **case-sensitive** programming language, so `MyCourse` and `mycourse` are two different variables."
      ],
      "metadata": {
        "id": "hMyxFL3EHR_W"
      }
    },
    {
      "cell_type": "code",
      "source": [
        "mycourse"
      ],
      "metadata": {
        "id": "80ju0mKIHSGS",
        "colab": {
          "base_uri": "https://localhost:8080/",
          "height": 141
        },
        "outputId": "e2299971-e096-41d4-a7ed-b5dc4d2b3007"
      },
      "execution_count": null,
      "outputs": [
        {
          "output_type": "error",
          "ename": "NameError",
          "evalue": "name 'mycourse' is not defined",
          "traceback": [
            "\u001b[0;31m---------------------------------------------------------------------------\u001b[0m",
            "\u001b[0;31mNameError\u001b[0m                                 Traceback (most recent call last)",
            "\u001b[0;32m<ipython-input-5-4b086a1c19b2>\u001b[0m in \u001b[0;36m<cell line: 1>\u001b[0;34m()\u001b[0m\n\u001b[0;32m----> 1\u001b[0;31m \u001b[0mmycourse\u001b[0m\u001b[0;34m\u001b[0m\u001b[0;34m\u001b[0m\u001b[0m\n\u001b[0m",
            "\u001b[0;31mNameError\u001b[0m: name 'mycourse' is not defined"
          ]
        }
      ]
    },
    {
      "cell_type": "markdown",
      "source": [
        "Besides, we can't use **space** for the variable's name."
      ],
      "metadata": {
        "id": "QPJT5F8kGy0y"
      }
    },
    {
      "cell_type": "code",
      "source": [
        "My Course = \"Basic of Python\""
      ],
      "metadata": {
        "id": "YjDP5MWdGy_K",
        "colab": {
          "base_uri": "https://localhost:8080/",
          "height": 106
        },
        "outputId": "9b1f48c0-4571-4687-dcbf-a858ebd3050b"
      },
      "execution_count": null,
      "outputs": [
        {
          "output_type": "error",
          "ename": "SyntaxError",
          "evalue": "invalid syntax (<ipython-input-6-bdd9299da719>, line 1)",
          "traceback": [
            "\u001b[0;36m  File \u001b[0;32m\"<ipython-input-6-bdd9299da719>\"\u001b[0;36m, line \u001b[0;32m1\u001b[0m\n\u001b[0;31m    My Course = \"Basic of Python!\"\u001b[0m\n\u001b[0m       ^\u001b[0m\n\u001b[0;31mSyntaxError\u001b[0m\u001b[0;31m:\u001b[0m invalid syntax\n"
          ]
        }
      ]
    },
    {
      "cell_type": "markdown",
      "source": [
        "It's better to choose a variable's name to help us understand what's inside a variable. In our case, it's easier to change the variable's name to `course_name`."
      ],
      "metadata": {
        "id": "EKJLFxlXGzIc"
      }
    },
    {
      "cell_type": "code",
      "source": [
        "course_name = \"Basic of Python\""
      ],
      "metadata": {
        "id": "Zn-fOxZaGzQW"
      },
      "execution_count": null,
      "outputs": []
    },
    {
      "cell_type": "markdown",
      "source": [
        "Finally, we can also define a variable name using **numbers**. It sometimes could be very useful."
      ],
      "metadata": {
        "id": "ruegGLsgGzX5"
      }
    },
    {
      "cell_type": "code",
      "source": [
        "course_1_name = \"Basic of Python\"\n",
        "course_2_name = \"Cognitive Neuroscience\""
      ],
      "metadata": {
        "id": "sgr7ndwCGze0"
      },
      "execution_count": null,
      "outputs": []
    },
    {
      "cell_type": "markdown",
      "source": [
        "Or mix with variable type, in this case, means string (str)"
      ],
      "metadata": {
        "id": "sKHkHaWIjQI-"
      }
    },
    {
      "cell_type": "code",
      "source": [
        "course_name_str = \"Basic of Python\""
      ],
      "metadata": {
        "id": "HEXNUvk4jQ5T"
      },
      "execution_count": null,
      "outputs": []
    },
    {
      "cell_type": "markdown",
      "source": [
        "Great! Let's look at the value on the right side. We store words in double quotes `\"   \"`, therefore it is a **string**. Strings can contain all sorts of letters and symbols."
      ],
      "metadata": {
        "id": "ZbpOW8bNGzmP"
      }
    },
    {
      "cell_type": "code",
      "source": [
        "course_name = \"Basic of Python\""
      ],
      "metadata": {
        "id": "95-DVGRmGzsk"
      },
      "execution_count": null,
      "outputs": []
    },
    {
      "cell_type": "markdown",
      "source": [
        "We ask Python to display a value by `print()` in the console, also known as the shell."
      ],
      "metadata": {
        "id": "Pk9TcoCEZ-Yz"
      }
    },
    {
      "cell_type": "code",
      "source": [
        "print(course_name)"
      ],
      "metadata": {
        "id": "cfD0XTkIZ-oU",
        "colab": {
          "base_uri": "https://localhost:8080/"
        },
        "outputId": "98a1d131-0090-4c90-d51e-69bfa6d60bdb"
      },
      "execution_count": null,
      "outputs": [
        {
          "output_type": "stream",
          "name": "stdout",
          "text": [
            "Basic of Python\n"
          ]
        }
      ]
    },
    {
      "cell_type": "markdown",
      "source": [
        "We can repeat `print()` as often as we want and display every value on a line."
      ],
      "metadata": {
        "id": "Jj_GXy5pG0A2"
      }
    },
    {
      "cell_type": "code",
      "source": [
        "print(\"=================================\")\n",
        "print(\"The course's name is:\")\n",
        "print(course_name)\n",
        "print(\"=================================\")"
      ],
      "metadata": {
        "id": "6eoudkifG0H_",
        "colab": {
          "base_uri": "https://localhost:8080/"
        },
        "outputId": "3682f552-3b2a-4a28-e503-980cbed7a54b"
      },
      "execution_count": null,
      "outputs": [
        {
          "output_type": "stream",
          "name": "stdout",
          "text": [
            "=================================\n",
            "The course's name is:\n",
            "Basic of Python!\n",
            "=================================\n"
          ]
        }
      ]
    },
    {
      "cell_type": "markdown",
      "source": [
        "Before continuing this part, let's look at an important point. Python is an **interpreted language** and It means code is run there line by line. Please correct the following code."
      ],
      "metadata": {
        "id": "m7FF9zHJGzzO"
      }
    },
    {
      "cell_type": "code",
      "source": [
        "print(universiy_name)\n",
        "universiy_name = \"University of Padova\""
      ],
      "metadata": {
        "id": "4n7NMGFkGz5Y",
        "colab": {
          "base_uri": "https://localhost:8080/",
          "height": 159
        },
        "outputId": "f120c599-cd73-4f43-81c4-f3361bcf0046"
      },
      "execution_count": null,
      "outputs": [
        {
          "output_type": "error",
          "ename": "NameError",
          "evalue": "name 'universiy_name' is not defined",
          "traceback": [
            "\u001b[0;31m---------------------------------------------------------------------------\u001b[0m",
            "\u001b[0;31mNameError\u001b[0m                                 Traceback (most recent call last)",
            "\u001b[0;32m<ipython-input-13-2aec1ada7966>\u001b[0m in \u001b[0;36m<cell line: 1>\u001b[0;34m()\u001b[0m\n\u001b[0;32m----> 1\u001b[0;31m \u001b[0mprint\u001b[0m\u001b[0;34m(\u001b[0m\u001b[0muniversiy_name\u001b[0m\u001b[0;34m)\u001b[0m\u001b[0;34m\u001b[0m\u001b[0;34m\u001b[0m\u001b[0m\n\u001b[0m\u001b[1;32m      2\u001b[0m \u001b[0muniversiy_name\u001b[0m \u001b[0;34m=\u001b[0m \u001b[0;34m\"university of padova\"\u001b[0m\u001b[0;34m\u001b[0m\u001b[0;34m\u001b[0m\u001b[0m\n",
            "\u001b[0;31mNameError\u001b[0m: name 'universiy_name' is not defined"
          ]
        }
      ]
    },
    {
      "cell_type": "markdown",
      "source": [
        "We can use this point to update variables. Please guess what will display in the console before running the code.\n"
      ],
      "metadata": {
        "id": "K8-h5SRaG0Os"
      }
    },
    {
      "cell_type": "code",
      "source": [
        "course_name = \"Cognitive Neuroscience\"\n",
        "print(course_name)\n",
        "course_name = \"Basic of Python\"\n",
        "print(course_name)"
      ],
      "metadata": {
        "id": "0EiIHKLRG0VX",
        "colab": {
          "base_uri": "https://localhost:8080/"
        },
        "outputId": "6dbecd0b-7413-4974-a9a6-b474c2b486a4"
      },
      "execution_count": null,
      "outputs": [
        {
          "output_type": "stream",
          "name": "stdout",
          "text": [
            "Cognitive Neuroscience\n",
            "Basic of Python\n"
          ]
        }
      ]
    },
    {
      "cell_type": "markdown",
      "source": [
        "We can add string values together with the `+` sign."
      ],
      "metadata": {
        "id": "5cxHHeh-d6Qa"
      }
    },
    {
      "cell_type": "code",
      "source": [
        "print(\"Course name: \" + \"Basic of Python\")\n",
        "print(\"Course name: \" + course_name)"
      ],
      "metadata": {
        "id": "8iahNpRjd6XP",
        "colab": {
          "base_uri": "https://localhost:8080/"
        },
        "outputId": "31858e68-f1a6-4102-f51e-b8744f084383"
      },
      "execution_count": null,
      "outputs": [
        {
          "output_type": "stream",
          "name": "stdout",
          "text": [
            "Course name: Basic of Python\n",
            "Course name: Basic of Python\n"
          ]
        }
      ]
    },
    {
      "cell_type": "markdown",
      "source": [
        "Let's cross strings. We can store a **number** in a variable without using `\"   \"`."
      ],
      "metadata": {
        "id": "c3BvfGYrfVRi"
      }
    },
    {
      "cell_type": "code",
      "source": [
        "course_score = 80"
      ],
      "metadata": {
        "id": "PkOhFw34fVd7"
      },
      "execution_count": null,
      "outputs": []
    },
    {
      "cell_type": "markdown",
      "source": [
        "Add numbers together by `+`."
      ],
      "metadata": {
        "id": "fCJk_GovgHVc"
      }
    },
    {
      "cell_type": "code",
      "source": [
        "course_score = 80 + 10\n",
        "print(course_score)"
      ],
      "metadata": {
        "id": "X3Jz_kO6gHdS",
        "colab": {
          "base_uri": "https://localhost:8080/"
        },
        "outputId": "d7058c8a-767d-477a-8b05-e6a20d1087b0"
      },
      "execution_count": null,
      "outputs": [
        {
          "output_type": "stream",
          "name": "stdout",
          "text": [
            "90\n"
          ]
        }
      ]
    },
    {
      "cell_type": "markdown",
      "source": [
        "Subtract the numbers by `-`."
      ],
      "metadata": {
        "id": "_q9vI3Zkg2Ac"
      }
    },
    {
      "cell_type": "code",
      "source": [
        "course_score = 80 - 10\n",
        "print(course_score)"
      ],
      "metadata": {
        "id": "hCA3irdAg2IE",
        "colab": {
          "base_uri": "https://localhost:8080/"
        },
        "outputId": "ebbc7ec8-1716-46e9-ef80-7a774f4c500b"
      },
      "execution_count": null,
      "outputs": [
        {
          "output_type": "stream",
          "name": "stdout",
          "text": [
            "70\n"
          ]
        }
      ]
    },
    {
      "cell_type": "markdown",
      "source": [
        "Multiply numbers by `*`."
      ],
      "metadata": {
        "id": "ubNJLM4RhYnf"
      }
    },
    {
      "cell_type": "code",
      "source": [
        "course_score = 80 * 1.5\n",
        "print(course_score)"
      ],
      "metadata": {
        "id": "AjCD9lp1hYwe",
        "colab": {
          "base_uri": "https://localhost:8080/"
        },
        "outputId": "3a78ae3c-ed1f-489f-906c-f6dfd83e8653"
      },
      "execution_count": null,
      "outputs": [
        {
          "output_type": "stream",
          "name": "stdout",
          "text": [
            "120.0\n"
          ]
        }
      ]
    },
    {
      "cell_type": "markdown",
      "source": [
        "Or divided by `/`."
      ],
      "metadata": {
        "id": "qVmTsvRFhrU6"
      }
    },
    {
      "cell_type": "code",
      "source": [
        "course_score = 80 / 8\n",
        "print(course_score)"
      ],
      "metadata": {
        "id": "RVpdSzm4hrm5",
        "colab": {
          "base_uri": "https://localhost:8080/"
        },
        "outputId": "bccf37af-d4aa-4367-b560-e5518ef3a746"
      },
      "execution_count": null,
      "outputs": [
        {
          "output_type": "stream",
          "name": "stdout",
          "text": [
            "10.0\n"
          ]
        }
      ]
    },
    {
      "cell_type": "markdown",
      "source": [
        "Modulus by `%`."
      ],
      "metadata": {
        "id": "gzRNDwkC1hTy"
      }
    },
    {
      "cell_type": "code",
      "source": [
        "course_score = 8 % 5\n",
        "print(course_score)"
      ],
      "metadata": {
        "id": "q8tzuQ9w1ha6",
        "colab": {
          "base_uri": "https://localhost:8080/"
        },
        "outputId": "80564b6f-1b98-4046-8ea1-c65371a23981"
      },
      "execution_count": null,
      "outputs": [
        {
          "output_type": "stream",
          "name": "stdout",
          "text": [
            "3\n"
          ]
        }
      ]
    },
    {
      "cell_type": "markdown",
      "source": [
        "Exponentiation by `**`."
      ],
      "metadata": {
        "id": "J_3H9Z_hlnxr"
      }
    },
    {
      "cell_type": "code",
      "source": [
        "course_score = 8 ** 2\n",
        "print(course_score)"
      ],
      "metadata": {
        "id": "5v1AAJIvln6Z",
        "colab": {
          "base_uri": "https://localhost:8080/"
        },
        "outputId": "f91e8162-3185-46c4-f0ff-7a39ae3e9745"
      },
      "execution_count": null,
      "outputs": [
        {
          "output_type": "stream",
          "name": "stdout",
          "text": [
            "64\n"
          ]
        }
      ]
    },
    {
      "cell_type": "markdown",
      "source": [
        "And floor division is calculated by `//`."
      ],
      "metadata": {
        "id": "-DOghdMhloCf"
      }
    },
    {
      "cell_type": "code",
      "source": [
        "course_score = 8 // 5\n",
        "print(course_score)"
      ],
      "metadata": {
        "id": "6vXPaZdHloKt",
        "colab": {
          "base_uri": "https://localhost:8080/"
        },
        "outputId": "1bb507bf-3ef9-400f-9907-2f5671985e83"
      },
      "execution_count": null,
      "outputs": [
        {
          "output_type": "stream",
          "name": "stdout",
          "text": [
            "1\n"
          ]
        }
      ]
    },
    {
      "cell_type": "markdown",
      "source": [
        "Keep the variable's value and change only the console by manipulating the `print()`."
      ],
      "metadata": {
        "id": "BmGJw6_uiLFx"
      }
    },
    {
      "cell_type": "code",
      "source": [
        "course_score = 80\n",
        "print(course_score / 8)\n",
        "print(course_score)"
      ],
      "metadata": {
        "id": "VvfIjYXHiLPK",
        "colab": {
          "base_uri": "https://localhost:8080/"
        },
        "outputId": "64f40e40-9121-4059-a881-508e00a6ab1c"
      },
      "execution_count": null,
      "outputs": [
        {
          "output_type": "stream",
          "name": "stdout",
          "text": [
            "10.0\n",
            "80\n"
          ]
        }
      ]
    },
    {
      "cell_type": "markdown",
      "source": [
        "Calculate results and store them in variables. Notice when we want to print a string and a number together in the `print()`, we must use `,` instead of `+` or using f-strings like `f\" {} \"` to add a variable in a string."
      ],
      "metadata": {
        "id": "RrVsOjz0jBU8"
      }
    },
    {
      "cell_type": "code",
      "source": [
        "homework_1_score = 40\n",
        "homework_2_score = 45\n",
        "course_score = homework_1_score + homework_2_score\n",
        "print(\"course score: \" , course_score)\n",
        "print(f\"course score:  {course_score}\")"
      ],
      "metadata": {
        "id": "W9wNCTd5jBcw",
        "colab": {
          "base_uri": "https://localhost:8080/"
        },
        "outputId": "29150b52-cdbb-4a17-9caa-d0979c0213f5"
      },
      "execution_count": null,
      "outputs": [
        {
          "output_type": "stream",
          "name": "stdout",
          "text": [
            "course score:  85\n",
            "course score:  85\n"
          ]
        }
      ]
    },
    {
      "cell_type": "markdown",
      "source": [
        "Here is a question. How can we understand the type of our variable? the answer is using `type()`."
      ],
      "metadata": {
        "id": "-TLMIhR-W1CI"
      }
    },
    {
      "cell_type": "code",
      "source": [
        "course_score = 80\n",
        "print(type(course_score))"
      ],
      "metadata": {
        "id": "OMHZfi7-W1K_",
        "colab": {
          "base_uri": "https://localhost:8080/"
        },
        "outputId": "b4e8c883-2df4-4636-9a6e-883bb96006d9"
      },
      "execution_count": null,
      "outputs": [
        {
          "output_type": "stream",
          "name": "stdout",
          "text": [
            "<class 'int'>\n"
          ]
        }
      ]
    },
    {
      "cell_type": "code",
      "source": [
        "course_score = 80.0\n",
        "print(type(course_score))"
      ],
      "metadata": {
        "id": "Il7pLU1xXeCq",
        "colab": {
          "base_uri": "https://localhost:8080/"
        },
        "outputId": "02476948-05d0-479d-95a2-f97e6dba5c48"
      },
      "execution_count": null,
      "outputs": [
        {
          "output_type": "stream",
          "name": "stdout",
          "text": [
            "<class 'float'>\n"
          ]
        }
      ]
    },
    {
      "cell_type": "code",
      "source": [
        "course_score = \"80\"\n",
        "print(type(course_score))"
      ],
      "metadata": {
        "id": "NVs8hvdkXeFI",
        "colab": {
          "base_uri": "https://localhost:8080/"
        },
        "outputId": "797a7f76-107b-48dc-c8b4-55af66b73d0a"
      },
      "execution_count": null,
      "outputs": [
        {
          "output_type": "stream",
          "name": "stdout",
          "text": [
            "<class 'str'>\n"
          ]
        }
      ]
    },
    {
      "cell_type": "markdown",
      "source": [
        "Another question: How can we specify a variable type? The answer is casting by `int()`, `float()`, and `str()`."
      ],
      "metadata": {
        "id": "MBZ8wzMNXpYX"
      }
    },
    {
      "cell_type": "code",
      "source": [
        "course_1_score = int(80)   # will be 80\n",
        "course_2_score = int(80.7) # will be 80 (not 81)\n",
        "course_3_score = int(\"80\") # will be 80\n",
        "\n",
        "course_4_score = float(80)   # will be 80.0\n",
        "course_5_score = float(80.7) # will be 80.7\n",
        "course_6_score = float(\"80\") # will be 80.0\n",
        "course_7_score = float(\"80.2\") # will be 80.2\n",
        "\n",
        "course_8_score = str(80)   # will be '80'\n",
        "course_9_score = str(80.7) # will be '80.7'\n",
        "\n",
        "print(\"course_1_score:\", course_1_score, \"\\t\", type(course_1_score)) # \"\\t\" add space between outputs\n",
        "print(\"course_2_score:\", course_2_score, \"\\t\", type(course_2_score))\n",
        "print(\"course_3_score:\", course_3_score, \"\\t\", type(course_3_score))\n",
        "print(\"course_4_score:\", course_4_score, \"\\t\", type(course_4_score))\n",
        "print(\"course_5_score:\", course_5_score, \"\\t\", type(course_5_score))\n",
        "print(\"course_6_score:\", course_6_score, \"\\t\", type(course_6_score))\n",
        "print(\"course_7_score:\", course_7_score, \"\\t\", type(course_7_score))\n",
        "print(\"course_8_score:\", course_8_score, \"\\t\", type(course_8_score))\n",
        "print(\"course_9_score:\", course_9_score, \"\\t\", type(course_9_score))"
      ],
      "metadata": {
        "id": "4PJ7js7AYJQD",
        "colab": {
          "base_uri": "https://localhost:8080/"
        },
        "outputId": "2cc9f18a-fb08-4638-98a1-f53ec7fed9cd"
      },
      "execution_count": null,
      "outputs": [
        {
          "output_type": "stream",
          "name": "stdout",
          "text": [
            "course_1_score: 80 \t <class 'int'>\n",
            "course_2_score: 80 \t <class 'int'>\n",
            "course_3_score: 80 \t <class 'int'>\n",
            "course_4_score: 80.0 \t <class 'float'>\n",
            "course_5_score: 80.7 \t <class 'float'>\n",
            "course_6_score: 80.0 \t <class 'float'>\n",
            "course_7_score: 80.2 \t <class 'float'>\n",
            "course_8_score: 80 \t <class 'str'>\n",
            "course_9_score: 80.7 \t <class 'str'>\n"
          ]
        }
      ]
    },
    {
      "cell_type": "markdown",
      "source": [
        "Before finishing this part, let's review two important general points. First, Python uses **indentation** to indicate a block of code. Indentation refers to the spaces at the beginning of a code line. Please correct the following code."
      ],
      "metadata": {
        "id": "4WJHE2RZs5E0"
      }
    },
    {
      "cell_type": "code",
      "source": [
        "course_score = 80\n",
        "  print(course_score)"
      ],
      "metadata": {
        "id": "VkQ9TGAptMD6",
        "colab": {
          "base_uri": "https://localhost:8080/",
          "height": 106
        },
        "outputId": "86ccca1c-e4b9-42b1-e4e9-0879e837199b"
      },
      "execution_count": null,
      "outputs": [
        {
          "output_type": "error",
          "ename": "IndentationError",
          "evalue": "unexpected indent (<ipython-input-34-729ceee0175c>, line 2)",
          "traceback": [
            "\u001b[0;36m  File \u001b[0;32m\"<ipython-input-34-729ceee0175c>\"\u001b[0;36m, line \u001b[0;32m2\u001b[0m\n\u001b[0;31m    print(course_score)\u001b[0m\n\u001b[0m    ^\u001b[0m\n\u001b[0;31mIndentationError\u001b[0m\u001b[0;31m:\u001b[0m unexpected indent\n"
          ]
        }
      ]
    },
    {
      "cell_type": "markdown",
      "source": [
        "Secondly, we can use `#` to add **comments** to our code. This helps with the readability and documentation of our code."
      ],
      "metadata": {
        "id": "prZyn72XtlRl"
      }
    },
    {
      "cell_type": "code",
      "source": [
        "# the range of course scores is between 0 and 100\n",
        "course_score = 80\n",
        "print(course_score)"
      ],
      "metadata": {
        "id": "GGhZPQ7vtlaE",
        "colab": {
          "base_uri": "https://localhost:8080/"
        },
        "outputId": "1275ed0c-4059-402f-f411-ab05a005e062"
      },
      "execution_count": null,
      "outputs": [
        {
          "output_type": "stream",
          "name": "stdout",
          "text": [
            "80\n"
          ]
        }
      ]
    },
    {
      "cell_type": "markdown",
      "source": [
        "That's it! Let's try all the previous points to develop your first exercise."
      ],
      "metadata": {
        "id": "433F9oOemKtk"
      }
    },
    {
      "cell_type": "markdown",
      "source": [
        "## Exercise 1 part 1\n",
        "\n",
        "---\n",
        "\n",
        "\n",
        "Calculate your BMI score and show your name and score in the console.\n",
        "\n",
        "*   Expected output 1: My name is Sara and my BMI score is 28.\n",
        "*   Expected output 2: My name is John and my BMI score is 22.\n",
        "\n",
        "\n",
        "\n"
      ],
      "metadata": {
        "id": "CkkLy6Kdm1wm"
      }
    },
    {
      "cell_type": "code",
      "source": [
        "# BMI formula: weight (kg) / height**2 (m)\n",
        "\n",
        "\n"
      ],
      "metadata": {
        "id": "MpYcVRKxmLGa"
      },
      "execution_count": null,
      "outputs": []
    },
    {
      "cell_type": "markdown",
      "source": [
        "Good job!\n",
        "\n",
        "Sometimes we need to show if a feature is switched on or off by useing `True` and `False` values."
      ],
      "metadata": {
        "id": "1vNlnV3Q0SZJ"
      }
    },
    {
      "cell_type": "code",
      "source": [
        "calculated_bmi = True\n",
        "print(calculated_bmi)"
      ],
      "metadata": {
        "id": "FOgesK8VM92w",
        "colab": {
          "base_uri": "https://localhost:8080/"
        },
        "outputId": "773da7e4-03a1-4679-dc04-88b61d8db51f"
      },
      "execution_count": null,
      "outputs": [
        {
          "output_type": "stream",
          "name": "stdout",
          "text": [
            "True\n"
          ]
        }
      ]
    },
    {
      "cell_type": "code",
      "source": [
        "calculated_bmi = False\n",
        "print(calculated_bmi)"
      ],
      "metadata": {
        "id": "WmRf95szNpv6",
        "colab": {
          "base_uri": "https://localhost:8080/"
        },
        "outputId": "8e57d6f3-ef82-452f-f427-27c741206e9b"
      },
      "execution_count": null,
      "outputs": [
        {
          "output_type": "stream",
          "name": "stdout",
          "text": [
            "False\n"
          ]
        }
      ]
    },
    {
      "cell_type": "markdown",
      "source": [
        "Besides, we need to compare two values."
      ],
      "metadata": {
        "id": "2-MX1aD8NxbY"
      }
    },
    {
      "cell_type": "code",
      "source": [
        "bmi_score = 28\n",
        "print(bmi_score == 28) # equal\n",
        "print(bmi_score != 28) # not equal\n",
        "print(bmi_score > 28)  # greater than\n",
        "print(bmi_score < 28)  # less than\n",
        "print(bmi_score >= 28) # greater than or equal to\n",
        "print(bmi_score <= 28) # less than or equal to"
      ],
      "metadata": {
        "id": "QzCXfZOkN6Xn",
        "colab": {
          "base_uri": "https://localhost:8080/"
        },
        "outputId": "868e4787-013e-4846-d5c7-6a5b79d09d3e"
      },
      "execution_count": null,
      "outputs": [
        {
          "output_type": "stream",
          "name": "stdout",
          "text": [
            "True\n",
            "False\n",
            "False\n",
            "False\n",
            "True\n",
            "True\n"
          ]
        }
      ]
    },
    {
      "cell_type": "markdown",
      "source": [
        "Maybe logical operators to combine conditional statements."
      ],
      "metadata": {
        "id": "7wi_0TEKQcr8"
      }
    },
    {
      "cell_type": "code",
      "source": [
        "bmi_score = 28\n",
        "print(bmi_score > 20 and bmi_score > 30) # returns True if both statements are true\n",
        "print(bmi_score > 20 or bmi_score > 30) # returns True if one of the statements is true\n",
        "print(not(bmi_score > 20 and bmi_score > 30)) # reverse the result, returns False if the result is true"
      ],
      "metadata": {
        "id": "fFGu9gTSQm2W",
        "colab": {
          "base_uri": "https://localhost:8080/"
        },
        "outputId": "9ef1f3c8-efb4-4052-ad92-ab7e6f35f876"
      },
      "execution_count": null,
      "outputs": [
        {
          "output_type": "stream",
          "name": "stdout",
          "text": [
            "False\n",
            "True\n",
            "True\n"
          ]
        }
      ]
    },
    {
      "cell_type": "markdown",
      "source": [
        "## Exercise 1 part 2\n",
        "\n",
        "---\n",
        "\n",
        "\n",
        "Check whether your BMI score is normal or not.\n",
        "\n",
        "*   Expected output 1: True\n",
        "*   Expected output 2: False\n",
        "\n",
        "\n",
        "\n"
      ],
      "metadata": {
        "id": "lchEI32RSqQz"
      }
    },
    {
      "cell_type": "code",
      "source": [
        "# normal range is from 18.5 to 24.9\n",
        "\n",
        "\n",
        "\n",
        "\n"
      ],
      "metadata": {
        "id": "ZMKdo7QlTVw8"
      },
      "execution_count": null,
      "outputs": []
    },
    {
      "cell_type": "markdown",
      "source": [
        "# 2.&nbsp;Conditional Statements"
      ],
      "metadata": {
        "id": "ykryJn0SbSHJ"
      }
    },
    {
      "cell_type": "markdown",
      "source": [
        "We use the **if statement** to adapt to different situations. Notice to use `:` after the statement and indentation before `print()`."
      ],
      "metadata": {
        "id": "tJb-tGH9bYQF"
      }
    },
    {
      "cell_type": "code",
      "source": [
        "bmi_score = 28\n",
        "\n",
        "if bmi_score < 18.8:\n",
        "  print(\"BMI score is under weight.\")\n",
        "else:\n",
        "  print(\"BMI score is not under weight.\")"
      ],
      "metadata": {
        "id": "Blh1gDnGbYY9",
        "colab": {
          "base_uri": "https://localhost:8080/"
        },
        "outputId": "9911fb8b-e9f6-4f66-ad8c-bfa807e00f02"
      },
      "execution_count": null,
      "outputs": [
        {
          "output_type": "stream",
          "name": "stdout",
          "text": [
            "BMI score is not under weight.\n"
          ]
        }
      ]
    },
    {
      "cell_type": "markdown",
      "source": [
        "Maybe we have more than one condition."
      ],
      "metadata": {
        "id": "nT8Y5Fq4qyaU"
      }
    },
    {
      "cell_type": "code",
      "source": [
        "bmi_score = 28\n",
        "\n",
        "if bmi_score > 18.5 and bmi_score < 24.9:\n",
        "  print(\"BMI score is normal.\")\n",
        "else:\n",
        "  print(\"BMI score is not normal.\")"
      ],
      "metadata": {
        "id": "ynswhLlNqyhR",
        "colab": {
          "base_uri": "https://localhost:8080/"
        },
        "outputId": "930be556-dfe0-4efa-9edc-db4b088f5ec2"
      },
      "execution_count": null,
      "outputs": [
        {
          "output_type": "stream",
          "name": "stdout",
          "text": [
            "BMI score is not normal.\n"
          ]
        }
      ]
    },
    {
      "cell_type": "code",
      "source": [
        "bmi_score = 28\n",
        "\n",
        "if bmi_score < 18.5 or bmi_score > 24.9:\n",
        "  print(\"BMI score is not normal.\")\n",
        "else:\n",
        "  print(\"BMI score is normal.\")"
      ],
      "metadata": {
        "id": "zF1a76g8rnPG",
        "colab": {
          "base_uri": "https://localhost:8080/"
        },
        "outputId": "102ed390-c8c6-409f-979b-0e8bbc67d7c9"
      },
      "execution_count": null,
      "outputs": [
        {
          "output_type": "stream",
          "name": "stdout",
          "text": [
            "BMI score is not normal.\n"
          ]
        }
      ]
    },
    {
      "cell_type": "markdown",
      "source": [
        "Or we have more than two situations."
      ],
      "metadata": {
        "id": "zwRcrQeoqcgJ"
      }
    },
    {
      "cell_type": "code",
      "source": [
        "bmi_score = 28\n",
        "\n",
        "if bmi_score < 18.8:\n",
        "  print(\"BMI score is under weight.\")\n",
        "elif bmi_score > 18.5 and bmi_score < 24.9:\n",
        "  print(\"BMI score is under normal.\")\n",
        "elif bmi_score > 25 and bmi_score < 29.9:\n",
        "  print(\"BMI score is over weight.\")\n",
        "elif bmi_score > 30 and bmi_score < 39.9:\n",
        "  print(\"BMI score is obesity.\")\n",
        "else:\n",
        "  print(\"BMI score is extreme obesity.\")"
      ],
      "metadata": {
        "id": "MBa3tqYkqcr9",
        "colab": {
          "base_uri": "https://localhost:8080/"
        },
        "outputId": "dab94105-62f6-4962-c3fc-b2b893c03e7d"
      },
      "execution_count": null,
      "outputs": [
        {
          "output_type": "stream",
          "name": "stdout",
          "text": [
            "BMI score is over weight.\n"
          ]
        }
      ]
    },
    {
      "cell_type": "markdown",
      "source": [
        "## Exercise 2\n",
        "\n",
        "---\n",
        "\n",
        "\n",
        "We want to predict the BMI score after doing sport routing over one year. Assume the one-month sport reduces the 0.38 value from the BMI score. What will happen to BMI score if someone does sports for 3, 6, 9, and 12 months?\n",
        "\n",
        "*   Expected output 1: BMI score will be 27.76 after 3 months of sports.\n",
        "*   Expected output 2: BMI score will be 24.91 after 12 months of sports\n",
        "\n",
        "\n",
        "\n"
      ],
      "metadata": {
        "id": "FlklUlgdtRQ0"
      }
    },
    {
      "cell_type": "code",
      "source": [
        "# try with different values\n",
        "bmi_score = 28.4\n",
        "sport_duration = 9\n",
        "\n",
        "\n",
        "\n"
      ],
      "metadata": {
        "id": "Zd46OwTHtRak"
      },
      "execution_count": null,
      "outputs": []
    },
    {
      "cell_type": "markdown",
      "source": [
        "# 3.&nbsp;Loops (while)"
      ],
      "metadata": {
        "id": "pOvsmgaoyoRx"
      }
    },
    {
      "cell_type": "markdown",
      "source": [
        "Using the `while` loop, we can execute a set of statements if a condition is true."
      ],
      "metadata": {
        "id": "n_ljAPYpyvuV"
      }
    },
    {
      "cell_type": "code",
      "source": [
        "bmi_score = 21.4\n",
        "\n",
        "while bmi_score < 25:\n",
        "  print(f\"your BMI score is {bmi_score} (normal range).\")\n",
        "  bmi_score += 1 # bmi_score = bmi_score + 1"
      ],
      "metadata": {
        "id": "LibeRwvZ12pT",
        "colab": {
          "base_uri": "https://localhost:8080/"
        },
        "outputId": "7962d40c-9a5a-4700-edef-f7cb8558de25"
      },
      "execution_count": null,
      "outputs": [
        {
          "output_type": "stream",
          "name": "stdout",
          "text": [
            "your BMI score is 21.4 (normal range).\n",
            "your BMI score is 22.4 (normal range).\n",
            "your BMI score is 23.4 (normal range).\n",
            "your BMI score is 24.4 (normal range).\n"
          ]
        }
      ]
    },
    {
      "cell_type": "markdown",
      "source": [
        "If the while condition is true, the `break` statement will prevent the loop from continuing indefinitely."
      ],
      "metadata": {
        "id": "4VTvdpoJ3dTh"
      }
    },
    {
      "cell_type": "code",
      "source": [
        "bmi_score = 21.4\n",
        "\n",
        "while bmi_score < 25:\n",
        "  print(f\"your BMI score is {bmi_score} (normal range).\")\n",
        "  bmi_score -= 1 # bmi_score = bmi_score - 1\n",
        "  if bmi_score < 18.8:\n",
        "    break"
      ],
      "metadata": {
        "id": "FX75x64c3dmT",
        "colab": {
          "base_uri": "https://localhost:8080/"
        },
        "outputId": "7c133d47-2fb6-4276-8231-7162cb01aa24"
      },
      "execution_count": null,
      "outputs": [
        {
          "output_type": "stream",
          "name": "stdout",
          "text": [
            "your BMI score is 21.4 (normal range).\n",
            "your BMI score is 20.4 (normal range).\n",
            "your BMI score is 19.4 (normal range).\n"
          ]
        }
      ]
    },
    {
      "cell_type": "markdown",
      "source": [
        "Or if the condition is no longer true, an `else` statement will run a block of code once."
      ],
      "metadata": {
        "id": "MFjMH9gi_K8a"
      }
    },
    {
      "cell_type": "code",
      "source": [
        "bmi_score = 21.4\n",
        "\n",
        "while bmi_score > 18.8:\n",
        "  print(f\"your BMI score is {bmi_score} (normal range).\")\n",
        "  bmi_score -= 1\n",
        "else:\n",
        "  print(f\"your BMI score is {bmi_score} (under weight).\")"
      ],
      "metadata": {
        "id": "n6T8dba3_LFa",
        "colab": {
          "base_uri": "https://localhost:8080/"
        },
        "outputId": "1af2c32b-605d-485c-d252-921fe241684a"
      },
      "execution_count": null,
      "outputs": [
        {
          "output_type": "stream",
          "name": "stdout",
          "text": [
            "your BMI score is 21.4 (normal range).\n",
            "your BMI score is 20.4 (normal range).\n",
            "your BMI score is 19.4 (normal range).\n",
            "your BMI score is 18.4 (under weight).\n"
          ]
        }
      ]
    },
    {
      "cell_type": "markdown",
      "source": [
        "The `continue` statement lets us stop the current iteration and move on to the next."
      ],
      "metadata": {
        "id": "gS814Hb56dpR"
      }
    },
    {
      "cell_type": "code",
      "source": [
        "bmi_score = 19\n",
        "\n",
        "while bmi_score < 25:\n",
        "  bmi_score += 1\n",
        "  if bmi_score == 22:\n",
        "    continue\n",
        "  if bmi_score >= 25:\n",
        "    break\n",
        "  print(f\"your BMI score is {bmi_score} (normal range).\")\n"
      ],
      "metadata": {
        "id": "9NRktLo76dxt",
        "colab": {
          "base_uri": "https://localhost:8080/"
        },
        "outputId": "f91c8dda-ae39-426b-de18-1abb72e740de"
      },
      "execution_count": null,
      "outputs": [
        {
          "output_type": "stream",
          "name": "stdout",
          "text": [
            "your BMI score is 20 (normal range).\n",
            "your BMI score is 21 (normal range).\n",
            "your BMI score is 23 (normal range).\n",
            "your BMI score is 24 (normal range).\n"
          ]
        }
      ]
    },
    {
      "cell_type": "markdown",
      "source": [
        "## Exercise 3\n",
        "\n",
        "---\n",
        "\n",
        "We assumed the one-month sport reduce by 0.38 value from the BMI score. Now, write a `while` loop to calculate the maximum number of months to reach the normal range for BMI score.\n",
        "\n",
        "*   Expected output 1: you need 3 months of sport\n",
        "*   Expected output 2: you need 7 months of sport\n",
        "\n",
        "\n",
        "\n"
      ],
      "metadata": {
        "id": "croIpQSIF-yi"
      }
    },
    {
      "cell_type": "code",
      "source": [
        "# try different BMI score\n",
        "bmi_score = 28.6\n",
        "sport_duration = 0\n",
        "\n",
        "\n"
      ],
      "metadata": {
        "id": "HZcwnZmxF-9q"
      },
      "execution_count": null,
      "outputs": []
    },
    {
      "cell_type": "markdown",
      "source": [
        "# 4.&nbsp;Loops (for)"
      ],
      "metadata": {
        "id": "e-o4R0S5EUHV"
      }
    },
    {
      "cell_type": "markdown",
      "source": [
        "Excellent! Let's look at the `for` loop.\n",
        "\n",
        "Using the `for` loop means we know how many times we need to execute a statement, so we can use it when we know how many iterations there will be. In addition, `range()` returns a sequence of numbers starting from 0 and incrementing by 1 by default, and ending at a specified number. Although, we can change default values if we want."
      ],
      "metadata": {
        "id": "M1kZCWAB-lto"
      }
    },
    {
      "cell_type": "code",
      "source": [
        "bmi_score = 19\n",
        "\n",
        "for i in range(3):\n",
        "\n",
        "  print(f\"your BMI score is {bmi_score} (normal range).\")\n",
        "  bmi_score += 1"
      ],
      "metadata": {
        "id": "YBf_cwNe-l1w",
        "colab": {
          "base_uri": "https://localhost:8080/"
        },
        "outputId": "c6956efd-f343-4dc2-8c99-8d806bf3193e"
      },
      "execution_count": null,
      "outputs": [
        {
          "output_type": "stream",
          "name": "stdout",
          "text": [
            "your BMI score is 19 (normal range).\n",
            "your BMI score is 20 (normal range).\n",
            "your BMI score is 21 (normal range).\n"
          ]
        }
      ]
    },
    {
      "cell_type": "markdown",
      "source": [
        "Besides, while loop's statements including the `break`, `continue`, and `else` could be used here as well."
      ],
      "metadata": {
        "id": "nHQMAvIbDIK_"
      }
    },
    {
      "cell_type": "code",
      "source": [
        "bmi_score = 19\n",
        "\n",
        "for i in range(5):\n",
        "  bmi_score += 1\n",
        "  if bmi_score == 22:\n",
        "    continue\n",
        "  print(f\"your BMI score is {bmi_score} (normal range).\")"
      ],
      "metadata": {
        "id": "XjnVmlJvDIuw",
        "colab": {
          "base_uri": "https://localhost:8080/"
        },
        "outputId": "deb16a87-f02e-462b-b434-a8e9cb1e9166"
      },
      "execution_count": null,
      "outputs": [
        {
          "output_type": "stream",
          "name": "stdout",
          "text": [
            "your BMI score is 20 (normal range).\n",
            "your BMI score is 21 (normal range).\n",
            "your BMI score is 23 (normal range).\n",
            "your BMI score is 24 (normal range).\n"
          ]
        }
      ]
    },
    {
      "cell_type": "code",
      "source": [
        "bmi_score = 19\n",
        "\n",
        "for i in range(6):\n",
        "  print(f\"your BMI score is {bmi_score} (normal range).\")\n",
        "  bmi_score += 1\n",
        "  if bmi_score == 25:\n",
        "    break"
      ],
      "metadata": {
        "id": "eWuP3soPFClW",
        "colab": {
          "base_uri": "https://localhost:8080/"
        },
        "outputId": "6fb32b5d-9548-49fa-d81a-71a1cc0b3fac"
      },
      "execution_count": null,
      "outputs": [
        {
          "output_type": "stream",
          "name": "stdout",
          "text": [
            "your BMI score is 19 (normal range).\n",
            "your BMI score is 20 (normal range).\n",
            "your BMI score is 21 (normal range).\n",
            "your BMI score is 22 (normal range).\n",
            "your BMI score is 23 (normal range).\n",
            "your BMI score is 24 (normal range).\n"
          ]
        }
      ]
    },
    {
      "cell_type": "code",
      "source": [
        "bmi_score = 19\n",
        "\n",
        "for i in range(6):\n",
        "  print(f\"your BMI score is {bmi_score} (normal range).\")\n",
        "  bmi_score += 1\n",
        "else:\n",
        "  print(f\"your BMI score is {bmi_score} (under weight).\")"
      ],
      "metadata": {
        "id": "R5zMAR2SFAzL",
        "colab": {
          "base_uri": "https://localhost:8080/"
        },
        "outputId": "d423852f-9c1a-4e66-ab36-6bdac7c05eaa"
      },
      "execution_count": null,
      "outputs": [
        {
          "output_type": "stream",
          "name": "stdout",
          "text": [
            "your BMI score is 19 (normal range).\n",
            "your BMI score is 20 (normal range).\n",
            "your BMI score is 21 (normal range).\n",
            "your BMI score is 22 (normal range).\n",
            "your BMI score is 23 (normal range).\n",
            "your BMI score is 24 (normal range).\n",
            "your BMI score is 25 (under weight).\n"
          ]
        }
      ]
    },
    {
      "cell_type": "markdown",
      "source": [
        "## Exercise 4\n",
        "\n",
        "---\n",
        "\n",
        "\n",
        "Similar to the previous exercise we assumed the one-month sport reduce 0.38 value from the BMI score. Now, write a `for` loop to calculate finalized BMI score after 7 months of sports.\n",
        "\n",
        "*   Expected output 1: your BMI score will be 21.93 after 7 months of sport\n",
        "*   Expected output 2: your BMI score will be 26.77 after 7 months of sport\n",
        "\n"
      ],
      "metadata": {
        "id": "nyDQEZECH59O"
      }
    },
    {
      "cell_type": "code",
      "source": [
        "# try different BMI score\n",
        "bmi_score = 28.6\n",
        "sport_duration = 7\n",
        "\n",
        "\n",
        "\n",
        "\n",
        "\n"
      ],
      "metadata": {
        "id": "-MvbS6nkH6Gz"
      },
      "execution_count": null,
      "outputs": []
    },
    {
      "cell_type": "markdown",
      "source": [
        "# 5.&nbsp;Data Structure (string and list)"
      ],
      "metadata": {
        "id": "H06wWuHBlVpn"
      }
    },
    {
      "cell_type": "markdown",
      "source": [
        "For organization, management, and storage data we need to know different data types and how to work with them. We familiarize ourselves with **integers**, **floats**, and **booleans** before."
      ],
      "metadata": {
        "id": "rS702QK2lZW-"
      }
    },
    {
      "cell_type": "code",
      "source": [
        "x = 18 # int\n",
        "y = 24.9 # float\n",
        "z = True # boolean"
      ],
      "metadata": {
        "id": "30TqYSpllVwx"
      },
      "execution_count": null,
      "outputs": []
    },
    {
      "cell_type": "markdown",
      "source": [
        "We are also familiarized with **string** but let's deep in a little bit on that."
      ],
      "metadata": {
        "id": "IiSqiHvxzXAq"
      }
    },
    {
      "cell_type": "code",
      "source": [
        "w = \"this is a string\"\n",
        "print(type(w)) # get data type"
      ],
      "metadata": {
        "id": "fW9eArxWzrfk",
        "colab": {
          "base_uri": "https://localhost:8080/"
        },
        "outputId": "e4ed73df-695b-4df2-8934-892fa4ad7efe"
      },
      "execution_count": null,
      "outputs": [
        {
          "output_type": "stream",
          "name": "stdout",
          "text": [
            "<class 'str'>\n"
          ]
        }
      ]
    },
    {
      "cell_type": "code",
      "source": [
        "print(len(w)) # get length"
      ],
      "metadata": {
        "id": "JLj5R5EX1Hfg",
        "colab": {
          "base_uri": "https://localhost:8080/"
        },
        "outputId": "0aa15c91-3972-4380-9e89-293b82788afe"
      },
      "execution_count": null,
      "outputs": [
        {
          "output_type": "stream",
          "name": "stdout",
          "text": [
            "16\n"
          ]
        }
      ]
    },
    {
      "cell_type": "code",
      "source": [
        "# access item by position\n",
        "# note: position in Python starts at 0.\n",
        "print(\"position 0 : \", w[0])\n",
        "print(\"position 1 : \", w[1])\n",
        "print(\"position -2: \", w[-2])\n",
        "print(\"\\n\") # create a new line\n",
        "print(\"range of position 1: \", w[1:3])\n",
        "print(\"range of position 2: \", w[:3])\n",
        "print(\"range of position 3: \", w[3:])\n",
        "print(\"range of position 4: \", w[:])\n",
        "print(\"range of position 5: \", w[-3:-1])\n",
        "print(\"range of position 6: \", w[:-1])\n",
        "print(\"range of position 7: \", w[-3:])"
      ],
      "metadata": {
        "id": "JESI_iaB0GG1",
        "colab": {
          "base_uri": "https://localhost:8080/"
        },
        "outputId": "bfd0d318-cfbc-49a1-bbce-de2b094818a8"
      },
      "execution_count": null,
      "outputs": [
        {
          "output_type": "stream",
          "name": "stdout",
          "text": [
            "position 0 :  t\n",
            "position 1 :  h\n",
            "position -2:  n\n",
            "\n",
            "\n",
            "range of position 1:  hi\n",
            "range of position 2:  thi\n",
            "range of position 3:  s is a string\n",
            "range of position 4:  this is a string\n",
            "range of position 5:  in\n",
            "range of position 6:  this is a strin\n",
            "range of position 7:  ing\n"
          ]
        }
      ]
    },
    {
      "cell_type": "code",
      "source": [
        "# check if item exists\n",
        "if \"this\" in w:\n",
        "  print(\"Yes, this is in w string.\")"
      ],
      "metadata": {
        "id": "wfx5urSJ1ccJ",
        "colab": {
          "base_uri": "https://localhost:8080/"
        },
        "outputId": "f7e8ff6b-35e1-48ea-eec6-46df789a3c5a"
      },
      "execution_count": null,
      "outputs": [
        {
          "output_type": "stream",
          "name": "stdout",
          "text": [
            "Yes, this is in w string.\n"
          ]
        }
      ]
    },
    {
      "cell_type": "code",
      "source": [
        "print(w.upper()) # upper case"
      ],
      "metadata": {
        "id": "t0KtDN-q1c3Y",
        "colab": {
          "base_uri": "https://localhost:8080/"
        },
        "outputId": "18568d15-d3b5-47b4-d3e3-da0614a71b69"
      },
      "execution_count": null,
      "outputs": [
        {
          "output_type": "stream",
          "name": "stdout",
          "text": [
            "THIS IS A STRING\n"
          ]
        }
      ]
    },
    {
      "cell_type": "code",
      "source": [
        "print(w.lower()) # lower case"
      ],
      "metadata": {
        "id": "YNNhJQ8R1c6W",
        "colab": {
          "base_uri": "https://localhost:8080/"
        },
        "outputId": "d4f48011-b743-4f2b-dba7-53cd2d7f3832"
      },
      "execution_count": null,
      "outputs": [
        {
          "output_type": "stream",
          "name": "stdout",
          "text": [
            "this is a string\n"
          ]
        }
      ]
    },
    {
      "cell_type": "code",
      "source": [
        "print(w.replace(\"this\", \"that\")) # replace"
      ],
      "metadata": {
        "id": "J_gQBpao3yJJ",
        "colab": {
          "base_uri": "https://localhost:8080/"
        },
        "outputId": "c6305750-f9bc-423b-8cbb-031be1bb98a9"
      },
      "execution_count": null,
      "outputs": [
        {
          "output_type": "stream",
          "name": "stdout",
          "text": [
            "that is a string\n"
          ]
        }
      ]
    },
    {
      "cell_type": "code",
      "source": [
        "print(w.split(\" \")) # split by space"
      ],
      "metadata": {
        "id": "3q9YDMH20-9_",
        "colab": {
          "base_uri": "https://localhost:8080/"
        },
        "outputId": "c1b47382-031e-49bf-abf0-828d8e4d8313"
      },
      "execution_count": null,
      "outputs": [
        {
          "output_type": "stream",
          "name": "stdout",
          "text": [
            "['this', 'is', 'a', 'string']\n"
          ]
        }
      ]
    },
    {
      "cell_type": "markdown",
      "source": [
        "Perfect!\n",
        "\n",
        "Let's continue with another data type. Using **lists**, we can store multiple items with any type of data in one variable by using `[]` and `,` between items."
      ],
      "metadata": {
        "id": "t59GgZtenUs4"
      }
    },
    {
      "cell_type": "code",
      "source": [
        "student = [\"name\", \"Weight\", \"Height\", 21.7, True]\n",
        "print(student)"
      ],
      "metadata": {
        "id": "xawXEDScnU0J",
        "colab": {
          "base_uri": "https://localhost:8080/"
        },
        "outputId": "ace6a2e9-65af-44f9-8a7e-6baed33352b7"
      },
      "execution_count": null,
      "outputs": [
        {
          "output_type": "stream",
          "name": "stdout",
          "text": [
            "['name', 'Weight', 'Height', 21.7, True]\n"
          ]
        }
      ]
    },
    {
      "cell_type": "code",
      "source": [
        "print(type(student)) # get data type"
      ],
      "metadata": {
        "id": "L3X-kiOmp7yv",
        "colab": {
          "base_uri": "https://localhost:8080/"
        },
        "outputId": "ed9409f3-6172-403b-9193-f7e62b2446eb"
      },
      "execution_count": null,
      "outputs": [
        {
          "output_type": "stream",
          "name": "stdout",
          "text": [
            "<class 'list'>\n"
          ]
        }
      ]
    },
    {
      "cell_type": "code",
      "source": [
        "print(len(student)) # get length"
      ],
      "metadata": {
        "id": "73j6QdD2qRnd",
        "colab": {
          "base_uri": "https://localhost:8080/"
        },
        "outputId": "c2037ac3-d394-47b6-958b-4431ff8776b7"
      },
      "execution_count": null,
      "outputs": [
        {
          "output_type": "stream",
          "name": "stdout",
          "text": [
            "5\n"
          ]
        }
      ]
    },
    {
      "cell_type": "code",
      "source": [
        "# access item by index\n",
        "# note: indexing in Python starts at 0.\n",
        "print(\"index 0 : \", student[0])\n",
        "print(\"index 1 : \", student[1])\n",
        "print(\"index -2: \", student[-2])\n",
        "print(\"\\nrange of index 1: \", student[1:3]) # notice to \\n\n",
        "print(\"range of index 2: \", student[:3])\n",
        "print(\"range of index 3: \", student[1:])\n",
        "print(\"range of index 4: \", student[:])\n",
        "print(\"range of index 5: \", student[-3:-1])\n",
        "print(\"range of index 6: \", student[:-1])\n",
        "print(\"range of index 7: \", student[-3:])"
      ],
      "metadata": {
        "id": "92mOvaBuqoQv",
        "colab": {
          "base_uri": "https://localhost:8080/"
        },
        "outputId": "a276e9e4-a226-46ef-8cdb-b01d927bbe9c"
      },
      "execution_count": null,
      "outputs": [
        {
          "output_type": "stream",
          "name": "stdout",
          "text": [
            "index 0 :  name\n",
            "index 1 :  Weight\n",
            "index -2:  21.7\n",
            "\n",
            "range of index 1:  ['Weight', 'Height']\n",
            "range of index 2:  ['name', 'Weight', 'Height']\n",
            "range of index 3:  ['Weight', 'Height', 21.7, True]\n",
            "range of index 4:  ['name', 'Weight', 'Height', 21.7, True]\n",
            "range of index 5:  ['Height', 21.7]\n",
            "range of index 6:  ['name', 'Weight', 'Height', 21.7]\n",
            "range of index 7:  ['Height', 21.7, True]\n"
          ]
        }
      ]
    },
    {
      "cell_type": "code",
      "source": [
        "# check if item exists\n",
        "if \"Height\" in student:\n",
        "  print(\"Yes, Height is in the student list.\")"
      ],
      "metadata": {
        "id": "8HbKofvLrBVT",
        "colab": {
          "base_uri": "https://localhost:8080/"
        },
        "outputId": "95c2036b-94ed-4abd-c79d-eb8768b3f61f"
      },
      "execution_count": null,
      "outputs": [
        {
          "output_type": "stream",
          "name": "stdout",
          "text": [
            "Yes, Height is in the student list.\n"
          ]
        }
      ]
    },
    {
      "cell_type": "code",
      "source": [
        "# change item value by index\n",
        "print(student)\n",
        "student[3] = 21.4\n",
        "student[1:3] = [\"weight\", \"height\"]\n",
        "print(student)"
      ],
      "metadata": {
        "id": "wQiwl2gWtRb-",
        "colab": {
          "base_uri": "https://localhost:8080/"
        },
        "outputId": "ebaaff3a-1a4d-40fb-b1c3-16862600f34a"
      },
      "execution_count": null,
      "outputs": [
        {
          "output_type": "stream",
          "name": "stdout",
          "text": [
            "['name', 'Weight', 'Height', 21.7, True]\n",
            "['name', 'weight', 'height', 21.4, True]\n"
          ]
        }
      ]
    },
    {
      "cell_type": "code",
      "source": [
        "# insert item value by index\n",
        "student.insert(1, \"surname\")\n",
        "print(student)"
      ],
      "metadata": {
        "id": "i7PuBfH4uZYo",
        "colab": {
          "base_uri": "https://localhost:8080/"
        },
        "outputId": "eed80afd-ce81-4d5f-cfe4-27e88c06d552"
      },
      "execution_count": null,
      "outputs": [
        {
          "output_type": "stream",
          "name": "stdout",
          "text": [
            "['name', 'surname', 'weight', 'height', 21.4, True]\n"
          ]
        }
      ]
    },
    {
      "cell_type": "code",
      "source": [
        "# append item value to the end of the list\n",
        "student.append(\"age\")\n",
        "print(student)"
      ],
      "metadata": {
        "id": "BdapStn4uwRM",
        "colab": {
          "base_uri": "https://localhost:8080/"
        },
        "outputId": "d21e4bef-d755-4134-9fcf-f6a3b2b78628"
      },
      "execution_count": null,
      "outputs": [
        {
          "output_type": "stream",
          "name": "stdout",
          "text": [
            "['name', 'surname', 'weight', 'height', 21.4, True, 'age']\n"
          ]
        }
      ]
    },
    {
      "cell_type": "code",
      "source": [
        "# append items from another list to current list\n",
        "education = [\"course\", \"score\"]\n",
        "student.extend(education)\n",
        "print(student)"
      ],
      "metadata": {
        "id": "3V7PnUVrvGwR",
        "colab": {
          "base_uri": "https://localhost:8080/"
        },
        "outputId": "4c054e95-68b5-4876-c7f6-44705328041d"
      },
      "execution_count": null,
      "outputs": [
        {
          "output_type": "stream",
          "name": "stdout",
          "text": [
            "['name', 'surname', 'weight', 'height', 21.4, True, 'age', 'course', 'score']\n"
          ]
        }
      ]
    },
    {
      "cell_type": "code",
      "source": [
        "# append and extend difference\n",
        "list_one = [1, 3, 5, 7]\n",
        "list_two = [9, 11]\n",
        "list_one.append(list_two)\n",
        "print(\"appended list: \", list_one)\n",
        "\n",
        "list_one = [1, 3, 5, 7]\n",
        "list_two = [9, 11]\n",
        "list_one.extend(list_two)\n",
        "print(\"extended list: \", list_one)"
      ],
      "metadata": {
        "id": "PpfhWCX0vuYf",
        "colab": {
          "base_uri": "https://localhost:8080/"
        },
        "outputId": "4445413f-3f2e-4bbe-e02a-3ec602e191ec"
      },
      "execution_count": null,
      "outputs": [
        {
          "output_type": "stream",
          "name": "stdout",
          "text": [
            "appended list:  [1, 3, 5, 7, [9, 11]]\n",
            "extended list:  [1, 3, 5, 7, 9, 11]\n"
          ]
        }
      ]
    },
    {
      "cell_type": "code",
      "source": [
        "# remove by item value\n",
        "student.remove(\"course\")\n",
        "print(student)"
      ],
      "metadata": {
        "id": "RF0cTWryw1mK",
        "colab": {
          "base_uri": "https://localhost:8080/"
        },
        "outputId": "dd468548-b188-4a5c-e6aa-0a2ce980620b"
      },
      "execution_count": null,
      "outputs": [
        {
          "output_type": "stream",
          "name": "stdout",
          "text": [
            "['name', 'surname', 'weight', 'height', 21.4, True, 'age', 'score']\n"
          ]
        }
      ]
    },
    {
      "cell_type": "code",
      "source": [
        "# remove by index\n",
        "student.pop(-2)\n",
        "print(student)"
      ],
      "metadata": {
        "id": "66nQZqnnxMJk",
        "colab": {
          "base_uri": "https://localhost:8080/"
        },
        "outputId": "25b33a05-3652-4857-9ad4-7a58bcc1283c"
      },
      "execution_count": null,
      "outputs": [
        {
          "output_type": "stream",
          "name": "stdout",
          "text": [
            "['name', 'surname', 'weight', 'height', 21.4, True, 'score']\n"
          ]
        }
      ]
    },
    {
      "cell_type": "code",
      "source": [
        "# the pop() method removes the last item if you don't specify the index\n",
        "student.pop()\n",
        "print(student)"
      ],
      "metadata": {
        "id": "pxm7pBKvxjbu",
        "colab": {
          "base_uri": "https://localhost:8080/"
        },
        "outputId": "c2eb9e2e-aebf-4275-c39c-1302db199846"
      },
      "execution_count": null,
      "outputs": [
        {
          "output_type": "stream",
          "name": "stdout",
          "text": [
            "['name', 'surname', 'weight', 'height', 21.4, True]\n"
          ]
        }
      ]
    },
    {
      "cell_type": "code",
      "source": [
        "# another way to remove by index\n",
        "del student[1]\n",
        "print(student)"
      ],
      "metadata": {
        "id": "r7Eipydrxe3I",
        "colab": {
          "base_uri": "https://localhost:8080/"
        },
        "outputId": "28229348-e161-4b4a-ff1c-1157e6857a36"
      },
      "execution_count": null,
      "outputs": [
        {
          "output_type": "stream",
          "name": "stdout",
          "text": [
            "['name', 'weight', 'height', 21.4, True]\n"
          ]
        }
      ]
    },
    {
      "cell_type": "code",
      "source": [
        "# loop through a list\n",
        "for i in student:\n",
        "  print(i)"
      ],
      "metadata": {
        "id": "YkLp0Vq_59wQ",
        "colab": {
          "base_uri": "https://localhost:8080/"
        },
        "outputId": "d3775118-889a-42a1-8bf9-042cc298eaf7"
      },
      "execution_count": null,
      "outputs": [
        {
          "output_type": "stream",
          "name": "stdout",
          "text": [
            "name\n",
            "weight\n",
            "height\n",
            "21.4\n",
            "True\n"
          ]
        }
      ]
    },
    {
      "cell_type": "code",
      "source": [
        "# loop through the index numbers\n",
        "for i in range(len(student)):\n",
        "  print(student[i])"
      ],
      "metadata": {
        "id": "3HmJ_D8r594z",
        "colab": {
          "base_uri": "https://localhost:8080/"
        },
        "outputId": "a8933bed-da94-4872-f6f3-33e579216969"
      },
      "execution_count": null,
      "outputs": [
        {
          "output_type": "stream",
          "name": "stdout",
          "text": [
            "name\n",
            "weight\n",
            "height\n",
            "21.4\n",
            "True\n"
          ]
        }
      ]
    },
    {
      "cell_type": "code",
      "source": [
        "# removes all the items from the list\n",
        "student.clear()\n",
        "print(student)"
      ],
      "metadata": {
        "id": "fTwi11Qp8mG1",
        "colab": {
          "base_uri": "https://localhost:8080/"
        },
        "outputId": "aba569d2-adb0-4efc-c806-bc9bbf570355"
      },
      "execution_count": null,
      "outputs": [
        {
          "output_type": "stream",
          "name": "stdout",
          "text": [
            "[]\n"
          ]
        }
      ]
    },
    {
      "cell_type": "code",
      "source": [
        "# looping using list comprehension (shortest syntax)\n",
        "bmi = [21.31, 26.9, 24.1, 29.4]\n",
        "student_bmi = [i+1 for i in bmi]\n",
        "print(student_bmi)"
      ],
      "metadata": {
        "id": "jN1k8BYX6ipn",
        "colab": {
          "base_uri": "https://localhost:8080/"
        },
        "outputId": "317302eb-899f-4592-9b5a-acee2fee2f92"
      },
      "execution_count": null,
      "outputs": [
        {
          "output_type": "stream",
          "name": "stdout",
          "text": [
            "[22.31, 27.9, 25.1, 30.4]\n"
          ]
        }
      ]
    },
    {
      "cell_type": "code",
      "source": [
        "# sort items\n",
        "student_bmi.sort() # ascending\n",
        "print(student_bmi)\n",
        "student_bmi.sort(reverse = True) # descending\n",
        "print(student_bmi)"
      ],
      "metadata": {
        "id": "yxTlvfkd9bKR",
        "colab": {
          "base_uri": "https://localhost:8080/"
        },
        "outputId": "981166f7-af1d-4330-f7e4-5361f670a827"
      },
      "execution_count": null,
      "outputs": [
        {
          "output_type": "stream",
          "name": "stdout",
          "text": [
            "[22.31, 25.1, 27.9, 30.4]\n",
            "[30.4, 27.9, 25.1, 22.31]\n"
          ]
        }
      ]
    },
    {
      "cell_type": "markdown",
      "source": [
        "## Exercise 5\n",
        "\n",
        "---\n",
        "\n",
        "\n",
        "1. Calculate the BMI score for all patients and store it in a list. (Hint: for loop)\n",
        "2. Remove items in the normal range.  (Hint: if statement)\n",
        "3. Sort items by descending.\n",
        "\n",
        "*   Expected output:\n",
        "        [28.20, 27.52, 25.34]\n",
        "\n"
      ],
      "metadata": {
        "id": "QtLDOzvR4iPW"
      }
    },
    {
      "cell_type": "code",
      "source": [
        "patient_name = [\"Georgia\", \"Oscar\", \"Juliet\", \"Lily\", \"William\"]\n",
        "patient_weight = [54.7, 79.6, 81.2, 51.9, 102.5] # kg\n",
        "patient_height = [152, 168, 179, 161, 193] # cm\n",
        "patient_bmi = []\n",
        "\n",
        "# start from here...\n",
        "\n",
        "\n",
        "\n",
        "\n",
        "\n"
      ],
      "metadata": {
        "id": "nzLyoi5C4iWE"
      },
      "execution_count": null,
      "outputs": []
    },
    {
      "cell_type": "markdown",
      "source": [
        "# 6.&nbsp;Data Structure (tuple, set and dictionary)"
      ],
      "metadata": {
        "id": "eRw2dE42Emvl"
      }
    },
    {
      "cell_type": "markdown",
      "source": [
        "We can group together closely-related data unchangeable using **tuples**. We create them similarly to lists but using parentheses `()` instead of brackets."
      ],
      "metadata": {
        "id": "7gds1knpE5wY"
      }
    },
    {
      "cell_type": "code",
      "source": [
        "thistuple = (\"Georgia\", 54.7, 152, False)\n",
        "print(type(thistuple))"
      ],
      "metadata": {
        "id": "v2RZzhBBE55A",
        "colab": {
          "base_uri": "https://localhost:8080/"
        },
        "outputId": "17e1afb4-865d-4d49-b2bc-6f75fb71b356"
      },
      "execution_count": null,
      "outputs": [
        {
          "output_type": "stream",
          "name": "stdout",
          "text": [
            "<class 'tuple'>\n"
          ]
        }
      ]
    },
    {
      "cell_type": "code",
      "source": [
        "print(len(thistuple))"
      ],
      "metadata": {
        "id": "2qvDBpO2dTA0",
        "colab": {
          "base_uri": "https://localhost:8080/"
        },
        "outputId": "9820cf54-5611-469d-a2fa-cbc40d14c2bf"
      },
      "execution_count": null,
      "outputs": [
        {
          "output_type": "stream",
          "name": "stdout",
          "text": [
            "4\n"
          ]
        }
      ]
    },
    {
      "cell_type": "code",
      "source": [
        "tuple_one_item = (\"Georgia\",)\n",
        "print(type(tuple_one_item))\n",
        "\n",
        "# it is NOT a tuple\n",
        "tuple_one_item = (\"Georgia\")\n",
        "print(type(tuple_one_item))"
      ],
      "metadata": {
        "id": "UGUOBolOdTDb",
        "colab": {
          "base_uri": "https://localhost:8080/"
        },
        "outputId": "62f1aac9-b33a-4cfa-ade5-d1749a325208"
      },
      "execution_count": null,
      "outputs": [
        {
          "output_type": "stream",
          "name": "stdout",
          "text": [
            "<class 'tuple'>\n",
            "<class 'str'>\n"
          ]
        }
      ]
    },
    {
      "cell_type": "code",
      "source": [
        "# access item by index\n",
        "print(\"index 0 : \", thistuple[0])\n",
        "print(\"index 1 : \", thistuple[1])\n",
        "print(\"index -2: \", thistuple[-2])\n",
        "print(\"=================================\")\n",
        "print(\"range of index 1: \", thistuple[1:3])\n",
        "print(\"range of index 2: \", thistuple[:3])\n",
        "print(\"range of index 3: \", thistuple[1:])\n",
        "print(\"range of index 4: \", thistuple[:])\n",
        "print(\"range of index 5: \", thistuple[-3:-1])\n",
        "print(\"range of index 6: \", thistuple[:-1])\n",
        "print(\"range of index 7: \", thistuple[-3:])"
      ],
      "metadata": {
        "id": "qeTA8yFldTF7",
        "colab": {
          "base_uri": "https://localhost:8080/"
        },
        "outputId": "affad4ff-5f81-4d9f-bc56-29caf14542e0"
      },
      "execution_count": null,
      "outputs": [
        {
          "output_type": "stream",
          "name": "stdout",
          "text": [
            "index 0 :  Georgia\n",
            "index 1 :  54.7\n",
            "index -2:  152\n",
            "=================================\n",
            "range of index 1:  (54.7, 152)\n",
            "range of index 2:  ('Georgia', 54.7, 152)\n",
            "range of index 3:  (54.7, 152, False)\n",
            "range of index 4:  ('Georgia', 54.7, 152, False)\n",
            "range of index 5:  (54.7, 152)\n",
            "range of index 6:  ('Georgia', 54.7, 152)\n",
            "range of index 7:  (54.7, 152, False)\n"
          ]
        }
      ]
    },
    {
      "cell_type": "code",
      "source": [
        "# check if item exists\n",
        "if \"Georgia\" in thistuple:\n",
        "  print(\"Yes, Georgia is in thistuple.\")"
      ],
      "metadata": {
        "id": "nHWHgnpidTIt",
        "colab": {
          "base_uri": "https://localhost:8080/"
        },
        "outputId": "520556e6-fc9c-4dc6-f295-2c02fd3c94bb"
      },
      "execution_count": null,
      "outputs": [
        {
          "output_type": "stream",
          "name": "stdout",
          "text": [
            "Yes, Georgia is in thistuple.\n"
          ]
        }
      ]
    },
    {
      "cell_type": "markdown",
      "source": [
        "Tuples are **unchangeable**, therefore we should convert them to a list to change, add, or remove an item."
      ],
      "metadata": {
        "id": "T9v6ZuMcfITx"
      }
    },
    {
      "cell_type": "code",
      "source": [
        "thislist = list(thistuple) # convert to a list\n",
        "thislist[0] = \"Oscar\" # change an item\n",
        "thislist.append(\"Brown\") # add an item\n",
        "thislist.remove(152) # remove an item\n",
        "thistuple = tuple(thislist) # convert to a tuple\n",
        "print(thistuple)"
      ],
      "metadata": {
        "id": "uWaTgAtcdTLM",
        "colab": {
          "base_uri": "https://localhost:8080/"
        },
        "outputId": "e4f0e97d-f030-4cc7-98ef-242b1afcba9d"
      },
      "execution_count": null,
      "outputs": [
        {
          "output_type": "stream",
          "name": "stdout",
          "text": [
            "('Oscar', 54.7, False, 'Brown')\n"
          ]
        }
      ]
    },
    {
      "cell_type": "markdown",
      "source": [
        "The next data type is **set**. We use a set like a list but use `{}` to make sure values can't have any **duplicates**."
      ],
      "metadata": {
        "id": "YNEB9F21hs5u"
      }
    },
    {
      "cell_type": "code",
      "source": [
        "thisset = {\"Georgia\", 54.7, 152, False, False}\n",
        "print(type(thisset))"
      ],
      "metadata": {
        "id": "9-s7KZrxdTNg",
        "colab": {
          "base_uri": "https://localhost:8080/"
        },
        "outputId": "61616880-8ab5-42da-989c-f745b93cb12e"
      },
      "execution_count": null,
      "outputs": [
        {
          "output_type": "stream",
          "name": "stdout",
          "text": [
            "<class 'set'>\n"
          ]
        }
      ]
    },
    {
      "cell_type": "code",
      "source": [
        "print(len(thisset)) # remove duplicated False"
      ],
      "metadata": {
        "id": "P3OpJxp6dTQb",
        "colab": {
          "base_uri": "https://localhost:8080/"
        },
        "outputId": "7a76c84f-4e0a-4b9a-8b2f-bc125cbf6e74"
      },
      "execution_count": null,
      "outputs": [
        {
          "output_type": "stream",
          "name": "stdout",
          "text": [
            "4\n"
          ]
        }
      ]
    },
    {
      "cell_type": "markdown",
      "source": [
        "We can not refer to set items by index or key, because sets are **unordered** and they can appear in a different order each time you use them."
      ],
      "metadata": {
        "id": "cjNe4ttljkKY"
      }
    },
    {
      "cell_type": "code",
      "source": [
        "print(thisset)"
      ],
      "metadata": {
        "id": "udvCST7udTS-",
        "colab": {
          "base_uri": "https://localhost:8080/"
        },
        "outputId": "d50bf6ad-3a18-4904-bb46-ee94acc75f83"
      },
      "execution_count": null,
      "outputs": [
        {
          "output_type": "stream",
          "name": "stdout",
          "text": [
            "{152, False, 'Georgia', 54.7}\n"
          ]
        }
      ]
    },
    {
      "cell_type": "markdown",
      "source": [
        "Although we can't change values, we are able to **add** or **remove** new values."
      ],
      "metadata": {
        "id": "m883K1s0k3gs"
      }
    },
    {
      "cell_type": "code",
      "source": [
        "thisset.add(\"Brown\")\n",
        "thisset.remove(54.7)\n",
        "print(thisset)"
      ],
      "metadata": {
        "id": "jmsml1z6dTVZ",
        "colab": {
          "base_uri": "https://localhost:8080/"
        },
        "outputId": "9d7c2ea7-7882-4ede-fe0f-104eaecec427"
      },
      "execution_count": null,
      "outputs": [
        {
          "output_type": "stream",
          "name": "stdout",
          "text": [
            "{False, 'Brown', 'Georgia', 152}\n"
          ]
        }
      ]
    },
    {
      "cell_type": "markdown",
      "source": [
        "Let's familiarize ourselves with another data type called **dictionary**. A dictionary consists of **keys** and **values** and is written in curly brackets `{}`."
      ],
      "metadata": {
        "id": "YcvPrTOyqpYB"
      }
    },
    {
      "cell_type": "code",
      "source": [
        "thisdict = {\"name\": [\"Georgia\"],\n",
        "            \"bmi\": 21.5,\n",
        "            \"normal\": True}\n",
        "print(type(thisdict))"
      ],
      "metadata": {
        "id": "jnFRuCAKqphf",
        "colab": {
          "base_uri": "https://localhost:8080/"
        },
        "outputId": "33b29780-556e-47b4-a3c8-85be58dfaf93"
      },
      "execution_count": null,
      "outputs": [
        {
          "output_type": "stream",
          "name": "stdout",
          "text": [
            "<class 'dict'>\n"
          ]
        }
      ]
    },
    {
      "cell_type": "code",
      "source": [
        "print(len(thisdict))"
      ],
      "metadata": {
        "id": "_GJ3hu1psoJG",
        "colab": {
          "base_uri": "https://localhost:8080/"
        },
        "outputId": "612aa630-0a0e-4b86-ec52-aca52d227ea6"
      },
      "execution_count": null,
      "outputs": [
        {
          "output_type": "stream",
          "name": "stdout",
          "text": [
            "3\n"
          ]
        }
      ]
    },
    {
      "cell_type": "code",
      "source": [
        "# get all the keys\n",
        "print(thisdict.keys())"
      ],
      "metadata": {
        "id": "JTN5Wz8ntOHP",
        "colab": {
          "base_uri": "https://localhost:8080/"
        },
        "outputId": "ed039606-652a-457e-abf0-a28ad2dbe0a0"
      },
      "execution_count": null,
      "outputs": [
        {
          "output_type": "stream",
          "name": "stdout",
          "text": [
            "dict_keys(['name', 'bmi', 'normal'])\n"
          ]
        }
      ]
    },
    {
      "cell_type": "code",
      "source": [
        "# get all the values\n",
        "print(thisdict.values())"
      ],
      "metadata": {
        "id": "U23d6mqYtb2o",
        "colab": {
          "base_uri": "https://localhost:8080/"
        },
        "outputId": "14a0bc22-17a4-4573-bda1-dc31d18f4b5b"
      },
      "execution_count": null,
      "outputs": [
        {
          "output_type": "stream",
          "name": "stdout",
          "text": [
            "dict_values([['Georgia'], 21.5, True])\n"
          ]
        }
      ]
    },
    {
      "cell_type": "code",
      "source": [
        "# get all the items in tuples\n",
        "print(thisdict.items())"
      ],
      "metadata": {
        "id": "2uujPvCktn8C",
        "colab": {
          "base_uri": "https://localhost:8080/"
        },
        "outputId": "c0a44ce8-44e2-4c9e-81c4-32676de74e72"
      },
      "execution_count": null,
      "outputs": [
        {
          "output_type": "stream",
          "name": "stdout",
          "text": [
            "dict_items([('name', ['Georgia']), ('bmi', 21.5), ('normal', True)])\n"
          ]
        }
      ]
    },
    {
      "cell_type": "code",
      "source": [
        "# access item by key name\n",
        "print(thisdict[\"bmi\"])"
      ],
      "metadata": {
        "id": "bwJDMVx1s4e8",
        "colab": {
          "base_uri": "https://localhost:8080/"
        },
        "outputId": "149aadc8-3ae8-4dda-dcbe-7b94fbbfc549"
      },
      "execution_count": null,
      "outputs": [
        {
          "output_type": "stream",
          "name": "stdout",
          "text": [
            "21.5\n"
          ]
        }
      ]
    },
    {
      "cell_type": "code",
      "source": [
        "# check if key exists\n",
        "if \"name\" in thisdict:\n",
        "  print(\"Yes, name is one of the keys in the thisdict\")"
      ],
      "metadata": {
        "id": "OaSO3o0vs4h1",
        "colab": {
          "base_uri": "https://localhost:8080/"
        },
        "outputId": "2c732494-da67-4631-ec11-27305a80cd8f"
      },
      "execution_count": null,
      "outputs": [
        {
          "output_type": "stream",
          "name": "stdout",
          "text": [
            "Yes, name is one of the keys in the thisdict\n"
          ]
        }
      ]
    },
    {
      "cell_type": "code",
      "source": [
        "thisdict[\"name\"] = \"Oscar\" # change an item\n",
        "thisdict[\"surname\"] = \"Brown\" # add an item\n",
        "thisdict.pop(\"bmi\") # remove an item\n",
        "print(thisdict)"
      ],
      "metadata": {
        "id": "RkaPCVzYs4nW",
        "colab": {
          "base_uri": "https://localhost:8080/"
        },
        "outputId": "fb591ae4-cd1c-49b3-8c03-7a3eb7c9ee91"
      },
      "execution_count": null,
      "outputs": [
        {
          "output_type": "stream",
          "name": "stdout",
          "text": [
            "{'name': 'Oscar', 'normal': True, 'surname': 'Brown'}\n"
          ]
        }
      ]
    },
    {
      "cell_type": "markdown",
      "source": [
        "## Exercise 6\n",
        "\n",
        "---\n",
        "\n",
        "\n",
        "1. Calculate the BMI score for all patients and store their **name** and **BMI score** in patients_info dictionary.\n",
        "2. Remove items in the normal range.\n",
        "\n",
        "*   Expected output:\n",
        "        patients_info = {\"name\": [\"Oscar\", \"Juliet\", \"William\"], \"bmi\": [28, 25, 27]}\n"
      ],
      "metadata": {
        "id": "ltw_RalJGqZU"
      }
    },
    {
      "cell_type": "code",
      "source": [
        "patient_name = [\"Georgia\", \"Oscar\", \"Juliet\", \"Lily\", \"William\"]\n",
        "patient_weight = [54.7, 79.6, 81.2, 51.9, 102.5] # kg\n",
        "patient_height = [152, 168, 179, 161, 193] # cm\n",
        "patients_info = {\"name\":[]\n",
        "                 ,\"bmi\":[]}\n",
        "\n",
        "# start from here...\n",
        "\n",
        "\n",
        "\n",
        "\n",
        "\n"
      ],
      "metadata": {
        "id": "n7BRNodMGqgj"
      },
      "execution_count": null,
      "outputs": []
    },
    {
      "cell_type": "markdown",
      "source": [
        "# 7.&nbsp;Data Structure (module and array)"
      ],
      "metadata": {
        "id": "UWihsStYE3WV"
      }
    },
    {
      "cell_type": "markdown",
      "source": [
        "The last data type we want to know is an **array**. However, we need to know about the **module** first to work with arrays in Python easier.\n",
        "\n",
        "Modules group related classes and methods to be accessible from one place.\n",
        "\n",
        "In the following, we import the [numpy](https://numpy.org//) package and modify its name into np to use easier later. Numpy is the fundamental package for scientific computing with Python."
      ],
      "metadata": {
        "id": "UhTzDarVFGz9"
      }
    },
    {
      "cell_type": "code",
      "source": [
        "import numpy as np"
      ],
      "metadata": {
        "id": "bXVRxYUjFG8M"
      },
      "execution_count": null,
      "outputs": []
    },
    {
      "cell_type": "markdown",
      "source": [
        "We can access an array's values by referring to its index number, and arrays can hold many values."
      ],
      "metadata": {
        "id": "kNI-hJ1c4F5t"
      }
    },
    {
      "cell_type": "code",
      "source": [
        "# set the seed for reproducibility\n",
        "np.random.seed(42)\n",
        "\n",
        "# generate 20 random float values between 18 and 32\n",
        "bmi_array = np.random.uniform(18, 32, size=20)\n",
        "bmi_array = np.round(bmi_array, 2)\n",
        "\n",
        "print(type(bmi_array))"
      ],
      "metadata": {
        "id": "aDNfhUDh4GD5",
        "colab": {
          "base_uri": "https://localhost:8080/"
        },
        "outputId": "abf9ffc9-99e3-42d3-8441-a4b1c70729f3"
      },
      "execution_count": null,
      "outputs": [
        {
          "output_type": "stream",
          "name": "stdout",
          "text": [
            "<class 'numpy.ndarray'>\n"
          ]
        }
      ]
    },
    {
      "cell_type": "code",
      "source": [
        "print(bmi_array)"
      ],
      "metadata": {
        "id": "TzIsf6ti5HMR",
        "colab": {
          "base_uri": "https://localhost:8080/"
        },
        "outputId": "0f053b5b-fd31-492a-d414-96622fd859be"
      },
      "execution_count": null,
      "outputs": [
        {
          "output_type": "stream",
          "name": "stdout",
          "text": [
            "[23.24 31.31 28.25 26.38 20.18 20.18 18.81 30.13 26.42 27.91 18.29 31.58\n",
            " 29.65 20.97 20.55 20.57 22.26 25.35 24.05 22.08]\n"
          ]
        }
      ]
    },
    {
      "cell_type": "code",
      "source": [
        "print(len(bmi_array))"
      ],
      "metadata": {
        "id": "Kk0yKPSU5RX7",
        "colab": {
          "base_uri": "https://localhost:8080/"
        },
        "outputId": "f68d735b-2c55-4ddf-d11e-332c291e66c7"
      },
      "execution_count": null,
      "outputs": [
        {
          "output_type": "stream",
          "name": "stdout",
          "text": [
            "20\n"
          ]
        }
      ]
    },
    {
      "cell_type": "code",
      "source": [
        "# access item by index\n",
        "print(\"index 0 : \", bmi_array[0])\n",
        "print(\"index 1 : \", bmi_array[1])\n",
        "print(\"index -2: \", bmi_array[-2])\n",
        "print(\"\\n\")\n",
        "print(\"=================================\")\n",
        "print(\"\\n\")\n",
        "print(\"range of index 1: \", bmi_array[1:3])\n",
        "print(\"\\nrange of index 2: \", bmi_array[:3])\n",
        "print(\"\\nrange of index 3: \", bmi_array[1:])\n",
        "print(\"\\nrange of index 4: \", bmi_array[:])\n",
        "print(\"\\nrange of index 5: \", bmi_array[-3:-1])\n",
        "print(\"\\nrange of index 6: \", bmi_array[:-1])\n",
        "print(\"\\nrange of index 7: \", bmi_array[-3:])"
      ],
      "metadata": {
        "id": "4eEgBJrN6bzP",
        "colab": {
          "base_uri": "https://localhost:8080/"
        },
        "outputId": "40b7dea6-8131-408f-edb4-f18c867e30c2"
      },
      "execution_count": null,
      "outputs": [
        {
          "output_type": "stream",
          "name": "stdout",
          "text": [
            "index 0 :  23.24\n",
            "index 1 :  31.31\n",
            "index -2:  24.05\n",
            "\n",
            "\n",
            "=================================\n",
            "\n",
            "\n",
            "range of index 1:  [31.31 28.25]\n",
            "\n",
            "range of index 2:  [23.24 31.31 28.25]\n",
            "\n",
            "range of index 3:  [31.31 28.25 26.38 20.18 20.18 18.81 30.13 26.42 27.91 18.29 31.58 29.65\n",
            " 20.97 20.55 20.57 22.26 25.35 24.05 22.08]\n",
            "\n",
            "range of index 4:  [23.24 31.31 28.25 26.38 20.18 20.18 18.81 30.13 26.42 27.91 18.29 31.58\n",
            " 29.65 20.97 20.55 20.57 22.26 25.35 24.05 22.08]\n",
            "\n",
            "range of index 5:  [25.35 24.05]\n",
            "\n",
            "range of index 6:  [23.24 31.31 28.25 26.38 20.18 20.18 18.81 30.13 26.42 27.91 18.29 31.58\n",
            " 29.65 20.97 20.55 20.57 22.26 25.35 24.05]\n",
            "\n",
            "range of index 7:  [25.35 24.05 22.08]\n"
          ]
        }
      ]
    },
    {
      "cell_type": "code",
      "source": [
        "# 1D array with 5 elements between 18 to 30\n",
        "arr_1d = np.random.randint(18,30,size=(3))\n",
        "print(arr_1d.shape)\n",
        "print(arr_1d)\n",
        "\n",
        "# 2D array with 3 rows and 4 columns\n",
        "arr_2d = np.random.randint(18,30,size=(3, 2))\n",
        "print(\"\\n\")\n",
        "print(\"==================\")\n",
        "print(\"\\n\")\n",
        "print(arr_2d.shape)\n",
        "print(arr_2d)\n",
        "\n",
        "\n",
        "# 3D array with 2 planes, 3 rows, and 2 columns\n",
        "arr_3d = np.random.randint(18,30,size=(2, 3, 5))\n",
        "print(\"\\n\")\n",
        "print(\"==================\")\n",
        "print(\"\\n\")\n",
        "print(arr_3d.shape)\n",
        "print(arr_3d)\n"
      ],
      "metadata": {
        "id": "nMu0mDTH8_q7",
        "colab": {
          "base_uri": "https://localhost:8080/"
        },
        "outputId": "39b6dd20-9ba8-4e51-b276-fda2233af7de"
      },
      "execution_count": null,
      "outputs": [
        {
          "output_type": "stream",
          "name": "stdout",
          "text": [
            "(3,)\n",
            "[20 20 18]\n",
            "\n",
            "\n",
            "==================\n",
            "\n",
            "\n",
            "(3, 2)\n",
            "[[28 22]\n",
            " [27 24]\n",
            " [27 26]]\n",
            "\n",
            "\n",
            "==================\n",
            "\n",
            "\n",
            "(2, 3, 5)\n",
            "[[[29 24 26 25 29]\n",
            "  [19 18 24 24 25]\n",
            "  [22 20 29 25 23]]\n",
            "\n",
            " [[28 20 18 20 22]\n",
            "  [20 18 22 27 24]\n",
            "  [24 28 26 27 27]]]\n"
          ]
        }
      ]
    },
    {
      "cell_type": "markdown",
      "source": [
        "## Exercise 7\n",
        "\n",
        "---\n",
        "\n",
        "\n",
        "1. Create two arrays for weight and height with 5 float random values.\n",
        "2. Calculate the BMI score and store it in a list called **calculated_bmi**, at the same time, indicate whether a BMI value is normal or not and store it in a list called **evaluated_bmi**.\n",
        "\n",
        "\n",
        "*   Expected output:\n",
        "        calculated_bmi: [31.35, 21.72, 47.07, 34.03, 29.43]\n",
        "        evaluated_bmi: [False, True, False, False, False]"
      ],
      "metadata": {
        "id": "-iZqX06FFyH4"
      }
    },
    {
      "cell_type": "code",
      "source": [
        "# select a reasonable weight and height range as you want\n",
        "np.random.seed(42)\n",
        "\n",
        "# start from here...\n",
        "\n",
        "\n",
        "\n",
        "\n"
      ],
      "metadata": {
        "id": "k3RYNwSJFyRD"
      },
      "execution_count": null,
      "outputs": []
    },
    {
      "cell_type": "markdown",
      "source": [
        "# 8.&nbsp;Algorithm (function)"
      ],
      "metadata": {
        "id": "KN5e7iF2FZrZ"
      }
    },
    {
      "cell_type": "markdown",
      "source": [
        "**Algorithms** define a set of actions that must be performed in a specific step by step to produce the desired result.\n",
        "\n",
        "**Functions** help us to implement algorithms. Functions are blocks of code that only run when they are called in situations where we want to reuse existing code without rewriting it."
      ],
      "metadata": {
        "id": "0FokSWj-Fd2O"
      }
    },
    {
      "cell_type": "code",
      "source": [
        "# define a function\n",
        "def first_function():\n",
        "  print(\"this is my first function.\")\n",
        "\n",
        "# call a function\n",
        "first_function()"
      ],
      "metadata": {
        "id": "LcTtDhE2Fd-0",
        "colab": {
          "base_uri": "https://localhost:8080/"
        },
        "outputId": "d2a24a59-0afc-41c9-8d85-534f07a5ff29"
      },
      "execution_count": null,
      "outputs": [
        {
          "output_type": "stream",
          "name": "stdout",
          "text": [
            "this is my first function.\n"
          ]
        }
      ]
    },
    {
      "cell_type": "markdown",
      "source": [
        "We can write our algorithm inside a function and pass value to it."
      ],
      "metadata": {
        "id": "i7XYQz5YvCS2"
      }
    },
    {
      "cell_type": "code",
      "source": [
        "def first_function(x):\n",
        "  x = x + 3\n",
        "  return x\n",
        "\n",
        "first_function(x=4)"
      ],
      "metadata": {
        "id": "LD8ARDdhvCZ4",
        "colab": {
          "base_uri": "https://localhost:8080/"
        },
        "outputId": "2c3633cc-1c74-443a-8de3-660cc6fa619f"
      },
      "execution_count": null,
      "outputs": [
        {
          "output_type": "execute_result",
          "data": {
            "text/plain": [
              "7"
            ]
          },
          "metadata": {},
          "execution_count": 128
        }
      ]
    },
    {
      "cell_type": "markdown",
      "source": [
        "More than one argument we can use in functions."
      ],
      "metadata": {
        "id": "nrBwEqmYwwcT"
      }
    },
    {
      "cell_type": "code",
      "source": [
        "def first_function(x,y):\n",
        "  z = x + y\n",
        "  return z\n",
        "\n",
        "first_function(x=4,y=2)"
      ],
      "metadata": {
        "id": "zWVIK6MWwwme",
        "colab": {
          "base_uri": "https://localhost:8080/"
        },
        "outputId": "7311121f-c5fc-4851-ac45-430bc0c7a7ba"
      },
      "execution_count": null,
      "outputs": [
        {
          "output_type": "execute_result",
          "data": {
            "text/plain": [
              "6"
            ]
          },
          "metadata": {},
          "execution_count": 129
        }
      ]
    },
    {
      "cell_type": "markdown",
      "source": [
        "It's better to start a function name with a **verb** that explains what will happen in a function."
      ],
      "metadata": {
        "id": "-tmKYD9txYCH"
      }
    },
    {
      "cell_type": "code",
      "source": [
        "def get_sum(x,y):\n",
        "  z = x + y\n",
        "  return z\n",
        "\n",
        "get_sum(x=4,y=2)"
      ],
      "metadata": {
        "id": "28V0zLoYxYPa",
        "colab": {
          "base_uri": "https://localhost:8080/"
        },
        "outputId": "f198e3e5-a56d-4598-d410-18247ca9c77d"
      },
      "execution_count": null,
      "outputs": [
        {
          "output_type": "execute_result",
          "data": {
            "text/plain": [
              "6"
            ]
          },
          "metadata": {},
          "execution_count": 131
        }
      ]
    },
    {
      "cell_type": "markdown",
      "source": [
        "We can set a default value for arguments."
      ],
      "metadata": {
        "id": "RCjLt2CWx0Sa"
      }
    },
    {
      "cell_type": "code",
      "source": [
        "def get_sum(x,y=3):\n",
        "  z = x + y\n",
        "  return z\n",
        "\n",
        "get_sum(x=4)"
      ],
      "metadata": {
        "id": "OBIaOs1xx0dl",
        "colab": {
          "base_uri": "https://localhost:8080/"
        },
        "outputId": "dfeb968b-91dc-4f02-bc53-53855ed00112"
      },
      "execution_count": null,
      "outputs": [
        {
          "output_type": "execute_result",
          "data": {
            "text/plain": [
              "7"
            ]
          },
          "metadata": {},
          "execution_count": 132
        }
      ]
    },
    {
      "cell_type": "code",
      "source": [
        "def get_sum(x,y=3):\n",
        "  z = x + y\n",
        "  return z\n",
        "\n",
        "get_sum(x=4,y=2)"
      ],
      "metadata": {
        "id": "7pliaa8myP3i",
        "colab": {
          "base_uri": "https://localhost:8080/"
        },
        "outputId": "765ddfc8-4f30-4d53-8962-bbbab8c6fbdd"
      },
      "execution_count": null,
      "outputs": [
        {
          "output_type": "execute_result",
          "data": {
            "text/plain": [
              "6"
            ]
          },
          "metadata": {},
          "execution_count": 133
        }
      ]
    },
    {
      "cell_type": "markdown",
      "source": [
        "We can also pass a list to the arguments."
      ],
      "metadata": {
        "id": "6FZESGBFyXf1"
      }
    },
    {
      "cell_type": "code",
      "source": [
        "def get_sum(x,y):\n",
        "  z = x + y\n",
        "  return z\n",
        "\n",
        "x = [3,2,7]\n",
        "y = [1,4]\n",
        "get_sum(x,y)"
      ],
      "metadata": {
        "id": "ggakhiWeyXr_",
        "colab": {
          "base_uri": "https://localhost:8080/"
        },
        "outputId": "670985a2-20ab-405a-ca92-a5d780d6548b"
      },
      "execution_count": null,
      "outputs": [
        {
          "output_type": "execute_result",
          "data": {
            "text/plain": [
              "[3, 2, 7, 1, 4]"
            ]
          },
          "metadata": {},
          "execution_count": 134
        }
      ]
    },
    {
      "cell_type": "markdown",
      "source": [
        "Or using loops and conditional statements inside functions."
      ],
      "metadata": {
        "id": "JsmqUPt6yuGr"
      }
    },
    {
      "cell_type": "code",
      "source": [
        "def get_square(x,y):\n",
        "  z = x + y\n",
        "  if len(z) == 0:\n",
        "    print(\"your list is empty!\")\n",
        "  else:\n",
        "    for i in z:\n",
        "      j = i**2\n",
        "      print(f\"i = {i} and j = {j}\")\n",
        "\n",
        "x = [3,2,7]\n",
        "y = [1,-4]\n",
        "get_square(x,y)"
      ],
      "metadata": {
        "id": "Vi8rULGIyuO7",
        "colab": {
          "base_uri": "https://localhost:8080/"
        },
        "outputId": "ef8fb281-2bf6-44b0-b187-eb6cba26cb9e"
      },
      "execution_count": null,
      "outputs": [
        {
          "output_type": "stream",
          "name": "stdout",
          "text": [
            "i = 3 and j = 9\n",
            "i = 2 and j = 4\n",
            "i = 7 and j = 49\n",
            "i = 1 and j = 1\n",
            "i = -4 and j = 16\n"
          ]
        }
      ]
    },
    {
      "cell_type": "markdown",
      "source": [
        "## Exercise 8\n",
        "\n",
        "---\n",
        "\n",
        "\n",
        "1. Define a function to calculate BMI score.\n",
        "2. Store BMI scores into the bmi_score list.\n",
        "3. Sort items  by descending.\n",
        "\n",
        "*   Expected output:\n",
        "        bmi_score = [23.68, 28.20, 25.34, 20.02]"
      ],
      "metadata": {
        "id": "GeLjDt-uF19D"
      }
    },
    {
      "cell_type": "code",
      "source": [
        "# patient = [weight(kg), height(cm)]\n",
        "patient1 = [54.7, 152]\n",
        "patient2 = [79.6, 168]\n",
        "patient3 = [81.2, 179]\n",
        "patient4 = [51.9, 161]\n",
        "bmi_score = []\n",
        "\n",
        "# start from here...\n",
        "\n",
        "\n",
        "\n"
      ],
      "metadata": {
        "id": "W_z2sgs11Cio"
      },
      "execution_count": null,
      "outputs": []
    },
    {
      "cell_type": "markdown",
      "source": [
        "# 9.&nbsp;Algorithm (class)"
      ],
      "metadata": {
        "id": "LgMZeu2yFeGu"
      }
    },
    {
      "cell_type": "markdown",
      "source": [
        "There are many properties and methods in an **object** in Python, and almost everything is an object. **Classes** are like object constructors; we use them to group data and functionality. Functions belonging to objects are called **methods**."
      ],
      "metadata": {
        "id": "FAPRYKP-FgAM"
      }
    },
    {
      "cell_type": "code",
      "source": [
        "def get_square(x,y):\n",
        "  z = x + y\n",
        "  if len(z) == 0:\n",
        "    print(\"your list is empty!\")\n",
        "  else:\n",
        "    for i in z:\n",
        "      j = i**2\n",
        "      print(f\"i = {i} and j = {j}\")\n",
        "\n",
        "x = [3,2,7]\n",
        "y = [1,-4]\n",
        "get_square(x,y)"
      ],
      "metadata": {
        "id": "KReIXPhzFgIq",
        "colab": {
          "base_uri": "https://localhost:8080/"
        },
        "outputId": "c99d2a95-598f-4ee1-a3c8-e5e28ca29046"
      },
      "execution_count": null,
      "outputs": [
        {
          "output_type": "stream",
          "name": "stdout",
          "text": [
            "i = 3 and j = 9\n",
            "i = 2 and j = 4\n",
            "i = 7 and j = 49\n",
            "i = 1 and j = 1\n",
            "i = -4 and j = 16\n"
          ]
        }
      ]
    },
    {
      "cell_type": "code",
      "source": [
        "class Price:\n",
        "  def __init__(self, value, discount):\n",
        "    self.value = value\n",
        "    self.discount = discount\n",
        "\n",
        "  def summer(self):\n",
        "    summer_price = round(self.value - (self.value * (self.discount/100)), 2)\n",
        "    print(summer_price)\n",
        "\n",
        "  def winter(self):\n",
        "    winter_price = round(self.value - (self.value * (self.discount * 2/100)), 2) #double discount\n",
        "    print(winter_price)\n",
        "\n",
        "#create variables from the class (Price is a \"definition\" and shoes_price is an \"instance\")\n",
        "shoes_price = Price(115, 18) # price 115 euro and 18% discount\n",
        "shoes_price.summer()\n",
        "shoes_price.winter()"
      ],
      "metadata": {
        "id": "6cJvyCBk57Xv",
        "colab": {
          "base_uri": "https://localhost:8080/"
        },
        "outputId": "b8d51ed9-33c7-4f8e-dfc3-916727f9ca9b"
      },
      "execution_count": null,
      "outputs": [
        {
          "output_type": "stream",
          "name": "stdout",
          "text": [
            "94.3\n",
            "73.6\n"
          ]
        }
      ]
    },
    {
      "cell_type": "markdown",
      "source": [
        "## Exercise 9\n",
        "\n",
        "---\n",
        "\n",
        "\n",
        "1. Define a class called BMI and three methods including converting pound to kg, inch to cm, and calculating BMI score.\n",
        "2. Calculate BMI score for 3 given patients and store them in the bmi_score list.\n",
        "\n",
        "*   Expected output:\n",
        "        bmi_score = [23.49, 27.98, 25.14, 19.86]"
      ],
      "metadata": {
        "id": "0jKazIRgF6kJ"
      }
    },
    {
      "cell_type": "code",
      "source": [
        "# 1 pound ≈ 0.45 kg\n",
        "# 1 inch ≈ 2.54 cm\n",
        "# patient = [weight(pond), height(inch)]\n",
        "patient1 = [120.59, 59.84]\n",
        "patient2 = [175.49, 66.14]\n",
        "patient3 = [179.02, 70.47]\n",
        "patient4 = [114.42, 63.39]\n",
        "bmi_score = []\n",
        "\n",
        "# start from here...\n",
        "\n",
        "\n",
        "\n",
        "\n"
      ],
      "metadata": {
        "id": "sPdwfkMYF6rJ"
      },
      "execution_count": null,
      "outputs": []
    },
    {
      "cell_type": "markdown",
      "source": [
        "# 10.&nbsp;Algorithm (error and exception)"
      ],
      "metadata": {
        "id": "Wi38m2kCFgQA"
      }
    },
    {
      "cell_type": "markdown",
      "source": [
        "If Python can't understand your code, we will get an **error**! However, we can find our error location by finding `^` in an error message."
      ],
      "metadata": {
        "id": "EZIFQwRcFtrN"
      }
    },
    {
      "cell_type": "code",
      "source": [
        "# syntax error (missed variable)\n",
        "x = 5\n",
        "if > 3:\n",
        "  print(\"Hello\")"
      ],
      "metadata": {
        "id": "Tys_1jHNFtzQ",
        "colab": {
          "base_uri": "https://localhost:8080/",
          "height": 106
        },
        "outputId": "84d09bb6-6da6-4fd4-c64f-3ec27562e676"
      },
      "execution_count": null,
      "outputs": [
        {
          "output_type": "error",
          "ename": "SyntaxError",
          "evalue": "invalid syntax (<ipython-input-138-479401ea9475>, line 3)",
          "traceback": [
            "\u001b[0;36m  File \u001b[0;32m\"<ipython-input-138-479401ea9475>\"\u001b[0;36m, line \u001b[0;32m3\u001b[0m\n\u001b[0;31m    if > 3:\u001b[0m\n\u001b[0m       ^\u001b[0m\n\u001b[0;31mSyntaxError\u001b[0m\u001b[0;31m:\u001b[0m invalid syntax\n"
          ]
        }
      ]
    },
    {
      "cell_type": "code",
      "source": [
        "# syntax error (misspelling)\n",
        "x = 5\n",
        "iif x > 3:\n",
        "  print(\"Hello\")"
      ],
      "metadata": {
        "id": "DnePzxlFG3BW",
        "colab": {
          "base_uri": "https://localhost:8080/",
          "height": 106
        },
        "outputId": "2eab783f-657e-4ea9-d51f-ce0550aad79d"
      },
      "execution_count": null,
      "outputs": [
        {
          "output_type": "error",
          "ename": "SyntaxError",
          "evalue": "invalid syntax (<ipython-input-139-79615e5d0d7d>, line 3)",
          "traceback": [
            "\u001b[0;36m  File \u001b[0;32m\"<ipython-input-139-79615e5d0d7d>\"\u001b[0;36m, line \u001b[0;32m3\u001b[0m\n\u001b[0;31m    iif x > 3:\u001b[0m\n\u001b[0m        ^\u001b[0m\n\u001b[0;31mSyntaxError\u001b[0m\u001b[0;31m:\u001b[0m invalid syntax\n"
          ]
        }
      ]
    },
    {
      "cell_type": "code",
      "source": [
        "# missing indentation error (missed indentation)\n",
        "x = 5\n",
        "if x > 3:\n",
        "print(\"Hello\")"
      ],
      "metadata": {
        "id": "5G13UAIKG-75"
      },
      "execution_count": null,
      "outputs": []
    },
    {
      "cell_type": "markdown",
      "source": [
        "On the other hand, sometimes Python understands our code, but can't execute it. Therefore, it raises an **exception**. The text in the console is called **traceback** and it helps us to **debug** our code."
      ],
      "metadata": {
        "id": "Izkq8WHzIIkq"
      }
    },
    {
      "cell_type": "code",
      "source": [
        "# name error\n",
        "height = cm / 100"
      ],
      "metadata": {
        "id": "mTa5piKVHUcS",
        "colab": {
          "base_uri": "https://localhost:8080/",
          "height": 159
        },
        "outputId": "17c1c648-f82e-4d48-ea97-5d69b8b93f79"
      },
      "execution_count": null,
      "outputs": [
        {
          "output_type": "error",
          "ename": "NameError",
          "evalue": "name 'cm' is not defined",
          "traceback": [
            "\u001b[0;31m---------------------------------------------------------------------------\u001b[0m",
            "\u001b[0;31mNameError\u001b[0m                                 Traceback (most recent call last)",
            "\u001b[0;32m<ipython-input-140-776d071cd876>\u001b[0m in \u001b[0;36m<cell line: 2>\u001b[0;34m()\u001b[0m\n\u001b[1;32m      1\u001b[0m \u001b[0;31m# name error\u001b[0m\u001b[0;34m\u001b[0m\u001b[0;34m\u001b[0m\u001b[0m\n\u001b[0;32m----> 2\u001b[0;31m \u001b[0mheight\u001b[0m \u001b[0;34m=\u001b[0m \u001b[0mcm\u001b[0m \u001b[0;34m/\u001b[0m \u001b[0;36m100\u001b[0m\u001b[0;34m\u001b[0m\u001b[0;34m\u001b[0m\u001b[0m\n\u001b[0m",
            "\u001b[0;31mNameError\u001b[0m: name 'cm' is not defined"
          ]
        }
      ]
    },
    {
      "cell_type": "code",
      "source": [
        "# type error\n",
        "height = 100 + \"56\""
      ],
      "metadata": {
        "id": "TkW5qZlNI19Z",
        "colab": {
          "base_uri": "https://localhost:8080/",
          "height": 159
        },
        "outputId": "e5b0b0b0-8a26-426c-9c28-756e31c8d651"
      },
      "execution_count": null,
      "outputs": [
        {
          "output_type": "error",
          "ename": "TypeError",
          "evalue": "unsupported operand type(s) for +: 'int' and 'str'",
          "traceback": [
            "\u001b[0;31m---------------------------------------------------------------------------\u001b[0m",
            "\u001b[0;31mTypeError\u001b[0m                                 Traceback (most recent call last)",
            "\u001b[0;32m<ipython-input-141-055b1d97da20>\u001b[0m in \u001b[0;36m<cell line: 2>\u001b[0;34m()\u001b[0m\n\u001b[1;32m      1\u001b[0m \u001b[0;31m# type error\u001b[0m\u001b[0;34m\u001b[0m\u001b[0;34m\u001b[0m\u001b[0m\n\u001b[0;32m----> 2\u001b[0;31m \u001b[0mheight\u001b[0m \u001b[0;34m=\u001b[0m \u001b[0;36m100\u001b[0m \u001b[0;34m+\u001b[0m \u001b[0;34m\"56\"\u001b[0m\u001b[0;34m\u001b[0m\u001b[0;34m\u001b[0m\u001b[0m\n\u001b[0m",
            "\u001b[0;31mTypeError\u001b[0m: unsupported operand type(s) for +: 'int' and 'str'"
          ]
        }
      ]
    },
    {
      "cell_type": "code",
      "source": [
        "# zero division error\n",
        "height = 156 / 0"
      ],
      "metadata": {
        "id": "riE9MlmxKZIU",
        "colab": {
          "base_uri": "https://localhost:8080/",
          "height": 159
        },
        "outputId": "04df1f9d-0aa1-40ce-8497-8787b7cf4c94"
      },
      "execution_count": null,
      "outputs": [
        {
          "output_type": "error",
          "ename": "ZeroDivisionError",
          "evalue": "division by zero",
          "traceback": [
            "\u001b[0;31m---------------------------------------------------------------------------\u001b[0m",
            "\u001b[0;31mZeroDivisionError\u001b[0m                         Traceback (most recent call last)",
            "\u001b[0;32m<ipython-input-142-5e4a0cb355ae>\u001b[0m in \u001b[0;36m<cell line: 2>\u001b[0;34m()\u001b[0m\n\u001b[1;32m      1\u001b[0m \u001b[0;31m# zero division error\u001b[0m\u001b[0;34m\u001b[0m\u001b[0;34m\u001b[0m\u001b[0m\n\u001b[0;32m----> 2\u001b[0;31m \u001b[0mheight\u001b[0m \u001b[0;34m=\u001b[0m \u001b[0;36m156\u001b[0m \u001b[0;34m/\u001b[0m \u001b[0;36m0\u001b[0m\u001b[0;34m\u001b[0m\u001b[0;34m\u001b[0m\u001b[0m\n\u001b[0m",
            "\u001b[0;31mZeroDivisionError\u001b[0m: division by zero"
          ]
        }
      ]
    },
    {
      "cell_type": "code",
      "source": [
        "# module not found error\n",
        "import numpyy"
      ],
      "metadata": {
        "id": "5zPZhS-hKpm-",
        "colab": {
          "base_uri": "https://localhost:8080/",
          "height": 331
        },
        "outputId": "7f57792a-c55f-41c2-a05f-af7141bd28c0"
      },
      "execution_count": null,
      "outputs": [
        {
          "output_type": "error",
          "ename": "ModuleNotFoundError",
          "evalue": "No module named 'numpyy'",
          "traceback": [
            "\u001b[0;31m---------------------------------------------------------------------------\u001b[0m",
            "\u001b[0;31mModuleNotFoundError\u001b[0m                       Traceback (most recent call last)",
            "\u001b[0;32m<ipython-input-143-fc2e47030534>\u001b[0m in \u001b[0;36m<cell line: 2>\u001b[0;34m()\u001b[0m\n\u001b[1;32m      1\u001b[0m \u001b[0;31m# module not found error\u001b[0m\u001b[0;34m\u001b[0m\u001b[0;34m\u001b[0m\u001b[0m\n\u001b[0;32m----> 2\u001b[0;31m \u001b[0;32mimport\u001b[0m \u001b[0mnumpyy\u001b[0m\u001b[0;34m\u001b[0m\u001b[0;34m\u001b[0m\u001b[0m\n\u001b[0m",
            "\u001b[0;31mModuleNotFoundError\u001b[0m: No module named 'numpyy'",
            "",
            "\u001b[0;31m---------------------------------------------------------------------------\u001b[0;32m\nNOTE: If your import is failing due to a missing package, you can\nmanually install dependencies using either !pip or !apt.\n\nTo view examples of installing some common dependencies, click the\n\"Open Examples\" button below.\n\u001b[0;31m---------------------------------------------------------------------------\u001b[0m\n"
          ],
          "errorDetails": {
            "actions": [
              {
                "action": "open_url",
                "actionText": "Open Examples",
                "url": "/notebooks/snippets/importing_libraries.ipynb"
              }
            ]
          }
        }
      ]
    },
    {
      "cell_type": "markdown",
      "source": [
        "Be careful! Sometimes a module exists but we need to install it."
      ],
      "metadata": {
        "id": "Q6f3aTWxKz3c"
      }
    },
    {
      "cell_type": "code",
      "source": [
        "!pip install mne\n",
        "import mne # package for human neurophysiological data analysis"
      ],
      "metadata": {
        "id": "ztrZXgs-K50Z",
        "colab": {
          "base_uri": "https://localhost:8080/"
        },
        "outputId": "97afa89a-aba6-4daa-c91d-648029f88907"
      },
      "execution_count": null,
      "outputs": [
        {
          "output_type": "stream",
          "name": "stdout",
          "text": [
            "Collecting mne\n",
            "  Downloading mne-1.7.1-py3-none-any.whl (7.4 MB)\n",
            "\u001b[2K     \u001b[90m━━━━━━━━━━━━━━━━━━━━━━━━━━━━━━━━━━━━━━━━\u001b[0m \u001b[32m7.4/7.4 MB\u001b[0m \u001b[31m18.4 MB/s\u001b[0m eta \u001b[36m0:00:00\u001b[0m\n",
            "\u001b[?25hRequirement already satisfied: decorator in /usr/local/lib/python3.10/dist-packages (from mne) (4.4.2)\n",
            "Requirement already satisfied: jinja2 in /usr/local/lib/python3.10/dist-packages (from mne) (3.1.4)\n",
            "Requirement already satisfied: lazy-loader>=0.3 in /usr/local/lib/python3.10/dist-packages (from mne) (0.4)\n",
            "Requirement already satisfied: matplotlib>=3.5.0 in /usr/local/lib/python3.10/dist-packages (from mne) (3.7.1)\n",
            "Requirement already satisfied: numpy>=1.21.2 in /usr/local/lib/python3.10/dist-packages (from mne) (1.25.2)\n",
            "Requirement already satisfied: packaging in /usr/local/lib/python3.10/dist-packages (from mne) (24.1)\n",
            "Requirement already satisfied: pooch>=1.5 in /usr/local/lib/python3.10/dist-packages (from mne) (1.8.2)\n",
            "Requirement already satisfied: scipy>=1.7.1 in /usr/local/lib/python3.10/dist-packages (from mne) (1.11.4)\n",
            "Requirement already satisfied: tqdm in /usr/local/lib/python3.10/dist-packages (from mne) (4.66.4)\n",
            "Requirement already satisfied: contourpy>=1.0.1 in /usr/local/lib/python3.10/dist-packages (from matplotlib>=3.5.0->mne) (1.2.1)\n",
            "Requirement already satisfied: cycler>=0.10 in /usr/local/lib/python3.10/dist-packages (from matplotlib>=3.5.0->mne) (0.12.1)\n",
            "Requirement already satisfied: fonttools>=4.22.0 in /usr/local/lib/python3.10/dist-packages (from matplotlib>=3.5.0->mne) (4.53.0)\n",
            "Requirement already satisfied: kiwisolver>=1.0.1 in /usr/local/lib/python3.10/dist-packages (from matplotlib>=3.5.0->mne) (1.4.5)\n",
            "Requirement already satisfied: pillow>=6.2.0 in /usr/local/lib/python3.10/dist-packages (from matplotlib>=3.5.0->mne) (9.4.0)\n",
            "Requirement already satisfied: pyparsing>=2.3.1 in /usr/local/lib/python3.10/dist-packages (from matplotlib>=3.5.0->mne) (3.1.2)\n",
            "Requirement already satisfied: python-dateutil>=2.7 in /usr/local/lib/python3.10/dist-packages (from matplotlib>=3.5.0->mne) (2.8.2)\n",
            "Requirement already satisfied: platformdirs>=2.5.0 in /usr/local/lib/python3.10/dist-packages (from pooch>=1.5->mne) (4.2.2)\n",
            "Requirement already satisfied: requests>=2.19.0 in /usr/local/lib/python3.10/dist-packages (from pooch>=1.5->mne) (2.31.0)\n",
            "Requirement already satisfied: MarkupSafe>=2.0 in /usr/local/lib/python3.10/dist-packages (from jinja2->mne) (2.1.5)\n",
            "Requirement already satisfied: six>=1.5 in /usr/local/lib/python3.10/dist-packages (from python-dateutil>=2.7->matplotlib>=3.5.0->mne) (1.16.0)\n",
            "Requirement already satisfied: charset-normalizer<4,>=2 in /usr/local/lib/python3.10/dist-packages (from requests>=2.19.0->pooch>=1.5->mne) (3.3.2)\n",
            "Requirement already satisfied: idna<4,>=2.5 in /usr/local/lib/python3.10/dist-packages (from requests>=2.19.0->pooch>=1.5->mne) (3.7)\n",
            "Requirement already satisfied: urllib3<3,>=1.21.1 in /usr/local/lib/python3.10/dist-packages (from requests>=2.19.0->pooch>=1.5->mne) (2.0.7)\n",
            "Requirement already satisfied: certifi>=2017.4.17 in /usr/local/lib/python3.10/dist-packages (from requests>=2.19.0->pooch>=1.5->mne) (2024.6.2)\n",
            "Installing collected packages: mne\n",
            "Successfully installed mne-1.7.1\n"
          ]
        }
      ]
    },
    {
      "cell_type": "code",
      "source": [
        "# index error\n",
        "height = [149, 187, 168]\n",
        "height[3]"
      ],
      "metadata": {
        "id": "JSi8oBVXLnv1",
        "colab": {
          "base_uri": "https://localhost:8080/",
          "height": 176
        },
        "outputId": "63789029-ef12-42fa-ef1a-f6001950bf22"
      },
      "execution_count": null,
      "outputs": [
        {
          "output_type": "error",
          "ename": "IndexError",
          "evalue": "list index out of range",
          "traceback": [
            "\u001b[0;31m---------------------------------------------------------------------------\u001b[0m",
            "\u001b[0;31mIndexError\u001b[0m                                Traceback (most recent call last)",
            "\u001b[0;32m<ipython-input-145-242bf8657a3b>\u001b[0m in \u001b[0;36m<cell line: 3>\u001b[0;34m()\u001b[0m\n\u001b[1;32m      1\u001b[0m \u001b[0;31m# index error\u001b[0m\u001b[0;34m\u001b[0m\u001b[0;34m\u001b[0m\u001b[0m\n\u001b[1;32m      2\u001b[0m \u001b[0mheight\u001b[0m \u001b[0;34m=\u001b[0m \u001b[0;34m[\u001b[0m\u001b[0;36m149\u001b[0m\u001b[0;34m,\u001b[0m \u001b[0;36m187\u001b[0m\u001b[0;34m,\u001b[0m \u001b[0;36m168\u001b[0m\u001b[0;34m]\u001b[0m\u001b[0;34m\u001b[0m\u001b[0;34m\u001b[0m\u001b[0m\n\u001b[0;32m----> 3\u001b[0;31m \u001b[0mheight\u001b[0m\u001b[0;34m[\u001b[0m\u001b[0;36m3\u001b[0m\u001b[0;34m]\u001b[0m\u001b[0;34m\u001b[0m\u001b[0;34m\u001b[0m\u001b[0m\n\u001b[0m",
            "\u001b[0;31mIndexError\u001b[0m: list index out of range"
          ]
        }
      ]
    },
    {
      "cell_type": "markdown",
      "source": [
        "We can use errors and exceptions to debug our code. Besides, we can use them to avoid **unwanted issues**."
      ],
      "metadata": {
        "id": "DeTk0eX9MSmg"
      }
    },
    {
      "cell_type": "code",
      "source": [
        "# test 1: run the code and see the results\n",
        "# test 2: add \"184\" to \"student_height\" and run the code\n",
        "# test 3: remove \"184\" from \"student_height\" and change \"179\" into \"0\" and run the code\n",
        "\n",
        "student_name = [\"Georgia\", \"Oscar\", \"Juliet\", \"Lily\", \"William\"]\n",
        "student_weight = [54.7, 79.6, 81.2, 51.9, 102.5]\n",
        "student_height = [152, 168, 179, 161, 193]\n",
        "student_bmi = []\n",
        "\n",
        "# make sure about data size\n",
        "if len(student_weight) != len(student_height):\n",
        "  raise Exception(\"There must be equal size for weights and hights\")\n",
        "\n",
        "for i in range(len(student_name)):\n",
        "  # make sure height is not zero\n",
        "  if student_height[i] == 0:\n",
        "    raise ValueError(\"height can not be zero\")\n",
        "\n",
        "  student_bmi.append(round(student_weight[i] / ((student_height[i]/100)**2), 1))\n",
        "\n",
        "print(student_bmi)"
      ],
      "metadata": {
        "id": "tMUsJRXRM1fA",
        "colab": {
          "base_uri": "https://localhost:8080/"
        },
        "outputId": "ff20dc59-c4a2-42a1-9761-eb5a769e25ec"
      },
      "execution_count": null,
      "outputs": [
        {
          "output_type": "stream",
          "name": "stdout",
          "text": [
            "[23.7, 28.2, 25.3, 20.0, 27.5]\n"
          ]
        }
      ]
    },
    {
      "cell_type": "markdown",
      "source": [
        "Sometimes we don't want to raise an exception and we want to handle it. For example, we want a `for` loop to continue at the end of the code by ignoring negative values for weight, therefore we can use `try` and `except`."
      ],
      "metadata": {
        "id": "KTgfBnu8Pnot"
      }
    },
    {
      "cell_type": "code",
      "source": [
        "student_name = [\"Georgia\", \"Oscar\", \"Juliet\", \"Lily\", \"William\"]\n",
        "student_weight = [54.7, 79.6, 81.2, 51.9, 102.5]\n",
        "student_height = [-152, 168, 0, 161, 193]\n",
        "student_bmi = []\n",
        "\n",
        "\n",
        "for i in range(len(student_name)):\n",
        "\n",
        "  try:\n",
        "    student_bmi.append(round(student_weight[i] / ((student_height[i]/100)**2), 1))\n",
        "\n",
        "  except:\n",
        "    continue\n",
        "\n",
        "print(student_bmi)"
      ],
      "metadata": {
        "id": "oVktrCMePn97",
        "colab": {
          "base_uri": "https://localhost:8080/"
        },
        "outputId": "f0728b0e-7920-435d-e76b-cc3e6d1b0c0c"
      },
      "execution_count": null,
      "outputs": [
        {
          "output_type": "stream",
          "name": "stdout",
          "text": [
            "[23.7, 28.2, 20.0, 27.5]\n"
          ]
        }
      ]
    },
    {
      "cell_type": "markdown",
      "source": [
        "## Exercise 10\n",
        "\n",
        "---\n",
        "\n",
        "\n",
        "1. Copy your exercise 9 code.\n",
        "2. Set a **type error** to check the heights have float values.\n",
        "3. Set a value error to make sure the BMI score is not negative.\n"
      ],
      "metadata": {
        "id": "83n86RAyF8z4"
      }
    },
    {
      "cell_type": "code",
      "source": [
        "# 1 pound ≈ 0.45 kg\n",
        "# 1 inch ≈ 2.54 cm\n",
        "# patient = [weight(pond), height(inch)]\n",
        "patient1 = [120.59, 59.84]\n",
        "patient2 = [175.49, 66.14]\n",
        "patient3 = [179.02, 70.47]\n",
        "patient4 = [114.42, 63.39]\n",
        "bmi_score = []\n",
        "\n",
        "# past your code here...\n",
        "\n",
        "\n",
        "\n",
        "\n",
        "\n",
        "\n",
        "\n"
      ],
      "metadata": {
        "id": "F9w8wfvoF89w"
      },
      "execution_count": null,
      "outputs": []
    },
    {
      "cell_type": "markdown",
      "source": [
        "Congratulations! You did it.\n"
      ],
      "metadata": {
        "id": "m16jOg89XwSu"
      }
    },
    {
      "cell_type": "markdown",
      "source": [
        "# References and Resources:\n",
        "\n",
        "1. You can continue your learning by more complex data structure and algorithm tasks in [Leetcode](https://leetcode.com/).\n",
        "\n",
        "2. you can always have access to Python syntax and practical examples in [w3schools](https://www.w3schools.com/python/default.asp) and [geeksforgeeks](https://www.geeksforgeeks.org/python-programming-language/).\n",
        "\n",
        "3. You can find everything about Numpy to work with arrays [HERE](https://numpy.org/doc/stable/index.html#) and you can also utilize all APIs and documents about Pandas to work with data frames [HERE](https://pandas.pydata.org/docs/index.html#)."
      ],
      "metadata": {
        "id": "egFGW_Rf9UGt"
      }
    }
  ]
}