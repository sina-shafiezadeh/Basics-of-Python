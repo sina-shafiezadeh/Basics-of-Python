{
  "cells": [
    {
      "cell_type": "markdown",
      "metadata": {
        "id": "GaXJaExkbA12"
      },
      "source": [
        "# BASICS OF PYTHON | SESSION 1&2\n",
        "\n",
        "---\n",
        "Sina Shafiezadeh | April 2023\n",
        "---\n"
      ]
    },
    {
      "cell_type": "markdown",
      "metadata": {
        "id": "RMr2OpHBbFQE"
      },
      "source": [
        "# FAQ\n",
        "\n",
        "1.   what is programming?\n",
        "\n",
        "  Programming refers to the process of designing and writing instructions that a computer can understand and execute. It involves creating code using a specific programming language to create software programs, applications, and scripts that can perform various tasks.\n",
        "\n",
        "2.   what is object-oriented programming?\n",
        "\n",
        "  Object-oriented programming (OOP) is a programming paradigm that is based on the concept of objects, which can contain data and methods that act on that data. In OOP, objects are instances of classes, which define the structure and behavior of the objects.\n",
        "\n",
        "3. what is Python?\n",
        "\n",
        "  Python is a high-level, interpreted programming language that is widely used for web development, scientific computing, data analysis, artificial intelligence, and many other applications. It was created by Guido van Rossum and first released in 1991.\n",
        "\n",
        "4. why should I learn Python?\n",
        "\n",
        "*   Versatility: Python can be used for a wide range of applications, including web development, scientific computing, data analysis, artificial intelligence, machine learning, and many more.\n",
        "*   Simplicity: Python has a simple syntax and is easy to read and write, making it a good choice for beginners.\n",
        "*   Large community: Python has a large and active community of developers who create third-party libraries and tools, making it easy to find solutions to common problems.\n",
        "*   Open-source: Python is free and open-source, which means that you can use it for any purpose without having to pay for it.\n",
        "*   Simplicity\n",
        "\n",
        "5. how can I install Python?\n",
        "\n",
        "*   Go to the official [Python](https://www.python.org/downloads/) website and the [Anaconda](https://www.anaconda.com/) website.\n",
        "*   Or using the [Google Colab](https://colab.research.google.com/).\n",
        "*   Or any other tools that you want.\n",
        "\n",
        "6. what is Google Colab?\n",
        "\n",
        "  Google Colab (short for Collaboratory) is a free online platform provided by Google that allows users to run Python code and execute Jupyter notebooks directly in the cloud. It is a popular tool for data scientists, machine learning engineers, and researchers who want to develop and experiment with machine learning models without the need for specialized hardware.\n",
        "\n",
        "7. Do you have more questions?\n",
        "\n",
        "  Ask from [chatGPT](https://chat.openai.com/chat) as I asked to provide previous answers, connect with others in [stackoverflow](https://stackoverflow.com/), search your concerns in Google, and watch a lot of useful videos on Youtube for free!"
      ]
    },
    {
      "cell_type": "markdown",
      "metadata": {
        "id": "XDfuoGY_ge2W"
      },
      "source": [
        "# Content\n",
        "\n",
        "\n",
        "*   Day 1:\n",
        "\n",
        "  *   Create Variables\n",
        "  *   Conditional Statements\n",
        "  *   Loops\n",
        "\n",
        "*   Day 2:\n",
        "\n",
        "  *   Data Structure\n",
        "  *   Algorithm\n",
        "\n",
        "*   Day 3:\n",
        "\n",
        "  *   Data Importing\n",
        "  *   Data Cleaning\n",
        "  *   Data Exploring\n",
        "\n",
        "*   Day 4:\n",
        "\n",
        "  *   Data Analysis\n",
        "  *   Data Visualization\n",
        "  *   Data Exporting\n",
        "\n",
        "*   Day 5:\n",
        "\n",
        "  *   Exam\n",
        "\n"
      ]
    },
    {
      "cell_type": "markdown",
      "metadata": {
        "id": "XrBnNWjR_9YY"
      },
      "source": [
        "LET'S START!"
      ]
    },
    {
      "cell_type": "markdown",
      "metadata": {
        "id": "VZDw0kaqOIYp"
      },
      "source": [
        "# 1.&nbsp;Create Variables"
      ]
    },
    {
      "cell_type": "markdown",
      "metadata": {
        "id": "lUPizUN2BZMT"
      },
      "source": [
        "Create a variable with the name `course` and assign the value `\"basic of python\"` after using the `=` sign to the computer to remember information."
      ]
    },
    {
      "cell_type": "code",
      "execution_count": null,
      "metadata": {
        "id": "Zdahzv17-e7M"
      },
      "outputs": [],
      "source": [
        "course = \"basic of python\""
      ]
    },
    {
      "cell_type": "markdown",
      "metadata": {
        "id": "yW3Ni9t9Br3G"
      },
      "source": [
        "we can expand variable names with **Snake Case** format for naming that each word is separated by an underscore character."
      ]
    },
    {
      "cell_type": "code",
      "execution_count": null,
      "metadata": {
        "id": "qBP4JjAe9atx"
      },
      "outputs": [],
      "source": [
        "my_course = \"basic of python\""
      ]
    },
    {
      "cell_type": "markdown",
      "metadata": {
        "id": "KW2i2bdVGQh9"
      },
      "source": [
        "or using **Camel Case** format for naming that each word, except the first, starts with a capital letter."
      ]
    },
    {
      "cell_type": "code",
      "execution_count": null,
      "metadata": {
        "id": "c0QTDmpJGu_M"
      },
      "outputs": [],
      "source": [
        "myCourse = \"basic of python\""
      ]
    },
    {
      "cell_type": "markdown",
      "metadata": {
        "id": "6ze99JwjzV8j"
      },
      "source": [
        "or using **Pascal Case** format that each word starts with a capital letter."
      ]
    },
    {
      "cell_type": "code",
      "execution_count": 2,
      "metadata": {
        "id": "WsYDV87_zWDy"
      },
      "outputs": [],
      "source": [
        "MyCourse = \"basic of python\""
      ]
    },
    {
      "cell_type": "markdown",
      "metadata": {
        "id": "hMyxFL3EHR_W"
      },
      "source": [
        "Be careful! Python is a **case-sensitive** programming language, so `MyCourse` and `mycourse` are two different variables."
      ]
    },
    {
      "cell_type": "code",
      "execution_count": null,
      "metadata": {
        "id": "80ju0mKIHSGS"
      },
      "outputs": [],
      "source": [
        "mycourse"
      ]
    },
    {
      "cell_type": "markdown",
      "metadata": {
        "id": "QPJT5F8kGy0y"
      },
      "source": [
        "Besides, we can't use **space** for the variable's name."
      ]
    },
    {
      "cell_type": "code",
      "execution_count": null,
      "metadata": {
        "id": "YjDP5MWdGy_K"
      },
      "outputs": [],
      "source": [
        "My Course = \"basic of python\""
      ]
    },
    {
      "cell_type": "markdown",
      "metadata": {
        "id": "EKJLFxlXGzIc"
      },
      "source": [
        "However, it's better to choose a variable's name to help us understand what's inside a variable. In our case, it's easier to change the variable's name to `course_name`."
      ]
    },
    {
      "cell_type": "code",
      "execution_count": null,
      "metadata": {
        "id": "Zn-fOxZaGzQW"
      },
      "outputs": [],
      "source": [
        "course_name = \"basic of python\""
      ]
    },
    {
      "cell_type": "markdown",
      "metadata": {
        "id": "ruegGLsgGzX5"
      },
      "source": [
        "Finally, we can also define a variable name using **numbers**. It sometimes could be very useful."
      ]
    },
    {
      "cell_type": "code",
      "execution_count": null,
      "metadata": {
        "id": "sgr7ndwCGze0"
      },
      "outputs": [],
      "source": [
        "course_1_name = \"basic of python\"\n",
        "course_2_name = \"cognitive neuroscience\""
      ]
    },
    {
      "cell_type": "markdown",
      "metadata": {
        "id": "ZbpOW8bNGzmP"
      },
      "source": [
        "Great! Let's look at the value on the right side. We store words in double quotes `\"   \"`, therefore it is a **string**. Strings can contain all sorts of letters and symbols."
      ]
    },
    {
      "cell_type": "code",
      "execution_count": null,
      "metadata": {
        "id": "95-DVGRmGzsk"
      },
      "outputs": [],
      "source": [
        "course_name = \"Basic of python!\""
      ]
    },
    {
      "cell_type": "markdown",
      "metadata": {
        "id": "Pk9TcoCEZ-Yz"
      },
      "source": [
        "We tell the computer to display a value by `print()` in the console, also known as the shell."
      ]
    },
    {
      "cell_type": "code",
      "execution_count": null,
      "metadata": {
        "id": "cfD0XTkIZ-oU"
      },
      "outputs": [],
      "source": [
        "print(course_name)"
      ]
    },
    {
      "cell_type": "markdown",
      "metadata": {
        "id": "Jj_GXy5pG0A2"
      },
      "source": [
        "we can repeat `print()` as often as we want and display every value on a line."
      ]
    },
    {
      "cell_type": "code",
      "execution_count": null,
      "metadata": {
        "id": "6eoudkifG0H_"
      },
      "outputs": [],
      "source": [
        "print(\"=================================\")\n",
        "print(\"The course's name is:\")\n",
        "print(course_name)\n",
        "print(\"=================================\")"
      ]
    },
    {
      "cell_type": "markdown",
      "metadata": {
        "id": "m7FF9zHJGzzO"
      },
      "source": [
        "Before continuing this part, let's look at an important point. Python is an **interpreted language** and It means code is run there line by line. Please correct the following code."
      ]
    },
    {
      "cell_type": "code",
      "execution_count": null,
      "metadata": {
        "id": "4n7NMGFkGz5Y"
      },
      "outputs": [],
      "source": [
        "print(universiy_name)\n",
        "universiy_name = \"university of padova\""
      ]
    },
    {
      "cell_type": "markdown",
      "metadata": {
        "id": "K8-h5SRaG0Os"
      },
      "source": [
        "We can use this point to update variables. Please guess what will display in the console before running the code.\n"
      ]
    },
    {
      "cell_type": "code",
      "execution_count": null,
      "metadata": {
        "id": "0EiIHKLRG0VX"
      },
      "outputs": [],
      "source": [
        "course_name = \"cognitive neuroscience\"\n",
        "print(course_name)\n",
        "course_name = \"basic of python\"\n",
        "print(course_name)"
      ]
    },
    {
      "cell_type": "markdown",
      "metadata": {
        "id": "5cxHHeh-d6Qa"
      },
      "source": [
        "We can add string values together with the `+` sign."
      ]
    },
    {
      "cell_type": "code",
      "execution_count": null,
      "metadata": {
        "id": "8iahNpRjd6XP"
      },
      "outputs": [],
      "source": [
        "print(\"course name: \" + \"basic of python\")\n",
        "print(\"course name: \" + course_name)"
      ]
    },
    {
      "cell_type": "markdown",
      "metadata": {
        "id": "c3BvfGYrfVRi"
      },
      "source": [
        "Let's cross strings. We can store a **number** in a variable without using `\"   \"`."
      ]
    },
    {
      "cell_type": "code",
      "execution_count": null,
      "metadata": {
        "id": "PkOhFw34fVd7"
      },
      "outputs": [],
      "source": [
        "course_score = 80"
      ]
    },
    {
      "cell_type": "markdown",
      "metadata": {
        "id": "fCJk_GovgHVc"
      },
      "source": [
        "Add numbers together by `+`."
      ]
    },
    {
      "cell_type": "code",
      "execution_count": null,
      "metadata": {
        "id": "X3Jz_kO6gHdS"
      },
      "outputs": [],
      "source": [
        "course_score = 80 + 10\n",
        "print(course_score)"
      ]
    },
    {
      "cell_type": "markdown",
      "metadata": {
        "id": "_q9vI3Zkg2Ac"
      },
      "source": [
        "Subtract the numbers by `-`."
      ]
    },
    {
      "cell_type": "code",
      "execution_count": null,
      "metadata": {
        "id": "hCA3irdAg2IE"
      },
      "outputs": [],
      "source": [
        "course_score = 80 - 10\n",
        "print(course_score)"
      ]
    },
    {
      "cell_type": "markdown",
      "metadata": {
        "id": "ubNJLM4RhYnf"
      },
      "source": [
        "Multiply numbers by `*`."
      ]
    },
    {
      "cell_type": "code",
      "execution_count": null,
      "metadata": {
        "id": "AjCD9lp1hYwe"
      },
      "outputs": [],
      "source": [
        "course_score = 80 * 0.5\n",
        "print(course_score)"
      ]
    },
    {
      "cell_type": "markdown",
      "metadata": {
        "id": "qVmTsvRFhrU6"
      },
      "source": [
        "Or divided by `/`."
      ]
    },
    {
      "cell_type": "code",
      "execution_count": null,
      "metadata": {
        "id": "RVpdSzm4hrm5"
      },
      "outputs": [],
      "source": [
        "course_score = 80 / 8\n",
        "print(course_score)"
      ]
    },
    {
      "cell_type": "markdown",
      "metadata": {
        "id": "gzRNDwkC1hTy"
      },
      "source": [
        "Modulus by `%`."
      ]
    },
    {
      "cell_type": "code",
      "execution_count": null,
      "metadata": {
        "id": "q8tzuQ9w1ha6"
      },
      "outputs": [],
      "source": [
        "course_score = 8 % 5\n",
        "print(course_score)"
      ]
    },
    {
      "cell_type": "markdown",
      "metadata": {
        "id": "J_3H9Z_hlnxr"
      },
      "source": [
        "Exponentiation by `**`."
      ]
    },
    {
      "cell_type": "code",
      "execution_count": null,
      "metadata": {
        "id": "5v1AAJIvln6Z"
      },
      "outputs": [],
      "source": [
        "course_score = 8 ** 2\n",
        "print(course_score)"
      ]
    },
    {
      "cell_type": "markdown",
      "metadata": {
        "id": "-DOghdMhloCf"
      },
      "source": [
        "And floor division is calculated by `//`."
      ]
    },
    {
      "cell_type": "code",
      "execution_count": null,
      "metadata": {
        "id": "6vXPaZdHloKt"
      },
      "outputs": [],
      "source": [
        "course_score = 8 // 5\n",
        "print(course_score)"
      ]
    },
    {
      "cell_type": "markdown",
      "metadata": {
        "id": "BmGJw6_uiLFx"
      },
      "source": [
        "Keep the variable's value and change only the console by manipulating the `print()`."
      ]
    },
    {
      "cell_type": "code",
      "execution_count": null,
      "metadata": {
        "id": "VvfIjYXHiLPK"
      },
      "outputs": [],
      "source": [
        "course_score = 80\n",
        "print(course_score / 8)\n",
        "print(course_score)"
      ]
    },
    {
      "cell_type": "markdown",
      "metadata": {
        "id": "RrVsOjz0jBU8"
      },
      "source": [
        "Calculate results and store them in variables. Notice when we want to print a string and a number together in the `print()`, we must use `,` instead of `+` or using f-strings like `f\" {} \"` to add a variable in a string."
      ]
    },
    {
      "cell_type": "code",
      "execution_count": null,
      "metadata": {
        "id": "W9wNCTd5jBcw"
      },
      "outputs": [],
      "source": [
        "homework_1_score = 40\n",
        "homework_2_score = 45\n",
        "course_score = homework_1_score + homework_2_score\n",
        "print(\"course score: \" , course_score)\n",
        "print(f\"course score:  {course_score}\")"
      ]
    },
    {
      "cell_type": "markdown",
      "metadata": {
        "id": "-TLMIhR-W1CI"
      },
      "source": [
        "Here is a question. How can we understand the type of our variable? the answer is using `type()`."
      ]
    },
    {
      "cell_type": "code",
      "execution_count": null,
      "metadata": {
        "id": "OMHZfi7-W1K_"
      },
      "outputs": [],
      "source": [
        "course_score = 80\n",
        "print(type(course_score))"
      ]
    },
    {
      "cell_type": "code",
      "execution_count": null,
      "metadata": {
        "id": "Il7pLU1xXeCq"
      },
      "outputs": [],
      "source": [
        "course_score = 80.0\n",
        "print(type(course_score))"
      ]
    },
    {
      "cell_type": "code",
      "execution_count": null,
      "metadata": {
        "id": "NVs8hvdkXeFI"
      },
      "outputs": [],
      "source": [
        "course_score = \"80\"\n",
        "print(type(course_score))"
      ]
    },
    {
      "cell_type": "markdown",
      "metadata": {
        "id": "MBZ8wzMNXpYX"
      },
      "source": [
        "Another question: How can we specify a variable type? The answer is casting by `int()`, `float()`, and `str()`."
      ]
    },
    {
      "cell_type": "code",
      "execution_count": null,
      "metadata": {
        "id": "4PJ7js7AYJQD"
      },
      "outputs": [],
      "source": [
        "course_1_score = int(80)   # will be 80\n",
        "course_2_score = int(80.7) # will be 80 (not 81)\n",
        "course_3_score = int(\"80\") # will be 80\n",
        "\n",
        "course_4_score = float(80)   # will be 80.0\n",
        "course_5_score = float(80.7) # will be 80.7\n",
        "course_6_score = float(\"80\") # will be 80.0\n",
        "course_7_score = float(\"80.2\") # will be 80.2\n",
        "\n",
        "course_8_score = str(80)   # will be '80'\n",
        "course_9_score = str(80.7) # will be '80.7'\n",
        "\n",
        "print(\"course_1_score:\", course_1_score, \"\\t\", type(course_1_score)) # \"\\t\" add space between outputs\n",
        "print(\"course_2_score:\", course_2_score, \"\\t\", type(course_2_score))\n",
        "print(\"course_3_score:\", course_3_score, \"\\t\", type(course_3_score))\n",
        "print(\"course_4_score:\", course_4_score, \"\\t\", type(course_4_score))\n",
        "print(\"course_5_score:\", course_5_score, \"\\t\", type(course_5_score))\n",
        "print(\"course_6_score:\", course_6_score, \"\\t\", type(course_6_score))\n",
        "print(\"course_7_score:\", course_7_score, \"\\t\", type(course_7_score))\n",
        "print(\"course_8_score:\", course_8_score, \"\\t\", type(course_8_score))\n",
        "print(\"course_9_score:\", course_9_score, \"\\t\", type(course_9_score))"
      ]
    },
    {
      "cell_type": "markdown",
      "metadata": {
        "id": "4WJHE2RZs5E0"
      },
      "source": [
        "Before finishing this part, let's review two important general points. First, Python uses **indentation** to indicate a block of code. Indentation refers to the spaces at the beginning of a code line. Please correct the following code."
      ]
    },
    {
      "cell_type": "code",
      "execution_count": null,
      "metadata": {
        "id": "VkQ9TGAptMD6"
      },
      "outputs": [],
      "source": [
        "course_score = 80\n",
        "  print(course_score)"
      ]
    },
    {
      "cell_type": "markdown",
      "metadata": {
        "id": "prZyn72XtlRl"
      },
      "source": [
        "Secondly, we can use `#` to add **comments** to our code. This helps with the readability and documentation of our code."
      ]
    },
    {
      "cell_type": "code",
      "execution_count": null,
      "metadata": {
        "id": "GGhZPQ7vtlaE"
      },
      "outputs": [],
      "source": [
        "# the range of course scores is between 0 and 100\n",
        "course_score = 80\n",
        "print(course_score)"
      ]
    },
    {
      "cell_type": "markdown",
      "metadata": {
        "id": "433F9oOemKtk"
      },
      "source": [
        "That's it! Let's try all the previous points to develop your first exercise."
      ]
    },
    {
      "cell_type": "markdown",
      "metadata": {
        "id": "CkkLy6Kdm1wm"
      },
      "source": [
        "## Exercise 1 part 1\n",
        "\n",
        "---\n",
        "\n",
        "\n",
        "Calculate your BMI score and show your name and score in the console.\n",
        "\n",
        "*   Expected output 1: My name is Sara and my BMI score is 28.\n",
        "*   Expected output 2: My name is John and my BMI score is 22.\n",
        "\n",
        "\n",
        "\n"
      ]
    },
    {
      "cell_type": "code",
      "execution_count": null,
      "metadata": {
        "id": "MpYcVRKxmLGa"
      },
      "outputs": [],
      "source": [
        "# BMI formula: weight (kg) / height**2 (m)\n",
        "\n",
        "\n",
        "\n",
        "\n"
      ]
    },
    {
      "cell_type": "markdown",
      "metadata": {
        "id": "1vNlnV3Q0SZJ"
      },
      "source": [
        "Good job!\n",
        "\n",
        "Sometimes we need to show if a feature is switched on or off by useing `True` and `False` values."
      ]
    },
    {
      "cell_type": "code",
      "execution_count": null,
      "metadata": {
        "id": "FOgesK8VM92w"
      },
      "outputs": [],
      "source": [
        "calculated_bmi = True\n",
        "print(calculated_bmi)"
      ]
    },
    {
      "cell_type": "code",
      "execution_count": null,
      "metadata": {
        "id": "WmRf95szNpv6"
      },
      "outputs": [],
      "source": [
        "calculated_bmi = False\n",
        "print(calculated_bmi)"
      ]
    },
    {
      "cell_type": "markdown",
      "metadata": {
        "id": "2-MX1aD8NxbY"
      },
      "source": [
        "Besides, we need to compare two values."
      ]
    },
    {
      "cell_type": "code",
      "execution_count": null,
      "metadata": {
        "id": "QzCXfZOkN6Xn"
      },
      "outputs": [],
      "source": [
        "bmi_score = 28\n",
        "print(bmi_score == 28) # equal\n",
        "print(bmi_score != 28) # not equal\n",
        "print(bmi_score > 28)  # greater than\n",
        "print(bmi_score < 28)  # less than\n",
        "print(bmi_score >= 28) # greater than or equal to\n",
        "print(bmi_score <= 28) # less than or equal to"
      ]
    },
    {
      "cell_type": "markdown",
      "metadata": {
        "id": "7wi_0TEKQcr8"
      },
      "source": [
        "Maybe logical operators to combine conditional statements."
      ]
    },
    {
      "cell_type": "code",
      "execution_count": null,
      "metadata": {
        "id": "fFGu9gTSQm2W"
      },
      "outputs": [],
      "source": [
        "bmi_score = 28\n",
        "print(bmi_score > 20 and bmi_score > 30) # returns True if both statements are true\n",
        "print(bmi_score > 20 or bmi_score > 30) # returns True if one of the statements is true\n",
        "print(not(bmi_score > 20 and bmi_score > 30)) # reverse the result, returns False if the result is true"
      ]
    },
    {
      "cell_type": "markdown",
      "metadata": {
        "id": "lchEI32RSqQz"
      },
      "source": [
        "## Exercise 1 part 2\n",
        "\n",
        "---\n",
        "\n",
        "\n",
        "Check whether your BMI score is normal or not. \n",
        "\n",
        "*   Expected output 1: True\n",
        "*   Expected output 2: False\n",
        "\n",
        "\n",
        "\n"
      ]
    },
    {
      "cell_type": "code",
      "execution_count": null,
      "metadata": {
        "id": "ZMKdo7QlTVw8"
      },
      "outputs": [],
      "source": [
        "# normal range is from 18.5 to 24.9\n",
        "\n",
        "\n",
        "\n",
        "\n"
      ]
    },
    {
      "cell_type": "markdown",
      "metadata": {
        "id": "ykryJn0SbSHJ"
      },
      "source": [
        "# 2.&nbsp;Conditional Statements"
      ]
    },
    {
      "cell_type": "markdown",
      "metadata": {
        "id": "tJb-tGH9bYQF"
      },
      "source": [
        "We use the **if statement** to adapt to different situations. Notice to use `:` after the statement and indentation before `print()`."
      ]
    },
    {
      "cell_type": "code",
      "execution_count": null,
      "metadata": {
        "id": "Blh1gDnGbYY9"
      },
      "outputs": [],
      "source": [
        "bmi_score = 28\n",
        "\n",
        "if bmi_score < 18.8:\n",
        "  print(\"BMI score is under weight.\")\n",
        "else:\n",
        "  print(\"BMI score is not under weight.\")"
      ]
    },
    {
      "cell_type": "markdown",
      "metadata": {
        "id": "nT8Y5Fq4qyaU"
      },
      "source": [
        "Maybe we have more than one condition."
      ]
    },
    {
      "cell_type": "code",
      "execution_count": null,
      "metadata": {
        "id": "ynswhLlNqyhR"
      },
      "outputs": [],
      "source": [
        "bmi_score = 28\n",
        "\n",
        "if bmi_score > 18.5 and bmi_score < 24.9:\n",
        "  print(\"BMI score is normal.\")\n",
        "else:\n",
        "  print(\"BMI score is not normal.\")"
      ]
    },
    {
      "cell_type": "code",
      "execution_count": null,
      "metadata": {
        "id": "zF1a76g8rnPG"
      },
      "outputs": [],
      "source": [
        "bmi_score = 28\n",
        "\n",
        "if bmi_score < 18.5 or bmi_score > 24.9:\n",
        "  print(\"BMI score is not normal.\")\n",
        "else:\n",
        "  print(\"BMI score is normal.\")"
      ]
    },
    {
      "cell_type": "markdown",
      "metadata": {
        "id": "zwRcrQeoqcgJ"
      },
      "source": [
        "Or we have more than two situations."
      ]
    },
    {
      "cell_type": "code",
      "execution_count": null,
      "metadata": {
        "id": "MBa3tqYkqcr9"
      },
      "outputs": [],
      "source": [
        "bmi_score = 28\n",
        "\n",
        "if bmi_score < 18.8:\n",
        "  print(\"BMI score is under weight.\")\n",
        "elif bmi_score > 18.5 and bmi_score < 24.9:\n",
        "  print(\"BMI score is normal.\")\n",
        "elif bmi_score > 25 and bmi_score < 29.9:\n",
        "  print(\"BMI score is over weight.\")\n",
        "elif bmi_score > 30 and bmi_score < 39.9:\n",
        "  print(\"BMI score is obesity.\")\n",
        "else:\n",
        "  print(\"BMI score is extreme obesity.\")"
      ]
    },
    {
      "cell_type": "markdown",
      "metadata": {
        "id": "FlklUlgdtRQ0"
      },
      "source": [
        "## Exercise 2\n",
        "\n",
        "---\n",
        "\n",
        "\n",
        "We want to predict the BMI score after doing sport routing over one year. Assume the one-month sport reduces the 0.38 value from the BMI score. What will happen to BMI score if someone does sports for 3, 6, 9, and 12 months?\n",
        "\n",
        "*   Expected output 1: BMI score will be 27.76 after 3 months of sports.\n",
        "*   Expected output 2: BMI score will be 24.91 after 12 months of sports\n",
        "\n",
        "\n",
        "\n"
      ]
    },
    {
      "cell_type": "code",
      "execution_count": null,
      "metadata": {
        "id": "Zd46OwTHtRak"
      },
      "outputs": [],
      "source": [
        "# try with different values\n",
        "bmi_score = 28.4\n",
        "\n",
        "\n",
        "\n",
        "\n"
      ]
    },
    {
      "cell_type": "markdown",
      "metadata": {
        "id": "pOvsmgaoyoRx"
      },
      "source": [
        "# 3.&nbsp;Loops (while)"
      ]
    },
    {
      "cell_type": "markdown",
      "metadata": {
        "id": "n_ljAPYpyvuV"
      },
      "source": [
        "Using the `while` loop, we can execute a set of statements if a condition is true."
      ]
    },
    {
      "cell_type": "code",
      "execution_count": null,
      "metadata": {
        "id": "LibeRwvZ12pT"
      },
      "outputs": [],
      "source": [
        "bmi_score = 21.4\n",
        "\n",
        "while bmi_score < 25:\n",
        "  print(f\"your BMI score is {bmi_score} (normal range).\")\n",
        "  bmi_score += 1 # bmi_score = bmi_score + 1"
      ]
    },
    {
      "cell_type": "markdown",
      "metadata": {
        "id": "4VTvdpoJ3dTh"
      },
      "source": [
        "If the while condition is true, the `break` statement will prevent the loop from continuing indefinitely."
      ]
    },
    {
      "cell_type": "code",
      "execution_count": null,
      "metadata": {
        "id": "FX75x64c3dmT"
      },
      "outputs": [],
      "source": [
        "bmi_score = 21.4\n",
        "\n",
        "while bmi_score < 25:\n",
        "  print(f\"your BMI score is {bmi_score} (normal range).\")\n",
        "  bmi_score -= 1 # bmi_score = bmi_score - 1\n",
        "  if bmi_score < 18.8:\n",
        "    break"
      ]
    },
    {
      "cell_type": "markdown",
      "metadata": {
        "id": "MFjMH9gi_K8a"
      },
      "source": [
        "Or if the condition is no longer true, an `else` statement will run a block of code once."
      ]
    },
    {
      "cell_type": "code",
      "execution_count": null,
      "metadata": {
        "id": "n6T8dba3_LFa"
      },
      "outputs": [],
      "source": [
        "bmi_score = 21.4\n",
        "\n",
        "while bmi_score > 18.8:\n",
        "  print(f\"your BMI score is {bmi_score} (normal range).\")\n",
        "  bmi_score -= 1\n",
        "else:\n",
        "  print(f\"your BMI score is {bmi_score} (under weight).\")"
      ]
    },
    {
      "cell_type": "markdown",
      "metadata": {
        "id": "gS814Hb56dpR"
      },
      "source": [
        "The `continue` statement lets us stop the current iteration and move on to the next."
      ]
    },
    {
      "cell_type": "code",
      "execution_count": null,
      "metadata": {
        "id": "9NRktLo76dxt"
      },
      "outputs": [],
      "source": [
        "bmi_score = 19\n",
        "\n",
        "while bmi_score < 25:\n",
        "  bmi_score += 1\n",
        "  if bmi_score == 22:\n",
        "    continue\n",
        "  if bmi_score >= 25:\n",
        "    break\n",
        "  print(f\"your BMI score is {bmi_score} (normal range).\")\n"
      ]
    },
    {
      "cell_type": "markdown",
      "metadata": {
        "id": "croIpQSIF-yi"
      },
      "source": [
        "## Exercise 3\n",
        "\n",
        "---\n",
        "\n",
        "We assumed the one-month sport reduce by 0.38 value from the BMI score. Now, write a `while` loop to calculate the maximum number of months to reach the normal range for BMI score.\n",
        "\n",
        "*   Expected output 1: you need 3 months of sport\n",
        "*   Expected output 2: you need 7 months of sport\n",
        "\n",
        "\n",
        "\n"
      ]
    },
    {
      "cell_type": "code",
      "execution_count": null,
      "metadata": {
        "id": "HZcwnZmxF-9q"
      },
      "outputs": [],
      "source": [
        "# try different BMI score\n",
        "bmi_score = 28.6\n",
        "sport_duration = 0\n",
        "\n",
        "\n",
        "\n"
      ]
    },
    {
      "cell_type": "markdown",
      "metadata": {
        "id": "e-o4R0S5EUHV"
      },
      "source": [
        "# 4.&nbsp;Loops (for)"
      ]
    },
    {
      "cell_type": "markdown",
      "metadata": {
        "id": "M1kZCWAB-lto"
      },
      "source": [
        "Excellent! Let's look at the `for` loop.\n",
        "\n",
        "Using the `for` loop means we know how many times we need to execute a statement, so we can use it when we know how many iterations there will be. In addition, `range()` returns a sequence of numbers starting from 0 and incrementing by 1 by default, and ending at a specified number. Although, we can change default values if we want."
      ]
    },
    {
      "cell_type": "code",
      "execution_count": null,
      "metadata": {
        "id": "YBf_cwNe-l1w"
      },
      "outputs": [],
      "source": [
        "bmi_score = 19\n",
        "\n",
        "for i in range(3):\n",
        "  print(f\"your BMI score is {bmi_score} (normal range).\")\n",
        "  bmi_score += 1"
      ]
    },
    {
      "cell_type": "markdown",
      "metadata": {
        "id": "nHQMAvIbDIK_"
      },
      "source": [
        "Besides, while loop's statements including the `break`, `continue`, and `else` could be used here as well."
      ]
    },
    {
      "cell_type": "code",
      "execution_count": null,
      "metadata": {
        "id": "XjnVmlJvDIuw"
      },
      "outputs": [],
      "source": [
        "bmi_score = 19\n",
        "\n",
        "for i in range(5):\n",
        "  bmi_score += 1\n",
        "  if bmi_score == 22:\n",
        "    continue\n",
        "  print(f\"your BMI score is {bmi_score} (normal range).\")"
      ]
    },
    {
      "cell_type": "code",
      "execution_count": null,
      "metadata": {
        "id": "eWuP3soPFClW"
      },
      "outputs": [],
      "source": [
        "bmi_score = 19\n",
        "\n",
        "for i in range(6):\n",
        "  print(f\"your BMI score is {bmi_score} (normal range).\")\n",
        "  bmi_score += 1\n",
        "  if bmi_score == 25:\n",
        "    break"
      ]
    },
    {
      "cell_type": "code",
      "execution_count": null,
      "metadata": {
        "id": "R5zMAR2SFAzL"
      },
      "outputs": [],
      "source": [
        "bmi_score = 19\n",
        "\n",
        "for i in range(6):\n",
        "  print(f\"your BMI score is {bmi_score} (normal range).\")\n",
        "  bmi_score += 1\n",
        "else:\n",
        "  print(f\"your BMI score is {bmi_score} (under weight).\")"
      ]
    },
    {
      "cell_type": "markdown",
      "metadata": {
        "id": "nyDQEZECH59O"
      },
      "source": [
        "## Exercise 4\n",
        "\n",
        "---\n",
        " \n",
        "\n",
        "Similar to the previous exercise we assumed the one-month sport reduce 0.38 value from the BMI score. Now, write a `for` loop to calculate finalized BMI score after 7 months of sports.\n",
        "\n",
        "*   Expected output 1: your BMI score will be 21.93 after 7 months of sport\n",
        "*   Expected output 2: your BMI score will be 26.77 after 7 months of sport\n",
        "\n"
      ]
    },
    {
      "cell_type": "code",
      "execution_count": 8,
      "metadata": {
        "id": "-MvbS6nkH6Gz"
      },
      "outputs": [],
      "source": [
        "# try different BMI score\n",
        "bmi_score = 28.6\n",
        "\n",
        "\n",
        "\n",
        "\n"
      ]
    },
    {
      "cell_type": "markdown",
      "metadata": {
        "id": "H06wWuHBlVpn"
      },
      "source": [
        "# 5.&nbsp;Data Structure (string and list)"
      ]
    },
    {
      "cell_type": "markdown",
      "metadata": {
        "id": "rS702QK2lZW-"
      },
      "source": [
        "For organization, management, and storage data we need to know different data types and how to work with them. We familiarize ourselves with **integers**, **floats**, and **booleans** before."
      ]
    },
    {
      "cell_type": "code",
      "execution_count": 9,
      "metadata": {
        "id": "30TqYSpllVwx"
      },
      "outputs": [],
      "source": [
        "x = 18 # int\n",
        "y = 24.9 # float\n",
        "z = True # boolean"
      ]
    },
    {
      "cell_type": "markdown",
      "metadata": {
        "id": "IiSqiHvxzXAq"
      },
      "source": [
        "We are also familiarized with **string** but let's deep in a little bit on that."
      ]
    },
    {
      "cell_type": "code",
      "execution_count": null,
      "metadata": {
        "id": "fW9eArxWzrfk"
      },
      "outputs": [],
      "source": [
        "w = \"this is a string\"\n",
        "print(type(w)) # get data type"
      ]
    },
    {
      "cell_type": "code",
      "execution_count": null,
      "metadata": {
        "id": "JLj5R5EX1Hfg"
      },
      "outputs": [],
      "source": [
        "print(len(w)) # get length"
      ]
    },
    {
      "cell_type": "code",
      "execution_count": null,
      "metadata": {
        "id": "JESI_iaB0GG1"
      },
      "outputs": [],
      "source": [
        "# access item by position\n",
        "# note: position in Python starts at 0.\n",
        "print(\"position 0 : \", w[0])\n",
        "print(\"position 1 : \", w[1])\n",
        "print(\"position -2: \", w[-2])\n",
        "print(\"\\n\") # create a new line\n",
        "print(\"range of position 1: \", w[1:3])\n",
        "print(\"range of position 2: \", w[:3])\n",
        "print(\"range of position 3: \", w[1:])\n",
        "print(\"range of position 4: \", w[:])\n",
        "print(\"range of position 5: \", w[-3:-1])\n",
        "print(\"range of position 6: \", w[:-1])\n",
        "print(\"range of position 7: \", w[-3:])"
      ]
    },
    {
      "cell_type": "code",
      "execution_count": null,
      "metadata": {
        "id": "wfx5urSJ1ccJ"
      },
      "outputs": [],
      "source": [
        "# check if item exists\n",
        "if \"this\" in w:\n",
        "  print(\"Yes, this is in w string.\")"
      ]
    },
    {
      "cell_type": "code",
      "execution_count": null,
      "metadata": {
        "id": "t0KtDN-q1c3Y"
      },
      "outputs": [],
      "source": [
        "print(w.upper()) # upper case"
      ]
    },
    {
      "cell_type": "code",
      "execution_count": null,
      "metadata": {
        "id": "YNNhJQ8R1c6W"
      },
      "outputs": [],
      "source": [
        "print(w.lower()) # lower case"
      ]
    },
    {
      "cell_type": "code",
      "execution_count": null,
      "metadata": {
        "id": "J_gQBpao3yJJ"
      },
      "outputs": [],
      "source": [
        "print(w.replace(\"this\", \"that\")) # replace "
      ]
    },
    {
      "cell_type": "code",
      "execution_count": null,
      "metadata": {
        "id": "3q9YDMH20-9_"
      },
      "outputs": [],
      "source": [
        "print(w.split(\" \")) # split by space"
      ]
    },
    {
      "cell_type": "markdown",
      "metadata": {
        "id": "t59GgZtenUs4"
      },
      "source": [
        "Perfect!\n",
        "\n",
        "Let's continue with another data type. Using **lists**, we can store multiple items with any type of data in one variable by using `[]` and `,` between items."
      ]
    },
    {
      "cell_type": "code",
      "execution_count": null,
      "metadata": {
        "id": "xawXEDScnU0J"
      },
      "outputs": [],
      "source": [
        "student = [\"name\", \"Weight\", \"Height\", 21.7, True]\n",
        "print(student)"
      ]
    },
    {
      "cell_type": "code",
      "execution_count": null,
      "metadata": {
        "id": "L3X-kiOmp7yv"
      },
      "outputs": [],
      "source": [
        "print(type(student)) # get data type"
      ]
    },
    {
      "cell_type": "code",
      "execution_count": null,
      "metadata": {
        "id": "73j6QdD2qRnd"
      },
      "outputs": [],
      "source": [
        "print(len(student)) # get length"
      ]
    },
    {
      "cell_type": "code",
      "execution_count": null,
      "metadata": {
        "id": "92mOvaBuqoQv"
      },
      "outputs": [],
      "source": [
        "# access item by index\n",
        "# note: indexing in Python starts at 0.\n",
        "print(\"index 0 : \", student[0])\n",
        "print(\"index 1 : \", student[1])\n",
        "print(\"index -2: \", student[-2])\n",
        "print(\"\\nrange of index 1: \", student[1:3]) # notice to \\n\n",
        "print(\"range of index 2: \", student[:3])\n",
        "print(\"range of index 3: \", student[1:])\n",
        "print(\"range of index 4: \", student[:])\n",
        "print(\"range of index 5: \", student[-3:-1])\n",
        "print(\"range of index 6: \", student[:-1])\n",
        "print(\"range of index 7: \", student[-3:])"
      ]
    },
    {
      "cell_type": "code",
      "execution_count": null,
      "metadata": {
        "id": "8HbKofvLrBVT"
      },
      "outputs": [],
      "source": [
        "# check if item exists\n",
        "if \"Height\" in student:\n",
        "  print(\"Yes, Height is in the student list.\")"
      ]
    },
    {
      "cell_type": "code",
      "execution_count": null,
      "metadata": {
        "id": "wQiwl2gWtRb-"
      },
      "outputs": [],
      "source": [
        "# change item value by index\n",
        "print(student)\n",
        "student[3] = 21.4\n",
        "student[1:3] = [\"weight\", \"height\"]\n",
        "print(student)"
      ]
    },
    {
      "cell_type": "code",
      "execution_count": null,
      "metadata": {
        "id": "i7PuBfH4uZYo"
      },
      "outputs": [],
      "source": [
        "# insert item value by index\n",
        "student.insert(1, \"surname\")\n",
        "print(student)"
      ]
    },
    {
      "cell_type": "code",
      "execution_count": null,
      "metadata": {
        "id": "BdapStn4uwRM"
      },
      "outputs": [],
      "source": [
        "# append item value to the end of the list\n",
        "student.append(\"age\")\n",
        "print(student)"
      ]
    },
    {
      "cell_type": "code",
      "execution_count": null,
      "metadata": {
        "id": "3V7PnUVrvGwR"
      },
      "outputs": [],
      "source": [
        "# append items from another list to current list\n",
        "education = [\"course\", \"score\"]\n",
        "student.extend(education)\n",
        "print(student)"
      ]
    },
    {
      "cell_type": "code",
      "execution_count": null,
      "metadata": {
        "id": "PpfhWCX0vuYf"
      },
      "outputs": [],
      "source": [
        "# append and extend difference\n",
        "list_one = [1, 3, 5, 7]\n",
        "list_two = [9, 11]\n",
        "list_one.append(list_two)\n",
        "print(\"appended list: \", list_one)\n",
        "\n",
        "list_one = [1, 3, 5, 7]\n",
        "list_two = [9, 11]\n",
        "list_one.extend(list_two)\n",
        "print(\"extended list: \", list_one)"
      ]
    },
    {
      "cell_type": "code",
      "execution_count": null,
      "metadata": {
        "id": "RF0cTWryw1mK"
      },
      "outputs": [],
      "source": [
        "# remove by item value\n",
        "student.remove(\"course\")\n",
        "print(student)"
      ]
    },
    {
      "cell_type": "code",
      "execution_count": null,
      "metadata": {
        "id": "66nQZqnnxMJk"
      },
      "outputs": [],
      "source": [
        "# remove by index\n",
        "student.pop(-2)\n",
        "print(student)"
      ]
    },
    {
      "cell_type": "code",
      "execution_count": null,
      "metadata": {
        "id": "pxm7pBKvxjbu"
      },
      "outputs": [],
      "source": [
        "# the pop() method removes the last item if you don't specify the index\n",
        "student.pop()\n",
        "print(student)"
      ]
    },
    {
      "cell_type": "code",
      "execution_count": null,
      "metadata": {
        "id": "r7Eipydrxe3I"
      },
      "outputs": [],
      "source": [
        "# another way to remove by index\n",
        "del student[1]\n",
        "print(student)"
      ]
    },
    {
      "cell_type": "code",
      "execution_count": null,
      "metadata": {
        "id": "YkLp0Vq_59wQ"
      },
      "outputs": [],
      "source": [
        "# loop through a list\n",
        "for i in student:\n",
        "  print(i)"
      ]
    },
    {
      "cell_type": "code",
      "execution_count": null,
      "metadata": {
        "id": "3HmJ_D8r594z"
      },
      "outputs": [],
      "source": [
        "# loop through the index numbers\n",
        "for i in range(len(student)):\n",
        "  print(student[i])"
      ]
    },
    {
      "cell_type": "code",
      "execution_count": null,
      "metadata": {
        "id": "fTwi11Qp8mG1"
      },
      "outputs": [],
      "source": [
        "# removes all the items from the list\n",
        "student.clear()\n",
        "print(student)"
      ]
    },
    {
      "cell_type": "code",
      "execution_count": null,
      "metadata": {
        "id": "jN1k8BYX6ipn"
      },
      "outputs": [],
      "source": [
        "# looping using list comprehension (shortest syntax)\n",
        "bmi = [21.31, 26.9, 24.1, 29.4]\n",
        "student_bmi = [i+1 for i in bmi]\n",
        "print(student_bmi)"
      ]
    },
    {
      "cell_type": "code",
      "execution_count": null,
      "metadata": {
        "id": "yxTlvfkd9bKR"
      },
      "outputs": [],
      "source": [
        "# ort items\n",
        "student_bmi.sort() # ascending\n",
        "print(student_bmi)\n",
        "student_bmi.sort(reverse = True) # descending\n",
        "print(student_bmi)"
      ]
    },
    {
      "cell_type": "markdown",
      "metadata": {
        "id": "QtLDOzvR4iPW"
      },
      "source": [
        "## Exercise 5\n",
        "\n",
        "---\n",
        "\n",
        "\n",
        "1. Calculate the BMI score for all patients and store it in a list. (Hint: for loop)\n",
        "2. Remove items in the normal range.  (Hint: if statement)\n",
        "3. Sort items by descending.\n",
        "\n",
        "*   Expected output:\n",
        "        [28.202947845804992,\n",
        "         27.517517248785204,\n",
        "         25.342529883586657]\n",
        "\n"
      ]
    },
    {
      "cell_type": "code",
      "execution_count": 37,
      "metadata": {
        "id": "nzLyoi5C4iWE"
      },
      "outputs": [],
      "source": [
        "patient_name = [\"Georgia\", \"Oscar\", \"Juliet\", \"Lily\", \"William\"]\n",
        "patient_weight = [54.7, 79.6, 81.2, 51.9, 102.5] # kg\n",
        "patient_height = [152, 168, 179, 161, 193] # cm\n",
        "patient_bmi = []\n",
        "\n",
        "# start from here...\n",
        "\n",
        "\n",
        "\n",
        "\n"
      ]
    },
    {
      "cell_type": "markdown",
      "metadata": {
        "id": "eRw2dE42Emvl"
      },
      "source": [
        "# 6.&nbsp;Data Structure (tuple, set and dictionary)"
      ]
    },
    {
      "cell_type": "markdown",
      "metadata": {
        "id": "7gds1knpE5wY"
      },
      "source": [
        "We can group together closely-related data unchangeable using **tuples**. We create them similarly to lists but using parentheses `()` instead of brackets."
      ]
    },
    {
      "cell_type": "code",
      "execution_count": null,
      "metadata": {
        "id": "v2RZzhBBE55A"
      },
      "outputs": [],
      "source": [
        "thistuple = (\"Georgia\", 54.7, 152, False)\n",
        "print(type(thistuple)) "
      ]
    },
    {
      "cell_type": "code",
      "execution_count": null,
      "metadata": {
        "id": "2qvDBpO2dTA0"
      },
      "outputs": [],
      "source": [
        "print(len(thistuple))"
      ]
    },
    {
      "cell_type": "code",
      "execution_count": null,
      "metadata": {
        "id": "UGUOBolOdTDb"
      },
      "outputs": [],
      "source": [
        "tuple_one_item = (\"Georgia\",)\n",
        "print(type(tuple_one_item))\n",
        "\n",
        "# it is NOT a tuple\n",
        "tuple_one_item = (\"Georgia\")\n",
        "print(type(tuple_one_item))"
      ]
    },
    {
      "cell_type": "code",
      "execution_count": null,
      "metadata": {
        "id": "qeTA8yFldTF7"
      },
      "outputs": [],
      "source": [
        "# access item by index\n",
        "print(\"index 0 : \", thistuple[0])\n",
        "print(\"index 1 : \", thistuple[1])\n",
        "print(\"index -2: \", thistuple[-2])\n",
        "print(\"=================================\")\n",
        "print(\"range of index 1: \", thistuple[1:3])\n",
        "print(\"range of index 2: \", thistuple[:3])\n",
        "print(\"range of index 3: \", thistuple[1:])\n",
        "print(\"range of index 4: \", thistuple[:])\n",
        "print(\"range of index 5: \", thistuple[-3:-1])\n",
        "print(\"range of index 6: \", thistuple[:-1])\n",
        "print(\"range of index 7: \", thistuple[-3:])"
      ]
    },
    {
      "cell_type": "code",
      "execution_count": null,
      "metadata": {
        "id": "nHWHgnpidTIt"
      },
      "outputs": [],
      "source": [
        "# check if item exists\n",
        "if \"Georgia\" in thistuple:\n",
        "  print(\"Yes, Georgia is in thistuple.\")"
      ]
    },
    {
      "cell_type": "markdown",
      "metadata": {
        "id": "T9v6ZuMcfITx"
      },
      "source": [
        "Tuples are **unchangeable**, therefore we should convert them to a list to change, add, or remove an item."
      ]
    },
    {
      "cell_type": "code",
      "execution_count": null,
      "metadata": {
        "id": "uWaTgAtcdTLM"
      },
      "outputs": [],
      "source": [
        "thislist = list(thistuple) # convert to a list\n",
        "thislist[0] = \"Oscar\" # change an item\n",
        "thislist.append(\"Brown\") # add an item\n",
        "thislist.remove(152) # remove an item\n",
        "thistuple = tuple(thislist) # convert to a tuple\n",
        "print(thistuple)"
      ]
    },
    {
      "cell_type": "markdown",
      "metadata": {
        "id": "YNEB9F21hs5u"
      },
      "source": [
        "The next data type is **set**. We use a set like a list but use `{}` to make sure values can't have any **duplicates**."
      ]
    },
    {
      "cell_type": "code",
      "execution_count": null,
      "metadata": {
        "id": "9-s7KZrxdTNg"
      },
      "outputs": [],
      "source": [
        "thisset = {\"Georgia\", 54.7, 152, False, False}\n",
        "print(type(thisset))"
      ]
    },
    {
      "cell_type": "code",
      "execution_count": null,
      "metadata": {
        "id": "P3OpJxp6dTQb"
      },
      "outputs": [],
      "source": [
        "print(len(thisset)) # remove duplicated False"
      ]
    },
    {
      "cell_type": "markdown",
      "metadata": {
        "id": "cjNe4ttljkKY"
      },
      "source": [
        "We can not refer to set items by index or key, because sets are **unordered** and they can appear in a different order each time you use them."
      ]
    },
    {
      "cell_type": "code",
      "execution_count": null,
      "metadata": {
        "id": "udvCST7udTS-"
      },
      "outputs": [],
      "source": [
        "print(thisset)"
      ]
    },
    {
      "cell_type": "markdown",
      "metadata": {
        "id": "m883K1s0k3gs"
      },
      "source": [
        "Although we can't change values, we are able to **add** or **remove** new values."
      ]
    },
    {
      "cell_type": "code",
      "execution_count": null,
      "metadata": {
        "id": "jmsml1z6dTVZ"
      },
      "outputs": [],
      "source": [
        "thisset.add(\"Brown\")\n",
        "thisset.remove(54.7)\n",
        "print(thisset)"
      ]
    },
    {
      "cell_type": "markdown",
      "metadata": {
        "id": "YcvPrTOyqpYB"
      },
      "source": [
        "Let's familiarize ourselves with another data type called **dictionary**. A dictionary consists of **keys** and **values** and is written in curly brackets `{}`."
      ]
    },
    {
      "cell_type": "code",
      "execution_count": null,
      "metadata": {
        "id": "jnFRuCAKqphf"
      },
      "outputs": [],
      "source": [
        "thisdict = {\"name\": \"Georgia\",\n",
        "            \"bmi\": 21.5,\n",
        "            \"normal\": True}\n",
        "print(type(thisdict)) "
      ]
    },
    {
      "cell_type": "code",
      "execution_count": null,
      "metadata": {
        "id": "_GJ3hu1psoJG"
      },
      "outputs": [],
      "source": [
        "print(len(thisdict))"
      ]
    },
    {
      "cell_type": "code",
      "execution_count": null,
      "metadata": {
        "id": "JTN5Wz8ntOHP"
      },
      "outputs": [],
      "source": [
        "# get all the keys\n",
        "print(thisdict.keys())"
      ]
    },
    {
      "cell_type": "code",
      "execution_count": null,
      "metadata": {
        "id": "U23d6mqYtb2o"
      },
      "outputs": [],
      "source": [
        "# get all the values\n",
        "print(thisdict.values())"
      ]
    },
    {
      "cell_type": "code",
      "execution_count": null,
      "metadata": {
        "id": "2uujPvCktn8C"
      },
      "outputs": [],
      "source": [
        "# get all the items in tuples\n",
        "print(thisdict.items())"
      ]
    },
    {
      "cell_type": "code",
      "execution_count": null,
      "metadata": {
        "id": "bwJDMVx1s4e8"
      },
      "outputs": [],
      "source": [
        "# access item by key name\n",
        "print(thisdict[\"bmi\"])"
      ]
    },
    {
      "cell_type": "code",
      "execution_count": null,
      "metadata": {
        "id": "OaSO3o0vs4h1"
      },
      "outputs": [],
      "source": [
        "# check if key exists\n",
        "if \"name\" in thisdict:\n",
        "  print(\"Yes, name is one of the keys in the thisdict\")"
      ]
    },
    {
      "cell_type": "code",
      "execution_count": null,
      "metadata": {
        "id": "RkaPCVzYs4nW"
      },
      "outputs": [],
      "source": [
        "thisdict[\"name\"] = \"Oscar\" # change an item\n",
        "thisdict[\"surname\"] = \"Brown\" # add an item\n",
        "thisdict.pop(\"bmi\") # remove an item\n",
        "print(thisdict)"
      ]
    },
    {
      "cell_type": "markdown",
      "metadata": {
        "id": "ltw_RalJGqZU"
      },
      "source": [
        "## Exercise 6\n",
        "\n",
        "---\n",
        "\n",
        "\n",
        "1. Calculate the BMI score for all patients and store their **name** and **BMI score** in patients_info dictionary.\n",
        "2. Remove items in the normal range.\n",
        "\n",
        "*   Expected output:\n",
        "        patients_info = {\"name\": [\"Oscar\",\"Juliet\",\"William\"],\n",
        "                          \"bmi\": [28,25,27]}\n"
      ]
    },
    {
      "cell_type": "code",
      "execution_count": 56,
      "metadata": {
        "id": "n7BRNodMGqgj"
      },
      "outputs": [],
      "source": [
        "patient_name = [\"Georgia\", \"Oscar\", \"Juliet\", \"Lily\", \"William\"]\n",
        "patient_weight = [54.7, 79.6, 81.2, 51.9, 102.5] # kg\n",
        "patient_height = [152, 168, 179, 161, 193] # cm\n",
        "patients_info = {}\n",
        "\n",
        "# start from here...\n",
        "\n",
        "\n",
        "\n",
        "\n"
      ]
    },
    {
      "cell_type": "markdown",
      "metadata": {
        "id": "UWihsStYE3WV"
      },
      "source": [
        "# 7.&nbsp;Data Structure (module and array)"
      ]
    },
    {
      "cell_type": "markdown",
      "metadata": {
        "id": "UhTzDarVFGz9"
      },
      "source": [
        "The last data type we want to know is an **array**. However, we need to know about the **module** first to work with arrays in Python easier.\n",
        "\n",
        "Modules group related classes and methods to be accessible from one place.\n",
        "\n",
        "In the following, we import the [numpy](https://numpy.org//) package and modify its name into np to use easier later. Numpy is the fundamental package for scientific computing with Python."
      ]
    },
    {
      "cell_type": "code",
      "execution_count": 57,
      "metadata": {
        "id": "bXVRxYUjFG8M"
      },
      "outputs": [],
      "source": [
        "import numpy as np "
      ]
    },
    {
      "cell_type": "markdown",
      "metadata": {
        "id": "kNI-hJ1c4F5t"
      },
      "source": [
        "We can access an array's values by referring to its index number, and arrays can hold many values."
      ]
    },
    {
      "cell_type": "code",
      "execution_count": null,
      "metadata": {
        "id": "aDNfhUDh4GD5"
      },
      "outputs": [],
      "source": [
        "# set the seed for reproducibility\n",
        "np.random.seed(42)\n",
        "\n",
        "# generate 20 random float values between 18 and 32\n",
        "bmi_array = np.random.uniform(18, 32, size=20)\n",
        "\n",
        "print(type(bmi_array))"
      ]
    },
    {
      "cell_type": "code",
      "execution_count": null,
      "metadata": {
        "id": "TzIsf6ti5HMR"
      },
      "outputs": [],
      "source": [
        "print(bmi_array)"
      ]
    },
    {
      "cell_type": "code",
      "execution_count": null,
      "metadata": {
        "id": "Kk0yKPSU5RX7"
      },
      "outputs": [],
      "source": [
        "print(len(bmi_array))"
      ]
    },
    {
      "cell_type": "code",
      "execution_count": null,
      "metadata": {
        "id": "4eEgBJrN6bzP"
      },
      "outputs": [],
      "source": [
        "# access item by index\n",
        "print(\"index 0 : \", bmi_array[0])\n",
        "print(\"index 1 : \", bmi_array[1])\n",
        "print(\"index -2: \", bmi_array[-2])\n",
        "print(\"=================================\")\n",
        "print(\"range of index 1: \", bmi_array[1:3])\n",
        "print(\"\\nrange of index 2: \", bmi_array[:3])\n",
        "print(\"\\nrange of index 3: \", bmi_array[1:])\n",
        "print(\"\\nrange of index 4: \", bmi_array[:])\n",
        "print(\"\\nrange of index 5: \", bmi_array[-3:-1])\n",
        "print(\"\\nrange of index 6: \", bmi_array[:-1])\n",
        "print(\"\\nrange of index 7: \", bmi_array[-3:])"
      ]
    },
    {
      "cell_type": "code",
      "execution_count": null,
      "metadata": {
        "id": "nMu0mDTH8_q7"
      },
      "outputs": [],
      "source": [
        "# 1D array with 5 elements between 18 to 30\n",
        "arr_1d = np.random.randint(18,30,size=(3))\n",
        "print(arr_1d.shape)\n",
        "print(arr_1d)\n",
        "\n",
        "# 2D array with 3 rows and 4 columns\n",
        "arr_2d = np.random.randint(18,30,size=(3, 2))\n",
        "print(\"==================\")\n",
        "print(arr_2d.shape)\n",
        "print(arr_2d)\n",
        "\n",
        "\n",
        "# 3D array with 2 planes, 3 rows, and 2 columns\n",
        "arr_3d = np.random.randint(18,30,size=(2, 3, 5))\n",
        "print(\"==================\")\n",
        "print(arr_3d.shape)\n",
        "print(arr_3d)\n"
      ]
    },
    {
      "cell_type": "markdown",
      "metadata": {
        "id": "-iZqX06FFyH4"
      },
      "source": [
        "## Exercise 7\n",
        "\n",
        "---\n",
        "\n",
        "\n",
        "1. Create two arrays for weight and height with 5 float random values.\n",
        "2. Calculate the BMI score and store it in a list called **calculated_bmi**, at the same time, indicate whether a BMI value is normal or not and store it in a list called **evaluated_bmi**.\n",
        "\n",
        "\n",
        "*   Expected output 1:\n",
        "        calculated_bmi:\n",
        "        [23,28,25,20,27]\n",
        "\n",
        "        evaluated_bmi:\n",
        "        [\"yes\",\"no\",\"no\",\"yes\",\"no\"]\n",
        "\n",
        "*   Expected output 2:\n",
        "        calculated_bmi:\n",
        "        [21,20,22,24,28]\n",
        "\n",
        "        evaluated_bmi:\n",
        "        [\"yes\",\"yes\",\"yes\",\"yes\",\"no\"]"
      ]
    },
    {
      "cell_type": "code",
      "execution_count": 63,
      "metadata": {
        "id": "k3RYNwSJFyRD"
      },
      "outputs": [],
      "source": [
        "# select a reasonable weight and height range as you want\n",
        "np.random.seed(42)\n",
        "\n",
        "# start from here...\n",
        "\n",
        "\n",
        "\n",
        "\n",
        "\n",
        "\n",
        "\n",
        "\n"
      ]
    },
    {
      "cell_type": "markdown",
      "metadata": {
        "id": "KN5e7iF2FZrZ"
      },
      "source": [
        "# 8.&nbsp;Algorithm (function)"
      ]
    },
    {
      "cell_type": "markdown",
      "metadata": {
        "id": "0FokSWj-Fd2O"
      },
      "source": [
        "**Algorithms** define a set of actions that must be performed in a specific step by step to produce the desired result.\n",
        "\n",
        "**Functions** help us to implement algorithms. Functions are blocks of code that only run when they are called in situations where we want to reuse existing code without rewriting it."
      ]
    },
    {
      "cell_type": "code",
      "execution_count": null,
      "metadata": {
        "id": "LcTtDhE2Fd-0"
      },
      "outputs": [],
      "source": [
        "# define a function\n",
        "def first_function():\n",
        "  print(\"this is my first function.\")\n",
        "\n",
        "# call a function\n",
        "first_function()"
      ]
    },
    {
      "cell_type": "markdown",
      "metadata": {
        "id": "i7XYQz5YvCS2"
      },
      "source": [
        "We can write our algorithm inside a function and pass value to it."
      ]
    },
    {
      "cell_type": "code",
      "execution_count": null,
      "metadata": {
        "id": "LD8ARDdhvCZ4"
      },
      "outputs": [],
      "source": [
        "def first_function(x):\n",
        "  x = x + 3\n",
        "  return x\n",
        "\n",
        "first_function(x=4)"
      ]
    },
    {
      "cell_type": "markdown",
      "metadata": {
        "id": "nrBwEqmYwwcT"
      },
      "source": [
        "More than one argument we can use in functions."
      ]
    },
    {
      "cell_type": "code",
      "execution_count": null,
      "metadata": {
        "id": "zWVIK6MWwwme"
      },
      "outputs": [],
      "source": [
        "def first_function(x,y):\n",
        "  z = x + y\n",
        "  return z\n",
        "\n",
        "first_function(x=4,y=2)"
      ]
    },
    {
      "cell_type": "markdown",
      "metadata": {
        "id": "-tmKYD9txYCH"
      },
      "source": [
        "It's better to start a function name with a **verb** that explains what will happen in a function."
      ]
    },
    {
      "cell_type": "code",
      "execution_count": null,
      "metadata": {
        "id": "28V0zLoYxYPa"
      },
      "outputs": [],
      "source": [
        "def get_sum(x,y):\n",
        "  z = x + y\n",
        "  return z\n",
        "\n",
        "get_sum(x=4,y=2)"
      ]
    },
    {
      "cell_type": "markdown",
      "metadata": {
        "id": "RCjLt2CWx0Sa"
      },
      "source": [
        "We can set a default value for arguments."
      ]
    },
    {
      "cell_type": "code",
      "execution_count": null,
      "metadata": {
        "id": "OBIaOs1xx0dl"
      },
      "outputs": [],
      "source": [
        "def get_sum(x,y=3):\n",
        "  z = x + y\n",
        "  return z\n",
        "\n",
        "get_sum(x=4)"
      ]
    },
    {
      "cell_type": "code",
      "execution_count": null,
      "metadata": {
        "id": "7pliaa8myP3i"
      },
      "outputs": [],
      "source": [
        "def get_sum(x,y=3):\n",
        "  z = x + y\n",
        "  return z\n",
        "\n",
        "get_sum(x=4,y=2)"
      ]
    },
    {
      "cell_type": "markdown",
      "metadata": {
        "id": "6FZESGBFyXf1"
      },
      "source": [
        "We can also pass a list to the arguments."
      ]
    },
    {
      "cell_type": "code",
      "execution_count": null,
      "metadata": {
        "id": "ggakhiWeyXr_"
      },
      "outputs": [],
      "source": [
        "def get_sum(x,y):\n",
        "  z = x + y\n",
        "  return z\n",
        "\n",
        "x = [3,2,7]\n",
        "y = [1,4]\n",
        "get_sum(x,y)"
      ]
    },
    {
      "cell_type": "markdown",
      "metadata": {
        "id": "JsmqUPt6yuGr"
      },
      "source": [
        "Or using loops and conditional statements inside functions."
      ]
    },
    {
      "cell_type": "code",
      "execution_count": null,
      "metadata": {
        "id": "Vi8rULGIyuO7"
      },
      "outputs": [],
      "source": [
        "def get_square(x,y):\n",
        "  z = x + y\n",
        "  if len(z) == 0:\n",
        "    print(\"your list is empty!\")\n",
        "  else:\n",
        "    for i in z:\n",
        "      j = i**2\n",
        "      print(f\"i = {i} and j = {j}\")\n",
        "\n",
        "x = [3,2,7]\n",
        "y = [1,-4]\n",
        "get_square(x,y)"
      ]
    },
    {
      "cell_type": "markdown",
      "metadata": {
        "id": "GeLjDt-uF19D"
      },
      "source": [
        "## Exercise 8\n",
        "\n",
        "---\n",
        "\n",
        "\n",
        "1. Define a function to calculate BMI score.\n",
        "2. Store BMI scores into the bmi_score list.\n",
        "3. Sort items  by descending.\n",
        "\n",
        "*   Expected output:\n",
        "        bmi_score = [23.68, 28.20, 25.34, 20.02]"
      ]
    },
    {
      "cell_type": "code",
      "execution_count": 72,
      "metadata": {
        "id": "W_z2sgs11Cio"
      },
      "outputs": [],
      "source": [
        "# patient = [weight(kg), height(cm)]\n",
        "patient1 = [54.7, 152]\n",
        "patient2 = [79.6, 168]\n",
        "patient3 = [81.2, 179]\n",
        "patient4 = [51.9, 161]\n",
        "bmi_score = []\n",
        "\n",
        "# start from here...\n",
        "\n",
        "\n",
        "\n",
        "\n",
        "\n"
      ]
    },
    {
      "cell_type": "markdown",
      "metadata": {
        "id": "LgMZeu2yFeGu"
      },
      "source": [
        "# 9.&nbsp;Algorithm (class)"
      ]
    },
    {
      "cell_type": "markdown",
      "metadata": {
        "id": "FAPRYKP-FgAM"
      },
      "source": [
        "There are many properties and methods in an **object** in Python, and almost everything is an object. **Classes** are like object constructors; we use them to group data and functionality. Functions belonging to objects are called **methods**."
      ]
    },
    {
      "cell_type": "code",
      "execution_count": null,
      "metadata": {
        "id": "KReIXPhzFgIq"
      },
      "outputs": [],
      "source": [
        "def get_square(x,y):\n",
        "  z = x + y\n",
        "  if len(z) == 0:\n",
        "    print(\"your list is empty!\")\n",
        "  else:\n",
        "    for i in z:\n",
        "      j = i**2\n",
        "      print(f\"i = {i} and j = {j}\")\n",
        "\n",
        "x = [3,2,7]\n",
        "y = [1,-4]\n",
        "get_square(x,y)"
      ]
    },
    {
      "cell_type": "code",
      "execution_count": null,
      "metadata": {
        "id": "6cJvyCBk57Xv"
      },
      "outputs": [],
      "source": [
        "class Price:\n",
        "  def __init__(self, value, discount):\n",
        "    self.value = value\n",
        "    self.discount = discount\n",
        "\n",
        "  def summer(self):\n",
        "    summer_price = round(self.value - (self.value * (self.discount/100)), 2)\n",
        "    print(summer_price)\n",
        "\n",
        "  def winter(self):\n",
        "    winter_price = round(self.value - (self.value * (self.discount * 2/100)), 2) #double discount\n",
        "    print(winter_price)\n",
        "\n",
        "#create variables from the class (Price is a \"definition\" and shoes_price is an \"instance\")\n",
        "shoes_price = Price(115, 18) # price 115 euro and 18% discount\n",
        "shoes_price.summer()\n",
        "shoes_price.winter()"
      ]
    },
    {
      "cell_type": "markdown",
      "metadata": {
        "id": "0jKazIRgF6kJ"
      },
      "source": [
        "## Exercise 9\n",
        "\n",
        "---\n",
        "\n",
        "\n",
        "1. Define a class called BMI and three methods including converting pound to kg, inch to cm, and calculating BMI score.\n",
        "2. Calculate BMI score for 3 given patients and store them in the bmi_score list.\n",
        "\n",
        "*   Expected output:\n",
        "        bmi_score = [23.68, 28.20, 25.34, 20.02]"
      ]
    },
    {
      "cell_type": "code",
      "execution_count": 75,
      "metadata": {
        "id": "sPdwfkMYF6rJ"
      },
      "outputs": [],
      "source": [
        "# 1 pound ≈ 0.45 kg\n",
        "# 1 inch ≈ 2.54 cm\n",
        "# patient = [weight(pond), height(inch)]\n",
        "patient1 = [120.59, 59.84]\n",
        "patient2 = [175.49, 66.14]\n",
        "patient3 = [179.02, 70.47]\n",
        "patient4 = [114.42, 63.39]\n",
        "bmi_score = []\n",
        "\n",
        "# start from here...\n",
        "\n",
        "\n",
        "\n",
        "\n",
        "\n"
      ]
    },
    {
      "cell_type": "markdown",
      "metadata": {
        "id": "Wi38m2kCFgQA"
      },
      "source": [
        "# 10.&nbsp;Algorithm (error and exception)"
      ]
    },
    {
      "cell_type": "markdown",
      "metadata": {
        "id": "EZIFQwRcFtrN"
      },
      "source": [
        "If Python can't understand your code, we will get an **error**! However, we can find our error location by finding `^` in an error message."
      ]
    },
    {
      "cell_type": "code",
      "execution_count": null,
      "metadata": {
        "id": "Tys_1jHNFtzQ"
      },
      "outputs": [],
      "source": [
        "# syntax error\n",
        "x = 5\n",
        "if > 3:\n",
        "  print(\"Hello\")"
      ]
    },
    {
      "cell_type": "code",
      "execution_count": null,
      "metadata": {
        "id": "DnePzxlFG3BW"
      },
      "outputs": [],
      "source": [
        "# syntax error\n",
        "x = 5\n",
        "iif x > 3:\n",
        "  print(\"Hello\")"
      ]
    },
    {
      "cell_type": "code",
      "execution_count": null,
      "metadata": {
        "id": "5G13UAIKG-75"
      },
      "outputs": [],
      "source": [
        "# missing indentation error\n",
        "x = 5\n",
        "if x > 3:\n",
        "print(\"Hello\")"
      ]
    },
    {
      "cell_type": "markdown",
      "metadata": {
        "id": "Izkq8WHzIIkq"
      },
      "source": [
        "On the other hand, sometimes Python understands our code, but can't execute it. Therefore, it raises an **exception**. The text in the console is called **traceback** and it helps us to **debug** our code."
      ]
    },
    {
      "cell_type": "code",
      "execution_count": null,
      "metadata": {
        "id": "mTa5piKVHUcS"
      },
      "outputs": [],
      "source": [
        "# name error\n",
        "height = cm / 100"
      ]
    },
    {
      "cell_type": "code",
      "execution_count": null,
      "metadata": {
        "id": "TkW5qZlNI19Z"
      },
      "outputs": [],
      "source": [
        "# type error\n",
        "height = 100 + \"56\""
      ]
    },
    {
      "cell_type": "code",
      "execution_count": null,
      "metadata": {
        "id": "riE9MlmxKZIU"
      },
      "outputs": [],
      "source": [
        "# zero division error\n",
        "height = 156 / 0"
      ]
    },
    {
      "cell_type": "code",
      "execution_count": null,
      "metadata": {
        "id": "5zPZhS-hKpm-"
      },
      "outputs": [],
      "source": [
        "# module not found error\n",
        "import numpyy"
      ]
    },
    {
      "cell_type": "markdown",
      "metadata": {
        "id": "Q6f3aTWxKz3c"
      },
      "source": [
        "Be careful! Sometimes a module exists but we need to install it."
      ]
    },
    {
      "cell_type": "code",
      "execution_count": null,
      "metadata": {
        "id": "ztrZXgs-K50Z"
      },
      "outputs": [],
      "source": [
        "!pip install mne\n",
        "import mne # package for human neurophysiological data analysis"
      ]
    },
    {
      "cell_type": "code",
      "execution_count": null,
      "metadata": {
        "id": "JSi8oBVXLnv1"
      },
      "outputs": [],
      "source": [
        "# index error\n",
        "height = [149, 187, 168]\n",
        "height[3]"
      ]
    },
    {
      "cell_type": "markdown",
      "metadata": {
        "id": "DeTk0eX9MSmg"
      },
      "source": [
        "We can use errors and exceptions to debug our code. Besides, we can use them to avoid **unwanted issues**."
      ]
    },
    {
      "cell_type": "code",
      "execution_count": null,
      "metadata": {
        "id": "tMUsJRXRM1fA"
      },
      "outputs": [],
      "source": [
        "# test 1: run the code and see the results\n",
        "# test 2: add \"184\" to \"student_height\" and run the code\n",
        "# test 3: remove \"184\" from \"student_height\" and change \"179\" into \"0\" and run the code\n",
        "\n",
        "student_name = [\"Georgia\", \"Oscar\", \"Juliet\", \"Lily\", \"William\"]\n",
        "student_weight = [54.7, 79.6, 81.2, 51.9, 102.5]\n",
        "student_height = [152, 168, 179, 161, 193]\n",
        "student_bmi = []\n",
        "\n",
        "# make sure about data size\n",
        "if len(student_weight) != len(student_height):\n",
        "  raise Exception(\"There must be equal size for weights and hights\")\n",
        "\n",
        "for i in range(len(student_name)):\n",
        "  # make sure height is not zero\n",
        "  if student_height[i] == 0:\n",
        "    raise ValueError(\"height can not be zero\")\n",
        "\n",
        "  student_bmi.append(round(student_weight[i] / ((student_height[i]/100)**2), 1))\n",
        "\n",
        "print(student_bmi)"
      ]
    },
    {
      "cell_type": "markdown",
      "metadata": {
        "id": "KTgfBnu8Pnot"
      },
      "source": [
        "Sometimes we don't want to raise an exception and we want to handle it. For example, we want a `for` loop to continue at the end of the code by ignoring negative values for weight, therefore we can use `try` and `except`."
      ]
    },
    {
      "cell_type": "code",
      "execution_count": null,
      "metadata": {
        "id": "oVktrCMePn97"
      },
      "outputs": [],
      "source": [
        "student_name = [\"Georgia\", \"Oscar\", \"Juliet\", \"Lily\", \"William\"]\n",
        "student_weight = [54.7, 79.6, 81.2, 51.9, 102.5]\n",
        "student_height = [-152, 168, 0, 161, 193]\n",
        "student_bmi = []\n",
        "\n",
        "\n",
        "for i in range(len(student_name)):\n",
        "  \n",
        "  try:\n",
        "    student_bmi.append(round(student_weight[i] / ((student_height[i]/100)**2), 1))\n",
        "  \n",
        "  except:\n",
        "    continue\n",
        "\n",
        "print(student_bmi)"
      ]
    },
    {
      "cell_type": "markdown",
      "metadata": {
        "id": "83n86RAyF8z4"
      },
      "source": [
        "## Exercise 10\n",
        "\n",
        "---\n",
        "\n",
        "\n",
        "1. Copy your exercise 9 code.\n",
        "2. Set a **type error** to check the heights have float values.\n",
        "3. Set a value error to make sure the BMI score is not negative.\n"
      ]
    },
    {
      "cell_type": "code",
      "execution_count": null,
      "metadata": {
        "id": "F9w8wfvoF89w"
      },
      "outputs": [],
      "source": [
        "# 1 pound ≈ 0.45 kg\n",
        "# 1 inch ≈ 2.54 cm\n",
        "# patient = [weight(pond), height(inch)]\n",
        "patient1 = [120.59, 59.84]\n",
        "patient2 = [175.49, 66.14]\n",
        "patient3 = [179.02, 70.47]\n",
        "patient4 = [114.42, 63.39]\n",
        "bmi_score = []\n",
        "\n",
        "# past your code here...\n",
        "\n",
        "\n",
        "\n",
        "\n"
      ]
    },
    {
      "cell_type": "markdown",
      "metadata": {
        "id": "m16jOg89XwSu"
      },
      "source": [
        "Congratulations! You did it.\n"
      ]
    },
    {
      "cell_type": "markdown",
      "metadata": {
        "id": "egFGW_Rf9UGt"
      },
      "source": [
        "# References and Resources:\n",
        "\n",
        "1. You can continue your learning by more complex data structure and algorithm tasks in [Leetcode](https://leetcode.com/). \n",
        "\n",
        "2. you can always have access to Python syntax and practical examples in [w3schools](https://www.w3schools.com/python/default.asp) and [geeksforgeeks](https://www.geeksforgeeks.org/python-programming-language/).\n",
        "\n",
        "3. You can find everything about Numpy to work with arrays [HERE](https://numpy.org/doc/stable/index.html#) and you can also utilize all APIs and documents about Pandas to work with data frames [HERE](https://pandas.pydata.org/docs/index.html#)."
      ]
    }
  ],
  "metadata": {
    "colab": {
      "provenance": [],
      "toc_visible": true
    },
    "kernelspec": {
      "display_name": "Python 3",
      "name": "python3"
    },
    "language_info": {
      "name": "python"
    }
  },
  "nbformat": 4,
  "nbformat_minor": 0
}
